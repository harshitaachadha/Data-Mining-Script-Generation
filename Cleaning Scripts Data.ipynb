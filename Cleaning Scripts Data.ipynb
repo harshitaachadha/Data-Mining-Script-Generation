{
 "cells": [
  {
   "cell_type": "code",
   "execution_count": 1,
   "id": "849aeb6f",
   "metadata": {},
   "outputs": [
    {
     "data": {
      "text/html": [
       "<div>\n",
       "<style scoped>\n",
       "    .dataframe tbody tr th:only-of-type {\n",
       "        vertical-align: middle;\n",
       "    }\n",
       "\n",
       "    .dataframe tbody tr th {\n",
       "        vertical-align: top;\n",
       "    }\n",
       "\n",
       "    .dataframe thead th {\n",
       "        text-align: right;\n",
       "    }\n",
       "</style>\n",
       "<table border=\"1\" class=\"dataframe\">\n",
       "  <thead>\n",
       "    <tr style=\"text-align: right;\">\n",
       "      <th></th>\n",
       "      <th>url</th>\n",
       "      <th>season and title</th>\n",
       "      <th>text script</th>\n",
       "    </tr>\n",
       "  </thead>\n",
       "  <tbody>\n",
       "    <tr>\n",
       "      <th>0</th>\n",
       "      <td>https://www.livesinabox.com/friends/season1/10...</td>\n",
       "      <td>Episode 101: The Pilot-The Uncut Version</td>\n",
       "      <td>[Scene: The Subway, Phoebe is singing for\\ncha...</td>\n",
       "    </tr>\n",
       "    <tr>\n",
       "      <th>1</th>\n",
       "      <td>https://www.livesinabox.com/friends/season1/10...</td>\n",
       "      <td>Episode 102: The One With The Sonogram At the End</td>\n",
       "      <td>[Scene Central Perk, everyone's there.]\\nMonic...</td>\n",
       "    </tr>\n",
       "    <tr>\n",
       "      <th>2</th>\n",
       "      <td>https://www.livesinabox.com/friends/season1/10...</td>\n",
       "      <td>Episode 103: The One With The Thumb</td>\n",
       "      <td>[Scene: Chandler and Joey's, Chandler is helpi...</td>\n",
       "    </tr>\n",
       "    <tr>\n",
       "      <th>3</th>\n",
       "      <td>https://www.livesinabox.com/friends/season1/10...</td>\n",
       "      <td>Episode 104: The One With George Stephanopoulos</td>\n",
       "      <td>[Scene: Central Perk, Ross and Monica are watc...</td>\n",
       "    </tr>\n",
       "    <tr>\n",
       "      <th>4</th>\n",
       "      <td>https://www.livesinabox.com/friends/season1/10...</td>\n",
       "      <td>Episode 105: The One With The East German Laun...</td>\n",
       "      <td>[Scene: Central Perk, all six are there.]\\nMon...</td>\n",
       "    </tr>\n",
       "  </tbody>\n",
       "</table>\n",
       "</div>"
      ],
      "text/plain": [
       "                                                 url  \\\n",
       "0  https://www.livesinabox.com/friends/season1/10...   \n",
       "1  https://www.livesinabox.com/friends/season1/10...   \n",
       "2  https://www.livesinabox.com/friends/season1/10...   \n",
       "3  https://www.livesinabox.com/friends/season1/10...   \n",
       "4  https://www.livesinabox.com/friends/season1/10...   \n",
       "\n",
       "                                    season and title  \\\n",
       "0           Episode 101: The Pilot-The Uncut Version   \n",
       "1  Episode 102: The One With The Sonogram At the End   \n",
       "2                Episode 103: The One With The Thumb   \n",
       "3    Episode 104: The One With George Stephanopoulos   \n",
       "4  Episode 105: The One With The East German Laun...   \n",
       "\n",
       "                                         text script  \n",
       "0  [Scene: The Subway, Phoebe is singing for\\ncha...  \n",
       "1  [Scene Central Perk, everyone's there.]\\nMonic...  \n",
       "2  [Scene: Chandler and Joey's, Chandler is helpi...  \n",
       "3  [Scene: Central Perk, Ross and Monica are watc...  \n",
       "4  [Scene: Central Perk, all six are there.]\\nMon...  "
      ]
     },
     "execution_count": 1,
     "metadata": {},
     "output_type": "execute_result"
    }
   ],
   "source": [
    "import pandas as pd\n",
    "df = pd.read_csv('Script_Data.csv')\n",
    "df.head()"
   ]
  },
  {
   "cell_type": "code",
   "execution_count": null,
   "id": "e1b75a26",
   "metadata": {},
   "outputs": [],
   "source": [
    "#prelimiary cleaning - \n",
    "#Separate season and title\n",
    "#combine 2 part episodes into one\n",
    "#calculate episode and season\n",
    "#delete url and season and title\n",
    "# in text script, open one script and see how you can clean the data - possibly create another data"
   ]
  },
  {
   "cell_type": "code",
   "execution_count": null,
   "id": "985d6f79",
   "metadata": {},
   "outputs": [],
   "source": [
    "#Text Mining\n",
    "#remove the monologue - form a separate attribute\n",
    "#remove the metadata\n",
    "#the attribute with only the text\n",
    "#from the monologue - calculate the copy metrics\n",
    "#the attribute with only the text - calculate the copy metrics"
   ]
  }
 ],
 "metadata": {
  "kernelspec": {
   "display_name": "Python 3",
   "language": "python",
   "name": "python3"
  },
  "language_info": {
   "codemirror_mode": {
    "name": "ipython",
    "version": 3
   },
   "file_extension": ".py",
   "mimetype": "text/x-python",
   "name": "python",
   "nbconvert_exporter": "python",
   "pygments_lexer": "ipython3",
   "version": "3.9.17"
  }
 },
 "nbformat": 4,
 "nbformat_minor": 5
}
