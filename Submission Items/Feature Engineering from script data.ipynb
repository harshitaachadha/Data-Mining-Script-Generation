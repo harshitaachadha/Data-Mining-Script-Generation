{
  "nbformat": 4,
  "nbformat_minor": 0,
  "metadata": {
    "colab": {
      "provenance": [],
      "gpuType": "T4"
    },
    "kernelspec": {
      "name": "python3",
      "display_name": "Python 3"
    },
    "accelerator": "GPU"
  },
  "cells": [
    {
      "cell_type": "markdown",
      "source": [
        "# **Engineering Features from Text Script**"
      ],
      "metadata": {
        "id": "JEHk42L51eXi"
      }
    },
    {
      "cell_type": "markdown",
      "source": [
        "In this notebook, we use the scraped text data for script of the TV series \"Friends\" and try to extract features such as spoken words by character, main locations, emotional archetypes, etc."
      ],
      "metadata": {
        "id": "Ular5FW1dIX3"
      }
    },
    {
      "cell_type": "markdown",
      "source": [
        "## Using Regular Expressions to identify all active characters in an episoede"
      ],
      "metadata": {
        "id": "4zjfuGyJdgtf"
      }
    },
    {
      "cell_type": "code",
      "source": [
        "!pip install pyspark"
      ],
      "metadata": {
        "id": "sVkMxKATkhth",
        "colab": {
          "base_uri": "https://localhost:8080/"
        },
        "outputId": "90c75688-114c-4ecc-cd6d-9880b4a056d3"
      },
      "execution_count": null,
      "outputs": [
        {
          "output_type": "stream",
          "name": "stdout",
          "text": [
            "Collecting pyspark\n",
            "  Downloading pyspark-3.5.0.tar.gz (316.9 MB)\n",
            "\u001b[2K     \u001b[90m━━━━━━━━━━━━━━━━━━━━━━━━━━━━━━━━━━━━━━━━\u001b[0m \u001b[32m316.9/316.9 MB\u001b[0m \u001b[31m4.5 MB/s\u001b[0m eta \u001b[36m0:00:00\u001b[0m\n",
            "\u001b[?25h  Preparing metadata (setup.py) ... \u001b[?25l\u001b[?25hdone\n",
            "Requirement already satisfied: py4j==0.10.9.7 in /usr/local/lib/python3.10/dist-packages (from pyspark) (0.10.9.7)\n",
            "Building wheels for collected packages: pyspark\n",
            "  Building wheel for pyspark (setup.py) ... \u001b[?25l\u001b[?25hdone\n",
            "  Created wheel for pyspark: filename=pyspark-3.5.0-py2.py3-none-any.whl size=317425344 sha256=41b9717f6aa9d0ab2a9eb46dbbdbef554e66b1b71123364454beb2887239ace3\n",
            "  Stored in directory: /root/.cache/pip/wheels/41/4e/10/c2cf2467f71c678cfc8a6b9ac9241e5e44a01940da8fbb17fc\n",
            "Successfully built pyspark\n",
            "Installing collected packages: pyspark\n",
            "Successfully installed pyspark-3.5.0\n"
          ]
        }
      ]
    },
    {
      "cell_type": "code",
      "metadata": {
        "id": "fcodkn0Dot0D"
      },
      "source": [
        "import spacy\n",
        "import en_core_web_sm\n",
        "import re\n",
        "nlp = en_core_web_sm.load()"
      ],
      "execution_count": null,
      "outputs": []
    },
    {
      "cell_type": "code",
      "source": [
        "import pandas as pd\n",
        "#reading the scraped data\n",
        "df = pd.read_csv('ready_for_mining_script.csv')\n",
        "df.head()"
      ],
      "metadata": {
        "id": "gmYrzRAlg73P",
        "colab": {
          "base_uri": "https://localhost:8080/",
          "height": 206
        },
        "outputId": "6cc0ab25-0a17-46ce-bd1f-4b0381739a60"
      },
      "execution_count": null,
      "outputs": [
        {
          "output_type": "execute_result",
          "data": {
            "text/plain": [
              "   Unnamed: 0                                        text script  \\\n",
              "0           0  [Scene: The Subway, Phoebe is singing for\\ncha...   \n",
              "1           1  [Scene Central Perk, everyone's there.]\\nMonic...   \n",
              "2           2  [Scene: Chandler and Joey's, Chandler is helpi...   \n",
              "3           3  [Scene: Central Perk, Ross and Monica are watc...   \n",
              "4           4  [Scene: Central Perk, all six are there.]\\nMon...   \n",
              "\n",
              "                                             Title  Episode  Season  \n",
              "0                      The Pilot-The Uncut Version      1.0     1.0  \n",
              "1             The One With The Sonogram At the End      2.0     1.0  \n",
              "2                           The One With The Thumb      3.0     1.0  \n",
              "3               The One With George Stephanopoulos      4.0     1.0  \n",
              "4   The One With The East German Laundry Detergant      5.0     1.0  "
            ],
            "text/html": [
              "\n",
              "  <div id=\"df-8ed127b9-99e2-4c91-8a67-90d1fe97de84\" class=\"colab-df-container\">\n",
              "    <div>\n",
              "<style scoped>\n",
              "    .dataframe tbody tr th:only-of-type {\n",
              "        vertical-align: middle;\n",
              "    }\n",
              "\n",
              "    .dataframe tbody tr th {\n",
              "        vertical-align: top;\n",
              "    }\n",
              "\n",
              "    .dataframe thead th {\n",
              "        text-align: right;\n",
              "    }\n",
              "</style>\n",
              "<table border=\"1\" class=\"dataframe\">\n",
              "  <thead>\n",
              "    <tr style=\"text-align: right;\">\n",
              "      <th></th>\n",
              "      <th>Unnamed: 0</th>\n",
              "      <th>text script</th>\n",
              "      <th>Title</th>\n",
              "      <th>Episode</th>\n",
              "      <th>Season</th>\n",
              "    </tr>\n",
              "  </thead>\n",
              "  <tbody>\n",
              "    <tr>\n",
              "      <th>0</th>\n",
              "      <td>0</td>\n",
              "      <td>[Scene: The Subway, Phoebe is singing for\\ncha...</td>\n",
              "      <td>The Pilot-The Uncut Version</td>\n",
              "      <td>1.0</td>\n",
              "      <td>1.0</td>\n",
              "    </tr>\n",
              "    <tr>\n",
              "      <th>1</th>\n",
              "      <td>1</td>\n",
              "      <td>[Scene Central Perk, everyone's there.]\\nMonic...</td>\n",
              "      <td>The One With The Sonogram At the End</td>\n",
              "      <td>2.0</td>\n",
              "      <td>1.0</td>\n",
              "    </tr>\n",
              "    <tr>\n",
              "      <th>2</th>\n",
              "      <td>2</td>\n",
              "      <td>[Scene: Chandler and Joey's, Chandler is helpi...</td>\n",
              "      <td>The One With The Thumb</td>\n",
              "      <td>3.0</td>\n",
              "      <td>1.0</td>\n",
              "    </tr>\n",
              "    <tr>\n",
              "      <th>3</th>\n",
              "      <td>3</td>\n",
              "      <td>[Scene: Central Perk, Ross and Monica are watc...</td>\n",
              "      <td>The One With George Stephanopoulos</td>\n",
              "      <td>4.0</td>\n",
              "      <td>1.0</td>\n",
              "    </tr>\n",
              "    <tr>\n",
              "      <th>4</th>\n",
              "      <td>4</td>\n",
              "      <td>[Scene: Central Perk, all six are there.]\\nMon...</td>\n",
              "      <td>The One With The East German Laundry Detergant</td>\n",
              "      <td>5.0</td>\n",
              "      <td>1.0</td>\n",
              "    </tr>\n",
              "  </tbody>\n",
              "</table>\n",
              "</div>\n",
              "    <div class=\"colab-df-buttons\">\n",
              "\n",
              "  <div class=\"colab-df-container\">\n",
              "    <button class=\"colab-df-convert\" onclick=\"convertToInteractive('df-8ed127b9-99e2-4c91-8a67-90d1fe97de84')\"\n",
              "            title=\"Convert this dataframe to an interactive table.\"\n",
              "            style=\"display:none;\">\n",
              "\n",
              "  <svg xmlns=\"http://www.w3.org/2000/svg\" height=\"24px\" viewBox=\"0 -960 960 960\">\n",
              "    <path d=\"M120-120v-720h720v720H120Zm60-500h600v-160H180v160Zm220 220h160v-160H400v160Zm0 220h160v-160H400v160ZM180-400h160v-160H180v160Zm440 0h160v-160H620v160ZM180-180h160v-160H180v160Zm440 0h160v-160H620v160Z\"/>\n",
              "  </svg>\n",
              "    </button>\n",
              "\n",
              "  <style>\n",
              "    .colab-df-container {\n",
              "      display:flex;\n",
              "      gap: 12px;\n",
              "    }\n",
              "\n",
              "    .colab-df-convert {\n",
              "      background-color: #E8F0FE;\n",
              "      border: none;\n",
              "      border-radius: 50%;\n",
              "      cursor: pointer;\n",
              "      display: none;\n",
              "      fill: #1967D2;\n",
              "      height: 32px;\n",
              "      padding: 0 0 0 0;\n",
              "      width: 32px;\n",
              "    }\n",
              "\n",
              "    .colab-df-convert:hover {\n",
              "      background-color: #E2EBFA;\n",
              "      box-shadow: 0px 1px 2px rgba(60, 64, 67, 0.3), 0px 1px 3px 1px rgba(60, 64, 67, 0.15);\n",
              "      fill: #174EA6;\n",
              "    }\n",
              "\n",
              "    .colab-df-buttons div {\n",
              "      margin-bottom: 4px;\n",
              "    }\n",
              "\n",
              "    [theme=dark] .colab-df-convert {\n",
              "      background-color: #3B4455;\n",
              "      fill: #D2E3FC;\n",
              "    }\n",
              "\n",
              "    [theme=dark] .colab-df-convert:hover {\n",
              "      background-color: #434B5C;\n",
              "      box-shadow: 0px 1px 3px 1px rgba(0, 0, 0, 0.15);\n",
              "      filter: drop-shadow(0px 1px 2px rgba(0, 0, 0, 0.3));\n",
              "      fill: #FFFFFF;\n",
              "    }\n",
              "  </style>\n",
              "\n",
              "    <script>\n",
              "      const buttonEl =\n",
              "        document.querySelector('#df-8ed127b9-99e2-4c91-8a67-90d1fe97de84 button.colab-df-convert');\n",
              "      buttonEl.style.display =\n",
              "        google.colab.kernel.accessAllowed ? 'block' : 'none';\n",
              "\n",
              "      async function convertToInteractive(key) {\n",
              "        const element = document.querySelector('#df-8ed127b9-99e2-4c91-8a67-90d1fe97de84');\n",
              "        const dataTable =\n",
              "          await google.colab.kernel.invokeFunction('convertToInteractive',\n",
              "                                                    [key], {});\n",
              "        if (!dataTable) return;\n",
              "\n",
              "        const docLinkHtml = 'Like what you see? Visit the ' +\n",
              "          '<a target=\"_blank\" href=https://colab.research.google.com/notebooks/data_table.ipynb>data table notebook</a>'\n",
              "          + ' to learn more about interactive tables.';\n",
              "        element.innerHTML = '';\n",
              "        dataTable['output_type'] = 'display_data';\n",
              "        await google.colab.output.renderOutput(dataTable, element);\n",
              "        const docLink = document.createElement('div');\n",
              "        docLink.innerHTML = docLinkHtml;\n",
              "        element.appendChild(docLink);\n",
              "      }\n",
              "    </script>\n",
              "  </div>\n",
              "\n",
              "\n",
              "<div id=\"df-bb21f923-fbe8-4a2c-b26f-c674489022f4\">\n",
              "  <button class=\"colab-df-quickchart\" onclick=\"quickchart('df-bb21f923-fbe8-4a2c-b26f-c674489022f4')\"\n",
              "            title=\"Suggest charts.\"\n",
              "            style=\"display:none;\">\n",
              "\n",
              "<svg xmlns=\"http://www.w3.org/2000/svg\" height=\"24px\"viewBox=\"0 0 24 24\"\n",
              "     width=\"24px\">\n",
              "    <g>\n",
              "        <path d=\"M19 3H5c-1.1 0-2 .9-2 2v14c0 1.1.9 2 2 2h14c1.1 0 2-.9 2-2V5c0-1.1-.9-2-2-2zM9 17H7v-7h2v7zm4 0h-2V7h2v10zm4 0h-2v-4h2v4z\"/>\n",
              "    </g>\n",
              "</svg>\n",
              "  </button>\n",
              "\n",
              "<style>\n",
              "  .colab-df-quickchart {\n",
              "      --bg-color: #E8F0FE;\n",
              "      --fill-color: #1967D2;\n",
              "      --hover-bg-color: #E2EBFA;\n",
              "      --hover-fill-color: #174EA6;\n",
              "      --disabled-fill-color: #AAA;\n",
              "      --disabled-bg-color: #DDD;\n",
              "  }\n",
              "\n",
              "  [theme=dark] .colab-df-quickchart {\n",
              "      --bg-color: #3B4455;\n",
              "      --fill-color: #D2E3FC;\n",
              "      --hover-bg-color: #434B5C;\n",
              "      --hover-fill-color: #FFFFFF;\n",
              "      --disabled-bg-color: #3B4455;\n",
              "      --disabled-fill-color: #666;\n",
              "  }\n",
              "\n",
              "  .colab-df-quickchart {\n",
              "    background-color: var(--bg-color);\n",
              "    border: none;\n",
              "    border-radius: 50%;\n",
              "    cursor: pointer;\n",
              "    display: none;\n",
              "    fill: var(--fill-color);\n",
              "    height: 32px;\n",
              "    padding: 0;\n",
              "    width: 32px;\n",
              "  }\n",
              "\n",
              "  .colab-df-quickchart:hover {\n",
              "    background-color: var(--hover-bg-color);\n",
              "    box-shadow: 0 1px 2px rgba(60, 64, 67, 0.3), 0 1px 3px 1px rgba(60, 64, 67, 0.15);\n",
              "    fill: var(--button-hover-fill-color);\n",
              "  }\n",
              "\n",
              "  .colab-df-quickchart-complete:disabled,\n",
              "  .colab-df-quickchart-complete:disabled:hover {\n",
              "    background-color: var(--disabled-bg-color);\n",
              "    fill: var(--disabled-fill-color);\n",
              "    box-shadow: none;\n",
              "  }\n",
              "\n",
              "  .colab-df-spinner {\n",
              "    border: 2px solid var(--fill-color);\n",
              "    border-color: transparent;\n",
              "    border-bottom-color: var(--fill-color);\n",
              "    animation:\n",
              "      spin 1s steps(1) infinite;\n",
              "  }\n",
              "\n",
              "  @keyframes spin {\n",
              "    0% {\n",
              "      border-color: transparent;\n",
              "      border-bottom-color: var(--fill-color);\n",
              "      border-left-color: var(--fill-color);\n",
              "    }\n",
              "    20% {\n",
              "      border-color: transparent;\n",
              "      border-left-color: var(--fill-color);\n",
              "      border-top-color: var(--fill-color);\n",
              "    }\n",
              "    30% {\n",
              "      border-color: transparent;\n",
              "      border-left-color: var(--fill-color);\n",
              "      border-top-color: var(--fill-color);\n",
              "      border-right-color: var(--fill-color);\n",
              "    }\n",
              "    40% {\n",
              "      border-color: transparent;\n",
              "      border-right-color: var(--fill-color);\n",
              "      border-top-color: var(--fill-color);\n",
              "    }\n",
              "    60% {\n",
              "      border-color: transparent;\n",
              "      border-right-color: var(--fill-color);\n",
              "    }\n",
              "    80% {\n",
              "      border-color: transparent;\n",
              "      border-right-color: var(--fill-color);\n",
              "      border-bottom-color: var(--fill-color);\n",
              "    }\n",
              "    90% {\n",
              "      border-color: transparent;\n",
              "      border-bottom-color: var(--fill-color);\n",
              "    }\n",
              "  }\n",
              "</style>\n",
              "\n",
              "  <script>\n",
              "    async function quickchart(key) {\n",
              "      const quickchartButtonEl =\n",
              "        document.querySelector('#' + key + ' button');\n",
              "      quickchartButtonEl.disabled = true;  // To prevent multiple clicks.\n",
              "      quickchartButtonEl.classList.add('colab-df-spinner');\n",
              "      try {\n",
              "        const charts = await google.colab.kernel.invokeFunction(\n",
              "            'suggestCharts', [key], {});\n",
              "      } catch (error) {\n",
              "        console.error('Error during call to suggestCharts:', error);\n",
              "      }\n",
              "      quickchartButtonEl.classList.remove('colab-df-spinner');\n",
              "      quickchartButtonEl.classList.add('colab-df-quickchart-complete');\n",
              "    }\n",
              "    (() => {\n",
              "      let quickchartButtonEl =\n",
              "        document.querySelector('#df-bb21f923-fbe8-4a2c-b26f-c674489022f4 button');\n",
              "      quickchartButtonEl.style.display =\n",
              "        google.colab.kernel.accessAllowed ? 'block' : 'none';\n",
              "    })();\n",
              "  </script>\n",
              "</div>\n",
              "    </div>\n",
              "  </div>\n"
            ]
          },
          "metadata": {},
          "execution_count": 22
        }
      ]
    },
    {
      "cell_type": "code",
      "source": [
        "#using regular expression and inherent script structure to get character names with spoken lines\n",
        "def extract_character_names(text):\n",
        "    doc = nlp(text)\n",
        "    pattern = r'(\\w+\\s*):'\n",
        "    matches = re.findall(pattern, text)\n",
        "    filtered_matches = [match for match in matches if any(ent.text == match for ent in doc.ents)]\n",
        "    unique_character_names = list(set(filtered_matches))\n",
        "    return unique_character_names"
      ],
      "metadata": {
        "id": "6xE7ghOPkTH_"
      },
      "execution_count": null,
      "outputs": []
    },
    {
      "cell_type": "code",
      "source": [
        "#applying above function to dataset and tracking progress\n",
        "from tqdm import tqdm\n",
        "tqdm.pandas()\n",
        "df['character_names'] = df['text script'].progress_apply(extract_character_names)"
      ],
      "metadata": {
        "colab": {
          "base_uri": "https://localhost:8080/"
        },
        "id": "2nnU5AK__erv",
        "outputId": "578a9300-e61e-4b94-f9fa-48d59e60a603"
      },
      "execution_count": null,
      "outputs": [
        {
          "output_type": "stream",
          "name": "stderr",
          "text": [
            "100%|██████████| 229/229 [04:14<00:00,  1.11s/it]\n"
          ]
        }
      ]
    },
    {
      "cell_type": "code",
      "source": [
        "df.tail() #results of character identification"
      ],
      "metadata": {
        "colab": {
          "base_uri": "https://localhost:8080/",
          "height": 206
        },
        "id": "Q8QkzXW0DAty",
        "outputId": "d26cc859-a6e8-44de-b1e8-138b6d13f394"
      },
      "execution_count": null,
      "outputs": [
        {
          "output_type": "execute_result",
          "data": {
            "text/plain": [
              "     Unnamed: 0                                        text script  \\\n",
              "224         224  [Scene: Central Perk. Phoebe, Monica and Chand...   \n",
              "225         225  [Scene: Central Perk. Phoebe's reading a newsp...   \n",
              "226         226  [Scene: Joey's place. Rachel and Joey \\n      ...   \n",
              "227         227  [Scene: Monica and Chandler's apartment. It's ...   \n",
              "228         228  [Scene: In a TV commercial that the gang is wa...   \n",
              "\n",
              "                                                 Title  Episode  Season  \\\n",
              "224                     The One With Princess Consuela     14.0    10.0   \n",
              "225   The One Where                               E...     15.0    10.0   \n",
              "226   The One With                               Ra...     16.0    10.0   \n",
              "227                                       The Last One     17.0    10.0   \n",
              "228                    The One After the Superbowl (2)     13.0     2.0   \n",
              "\n",
              "                                       character_names  \n",
              "224  [Mark, Joey, Rachel, Clerk, Chandler, Campbell...  \n",
              "225  [Joey, Rachel, Realtor, Chandler, Ross, Monica...  \n",
              "226  [Rachel, Joey, Chandler, Erica, Ross, Monica, ...  \n",
              "227  [Rachel, Joey, 2, Chandler, Erica, Ross, Gunth...  \n",
              "228                                     [JANITOR, ROB]  "
            ],
            "text/html": [
              "\n",
              "  <div id=\"df-099641c1-8bb9-4234-bbc1-f20cb8b87062\" class=\"colab-df-container\">\n",
              "    <div>\n",
              "<style scoped>\n",
              "    .dataframe tbody tr th:only-of-type {\n",
              "        vertical-align: middle;\n",
              "    }\n",
              "\n",
              "    .dataframe tbody tr th {\n",
              "        vertical-align: top;\n",
              "    }\n",
              "\n",
              "    .dataframe thead th {\n",
              "        text-align: right;\n",
              "    }\n",
              "</style>\n",
              "<table border=\"1\" class=\"dataframe\">\n",
              "  <thead>\n",
              "    <tr style=\"text-align: right;\">\n",
              "      <th></th>\n",
              "      <th>Unnamed: 0</th>\n",
              "      <th>text script</th>\n",
              "      <th>Title</th>\n",
              "      <th>Episode</th>\n",
              "      <th>Season</th>\n",
              "      <th>character_names</th>\n",
              "    </tr>\n",
              "  </thead>\n",
              "  <tbody>\n",
              "    <tr>\n",
              "      <th>224</th>\n",
              "      <td>224</td>\n",
              "      <td>[Scene: Central Perk. Phoebe, Monica and Chand...</td>\n",
              "      <td>The One With Princess Consuela</td>\n",
              "      <td>14.0</td>\n",
              "      <td>10.0</td>\n",
              "      <td>[Mark, Joey, Rachel, Clerk, Chandler, Campbell...</td>\n",
              "    </tr>\n",
              "    <tr>\n",
              "      <th>225</th>\n",
              "      <td>225</td>\n",
              "      <td>[Scene: Central Perk. Phoebe's reading a newsp...</td>\n",
              "      <td>The One Where                               E...</td>\n",
              "      <td>15.0</td>\n",
              "      <td>10.0</td>\n",
              "      <td>[Joey, Rachel, Realtor, Chandler, Ross, Monica...</td>\n",
              "    </tr>\n",
              "    <tr>\n",
              "      <th>226</th>\n",
              "      <td>226</td>\n",
              "      <td>[Scene: Joey's place. Rachel and Joey \\n      ...</td>\n",
              "      <td>The One With                               Ra...</td>\n",
              "      <td>16.0</td>\n",
              "      <td>10.0</td>\n",
              "      <td>[Rachel, Joey, Chandler, Erica, Ross, Monica, ...</td>\n",
              "    </tr>\n",
              "    <tr>\n",
              "      <th>227</th>\n",
              "      <td>227</td>\n",
              "      <td>[Scene: Monica and Chandler's apartment. It's ...</td>\n",
              "      <td>The Last One</td>\n",
              "      <td>17.0</td>\n",
              "      <td>10.0</td>\n",
              "      <td>[Rachel, Joey, 2, Chandler, Erica, Ross, Gunth...</td>\n",
              "    </tr>\n",
              "    <tr>\n",
              "      <th>228</th>\n",
              "      <td>228</td>\n",
              "      <td>[Scene: In a TV commercial that the gang is wa...</td>\n",
              "      <td>The One After the Superbowl (2)</td>\n",
              "      <td>13.0</td>\n",
              "      <td>2.0</td>\n",
              "      <td>[JANITOR, ROB]</td>\n",
              "    </tr>\n",
              "  </tbody>\n",
              "</table>\n",
              "</div>\n",
              "    <div class=\"colab-df-buttons\">\n",
              "\n",
              "  <div class=\"colab-df-container\">\n",
              "    <button class=\"colab-df-convert\" onclick=\"convertToInteractive('df-099641c1-8bb9-4234-bbc1-f20cb8b87062')\"\n",
              "            title=\"Convert this dataframe to an interactive table.\"\n",
              "            style=\"display:none;\">\n",
              "\n",
              "  <svg xmlns=\"http://www.w3.org/2000/svg\" height=\"24px\" viewBox=\"0 -960 960 960\">\n",
              "    <path d=\"M120-120v-720h720v720H120Zm60-500h600v-160H180v160Zm220 220h160v-160H400v160Zm0 220h160v-160H400v160ZM180-400h160v-160H180v160Zm440 0h160v-160H620v160ZM180-180h160v-160H180v160Zm440 0h160v-160H620v160Z\"/>\n",
              "  </svg>\n",
              "    </button>\n",
              "\n",
              "  <style>\n",
              "    .colab-df-container {\n",
              "      display:flex;\n",
              "      gap: 12px;\n",
              "    }\n",
              "\n",
              "    .colab-df-convert {\n",
              "      background-color: #E8F0FE;\n",
              "      border: none;\n",
              "      border-radius: 50%;\n",
              "      cursor: pointer;\n",
              "      display: none;\n",
              "      fill: #1967D2;\n",
              "      height: 32px;\n",
              "      padding: 0 0 0 0;\n",
              "      width: 32px;\n",
              "    }\n",
              "\n",
              "    .colab-df-convert:hover {\n",
              "      background-color: #E2EBFA;\n",
              "      box-shadow: 0px 1px 2px rgba(60, 64, 67, 0.3), 0px 1px 3px 1px rgba(60, 64, 67, 0.15);\n",
              "      fill: #174EA6;\n",
              "    }\n",
              "\n",
              "    .colab-df-buttons div {\n",
              "      margin-bottom: 4px;\n",
              "    }\n",
              "\n",
              "    [theme=dark] .colab-df-convert {\n",
              "      background-color: #3B4455;\n",
              "      fill: #D2E3FC;\n",
              "    }\n",
              "\n",
              "    [theme=dark] .colab-df-convert:hover {\n",
              "      background-color: #434B5C;\n",
              "      box-shadow: 0px 1px 3px 1px rgba(0, 0, 0, 0.15);\n",
              "      filter: drop-shadow(0px 1px 2px rgba(0, 0, 0, 0.3));\n",
              "      fill: #FFFFFF;\n",
              "    }\n",
              "  </style>\n",
              "\n",
              "    <script>\n",
              "      const buttonEl =\n",
              "        document.querySelector('#df-099641c1-8bb9-4234-bbc1-f20cb8b87062 button.colab-df-convert');\n",
              "      buttonEl.style.display =\n",
              "        google.colab.kernel.accessAllowed ? 'block' : 'none';\n",
              "\n",
              "      async function convertToInteractive(key) {\n",
              "        const element = document.querySelector('#df-099641c1-8bb9-4234-bbc1-f20cb8b87062');\n",
              "        const dataTable =\n",
              "          await google.colab.kernel.invokeFunction('convertToInteractive',\n",
              "                                                    [key], {});\n",
              "        if (!dataTable) return;\n",
              "\n",
              "        const docLinkHtml = 'Like what you see? Visit the ' +\n",
              "          '<a target=\"_blank\" href=https://colab.research.google.com/notebooks/data_table.ipynb>data table notebook</a>'\n",
              "          + ' to learn more about interactive tables.';\n",
              "        element.innerHTML = '';\n",
              "        dataTable['output_type'] = 'display_data';\n",
              "        await google.colab.output.renderOutput(dataTable, element);\n",
              "        const docLink = document.createElement('div');\n",
              "        docLink.innerHTML = docLinkHtml;\n",
              "        element.appendChild(docLink);\n",
              "      }\n",
              "    </script>\n",
              "  </div>\n",
              "\n",
              "\n",
              "<div id=\"df-156f4834-c6f1-4885-932c-a259d282d758\">\n",
              "  <button class=\"colab-df-quickchart\" onclick=\"quickchart('df-156f4834-c6f1-4885-932c-a259d282d758')\"\n",
              "            title=\"Suggest charts.\"\n",
              "            style=\"display:none;\">\n",
              "\n",
              "<svg xmlns=\"http://www.w3.org/2000/svg\" height=\"24px\"viewBox=\"0 0 24 24\"\n",
              "     width=\"24px\">\n",
              "    <g>\n",
              "        <path d=\"M19 3H5c-1.1 0-2 .9-2 2v14c0 1.1.9 2 2 2h14c1.1 0 2-.9 2-2V5c0-1.1-.9-2-2-2zM9 17H7v-7h2v7zm4 0h-2V7h2v10zm4 0h-2v-4h2v4z\"/>\n",
              "    </g>\n",
              "</svg>\n",
              "  </button>\n",
              "\n",
              "<style>\n",
              "  .colab-df-quickchart {\n",
              "      --bg-color: #E8F0FE;\n",
              "      --fill-color: #1967D2;\n",
              "      --hover-bg-color: #E2EBFA;\n",
              "      --hover-fill-color: #174EA6;\n",
              "      --disabled-fill-color: #AAA;\n",
              "      --disabled-bg-color: #DDD;\n",
              "  }\n",
              "\n",
              "  [theme=dark] .colab-df-quickchart {\n",
              "      --bg-color: #3B4455;\n",
              "      --fill-color: #D2E3FC;\n",
              "      --hover-bg-color: #434B5C;\n",
              "      --hover-fill-color: #FFFFFF;\n",
              "      --disabled-bg-color: #3B4455;\n",
              "      --disabled-fill-color: #666;\n",
              "  }\n",
              "\n",
              "  .colab-df-quickchart {\n",
              "    background-color: var(--bg-color);\n",
              "    border: none;\n",
              "    border-radius: 50%;\n",
              "    cursor: pointer;\n",
              "    display: none;\n",
              "    fill: var(--fill-color);\n",
              "    height: 32px;\n",
              "    padding: 0;\n",
              "    width: 32px;\n",
              "  }\n",
              "\n",
              "  .colab-df-quickchart:hover {\n",
              "    background-color: var(--hover-bg-color);\n",
              "    box-shadow: 0 1px 2px rgba(60, 64, 67, 0.3), 0 1px 3px 1px rgba(60, 64, 67, 0.15);\n",
              "    fill: var(--button-hover-fill-color);\n",
              "  }\n",
              "\n",
              "  .colab-df-quickchart-complete:disabled,\n",
              "  .colab-df-quickchart-complete:disabled:hover {\n",
              "    background-color: var(--disabled-bg-color);\n",
              "    fill: var(--disabled-fill-color);\n",
              "    box-shadow: none;\n",
              "  }\n",
              "\n",
              "  .colab-df-spinner {\n",
              "    border: 2px solid var(--fill-color);\n",
              "    border-color: transparent;\n",
              "    border-bottom-color: var(--fill-color);\n",
              "    animation:\n",
              "      spin 1s steps(1) infinite;\n",
              "  }\n",
              "\n",
              "  @keyframes spin {\n",
              "    0% {\n",
              "      border-color: transparent;\n",
              "      border-bottom-color: var(--fill-color);\n",
              "      border-left-color: var(--fill-color);\n",
              "    }\n",
              "    20% {\n",
              "      border-color: transparent;\n",
              "      border-left-color: var(--fill-color);\n",
              "      border-top-color: var(--fill-color);\n",
              "    }\n",
              "    30% {\n",
              "      border-color: transparent;\n",
              "      border-left-color: var(--fill-color);\n",
              "      border-top-color: var(--fill-color);\n",
              "      border-right-color: var(--fill-color);\n",
              "    }\n",
              "    40% {\n",
              "      border-color: transparent;\n",
              "      border-right-color: var(--fill-color);\n",
              "      border-top-color: var(--fill-color);\n",
              "    }\n",
              "    60% {\n",
              "      border-color: transparent;\n",
              "      border-right-color: var(--fill-color);\n",
              "    }\n",
              "    80% {\n",
              "      border-color: transparent;\n",
              "      border-right-color: var(--fill-color);\n",
              "      border-bottom-color: var(--fill-color);\n",
              "    }\n",
              "    90% {\n",
              "      border-color: transparent;\n",
              "      border-bottom-color: var(--fill-color);\n",
              "    }\n",
              "  }\n",
              "</style>\n",
              "\n",
              "  <script>\n",
              "    async function quickchart(key) {\n",
              "      const quickchartButtonEl =\n",
              "        document.querySelector('#' + key + ' button');\n",
              "      quickchartButtonEl.disabled = true;  // To prevent multiple clicks.\n",
              "      quickchartButtonEl.classList.add('colab-df-spinner');\n",
              "      try {\n",
              "        const charts = await google.colab.kernel.invokeFunction(\n",
              "            'suggestCharts', [key], {});\n",
              "      } catch (error) {\n",
              "        console.error('Error during call to suggestCharts:', error);\n",
              "      }\n",
              "      quickchartButtonEl.classList.remove('colab-df-spinner');\n",
              "      quickchartButtonEl.classList.add('colab-df-quickchart-complete');\n",
              "    }\n",
              "    (() => {\n",
              "      let quickchartButtonEl =\n",
              "        document.querySelector('#df-156f4834-c6f1-4885-932c-a259d282d758 button');\n",
              "      quickchartButtonEl.style.display =\n",
              "        google.colab.kernel.accessAllowed ? 'block' : 'none';\n",
              "    })();\n",
              "  </script>\n",
              "</div>\n",
              "    </div>\n",
              "  </div>\n"
            ]
          },
          "metadata": {},
          "execution_count": 28
        }
      ]
    },
    {
      "cell_type": "markdown",
      "source": [
        "## Identifying the total number of spoken words for each identified character"
      ],
      "metadata": {
        "id": "8WOstn45eCyq"
      }
    },
    {
      "cell_type": "code",
      "source": [
        "#so now we have a character list for each episode that is non-empty. I will still not do any text cleaning becuase episodes have different ways in which character\n",
        "#lines are represented instead i'll first get the words per character per episode.\n",
        "def count_words(text):\n",
        "    words_spoken = {}\n",
        "    last_character = None\n",
        "    lines = text.split('\\n')\n",
        "    for line in lines:\n",
        "        # Remove text within square brackets and parentheses\n",
        "        line = re.sub(r'\\[.*?\\]|\\(.*?\\)', '', line)\n",
        "        if ':' in line:\n",
        "            character, spoken_text = line.split(':', 1)\n",
        "            character = character.strip()\n",
        "            spoken_text = spoken_text.strip()\n",
        "            if character not in words_spoken:\n",
        "                words_spoken[character] = 0\n",
        "            words = spoken_text.split()\n",
        "            words_spoken[character] += len(words)\n",
        "            last_character = character\n",
        "        elif last_character is not None:\n",
        "            # Append text to the last character's count\n",
        "            spoken_text = line.strip()\n",
        "            words = spoken_text.split()\n",
        "            words_spoken[last_character] += len(words)\n",
        "    return words_spoken\n",
        "\n",
        "tqdm.pandas()\n",
        "df['Spoken Word List'] = df['text script'].progress_apply(count_words)"
      ],
      "metadata": {
        "colab": {
          "base_uri": "https://localhost:8080/"
        },
        "id": "DiJsOveZ5U_P",
        "outputId": "20911a37-8ddf-48a4-d498-2df6bf7598f3"
      },
      "execution_count": null,
      "outputs": [
        {
          "output_type": "stream",
          "name": "stderr",
          "text": [
            "100%|██████████| 229/229 [00:00<00:00, 452.45it/s]\n"
          ]
        }
      ]
    },
    {
      "cell_type": "code",
      "source": [
        "df.head()"
      ],
      "metadata": {
        "colab": {
          "base_uri": "https://localhost:8080/",
          "height": 310
        },
        "id": "austJ3L3DUH7",
        "outputId": "95603506-4f5a-4de8-fc76-c93889c52422"
      },
      "execution_count": null,
      "outputs": [
        {
          "output_type": "execute_result",
          "data": {
            "text/plain": [
              "   Unnamed: 0                                        text script  \\\n",
              "0           0  [Scene: The Subway, Phoebe is singing for\\ncha...   \n",
              "1           1  [Scene Central Perk, everyone's there.]\\nMonic...   \n",
              "2           2  [Scene: Chandler and Joey's, Chandler is helpi...   \n",
              "3           3  [Scene: Central Perk, Ross and Monica are watc...   \n",
              "4           4  [Scene: Central Perk, all six are there.]\\nMon...   \n",
              "\n",
              "                                             Title  Episode  Season  \\\n",
              "0                      The Pilot-The Uncut Version      1.0     1.0   \n",
              "1             The One With The Sonogram At the End      2.0     1.0   \n",
              "2                           The One With The Thumb      3.0     1.0   \n",
              "3               The One With George Stephanopoulos      4.0     1.0   \n",
              "4   The One With The East German Laundry Detergant      5.0     1.0   \n",
              "\n",
              "                                     character_names  \\\n",
              "0  [Joey, Paul, Rachel, Frannie, Chandler, Ross, ...   \n",
              "1  [Rachel, Joey, Barry, Scene, Geller, Chandler,...   \n",
              "2  [Joey, Rachel, Scene, Chandler, Lizzie, Ross, ...   \n",
              "3  [Joey, Rachel, Receptionist, Chandler, Ross, J...   \n",
              "4  [Angela, Joey, Rachel, Bob, Chandler, Ross, Mo...   \n",
              "\n",
              "                                    Spoken Word List  \n",
              "0  {'[Scene': 81, 'Phoebe': 166, 'Ross': 357, 'Jo...  \n",
              "1  {'Monica': 253, 'Joey': 73, 'Phoebe': 115, 'Ra...  \n",
              "2  {'Chandler': 449, 'Joey': 185, 'Monica': 480, ...  \n",
              "3  {'[Scene': 158, 'Monica': 418, 'Ross': 440, 'P...  \n",
              "4  {'Monica': 323, 'Ross': 560, 'Rachel': 371, 'C...  "
            ],
            "text/html": [
              "\n",
              "  <div id=\"df-2712e54c-0bf4-4409-9e26-3669148d9b85\" class=\"colab-df-container\">\n",
              "    <div>\n",
              "<style scoped>\n",
              "    .dataframe tbody tr th:only-of-type {\n",
              "        vertical-align: middle;\n",
              "    }\n",
              "\n",
              "    .dataframe tbody tr th {\n",
              "        vertical-align: top;\n",
              "    }\n",
              "\n",
              "    .dataframe thead th {\n",
              "        text-align: right;\n",
              "    }\n",
              "</style>\n",
              "<table border=\"1\" class=\"dataframe\">\n",
              "  <thead>\n",
              "    <tr style=\"text-align: right;\">\n",
              "      <th></th>\n",
              "      <th>Unnamed: 0</th>\n",
              "      <th>text script</th>\n",
              "      <th>Title</th>\n",
              "      <th>Episode</th>\n",
              "      <th>Season</th>\n",
              "      <th>character_names</th>\n",
              "      <th>Spoken Word List</th>\n",
              "    </tr>\n",
              "  </thead>\n",
              "  <tbody>\n",
              "    <tr>\n",
              "      <th>0</th>\n",
              "      <td>0</td>\n",
              "      <td>[Scene: The Subway, Phoebe is singing for\\ncha...</td>\n",
              "      <td>The Pilot-The Uncut Version</td>\n",
              "      <td>1.0</td>\n",
              "      <td>1.0</td>\n",
              "      <td>[Joey, Paul, Rachel, Frannie, Chandler, Ross, ...</td>\n",
              "      <td>{'[Scene': 81, 'Phoebe': 166, 'Ross': 357, 'Jo...</td>\n",
              "    </tr>\n",
              "    <tr>\n",
              "      <th>1</th>\n",
              "      <td>1</td>\n",
              "      <td>[Scene Central Perk, everyone's there.]\\nMonic...</td>\n",
              "      <td>The One With The Sonogram At the End</td>\n",
              "      <td>2.0</td>\n",
              "      <td>1.0</td>\n",
              "      <td>[Rachel, Joey, Barry, Scene, Geller, Chandler,...</td>\n",
              "      <td>{'Monica': 253, 'Joey': 73, 'Phoebe': 115, 'Ra...</td>\n",
              "    </tr>\n",
              "    <tr>\n",
              "      <th>2</th>\n",
              "      <td>2</td>\n",
              "      <td>[Scene: Chandler and Joey's, Chandler is helpi...</td>\n",
              "      <td>The One With The Thumb</td>\n",
              "      <td>3.0</td>\n",
              "      <td>1.0</td>\n",
              "      <td>[Joey, Rachel, Scene, Chandler, Lizzie, Ross, ...</td>\n",
              "      <td>{'Chandler': 449, 'Joey': 185, 'Monica': 480, ...</td>\n",
              "    </tr>\n",
              "    <tr>\n",
              "      <th>3</th>\n",
              "      <td>3</td>\n",
              "      <td>[Scene: Central Perk, Ross and Monica are watc...</td>\n",
              "      <td>The One With George Stephanopoulos</td>\n",
              "      <td>4.0</td>\n",
              "      <td>1.0</td>\n",
              "      <td>[Joey, Rachel, Receptionist, Chandler, Ross, J...</td>\n",
              "      <td>{'[Scene': 158, 'Monica': 418, 'Ross': 440, 'P...</td>\n",
              "    </tr>\n",
              "    <tr>\n",
              "      <th>4</th>\n",
              "      <td>4</td>\n",
              "      <td>[Scene: Central Perk, all six are there.]\\nMon...</td>\n",
              "      <td>The One With The East German Laundry Detergant</td>\n",
              "      <td>5.0</td>\n",
              "      <td>1.0</td>\n",
              "      <td>[Angela, Joey, Rachel, Bob, Chandler, Ross, Mo...</td>\n",
              "      <td>{'Monica': 323, 'Ross': 560, 'Rachel': 371, 'C...</td>\n",
              "    </tr>\n",
              "  </tbody>\n",
              "</table>\n",
              "</div>\n",
              "    <div class=\"colab-df-buttons\">\n",
              "\n",
              "  <div class=\"colab-df-container\">\n",
              "    <button class=\"colab-df-convert\" onclick=\"convertToInteractive('df-2712e54c-0bf4-4409-9e26-3669148d9b85')\"\n",
              "            title=\"Convert this dataframe to an interactive table.\"\n",
              "            style=\"display:none;\">\n",
              "\n",
              "  <svg xmlns=\"http://www.w3.org/2000/svg\" height=\"24px\" viewBox=\"0 -960 960 960\">\n",
              "    <path d=\"M120-120v-720h720v720H120Zm60-500h600v-160H180v160Zm220 220h160v-160H400v160Zm0 220h160v-160H400v160ZM180-400h160v-160H180v160Zm440 0h160v-160H620v160ZM180-180h160v-160H180v160Zm440 0h160v-160H620v160Z\"/>\n",
              "  </svg>\n",
              "    </button>\n",
              "\n",
              "  <style>\n",
              "    .colab-df-container {\n",
              "      display:flex;\n",
              "      gap: 12px;\n",
              "    }\n",
              "\n",
              "    .colab-df-convert {\n",
              "      background-color: #E8F0FE;\n",
              "      border: none;\n",
              "      border-radius: 50%;\n",
              "      cursor: pointer;\n",
              "      display: none;\n",
              "      fill: #1967D2;\n",
              "      height: 32px;\n",
              "      padding: 0 0 0 0;\n",
              "      width: 32px;\n",
              "    }\n",
              "\n",
              "    .colab-df-convert:hover {\n",
              "      background-color: #E2EBFA;\n",
              "      box-shadow: 0px 1px 2px rgba(60, 64, 67, 0.3), 0px 1px 3px 1px rgba(60, 64, 67, 0.15);\n",
              "      fill: #174EA6;\n",
              "    }\n",
              "\n",
              "    .colab-df-buttons div {\n",
              "      margin-bottom: 4px;\n",
              "    }\n",
              "\n",
              "    [theme=dark] .colab-df-convert {\n",
              "      background-color: #3B4455;\n",
              "      fill: #D2E3FC;\n",
              "    }\n",
              "\n",
              "    [theme=dark] .colab-df-convert:hover {\n",
              "      background-color: #434B5C;\n",
              "      box-shadow: 0px 1px 3px 1px rgba(0, 0, 0, 0.15);\n",
              "      filter: drop-shadow(0px 1px 2px rgba(0, 0, 0, 0.3));\n",
              "      fill: #FFFFFF;\n",
              "    }\n",
              "  </style>\n",
              "\n",
              "    <script>\n",
              "      const buttonEl =\n",
              "        document.querySelector('#df-2712e54c-0bf4-4409-9e26-3669148d9b85 button.colab-df-convert');\n",
              "      buttonEl.style.display =\n",
              "        google.colab.kernel.accessAllowed ? 'block' : 'none';\n",
              "\n",
              "      async function convertToInteractive(key) {\n",
              "        const element = document.querySelector('#df-2712e54c-0bf4-4409-9e26-3669148d9b85');\n",
              "        const dataTable =\n",
              "          await google.colab.kernel.invokeFunction('convertToInteractive',\n",
              "                                                    [key], {});\n",
              "        if (!dataTable) return;\n",
              "\n",
              "        const docLinkHtml = 'Like what you see? Visit the ' +\n",
              "          '<a target=\"_blank\" href=https://colab.research.google.com/notebooks/data_table.ipynb>data table notebook</a>'\n",
              "          + ' to learn more about interactive tables.';\n",
              "        element.innerHTML = '';\n",
              "        dataTable['output_type'] = 'display_data';\n",
              "        await google.colab.output.renderOutput(dataTable, element);\n",
              "        const docLink = document.createElement('div');\n",
              "        docLink.innerHTML = docLinkHtml;\n",
              "        element.appendChild(docLink);\n",
              "      }\n",
              "    </script>\n",
              "  </div>\n",
              "\n",
              "\n",
              "<div id=\"df-bbae21e3-6d5b-4645-bfea-714934738c15\">\n",
              "  <button class=\"colab-df-quickchart\" onclick=\"quickchart('df-bbae21e3-6d5b-4645-bfea-714934738c15')\"\n",
              "            title=\"Suggest charts.\"\n",
              "            style=\"display:none;\">\n",
              "\n",
              "<svg xmlns=\"http://www.w3.org/2000/svg\" height=\"24px\"viewBox=\"0 0 24 24\"\n",
              "     width=\"24px\">\n",
              "    <g>\n",
              "        <path d=\"M19 3H5c-1.1 0-2 .9-2 2v14c0 1.1.9 2 2 2h14c1.1 0 2-.9 2-2V5c0-1.1-.9-2-2-2zM9 17H7v-7h2v7zm4 0h-2V7h2v10zm4 0h-2v-4h2v4z\"/>\n",
              "    </g>\n",
              "</svg>\n",
              "  </button>\n",
              "\n",
              "<style>\n",
              "  .colab-df-quickchart {\n",
              "      --bg-color: #E8F0FE;\n",
              "      --fill-color: #1967D2;\n",
              "      --hover-bg-color: #E2EBFA;\n",
              "      --hover-fill-color: #174EA6;\n",
              "      --disabled-fill-color: #AAA;\n",
              "      --disabled-bg-color: #DDD;\n",
              "  }\n",
              "\n",
              "  [theme=dark] .colab-df-quickchart {\n",
              "      --bg-color: #3B4455;\n",
              "      --fill-color: #D2E3FC;\n",
              "      --hover-bg-color: #434B5C;\n",
              "      --hover-fill-color: #FFFFFF;\n",
              "      --disabled-bg-color: #3B4455;\n",
              "      --disabled-fill-color: #666;\n",
              "  }\n",
              "\n",
              "  .colab-df-quickchart {\n",
              "    background-color: var(--bg-color);\n",
              "    border: none;\n",
              "    border-radius: 50%;\n",
              "    cursor: pointer;\n",
              "    display: none;\n",
              "    fill: var(--fill-color);\n",
              "    height: 32px;\n",
              "    padding: 0;\n",
              "    width: 32px;\n",
              "  }\n",
              "\n",
              "  .colab-df-quickchart:hover {\n",
              "    background-color: var(--hover-bg-color);\n",
              "    box-shadow: 0 1px 2px rgba(60, 64, 67, 0.3), 0 1px 3px 1px rgba(60, 64, 67, 0.15);\n",
              "    fill: var(--button-hover-fill-color);\n",
              "  }\n",
              "\n",
              "  .colab-df-quickchart-complete:disabled,\n",
              "  .colab-df-quickchart-complete:disabled:hover {\n",
              "    background-color: var(--disabled-bg-color);\n",
              "    fill: var(--disabled-fill-color);\n",
              "    box-shadow: none;\n",
              "  }\n",
              "\n",
              "  .colab-df-spinner {\n",
              "    border: 2px solid var(--fill-color);\n",
              "    border-color: transparent;\n",
              "    border-bottom-color: var(--fill-color);\n",
              "    animation:\n",
              "      spin 1s steps(1) infinite;\n",
              "  }\n",
              "\n",
              "  @keyframes spin {\n",
              "    0% {\n",
              "      border-color: transparent;\n",
              "      border-bottom-color: var(--fill-color);\n",
              "      border-left-color: var(--fill-color);\n",
              "    }\n",
              "    20% {\n",
              "      border-color: transparent;\n",
              "      border-left-color: var(--fill-color);\n",
              "      border-top-color: var(--fill-color);\n",
              "    }\n",
              "    30% {\n",
              "      border-color: transparent;\n",
              "      border-left-color: var(--fill-color);\n",
              "      border-top-color: var(--fill-color);\n",
              "      border-right-color: var(--fill-color);\n",
              "    }\n",
              "    40% {\n",
              "      border-color: transparent;\n",
              "      border-right-color: var(--fill-color);\n",
              "      border-top-color: var(--fill-color);\n",
              "    }\n",
              "    60% {\n",
              "      border-color: transparent;\n",
              "      border-right-color: var(--fill-color);\n",
              "    }\n",
              "    80% {\n",
              "      border-color: transparent;\n",
              "      border-right-color: var(--fill-color);\n",
              "      border-bottom-color: var(--fill-color);\n",
              "    }\n",
              "    90% {\n",
              "      border-color: transparent;\n",
              "      border-bottom-color: var(--fill-color);\n",
              "    }\n",
              "  }\n",
              "</style>\n",
              "\n",
              "  <script>\n",
              "    async function quickchart(key) {\n",
              "      const quickchartButtonEl =\n",
              "        document.querySelector('#' + key + ' button');\n",
              "      quickchartButtonEl.disabled = true;  // To prevent multiple clicks.\n",
              "      quickchartButtonEl.classList.add('colab-df-spinner');\n",
              "      try {\n",
              "        const charts = await google.colab.kernel.invokeFunction(\n",
              "            'suggestCharts', [key], {});\n",
              "      } catch (error) {\n",
              "        console.error('Error during call to suggestCharts:', error);\n",
              "      }\n",
              "      quickchartButtonEl.classList.remove('colab-df-spinner');\n",
              "      quickchartButtonEl.classList.add('colab-df-quickchart-complete');\n",
              "    }\n",
              "    (() => {\n",
              "      let quickchartButtonEl =\n",
              "        document.querySelector('#df-bbae21e3-6d5b-4645-bfea-714934738c15 button');\n",
              "      quickchartButtonEl.style.display =\n",
              "        google.colab.kernel.accessAllowed ? 'block' : 'none';\n",
              "    })();\n",
              "  </script>\n",
              "</div>\n",
              "    </div>\n",
              "  </div>\n"
            ]
          },
          "metadata": {},
          "execution_count": 33
        }
      ]
    },
    {
      "cell_type": "markdown",
      "source": [
        "## Calculating the total number of spoken words in the script"
      ],
      "metadata": {
        "id": "9E9l9cN_eNFv"
      }
    },
    {
      "cell_type": "code",
      "source": [
        "def calculate_total_words(words_spoken):\n",
        "    total = 0\n",
        "    for character, word_count in words_spoken.items():\n",
        "        total += word_count\n",
        "    return total\n",
        "\n",
        "tqdm.pandas()\n",
        "df['Total Spoken Words'] = df['Spoken Word List'].progress_apply(calculate_total_words)"
      ],
      "metadata": {
        "colab": {
          "base_uri": "https://localhost:8080/"
        },
        "id": "6baKspc65VMe",
        "outputId": "f58e04eb-1ec4-4f58-affc-814ca9f499cc"
      },
      "execution_count": null,
      "outputs": [
        {
          "output_type": "stream",
          "name": "stderr",
          "text": [
            "100%|██████████| 229/229 [00:00<00:00, 74439.71it/s]\n"
          ]
        }
      ]
    },
    {
      "cell_type": "code",
      "source": [
        "df.head() #results"
      ],
      "metadata": {
        "colab": {
          "base_uri": "https://localhost:8080/",
          "height": 310
        },
        "id": "nTpBDpe5D6sz",
        "outputId": "c60b639e-877a-4746-8972-e2b0cc2536df"
      },
      "execution_count": null,
      "outputs": [
        {
          "output_type": "execute_result",
          "data": {
            "text/plain": [
              "   Unnamed: 0                                        text script  \\\n",
              "0           0  [Scene: The Subway, Phoebe is singing for\\ncha...   \n",
              "1           1  [Scene Central Perk, everyone's there.]\\nMonic...   \n",
              "2           2  [Scene: Chandler and Joey's, Chandler is helpi...   \n",
              "3           3  [Scene: Central Perk, Ross and Monica are watc...   \n",
              "4           4  [Scene: Central Perk, all six are there.]\\nMon...   \n",
              "\n",
              "                                             Title  Episode  Season  \\\n",
              "0                      The Pilot-The Uncut Version      1.0     1.0   \n",
              "1             The One With The Sonogram At the End      2.0     1.0   \n",
              "2                           The One With The Thumb      3.0     1.0   \n",
              "3               The One With George Stephanopoulos      4.0     1.0   \n",
              "4   The One With The East German Laundry Detergant      5.0     1.0   \n",
              "\n",
              "                                     character_names  \\\n",
              "0  [Joey, Paul, Rachel, Frannie, Chandler, Ross, ...   \n",
              "1  [Rachel, Joey, Barry, Scene, Geller, Chandler,...   \n",
              "2  [Joey, Rachel, Scene, Chandler, Lizzie, Ross, ...   \n",
              "3  [Joey, Rachel, Receptionist, Chandler, Ross, J...   \n",
              "4  [Angela, Joey, Rachel, Bob, Chandler, Ross, Mo...   \n",
              "\n",
              "                                    Spoken Word List  Total Spoken Words  \n",
              "0  {'[Scene': 81, 'Phoebe': 166, 'Ross': 357, 'Jo...                2290  \n",
              "1  {'Monica': 253, 'Joey': 73, 'Phoebe': 115, 'Ra...                2520  \n",
              "2  {'Chandler': 449, 'Joey': 185, 'Monica': 480, ...                2336  \n",
              "3  {'[Scene': 158, 'Monica': 418, 'Ross': 440, 'P...                2721  \n",
              "4  {'Monica': 323, 'Ross': 560, 'Rachel': 371, 'C...                2765  "
            ],
            "text/html": [
              "\n",
              "  <div id=\"df-840ea41b-d2af-45f6-9ea8-9bd342dc66b7\" class=\"colab-df-container\">\n",
              "    <div>\n",
              "<style scoped>\n",
              "    .dataframe tbody tr th:only-of-type {\n",
              "        vertical-align: middle;\n",
              "    }\n",
              "\n",
              "    .dataframe tbody tr th {\n",
              "        vertical-align: top;\n",
              "    }\n",
              "\n",
              "    .dataframe thead th {\n",
              "        text-align: right;\n",
              "    }\n",
              "</style>\n",
              "<table border=\"1\" class=\"dataframe\">\n",
              "  <thead>\n",
              "    <tr style=\"text-align: right;\">\n",
              "      <th></th>\n",
              "      <th>Unnamed: 0</th>\n",
              "      <th>text script</th>\n",
              "      <th>Title</th>\n",
              "      <th>Episode</th>\n",
              "      <th>Season</th>\n",
              "      <th>character_names</th>\n",
              "      <th>Spoken Word List</th>\n",
              "      <th>Total Spoken Words</th>\n",
              "    </tr>\n",
              "  </thead>\n",
              "  <tbody>\n",
              "    <tr>\n",
              "      <th>0</th>\n",
              "      <td>0</td>\n",
              "      <td>[Scene: The Subway, Phoebe is singing for\\ncha...</td>\n",
              "      <td>The Pilot-The Uncut Version</td>\n",
              "      <td>1.0</td>\n",
              "      <td>1.0</td>\n",
              "      <td>[Joey, Paul, Rachel, Frannie, Chandler, Ross, ...</td>\n",
              "      <td>{'[Scene': 81, 'Phoebe': 166, 'Ross': 357, 'Jo...</td>\n",
              "      <td>2290</td>\n",
              "    </tr>\n",
              "    <tr>\n",
              "      <th>1</th>\n",
              "      <td>1</td>\n",
              "      <td>[Scene Central Perk, everyone's there.]\\nMonic...</td>\n",
              "      <td>The One With The Sonogram At the End</td>\n",
              "      <td>2.0</td>\n",
              "      <td>1.0</td>\n",
              "      <td>[Rachel, Joey, Barry, Scene, Geller, Chandler,...</td>\n",
              "      <td>{'Monica': 253, 'Joey': 73, 'Phoebe': 115, 'Ra...</td>\n",
              "      <td>2520</td>\n",
              "    </tr>\n",
              "    <tr>\n",
              "      <th>2</th>\n",
              "      <td>2</td>\n",
              "      <td>[Scene: Chandler and Joey's, Chandler is helpi...</td>\n",
              "      <td>The One With The Thumb</td>\n",
              "      <td>3.0</td>\n",
              "      <td>1.0</td>\n",
              "      <td>[Joey, Rachel, Scene, Chandler, Lizzie, Ross, ...</td>\n",
              "      <td>{'Chandler': 449, 'Joey': 185, 'Monica': 480, ...</td>\n",
              "      <td>2336</td>\n",
              "    </tr>\n",
              "    <tr>\n",
              "      <th>3</th>\n",
              "      <td>3</td>\n",
              "      <td>[Scene: Central Perk, Ross and Monica are watc...</td>\n",
              "      <td>The One With George Stephanopoulos</td>\n",
              "      <td>4.0</td>\n",
              "      <td>1.0</td>\n",
              "      <td>[Joey, Rachel, Receptionist, Chandler, Ross, J...</td>\n",
              "      <td>{'[Scene': 158, 'Monica': 418, 'Ross': 440, 'P...</td>\n",
              "      <td>2721</td>\n",
              "    </tr>\n",
              "    <tr>\n",
              "      <th>4</th>\n",
              "      <td>4</td>\n",
              "      <td>[Scene: Central Perk, all six are there.]\\nMon...</td>\n",
              "      <td>The One With The East German Laundry Detergant</td>\n",
              "      <td>5.0</td>\n",
              "      <td>1.0</td>\n",
              "      <td>[Angela, Joey, Rachel, Bob, Chandler, Ross, Mo...</td>\n",
              "      <td>{'Monica': 323, 'Ross': 560, 'Rachel': 371, 'C...</td>\n",
              "      <td>2765</td>\n",
              "    </tr>\n",
              "  </tbody>\n",
              "</table>\n",
              "</div>\n",
              "    <div class=\"colab-df-buttons\">\n",
              "\n",
              "  <div class=\"colab-df-container\">\n",
              "    <button class=\"colab-df-convert\" onclick=\"convertToInteractive('df-840ea41b-d2af-45f6-9ea8-9bd342dc66b7')\"\n",
              "            title=\"Convert this dataframe to an interactive table.\"\n",
              "            style=\"display:none;\">\n",
              "\n",
              "  <svg xmlns=\"http://www.w3.org/2000/svg\" height=\"24px\" viewBox=\"0 -960 960 960\">\n",
              "    <path d=\"M120-120v-720h720v720H120Zm60-500h600v-160H180v160Zm220 220h160v-160H400v160Zm0 220h160v-160H400v160ZM180-400h160v-160H180v160Zm440 0h160v-160H620v160ZM180-180h160v-160H180v160Zm440 0h160v-160H620v160Z\"/>\n",
              "  </svg>\n",
              "    </button>\n",
              "\n",
              "  <style>\n",
              "    .colab-df-container {\n",
              "      display:flex;\n",
              "      gap: 12px;\n",
              "    }\n",
              "\n",
              "    .colab-df-convert {\n",
              "      background-color: #E8F0FE;\n",
              "      border: none;\n",
              "      border-radius: 50%;\n",
              "      cursor: pointer;\n",
              "      display: none;\n",
              "      fill: #1967D2;\n",
              "      height: 32px;\n",
              "      padding: 0 0 0 0;\n",
              "      width: 32px;\n",
              "    }\n",
              "\n",
              "    .colab-df-convert:hover {\n",
              "      background-color: #E2EBFA;\n",
              "      box-shadow: 0px 1px 2px rgba(60, 64, 67, 0.3), 0px 1px 3px 1px rgba(60, 64, 67, 0.15);\n",
              "      fill: #174EA6;\n",
              "    }\n",
              "\n",
              "    .colab-df-buttons div {\n",
              "      margin-bottom: 4px;\n",
              "    }\n",
              "\n",
              "    [theme=dark] .colab-df-convert {\n",
              "      background-color: #3B4455;\n",
              "      fill: #D2E3FC;\n",
              "    }\n",
              "\n",
              "    [theme=dark] .colab-df-convert:hover {\n",
              "      background-color: #434B5C;\n",
              "      box-shadow: 0px 1px 3px 1px rgba(0, 0, 0, 0.15);\n",
              "      filter: drop-shadow(0px 1px 2px rgba(0, 0, 0, 0.3));\n",
              "      fill: #FFFFFF;\n",
              "    }\n",
              "  </style>\n",
              "\n",
              "    <script>\n",
              "      const buttonEl =\n",
              "        document.querySelector('#df-840ea41b-d2af-45f6-9ea8-9bd342dc66b7 button.colab-df-convert');\n",
              "      buttonEl.style.display =\n",
              "        google.colab.kernel.accessAllowed ? 'block' : 'none';\n",
              "\n",
              "      async function convertToInteractive(key) {\n",
              "        const element = document.querySelector('#df-840ea41b-d2af-45f6-9ea8-9bd342dc66b7');\n",
              "        const dataTable =\n",
              "          await google.colab.kernel.invokeFunction('convertToInteractive',\n",
              "                                                    [key], {});\n",
              "        if (!dataTable) return;\n",
              "\n",
              "        const docLinkHtml = 'Like what you see? Visit the ' +\n",
              "          '<a target=\"_blank\" href=https://colab.research.google.com/notebooks/data_table.ipynb>data table notebook</a>'\n",
              "          + ' to learn more about interactive tables.';\n",
              "        element.innerHTML = '';\n",
              "        dataTable['output_type'] = 'display_data';\n",
              "        await google.colab.output.renderOutput(dataTable, element);\n",
              "        const docLink = document.createElement('div');\n",
              "        docLink.innerHTML = docLinkHtml;\n",
              "        element.appendChild(docLink);\n",
              "      }\n",
              "    </script>\n",
              "  </div>\n",
              "\n",
              "\n",
              "<div id=\"df-cdcdb55c-118c-44c2-8fd9-ac82bf931de4\">\n",
              "  <button class=\"colab-df-quickchart\" onclick=\"quickchart('df-cdcdb55c-118c-44c2-8fd9-ac82bf931de4')\"\n",
              "            title=\"Suggest charts.\"\n",
              "            style=\"display:none;\">\n",
              "\n",
              "<svg xmlns=\"http://www.w3.org/2000/svg\" height=\"24px\"viewBox=\"0 0 24 24\"\n",
              "     width=\"24px\">\n",
              "    <g>\n",
              "        <path d=\"M19 3H5c-1.1 0-2 .9-2 2v14c0 1.1.9 2 2 2h14c1.1 0 2-.9 2-2V5c0-1.1-.9-2-2-2zM9 17H7v-7h2v7zm4 0h-2V7h2v10zm4 0h-2v-4h2v4z\"/>\n",
              "    </g>\n",
              "</svg>\n",
              "  </button>\n",
              "\n",
              "<style>\n",
              "  .colab-df-quickchart {\n",
              "      --bg-color: #E8F0FE;\n",
              "      --fill-color: #1967D2;\n",
              "      --hover-bg-color: #E2EBFA;\n",
              "      --hover-fill-color: #174EA6;\n",
              "      --disabled-fill-color: #AAA;\n",
              "      --disabled-bg-color: #DDD;\n",
              "  }\n",
              "\n",
              "  [theme=dark] .colab-df-quickchart {\n",
              "      --bg-color: #3B4455;\n",
              "      --fill-color: #D2E3FC;\n",
              "      --hover-bg-color: #434B5C;\n",
              "      --hover-fill-color: #FFFFFF;\n",
              "      --disabled-bg-color: #3B4455;\n",
              "      --disabled-fill-color: #666;\n",
              "  }\n",
              "\n",
              "  .colab-df-quickchart {\n",
              "    background-color: var(--bg-color);\n",
              "    border: none;\n",
              "    border-radius: 50%;\n",
              "    cursor: pointer;\n",
              "    display: none;\n",
              "    fill: var(--fill-color);\n",
              "    height: 32px;\n",
              "    padding: 0;\n",
              "    width: 32px;\n",
              "  }\n",
              "\n",
              "  .colab-df-quickchart:hover {\n",
              "    background-color: var(--hover-bg-color);\n",
              "    box-shadow: 0 1px 2px rgba(60, 64, 67, 0.3), 0 1px 3px 1px rgba(60, 64, 67, 0.15);\n",
              "    fill: var(--button-hover-fill-color);\n",
              "  }\n",
              "\n",
              "  .colab-df-quickchart-complete:disabled,\n",
              "  .colab-df-quickchart-complete:disabled:hover {\n",
              "    background-color: var(--disabled-bg-color);\n",
              "    fill: var(--disabled-fill-color);\n",
              "    box-shadow: none;\n",
              "  }\n",
              "\n",
              "  .colab-df-spinner {\n",
              "    border: 2px solid var(--fill-color);\n",
              "    border-color: transparent;\n",
              "    border-bottom-color: var(--fill-color);\n",
              "    animation:\n",
              "      spin 1s steps(1) infinite;\n",
              "  }\n",
              "\n",
              "  @keyframes spin {\n",
              "    0% {\n",
              "      border-color: transparent;\n",
              "      border-bottom-color: var(--fill-color);\n",
              "      border-left-color: var(--fill-color);\n",
              "    }\n",
              "    20% {\n",
              "      border-color: transparent;\n",
              "      border-left-color: var(--fill-color);\n",
              "      border-top-color: var(--fill-color);\n",
              "    }\n",
              "    30% {\n",
              "      border-color: transparent;\n",
              "      border-left-color: var(--fill-color);\n",
              "      border-top-color: var(--fill-color);\n",
              "      border-right-color: var(--fill-color);\n",
              "    }\n",
              "    40% {\n",
              "      border-color: transparent;\n",
              "      border-right-color: var(--fill-color);\n",
              "      border-top-color: var(--fill-color);\n",
              "    }\n",
              "    60% {\n",
              "      border-color: transparent;\n",
              "      border-right-color: var(--fill-color);\n",
              "    }\n",
              "    80% {\n",
              "      border-color: transparent;\n",
              "      border-right-color: var(--fill-color);\n",
              "      border-bottom-color: var(--fill-color);\n",
              "    }\n",
              "    90% {\n",
              "      border-color: transparent;\n",
              "      border-bottom-color: var(--fill-color);\n",
              "    }\n",
              "  }\n",
              "</style>\n",
              "\n",
              "  <script>\n",
              "    async function quickchart(key) {\n",
              "      const quickchartButtonEl =\n",
              "        document.querySelector('#' + key + ' button');\n",
              "      quickchartButtonEl.disabled = true;  // To prevent multiple clicks.\n",
              "      quickchartButtonEl.classList.add('colab-df-spinner');\n",
              "      try {\n",
              "        const charts = await google.colab.kernel.invokeFunction(\n",
              "            'suggestCharts', [key], {});\n",
              "      } catch (error) {\n",
              "        console.error('Error during call to suggestCharts:', error);\n",
              "      }\n",
              "      quickchartButtonEl.classList.remove('colab-df-spinner');\n",
              "      quickchartButtonEl.classList.add('colab-df-quickchart-complete');\n",
              "    }\n",
              "    (() => {\n",
              "      let quickchartButtonEl =\n",
              "        document.querySelector('#df-cdcdb55c-118c-44c2-8fd9-ac82bf931de4 button');\n",
              "      quickchartButtonEl.style.display =\n",
              "        google.colab.kernel.accessAllowed ? 'block' : 'none';\n",
              "    })();\n",
              "  </script>\n",
              "</div>\n",
              "    </div>\n",
              "  </div>\n"
            ]
          },
          "metadata": {},
          "execution_count": 37
        }
      ]
    },
    {
      "cell_type": "markdown",
      "source": [
        "## Named Entity Recognition for location identification"
      ],
      "metadata": {
        "id": "n7DyAhAAeSuU"
      }
    },
    {
      "cell_type": "markdown",
      "source": [
        "Here we use a pretratined model from Staford's NER library to identofy main locations in scene change text from scripts"
      ],
      "metadata": {
        "id": "C4WjH2_9ebLb"
      }
    },
    {
      "cell_type": "code",
      "source": [
        "import nltk\n",
        "nltk.download('punkt')\n",
        "from nltk.tag.stanford import StanfordNERTagger\n",
        "from nltk.tokenize import word_tokenize"
      ],
      "metadata": {
        "colab": {
          "base_uri": "https://localhost:8080/"
        },
        "id": "y9p3wHpAEaR_",
        "outputId": "d0f4ee06-310c-4718-ba8c-11f7b1afd1cb"
      },
      "execution_count": 78,
      "outputs": [
        {
          "output_type": "stream",
          "name": "stderr",
          "text": [
            "[nltk_data] Downloading package punkt to /root/nltk_data...\n",
            "[nltk_data]   Unzipping tokenizers/punkt.zip.\n"
          ]
        }
      ]
    },
    {
      "cell_type": "code",
      "source": [
        "def extract_locations_organizations(text):\n",
        "    PATH_TO_JAR = 'stanford-ner.jar'\n",
        "    PATH_TO_MODEL = 'english.all.3class.distsim.crf.ser.gz'\n",
        "    tagger = StanfordNERTagger(model_filename=PATH_TO_MODEL, path_to_jar=PATH_TO_JAR, encoding='utf-8')\n",
        "    bracket_contents = re.findall(r'\\[(.*?)\\]', text)\n",
        "    locations = []\n",
        "    organizations = []\n",
        "\n",
        "    for bracket_text in bracket_contents:\n",
        "        words = word_tokenize(bracket_text)\n",
        "        ner_tags = tagger.tag(words)\n",
        "\n",
        "        current_location = []\n",
        "        current_organization = []\n",
        "\n",
        "        for word, tag in ner_tags:\n",
        "            if tag == 'LOCATION':\n",
        "                current_location.append(word)\n",
        "            elif tag == 'ORGANIZATION':\n",
        "                current_organization.append(word)\n",
        "\n",
        "        if current_location:\n",
        "            locations.append(\" \".join(current_location))\n",
        "        if current_organization:\n",
        "            organizations.append(\" \".join(current_organization))\n",
        "\n",
        "    return locations + organizations"
      ],
      "metadata": {
        "id": "ltX55WHcG3yE"
      },
      "execution_count": 79,
      "outputs": []
    },
    {
      "cell_type": "code",
      "source": [
        "tqdm.pandas()\n",
        "df['List of Locations'] = df['text script'].progress_apply(extract_locations_organizations)"
      ],
      "metadata": {
        "id": "jHqFqUv6IS5R"
      },
      "execution_count": null,
      "outputs": []
    },
    {
      "cell_type": "code",
      "source": [
        "df.head()"
      ],
      "metadata": {
        "colab": {
          "base_uri": "https://localhost:8080/",
          "height": 328
        },
        "id": "CC43VwpYbA6a",
        "outputId": "93b75ab4-8641-4362-f543-ef91083edf0e"
      },
      "execution_count": null,
      "outputs": [
        {
          "output_type": "execute_result",
          "data": {
            "text/plain": [
              "   Unnamed: 0                                        text script  \\\n",
              "0           0  [Scene: The Subway, Phoebe is singing for\\ncha...   \n",
              "1           1  [Scene Central Perk, everyone's there.]\\nMonic...   \n",
              "2           2  [Scene: Chandler and Joey's, Chandler is helpi...   \n",
              "3           3  [Scene: Central Perk, Ross and Monica are watc...   \n",
              "4           4  [Scene: Central Perk, all six are there.]\\nMon...   \n",
              "\n",
              "                                             Title  Episode  Season  \\\n",
              "0                      The Pilot-The Uncut Version      1.0     1.0   \n",
              "1             The One With The Sonogram At the End      2.0     1.0   \n",
              "2                           The One With The Thumb      3.0     1.0   \n",
              "3               The One With George Stephanopoulos      4.0     1.0   \n",
              "4   The One With The East German Laundry Detergant      5.0     1.0   \n",
              "\n",
              "                                     character_names  \\\n",
              "0  [Joey, Paul, Rachel, Frannie, Chandler, Ross, ...   \n",
              "1  [Rachel, Joey, Barry, Scene, Geller, Chandler,...   \n",
              "2  [Joey, Rachel, Scene, Chandler, Lizzie, Ross, ...   \n",
              "3  [Joey, Rachel, Receptionist, Chandler, Ross, J...   \n",
              "4  [Angela, Joey, Rachel, Bob, Chandler, Ross, Mo...   \n",
              "\n",
              "                                    Spoken Word List  Total Spoken Words  \\\n",
              "0  {'[Scene': 81, 'Phoebe': 166, 'Ross': 357, 'Jo...                2290   \n",
              "1  {'Monica': 253, 'Joey': 73, 'Phoebe': 115, 'Ra...                2520   \n",
              "2  {'Chandler': 449, 'Joey': 185, 'Monica': 480, ...                2336   \n",
              "3  {'[Scene': 158, 'Monica': 418, 'Ross': 440, 'P...                2721   \n",
              "4  {'Monica': 323, 'Ross': 560, 'Rachel': 371, 'C...                2765   \n",
              "\n",
              "                               List of Locations  \n",
              "0                                      [Iridium]  \n",
              "1                                 [Central Park]  \n",
              "2  [Central Perk, Iridium, Iridium, Cental Perk]  \n",
              "3                                             []  \n",
              "4                                             []  "
            ],
            "text/html": [
              "\n",
              "  <div id=\"df-1ad3ae85-46ec-41ff-bcab-729e42be6715\" class=\"colab-df-container\">\n",
              "    <div>\n",
              "<style scoped>\n",
              "    .dataframe tbody tr th:only-of-type {\n",
              "        vertical-align: middle;\n",
              "    }\n",
              "\n",
              "    .dataframe tbody tr th {\n",
              "        vertical-align: top;\n",
              "    }\n",
              "\n",
              "    .dataframe thead th {\n",
              "        text-align: right;\n",
              "    }\n",
              "</style>\n",
              "<table border=\"1\" class=\"dataframe\">\n",
              "  <thead>\n",
              "    <tr style=\"text-align: right;\">\n",
              "      <th></th>\n",
              "      <th>Unnamed: 0</th>\n",
              "      <th>text script</th>\n",
              "      <th>Title</th>\n",
              "      <th>Episode</th>\n",
              "      <th>Season</th>\n",
              "      <th>character_names</th>\n",
              "      <th>Spoken Word List</th>\n",
              "      <th>Total Spoken Words</th>\n",
              "      <th>List of Locations</th>\n",
              "    </tr>\n",
              "  </thead>\n",
              "  <tbody>\n",
              "    <tr>\n",
              "      <th>0</th>\n",
              "      <td>0</td>\n",
              "      <td>[Scene: The Subway, Phoebe is singing for\\ncha...</td>\n",
              "      <td>The Pilot-The Uncut Version</td>\n",
              "      <td>1.0</td>\n",
              "      <td>1.0</td>\n",
              "      <td>[Joey, Paul, Rachel, Frannie, Chandler, Ross, ...</td>\n",
              "      <td>{'[Scene': 81, 'Phoebe': 166, 'Ross': 357, 'Jo...</td>\n",
              "      <td>2290</td>\n",
              "      <td>[Iridium]</td>\n",
              "    </tr>\n",
              "    <tr>\n",
              "      <th>1</th>\n",
              "      <td>1</td>\n",
              "      <td>[Scene Central Perk, everyone's there.]\\nMonic...</td>\n",
              "      <td>The One With The Sonogram At the End</td>\n",
              "      <td>2.0</td>\n",
              "      <td>1.0</td>\n",
              "      <td>[Rachel, Joey, Barry, Scene, Geller, Chandler,...</td>\n",
              "      <td>{'Monica': 253, 'Joey': 73, 'Phoebe': 115, 'Ra...</td>\n",
              "      <td>2520</td>\n",
              "      <td>[Central Park]</td>\n",
              "    </tr>\n",
              "    <tr>\n",
              "      <th>2</th>\n",
              "      <td>2</td>\n",
              "      <td>[Scene: Chandler and Joey's, Chandler is helpi...</td>\n",
              "      <td>The One With The Thumb</td>\n",
              "      <td>3.0</td>\n",
              "      <td>1.0</td>\n",
              "      <td>[Joey, Rachel, Scene, Chandler, Lizzie, Ross, ...</td>\n",
              "      <td>{'Chandler': 449, 'Joey': 185, 'Monica': 480, ...</td>\n",
              "      <td>2336</td>\n",
              "      <td>[Central Perk, Iridium, Iridium, Cental Perk]</td>\n",
              "    </tr>\n",
              "    <tr>\n",
              "      <th>3</th>\n",
              "      <td>3</td>\n",
              "      <td>[Scene: Central Perk, Ross and Monica are watc...</td>\n",
              "      <td>The One With George Stephanopoulos</td>\n",
              "      <td>4.0</td>\n",
              "      <td>1.0</td>\n",
              "      <td>[Joey, Rachel, Receptionist, Chandler, Ross, J...</td>\n",
              "      <td>{'[Scene': 158, 'Monica': 418, 'Ross': 440, 'P...</td>\n",
              "      <td>2721</td>\n",
              "      <td>[]</td>\n",
              "    </tr>\n",
              "    <tr>\n",
              "      <th>4</th>\n",
              "      <td>4</td>\n",
              "      <td>[Scene: Central Perk, all six are there.]\\nMon...</td>\n",
              "      <td>The One With The East German Laundry Detergant</td>\n",
              "      <td>5.0</td>\n",
              "      <td>1.0</td>\n",
              "      <td>[Angela, Joey, Rachel, Bob, Chandler, Ross, Mo...</td>\n",
              "      <td>{'Monica': 323, 'Ross': 560, 'Rachel': 371, 'C...</td>\n",
              "      <td>2765</td>\n",
              "      <td>[]</td>\n",
              "    </tr>\n",
              "  </tbody>\n",
              "</table>\n",
              "</div>\n",
              "    <div class=\"colab-df-buttons\">\n",
              "\n",
              "  <div class=\"colab-df-container\">\n",
              "    <button class=\"colab-df-convert\" onclick=\"convertToInteractive('df-1ad3ae85-46ec-41ff-bcab-729e42be6715')\"\n",
              "            title=\"Convert this dataframe to an interactive table.\"\n",
              "            style=\"display:none;\">\n",
              "\n",
              "  <svg xmlns=\"http://www.w3.org/2000/svg\" height=\"24px\" viewBox=\"0 -960 960 960\">\n",
              "    <path d=\"M120-120v-720h720v720H120Zm60-500h600v-160H180v160Zm220 220h160v-160H400v160Zm0 220h160v-160H400v160ZM180-400h160v-160H180v160Zm440 0h160v-160H620v160ZM180-180h160v-160H180v160Zm440 0h160v-160H620v160Z\"/>\n",
              "  </svg>\n",
              "    </button>\n",
              "\n",
              "  <style>\n",
              "    .colab-df-container {\n",
              "      display:flex;\n",
              "      gap: 12px;\n",
              "    }\n",
              "\n",
              "    .colab-df-convert {\n",
              "      background-color: #E8F0FE;\n",
              "      border: none;\n",
              "      border-radius: 50%;\n",
              "      cursor: pointer;\n",
              "      display: none;\n",
              "      fill: #1967D2;\n",
              "      height: 32px;\n",
              "      padding: 0 0 0 0;\n",
              "      width: 32px;\n",
              "    }\n",
              "\n",
              "    .colab-df-convert:hover {\n",
              "      background-color: #E2EBFA;\n",
              "      box-shadow: 0px 1px 2px rgba(60, 64, 67, 0.3), 0px 1px 3px 1px rgba(60, 64, 67, 0.15);\n",
              "      fill: #174EA6;\n",
              "    }\n",
              "\n",
              "    .colab-df-buttons div {\n",
              "      margin-bottom: 4px;\n",
              "    }\n",
              "\n",
              "    [theme=dark] .colab-df-convert {\n",
              "      background-color: #3B4455;\n",
              "      fill: #D2E3FC;\n",
              "    }\n",
              "\n",
              "    [theme=dark] .colab-df-convert:hover {\n",
              "      background-color: #434B5C;\n",
              "      box-shadow: 0px 1px 3px 1px rgba(0, 0, 0, 0.15);\n",
              "      filter: drop-shadow(0px 1px 2px rgba(0, 0, 0, 0.3));\n",
              "      fill: #FFFFFF;\n",
              "    }\n",
              "  </style>\n",
              "\n",
              "    <script>\n",
              "      const buttonEl =\n",
              "        document.querySelector('#df-1ad3ae85-46ec-41ff-bcab-729e42be6715 button.colab-df-convert');\n",
              "      buttonEl.style.display =\n",
              "        google.colab.kernel.accessAllowed ? 'block' : 'none';\n",
              "\n",
              "      async function convertToInteractive(key) {\n",
              "        const element = document.querySelector('#df-1ad3ae85-46ec-41ff-bcab-729e42be6715');\n",
              "        const dataTable =\n",
              "          await google.colab.kernel.invokeFunction('convertToInteractive',\n",
              "                                                    [key], {});\n",
              "        if (!dataTable) return;\n",
              "\n",
              "        const docLinkHtml = 'Like what you see? Visit the ' +\n",
              "          '<a target=\"_blank\" href=https://colab.research.google.com/notebooks/data_table.ipynb>data table notebook</a>'\n",
              "          + ' to learn more about interactive tables.';\n",
              "        element.innerHTML = '';\n",
              "        dataTable['output_type'] = 'display_data';\n",
              "        await google.colab.output.renderOutput(dataTable, element);\n",
              "        const docLink = document.createElement('div');\n",
              "        docLink.innerHTML = docLinkHtml;\n",
              "        element.appendChild(docLink);\n",
              "      }\n",
              "    </script>\n",
              "  </div>\n",
              "\n",
              "\n",
              "<div id=\"df-6420d1c2-7c81-4227-bff5-429cc0aabf6c\">\n",
              "  <button class=\"colab-df-quickchart\" onclick=\"quickchart('df-6420d1c2-7c81-4227-bff5-429cc0aabf6c')\"\n",
              "            title=\"Suggest charts.\"\n",
              "            style=\"display:none;\">\n",
              "\n",
              "<svg xmlns=\"http://www.w3.org/2000/svg\" height=\"24px\"viewBox=\"0 0 24 24\"\n",
              "     width=\"24px\">\n",
              "    <g>\n",
              "        <path d=\"M19 3H5c-1.1 0-2 .9-2 2v14c0 1.1.9 2 2 2h14c1.1 0 2-.9 2-2V5c0-1.1-.9-2-2-2zM9 17H7v-7h2v7zm4 0h-2V7h2v10zm4 0h-2v-4h2v4z\"/>\n",
              "    </g>\n",
              "</svg>\n",
              "  </button>\n",
              "\n",
              "<style>\n",
              "  .colab-df-quickchart {\n",
              "      --bg-color: #E8F0FE;\n",
              "      --fill-color: #1967D2;\n",
              "      --hover-bg-color: #E2EBFA;\n",
              "      --hover-fill-color: #174EA6;\n",
              "      --disabled-fill-color: #AAA;\n",
              "      --disabled-bg-color: #DDD;\n",
              "  }\n",
              "\n",
              "  [theme=dark] .colab-df-quickchart {\n",
              "      --bg-color: #3B4455;\n",
              "      --fill-color: #D2E3FC;\n",
              "      --hover-bg-color: #434B5C;\n",
              "      --hover-fill-color: #FFFFFF;\n",
              "      --disabled-bg-color: #3B4455;\n",
              "      --disabled-fill-color: #666;\n",
              "  }\n",
              "\n",
              "  .colab-df-quickchart {\n",
              "    background-color: var(--bg-color);\n",
              "    border: none;\n",
              "    border-radius: 50%;\n",
              "    cursor: pointer;\n",
              "    display: none;\n",
              "    fill: var(--fill-color);\n",
              "    height: 32px;\n",
              "    padding: 0;\n",
              "    width: 32px;\n",
              "  }\n",
              "\n",
              "  .colab-df-quickchart:hover {\n",
              "    background-color: var(--hover-bg-color);\n",
              "    box-shadow: 0 1px 2px rgba(60, 64, 67, 0.3), 0 1px 3px 1px rgba(60, 64, 67, 0.15);\n",
              "    fill: var(--button-hover-fill-color);\n",
              "  }\n",
              "\n",
              "  .colab-df-quickchart-complete:disabled,\n",
              "  .colab-df-quickchart-complete:disabled:hover {\n",
              "    background-color: var(--disabled-bg-color);\n",
              "    fill: var(--disabled-fill-color);\n",
              "    box-shadow: none;\n",
              "  }\n",
              "\n",
              "  .colab-df-spinner {\n",
              "    border: 2px solid var(--fill-color);\n",
              "    border-color: transparent;\n",
              "    border-bottom-color: var(--fill-color);\n",
              "    animation:\n",
              "      spin 1s steps(1) infinite;\n",
              "  }\n",
              "\n",
              "  @keyframes spin {\n",
              "    0% {\n",
              "      border-color: transparent;\n",
              "      border-bottom-color: var(--fill-color);\n",
              "      border-left-color: var(--fill-color);\n",
              "    }\n",
              "    20% {\n",
              "      border-color: transparent;\n",
              "      border-left-color: var(--fill-color);\n",
              "      border-top-color: var(--fill-color);\n",
              "    }\n",
              "    30% {\n",
              "      border-color: transparent;\n",
              "      border-left-color: var(--fill-color);\n",
              "      border-top-color: var(--fill-color);\n",
              "      border-right-color: var(--fill-color);\n",
              "    }\n",
              "    40% {\n",
              "      border-color: transparent;\n",
              "      border-right-color: var(--fill-color);\n",
              "      border-top-color: var(--fill-color);\n",
              "    }\n",
              "    60% {\n",
              "      border-color: transparent;\n",
              "      border-right-color: var(--fill-color);\n",
              "    }\n",
              "    80% {\n",
              "      border-color: transparent;\n",
              "      border-right-color: var(--fill-color);\n",
              "      border-bottom-color: var(--fill-color);\n",
              "    }\n",
              "    90% {\n",
              "      border-color: transparent;\n",
              "      border-bottom-color: var(--fill-color);\n",
              "    }\n",
              "  }\n",
              "</style>\n",
              "\n",
              "  <script>\n",
              "    async function quickchart(key) {\n",
              "      const quickchartButtonEl =\n",
              "        document.querySelector('#' + key + ' button');\n",
              "      quickchartButtonEl.disabled = true;  // To prevent multiple clicks.\n",
              "      quickchartButtonEl.classList.add('colab-df-spinner');\n",
              "      try {\n",
              "        const charts = await google.colab.kernel.invokeFunction(\n",
              "            'suggestCharts', [key], {});\n",
              "      } catch (error) {\n",
              "        console.error('Error during call to suggestCharts:', error);\n",
              "      }\n",
              "      quickchartButtonEl.classList.remove('colab-df-spinner');\n",
              "      quickchartButtonEl.classList.add('colab-df-quickchart-complete');\n",
              "    }\n",
              "    (() => {\n",
              "      let quickchartButtonEl =\n",
              "        document.querySelector('#df-6420d1c2-7c81-4227-bff5-429cc0aabf6c button');\n",
              "      quickchartButtonEl.style.display =\n",
              "        google.colab.kernel.accessAllowed ? 'block' : 'none';\n",
              "    })();\n",
              "  </script>\n",
              "</div>\n",
              "    </div>\n",
              "  </div>\n"
            ]
          },
          "metadata": {},
          "execution_count": 44
        }
      ]
    },
    {
      "cell_type": "code",
      "source": [
        "df.to_csv('the_one_with_the_NER.csv') #saving results to resume work"
      ],
      "metadata": {
        "id": "rHEDn4JZa51k"
      },
      "execution_count": null,
      "outputs": []
    },
    {
      "cell_type": "markdown",
      "source": [
        "As can be seen from results of NER, there were a lot of empty values because locations such as rooms, buildings, restraunts, etc could not be identified used NER. So further research was conducted which revelaed that since te show was filmed live, only a handful of set locatiosn were ever actually used. Thus regular expressions and fuzzy string matching were used to iterate over the scene change text information int the script. The procedure is illustrated in the following section."
      ],
      "metadata": {
        "id": "BOI1NXlwemS_"
      }
    },
    {
      "cell_type": "markdown",
      "source": [
        "## Fuzy string matching for location recognition"
      ],
      "metadata": {
        "id": "9Cbb44S71Xmc"
      }
    },
    {
      "cell_type": "code",
      "source": [
        "import pandas as pd"
      ],
      "metadata": {
        "id": "Z1N1vPT81XPP"
      },
      "execution_count": 6,
      "outputs": []
    },
    {
      "cell_type": "code",
      "source": [
        "df = pd.read_csv(\"the_one_with_the_NER.csv\")\n",
        "df = df.drop(columns = ['Unnamed: 0.1','Unnamed: 0'])\n",
        "df.head()"
      ],
      "metadata": {
        "colab": {
          "base_uri": "https://localhost:8080/",
          "height": 449
        },
        "id": "WlwF8iqL16Yc",
        "outputId": "d1bf7f88-c7c8-4f7b-c340-afbf357fb6f4"
      },
      "execution_count": 3,
      "outputs": [
        {
          "output_type": "execute_result",
          "data": {
            "text/plain": [
              "                                         text script  \\\n",
              "0  [Scene: The Subway, Phoebe is singing for\\ncha...   \n",
              "1  [Scene Central Perk, everyone's there.]\\nMonic...   \n",
              "2  [Scene: Chandler and Joey's, Chandler is helpi...   \n",
              "3  [Scene: Central Perk, Ross and Monica are watc...   \n",
              "4  [Scene: Central Perk, all six are there.]\\nMon...   \n",
              "\n",
              "                                             Title  Episode  Season  \\\n",
              "0                      The Pilot-The Uncut Version      1.0     1.0   \n",
              "1             The One With The Sonogram At the End      2.0     1.0   \n",
              "2                           The One With The Thumb      3.0     1.0   \n",
              "3               The One With George Stephanopoulos      4.0     1.0   \n",
              "4   The One With The East German Laundry Detergant      5.0     1.0   \n",
              "\n",
              "                                     character_names  \\\n",
              "0  ['Joey', 'Paul', 'Rachel', 'Frannie', 'Chandle...   \n",
              "1  ['Rachel', 'Joey', 'Barry', 'Scene', 'Geller',...   \n",
              "2  ['Joey', 'Rachel', 'Scene', 'Chandler', 'Lizzi...   \n",
              "3  ['Joey', 'Rachel', 'Receptionist', 'Chandler',...   \n",
              "4  ['Angela', 'Joey', 'Rachel', 'Bob', 'Chandler'...   \n",
              "\n",
              "                                    Spoken Word List  Total Spoken Words  \\\n",
              "0  {'[Scene': 81, 'Phoebe': 166, 'Ross': 357, 'Jo...                2290   \n",
              "1  {'Monica': 253, 'Joey': 73, 'Phoebe': 115, 'Ra...                2520   \n",
              "2  {'Chandler': 449, 'Joey': 185, 'Monica': 480, ...                2336   \n",
              "3  {'[Scene': 158, 'Monica': 418, 'Ross': 440, 'P...                2721   \n",
              "4  {'Monica': 323, 'Ross': 560, 'Rachel': 371, 'C...                2765   \n",
              "\n",
              "                                   List of Locations  \n",
              "0                                        ['Iridium']  \n",
              "1                                   ['Central Park']  \n",
              "2  ['Central Perk', 'Iridium', 'Iridium', 'Cental...  \n",
              "3                                                 []  \n",
              "4                                                 []  "
            ],
            "text/html": [
              "\n",
              "  <div id=\"df-f8658088-3f7e-4ff0-95dc-164a9cae189a\" class=\"colab-df-container\">\n",
              "    <div>\n",
              "<style scoped>\n",
              "    .dataframe tbody tr th:only-of-type {\n",
              "        vertical-align: middle;\n",
              "    }\n",
              "\n",
              "    .dataframe tbody tr th {\n",
              "        vertical-align: top;\n",
              "    }\n",
              "\n",
              "    .dataframe thead th {\n",
              "        text-align: right;\n",
              "    }\n",
              "</style>\n",
              "<table border=\"1\" class=\"dataframe\">\n",
              "  <thead>\n",
              "    <tr style=\"text-align: right;\">\n",
              "      <th></th>\n",
              "      <th>text script</th>\n",
              "      <th>Title</th>\n",
              "      <th>Episode</th>\n",
              "      <th>Season</th>\n",
              "      <th>character_names</th>\n",
              "      <th>Spoken Word List</th>\n",
              "      <th>Total Spoken Words</th>\n",
              "      <th>List of Locations</th>\n",
              "    </tr>\n",
              "  </thead>\n",
              "  <tbody>\n",
              "    <tr>\n",
              "      <th>0</th>\n",
              "      <td>[Scene: The Subway, Phoebe is singing for\\ncha...</td>\n",
              "      <td>The Pilot-The Uncut Version</td>\n",
              "      <td>1.0</td>\n",
              "      <td>1.0</td>\n",
              "      <td>['Joey', 'Paul', 'Rachel', 'Frannie', 'Chandle...</td>\n",
              "      <td>{'[Scene': 81, 'Phoebe': 166, 'Ross': 357, 'Jo...</td>\n",
              "      <td>2290</td>\n",
              "      <td>['Iridium']</td>\n",
              "    </tr>\n",
              "    <tr>\n",
              "      <th>1</th>\n",
              "      <td>[Scene Central Perk, everyone's there.]\\nMonic...</td>\n",
              "      <td>The One With The Sonogram At the End</td>\n",
              "      <td>2.0</td>\n",
              "      <td>1.0</td>\n",
              "      <td>['Rachel', 'Joey', 'Barry', 'Scene', 'Geller',...</td>\n",
              "      <td>{'Monica': 253, 'Joey': 73, 'Phoebe': 115, 'Ra...</td>\n",
              "      <td>2520</td>\n",
              "      <td>['Central Park']</td>\n",
              "    </tr>\n",
              "    <tr>\n",
              "      <th>2</th>\n",
              "      <td>[Scene: Chandler and Joey's, Chandler is helpi...</td>\n",
              "      <td>The One With The Thumb</td>\n",
              "      <td>3.0</td>\n",
              "      <td>1.0</td>\n",
              "      <td>['Joey', 'Rachel', 'Scene', 'Chandler', 'Lizzi...</td>\n",
              "      <td>{'Chandler': 449, 'Joey': 185, 'Monica': 480, ...</td>\n",
              "      <td>2336</td>\n",
              "      <td>['Central Perk', 'Iridium', 'Iridium', 'Cental...</td>\n",
              "    </tr>\n",
              "    <tr>\n",
              "      <th>3</th>\n",
              "      <td>[Scene: Central Perk, Ross and Monica are watc...</td>\n",
              "      <td>The One With George Stephanopoulos</td>\n",
              "      <td>4.0</td>\n",
              "      <td>1.0</td>\n",
              "      <td>['Joey', 'Rachel', 'Receptionist', 'Chandler',...</td>\n",
              "      <td>{'[Scene': 158, 'Monica': 418, 'Ross': 440, 'P...</td>\n",
              "      <td>2721</td>\n",
              "      <td>[]</td>\n",
              "    </tr>\n",
              "    <tr>\n",
              "      <th>4</th>\n",
              "      <td>[Scene: Central Perk, all six are there.]\\nMon...</td>\n",
              "      <td>The One With The East German Laundry Detergant</td>\n",
              "      <td>5.0</td>\n",
              "      <td>1.0</td>\n",
              "      <td>['Angela', 'Joey', 'Rachel', 'Bob', 'Chandler'...</td>\n",
              "      <td>{'Monica': 323, 'Ross': 560, 'Rachel': 371, 'C...</td>\n",
              "      <td>2765</td>\n",
              "      <td>[]</td>\n",
              "    </tr>\n",
              "  </tbody>\n",
              "</table>\n",
              "</div>\n",
              "    <div class=\"colab-df-buttons\">\n",
              "\n",
              "  <div class=\"colab-df-container\">\n",
              "    <button class=\"colab-df-convert\" onclick=\"convertToInteractive('df-f8658088-3f7e-4ff0-95dc-164a9cae189a')\"\n",
              "            title=\"Convert this dataframe to an interactive table.\"\n",
              "            style=\"display:none;\">\n",
              "\n",
              "  <svg xmlns=\"http://www.w3.org/2000/svg\" height=\"24px\" viewBox=\"0 -960 960 960\">\n",
              "    <path d=\"M120-120v-720h720v720H120Zm60-500h600v-160H180v160Zm220 220h160v-160H400v160Zm0 220h160v-160H400v160ZM180-400h160v-160H180v160Zm440 0h160v-160H620v160ZM180-180h160v-160H180v160Zm440 0h160v-160H620v160Z\"/>\n",
              "  </svg>\n",
              "    </button>\n",
              "\n",
              "  <style>\n",
              "    .colab-df-container {\n",
              "      display:flex;\n",
              "      gap: 12px;\n",
              "    }\n",
              "\n",
              "    .colab-df-convert {\n",
              "      background-color: #E8F0FE;\n",
              "      border: none;\n",
              "      border-radius: 50%;\n",
              "      cursor: pointer;\n",
              "      display: none;\n",
              "      fill: #1967D2;\n",
              "      height: 32px;\n",
              "      padding: 0 0 0 0;\n",
              "      width: 32px;\n",
              "    }\n",
              "\n",
              "    .colab-df-convert:hover {\n",
              "      background-color: #E2EBFA;\n",
              "      box-shadow: 0px 1px 2px rgba(60, 64, 67, 0.3), 0px 1px 3px 1px rgba(60, 64, 67, 0.15);\n",
              "      fill: #174EA6;\n",
              "    }\n",
              "\n",
              "    .colab-df-buttons div {\n",
              "      margin-bottom: 4px;\n",
              "    }\n",
              "\n",
              "    [theme=dark] .colab-df-convert {\n",
              "      background-color: #3B4455;\n",
              "      fill: #D2E3FC;\n",
              "    }\n",
              "\n",
              "    [theme=dark] .colab-df-convert:hover {\n",
              "      background-color: #434B5C;\n",
              "      box-shadow: 0px 1px 3px 1px rgba(0, 0, 0, 0.15);\n",
              "      filter: drop-shadow(0px 1px 2px rgba(0, 0, 0, 0.3));\n",
              "      fill: #FFFFFF;\n",
              "    }\n",
              "  </style>\n",
              "\n",
              "    <script>\n",
              "      const buttonEl =\n",
              "        document.querySelector('#df-f8658088-3f7e-4ff0-95dc-164a9cae189a button.colab-df-convert');\n",
              "      buttonEl.style.display =\n",
              "        google.colab.kernel.accessAllowed ? 'block' : 'none';\n",
              "\n",
              "      async function convertToInteractive(key) {\n",
              "        const element = document.querySelector('#df-f8658088-3f7e-4ff0-95dc-164a9cae189a');\n",
              "        const dataTable =\n",
              "          await google.colab.kernel.invokeFunction('convertToInteractive',\n",
              "                                                    [key], {});\n",
              "        if (!dataTable) return;\n",
              "\n",
              "        const docLinkHtml = 'Like what you see? Visit the ' +\n",
              "          '<a target=\"_blank\" href=https://colab.research.google.com/notebooks/data_table.ipynb>data table notebook</a>'\n",
              "          + ' to learn more about interactive tables.';\n",
              "        element.innerHTML = '';\n",
              "        dataTable['output_type'] = 'display_data';\n",
              "        await google.colab.output.renderOutput(dataTable, element);\n",
              "        const docLink = document.createElement('div');\n",
              "        docLink.innerHTML = docLinkHtml;\n",
              "        element.appendChild(docLink);\n",
              "      }\n",
              "    </script>\n",
              "  </div>\n",
              "\n",
              "\n",
              "<div id=\"df-ef8aa3c1-ee46-4e46-9785-ea9766f6caff\">\n",
              "  <button class=\"colab-df-quickchart\" onclick=\"quickchart('df-ef8aa3c1-ee46-4e46-9785-ea9766f6caff')\"\n",
              "            title=\"Suggest charts\"\n",
              "            style=\"display:none;\">\n",
              "\n",
              "<svg xmlns=\"http://www.w3.org/2000/svg\" height=\"24px\"viewBox=\"0 0 24 24\"\n",
              "     width=\"24px\">\n",
              "    <g>\n",
              "        <path d=\"M19 3H5c-1.1 0-2 .9-2 2v14c0 1.1.9 2 2 2h14c1.1 0 2-.9 2-2V5c0-1.1-.9-2-2-2zM9 17H7v-7h2v7zm4 0h-2V7h2v10zm4 0h-2v-4h2v4z\"/>\n",
              "    </g>\n",
              "</svg>\n",
              "  </button>\n",
              "\n",
              "<style>\n",
              "  .colab-df-quickchart {\n",
              "      --bg-color: #E8F0FE;\n",
              "      --fill-color: #1967D2;\n",
              "      --hover-bg-color: #E2EBFA;\n",
              "      --hover-fill-color: #174EA6;\n",
              "      --disabled-fill-color: #AAA;\n",
              "      --disabled-bg-color: #DDD;\n",
              "  }\n",
              "\n",
              "  [theme=dark] .colab-df-quickchart {\n",
              "      --bg-color: #3B4455;\n",
              "      --fill-color: #D2E3FC;\n",
              "      --hover-bg-color: #434B5C;\n",
              "      --hover-fill-color: #FFFFFF;\n",
              "      --disabled-bg-color: #3B4455;\n",
              "      --disabled-fill-color: #666;\n",
              "  }\n",
              "\n",
              "  .colab-df-quickchart {\n",
              "    background-color: var(--bg-color);\n",
              "    border: none;\n",
              "    border-radius: 50%;\n",
              "    cursor: pointer;\n",
              "    display: none;\n",
              "    fill: var(--fill-color);\n",
              "    height: 32px;\n",
              "    padding: 0;\n",
              "    width: 32px;\n",
              "  }\n",
              "\n",
              "  .colab-df-quickchart:hover {\n",
              "    background-color: var(--hover-bg-color);\n",
              "    box-shadow: 0 1px 2px rgba(60, 64, 67, 0.3), 0 1px 3px 1px rgba(60, 64, 67, 0.15);\n",
              "    fill: var(--button-hover-fill-color);\n",
              "  }\n",
              "\n",
              "  .colab-df-quickchart-complete:disabled,\n",
              "  .colab-df-quickchart-complete:disabled:hover {\n",
              "    background-color: var(--disabled-bg-color);\n",
              "    fill: var(--disabled-fill-color);\n",
              "    box-shadow: none;\n",
              "  }\n",
              "\n",
              "  .colab-df-spinner {\n",
              "    border: 2px solid var(--fill-color);\n",
              "    border-color: transparent;\n",
              "    border-bottom-color: var(--fill-color);\n",
              "    animation:\n",
              "      spin 1s steps(1) infinite;\n",
              "  }\n",
              "\n",
              "  @keyframes spin {\n",
              "    0% {\n",
              "      border-color: transparent;\n",
              "      border-bottom-color: var(--fill-color);\n",
              "      border-left-color: var(--fill-color);\n",
              "    }\n",
              "    20% {\n",
              "      border-color: transparent;\n",
              "      border-left-color: var(--fill-color);\n",
              "      border-top-color: var(--fill-color);\n",
              "    }\n",
              "    30% {\n",
              "      border-color: transparent;\n",
              "      border-left-color: var(--fill-color);\n",
              "      border-top-color: var(--fill-color);\n",
              "      border-right-color: var(--fill-color);\n",
              "    }\n",
              "    40% {\n",
              "      border-color: transparent;\n",
              "      border-right-color: var(--fill-color);\n",
              "      border-top-color: var(--fill-color);\n",
              "    }\n",
              "    60% {\n",
              "      border-color: transparent;\n",
              "      border-right-color: var(--fill-color);\n",
              "    }\n",
              "    80% {\n",
              "      border-color: transparent;\n",
              "      border-right-color: var(--fill-color);\n",
              "      border-bottom-color: var(--fill-color);\n",
              "    }\n",
              "    90% {\n",
              "      border-color: transparent;\n",
              "      border-bottom-color: var(--fill-color);\n",
              "    }\n",
              "  }\n",
              "</style>\n",
              "\n",
              "  <script>\n",
              "    async function quickchart(key) {\n",
              "      const quickchartButtonEl =\n",
              "        document.querySelector('#' + key + ' button');\n",
              "      quickchartButtonEl.disabled = true;  // To prevent multiple clicks.\n",
              "      quickchartButtonEl.classList.add('colab-df-spinner');\n",
              "      try {\n",
              "        const charts = await google.colab.kernel.invokeFunction(\n",
              "            'suggestCharts', [key], {});\n",
              "      } catch (error) {\n",
              "        console.error('Error during call to suggestCharts:', error);\n",
              "      }\n",
              "      quickchartButtonEl.classList.remove('colab-df-spinner');\n",
              "      quickchartButtonEl.classList.add('colab-df-quickchart-complete');\n",
              "    }\n",
              "    (() => {\n",
              "      let quickchartButtonEl =\n",
              "        document.querySelector('#df-ef8aa3c1-ee46-4e46-9785-ea9766f6caff button');\n",
              "      quickchartButtonEl.style.display =\n",
              "        google.colab.kernel.accessAllowed ? 'block' : 'none';\n",
              "    })();\n",
              "  </script>\n",
              "</div>\n",
              "    </div>\n",
              "  </div>\n"
            ]
          },
          "metadata": {},
          "execution_count": 3
        }
      ]
    },
    {
      "cell_type": "code",
      "source": [
        "import ast\n",
        "# Convert string representations of lists to actual lists using ast.literal_eval\n",
        "df['List of Locations'] = df['List of Locations'].apply(ast.literal_eval)\n",
        "\n",
        "# Count rows where the value of 'List of Locations' is an empty list\n",
        "count_empty_lists = df[df['List of Locations'].apply(lambda x: len(x) == 0)].shape[0]\n",
        "\n",
        "print(f\"Number of rows with empty lists in 'List of Locations': {count_empty_lists}\")"
      ],
      "metadata": {
        "colab": {
          "base_uri": "https://localhost:8080/"
        },
        "id": "HRhCSx1F2BQG",
        "outputId": "896c0de6-d5d8-4415-f591-7aafe169a4d9"
      },
      "execution_count": 9,
      "outputs": [
        {
          "output_type": "stream",
          "name": "stdout",
          "text": [
            "Number of rows with empty lists in 'List of Locations': 110\n"
          ]
        }
      ]
    },
    {
      "cell_type": "code",
      "source": [
        "(count_empty_lists/df[['List of Locations']].shape[0])*100 #percentage of null values of NER locations"
      ],
      "metadata": {
        "colab": {
          "base_uri": "https://localhost:8080/"
        },
        "id": "4cQAUiDa2p8B",
        "outputId": "c74aa248-3e8e-4175-f8f5-961e895ab1a7"
      },
      "execution_count": 10,
      "outputs": [
        {
          "output_type": "execute_result",
          "data": {
            "text/plain": [
              "48.03493449781659"
            ]
          },
          "metadata": {},
          "execution_count": 10
        }
      ]
    },
    {
      "cell_type": "markdown",
      "source": [
        "Calculating the total number of scene changes/ narrative shifts"
      ],
      "metadata": {
        "id": "MWwKND9afHqe"
      }
    },
    {
      "cell_type": "code",
      "source": [
        "import re\n",
        "# Function to extract sentences between square brackets\n",
        "def extract_scene_changes(text):\n",
        "    return re.findall(r'\\[Scene[\\s:,.]?([^\\]]+)\\]', text)\n",
        "\n",
        "\n",
        "# Apply the function to create the 'scene changes' column\n",
        "df['scene changes'] = df['text script'].apply(extract_scene_changes)\n",
        "\n",
        "# Create the 'number of scene changes' column\n",
        "df['number of scene changes'] = df['scene changes'].apply(len)\n",
        "df.head()"
      ],
      "metadata": {
        "colab": {
          "base_uri": "https://localhost:8080/",
          "height": 623
        },
        "id": "VWsAbj5R2_HZ",
        "outputId": "06424925-e78f-4549-b104-7d437804e0fe"
      },
      "execution_count": 11,
      "outputs": [
        {
          "output_type": "execute_result",
          "data": {
            "text/plain": [
              "                                         text script  \\\n",
              "0  [Scene: The Subway, Phoebe is singing for\\ncha...   \n",
              "1  [Scene Central Perk, everyone's there.]\\nMonic...   \n",
              "2  [Scene: Chandler and Joey's, Chandler is helpi...   \n",
              "3  [Scene: Central Perk, Ross and Monica are watc...   \n",
              "4  [Scene: Central Perk, all six are there.]\\nMon...   \n",
              "\n",
              "                                             Title  Episode  Season  \\\n",
              "0                      The Pilot-The Uncut Version      1.0     1.0   \n",
              "1             The One With The Sonogram At the End      2.0     1.0   \n",
              "2                           The One With The Thumb      3.0     1.0   \n",
              "3               The One With George Stephanopoulos      4.0     1.0   \n",
              "4   The One With The East German Laundry Detergant      5.0     1.0   \n",
              "\n",
              "                                     character_names  \\\n",
              "0  ['Joey', 'Paul', 'Rachel', 'Frannie', 'Chandle...   \n",
              "1  ['Rachel', 'Joey', 'Barry', 'Scene', 'Geller',...   \n",
              "2  ['Joey', 'Rachel', 'Scene', 'Chandler', 'Lizzi...   \n",
              "3  ['Joey', 'Rachel', 'Receptionist', 'Chandler',...   \n",
              "4  ['Angela', 'Joey', 'Rachel', 'Bob', 'Chandler'...   \n",
              "\n",
              "                                    Spoken Word List  Total Spoken Words  \\\n",
              "0  {'[Scene': 81, 'Phoebe': 166, 'Ross': 357, 'Jo...                2290   \n",
              "1  {'Monica': 253, 'Joey': 73, 'Phoebe': 115, 'Ra...                2520   \n",
              "2  {'Chandler': 449, 'Joey': 185, 'Monica': 480, ...                2336   \n",
              "3  {'[Scene': 158, 'Monica': 418, 'Ross': 440, 'P...                2721   \n",
              "4  {'Monica': 323, 'Ross': 560, 'Rachel': 371, 'C...                2765   \n",
              "\n",
              "                               List of Locations  \\\n",
              "0                                      [Iridium]   \n",
              "1                                 [Central Park]   \n",
              "2  [Central Perk, Iridium, Iridium, Cental Perk]   \n",
              "3                                             []   \n",
              "4                                             []   \n",
              "\n",
              "                                       scene changes  number of scene changes  \n",
              "0  [ The Subway, Phoebe is singing for\\nchange., ...                       13  \n",
              "1  [Central Perk, everyone's there.,  Museum of P...                       11  \n",
              "2  [ Chandler and Joey's, Chandler is helping Joe...                       14  \n",
              "3  [ Central Perk, Ross and Monica are watching P...                       15  \n",
              "4  [ Central Perk, all six are there.,  Central P...                       16  "
            ],
            "text/html": [
              "\n",
              "  <div id=\"df-c2bca970-fe69-4ae6-bc73-c5fed34beb25\" class=\"colab-df-container\">\n",
              "    <div>\n",
              "<style scoped>\n",
              "    .dataframe tbody tr th:only-of-type {\n",
              "        vertical-align: middle;\n",
              "    }\n",
              "\n",
              "    .dataframe tbody tr th {\n",
              "        vertical-align: top;\n",
              "    }\n",
              "\n",
              "    .dataframe thead th {\n",
              "        text-align: right;\n",
              "    }\n",
              "</style>\n",
              "<table border=\"1\" class=\"dataframe\">\n",
              "  <thead>\n",
              "    <tr style=\"text-align: right;\">\n",
              "      <th></th>\n",
              "      <th>text script</th>\n",
              "      <th>Title</th>\n",
              "      <th>Episode</th>\n",
              "      <th>Season</th>\n",
              "      <th>character_names</th>\n",
              "      <th>Spoken Word List</th>\n",
              "      <th>Total Spoken Words</th>\n",
              "      <th>List of Locations</th>\n",
              "      <th>scene changes</th>\n",
              "      <th>number of scene changes</th>\n",
              "    </tr>\n",
              "  </thead>\n",
              "  <tbody>\n",
              "    <tr>\n",
              "      <th>0</th>\n",
              "      <td>[Scene: The Subway, Phoebe is singing for\\ncha...</td>\n",
              "      <td>The Pilot-The Uncut Version</td>\n",
              "      <td>1.0</td>\n",
              "      <td>1.0</td>\n",
              "      <td>['Joey', 'Paul', 'Rachel', 'Frannie', 'Chandle...</td>\n",
              "      <td>{'[Scene': 81, 'Phoebe': 166, 'Ross': 357, 'Jo...</td>\n",
              "      <td>2290</td>\n",
              "      <td>[Iridium]</td>\n",
              "      <td>[ The Subway, Phoebe is singing for\\nchange., ...</td>\n",
              "      <td>13</td>\n",
              "    </tr>\n",
              "    <tr>\n",
              "      <th>1</th>\n",
              "      <td>[Scene Central Perk, everyone's there.]\\nMonic...</td>\n",
              "      <td>The One With The Sonogram At the End</td>\n",
              "      <td>2.0</td>\n",
              "      <td>1.0</td>\n",
              "      <td>['Rachel', 'Joey', 'Barry', 'Scene', 'Geller',...</td>\n",
              "      <td>{'Monica': 253, 'Joey': 73, 'Phoebe': 115, 'Ra...</td>\n",
              "      <td>2520</td>\n",
              "      <td>[Central Park]</td>\n",
              "      <td>[Central Perk, everyone's there.,  Museum of P...</td>\n",
              "      <td>11</td>\n",
              "    </tr>\n",
              "    <tr>\n",
              "      <th>2</th>\n",
              "      <td>[Scene: Chandler and Joey's, Chandler is helpi...</td>\n",
              "      <td>The One With The Thumb</td>\n",
              "      <td>3.0</td>\n",
              "      <td>1.0</td>\n",
              "      <td>['Joey', 'Rachel', 'Scene', 'Chandler', 'Lizzi...</td>\n",
              "      <td>{'Chandler': 449, 'Joey': 185, 'Monica': 480, ...</td>\n",
              "      <td>2336</td>\n",
              "      <td>[Central Perk, Iridium, Iridium, Cental Perk]</td>\n",
              "      <td>[ Chandler and Joey's, Chandler is helping Joe...</td>\n",
              "      <td>14</td>\n",
              "    </tr>\n",
              "    <tr>\n",
              "      <th>3</th>\n",
              "      <td>[Scene: Central Perk, Ross and Monica are watc...</td>\n",
              "      <td>The One With George Stephanopoulos</td>\n",
              "      <td>4.0</td>\n",
              "      <td>1.0</td>\n",
              "      <td>['Joey', 'Rachel', 'Receptionist', 'Chandler',...</td>\n",
              "      <td>{'[Scene': 158, 'Monica': 418, 'Ross': 440, 'P...</td>\n",
              "      <td>2721</td>\n",
              "      <td>[]</td>\n",
              "      <td>[ Central Perk, Ross and Monica are watching P...</td>\n",
              "      <td>15</td>\n",
              "    </tr>\n",
              "    <tr>\n",
              "      <th>4</th>\n",
              "      <td>[Scene: Central Perk, all six are there.]\\nMon...</td>\n",
              "      <td>The One With The East German Laundry Detergant</td>\n",
              "      <td>5.0</td>\n",
              "      <td>1.0</td>\n",
              "      <td>['Angela', 'Joey', 'Rachel', 'Bob', 'Chandler'...</td>\n",
              "      <td>{'Monica': 323, 'Ross': 560, 'Rachel': 371, 'C...</td>\n",
              "      <td>2765</td>\n",
              "      <td>[]</td>\n",
              "      <td>[ Central Perk, all six are there.,  Central P...</td>\n",
              "      <td>16</td>\n",
              "    </tr>\n",
              "  </tbody>\n",
              "</table>\n",
              "</div>\n",
              "    <div class=\"colab-df-buttons\">\n",
              "\n",
              "  <div class=\"colab-df-container\">\n",
              "    <button class=\"colab-df-convert\" onclick=\"convertToInteractive('df-c2bca970-fe69-4ae6-bc73-c5fed34beb25')\"\n",
              "            title=\"Convert this dataframe to an interactive table.\"\n",
              "            style=\"display:none;\">\n",
              "\n",
              "  <svg xmlns=\"http://www.w3.org/2000/svg\" height=\"24px\" viewBox=\"0 -960 960 960\">\n",
              "    <path d=\"M120-120v-720h720v720H120Zm60-500h600v-160H180v160Zm220 220h160v-160H400v160Zm0 220h160v-160H400v160ZM180-400h160v-160H180v160Zm440 0h160v-160H620v160ZM180-180h160v-160H180v160Zm440 0h160v-160H620v160Z\"/>\n",
              "  </svg>\n",
              "    </button>\n",
              "\n",
              "  <style>\n",
              "    .colab-df-container {\n",
              "      display:flex;\n",
              "      gap: 12px;\n",
              "    }\n",
              "\n",
              "    .colab-df-convert {\n",
              "      background-color: #E8F0FE;\n",
              "      border: none;\n",
              "      border-radius: 50%;\n",
              "      cursor: pointer;\n",
              "      display: none;\n",
              "      fill: #1967D2;\n",
              "      height: 32px;\n",
              "      padding: 0 0 0 0;\n",
              "      width: 32px;\n",
              "    }\n",
              "\n",
              "    .colab-df-convert:hover {\n",
              "      background-color: #E2EBFA;\n",
              "      box-shadow: 0px 1px 2px rgba(60, 64, 67, 0.3), 0px 1px 3px 1px rgba(60, 64, 67, 0.15);\n",
              "      fill: #174EA6;\n",
              "    }\n",
              "\n",
              "    .colab-df-buttons div {\n",
              "      margin-bottom: 4px;\n",
              "    }\n",
              "\n",
              "    [theme=dark] .colab-df-convert {\n",
              "      background-color: #3B4455;\n",
              "      fill: #D2E3FC;\n",
              "    }\n",
              "\n",
              "    [theme=dark] .colab-df-convert:hover {\n",
              "      background-color: #434B5C;\n",
              "      box-shadow: 0px 1px 3px 1px rgba(0, 0, 0, 0.15);\n",
              "      filter: drop-shadow(0px 1px 2px rgba(0, 0, 0, 0.3));\n",
              "      fill: #FFFFFF;\n",
              "    }\n",
              "  </style>\n",
              "\n",
              "    <script>\n",
              "      const buttonEl =\n",
              "        document.querySelector('#df-c2bca970-fe69-4ae6-bc73-c5fed34beb25 button.colab-df-convert');\n",
              "      buttonEl.style.display =\n",
              "        google.colab.kernel.accessAllowed ? 'block' : 'none';\n",
              "\n",
              "      async function convertToInteractive(key) {\n",
              "        const element = document.querySelector('#df-c2bca970-fe69-4ae6-bc73-c5fed34beb25');\n",
              "        const dataTable =\n",
              "          await google.colab.kernel.invokeFunction('convertToInteractive',\n",
              "                                                    [key], {});\n",
              "        if (!dataTable) return;\n",
              "\n",
              "        const docLinkHtml = 'Like what you see? Visit the ' +\n",
              "          '<a target=\"_blank\" href=https://colab.research.google.com/notebooks/data_table.ipynb>data table notebook</a>'\n",
              "          + ' to learn more about interactive tables.';\n",
              "        element.innerHTML = '';\n",
              "        dataTable['output_type'] = 'display_data';\n",
              "        await google.colab.output.renderOutput(dataTable, element);\n",
              "        const docLink = document.createElement('div');\n",
              "        docLink.innerHTML = docLinkHtml;\n",
              "        element.appendChild(docLink);\n",
              "      }\n",
              "    </script>\n",
              "  </div>\n",
              "\n",
              "\n",
              "<div id=\"df-ec99c3ba-498e-484a-bfef-879acb0c5f22\">\n",
              "  <button class=\"colab-df-quickchart\" onclick=\"quickchart('df-ec99c3ba-498e-484a-bfef-879acb0c5f22')\"\n",
              "            title=\"Suggest charts\"\n",
              "            style=\"display:none;\">\n",
              "\n",
              "<svg xmlns=\"http://www.w3.org/2000/svg\" height=\"24px\"viewBox=\"0 0 24 24\"\n",
              "     width=\"24px\">\n",
              "    <g>\n",
              "        <path d=\"M19 3H5c-1.1 0-2 .9-2 2v14c0 1.1.9 2 2 2h14c1.1 0 2-.9 2-2V5c0-1.1-.9-2-2-2zM9 17H7v-7h2v7zm4 0h-2V7h2v10zm4 0h-2v-4h2v4z\"/>\n",
              "    </g>\n",
              "</svg>\n",
              "  </button>\n",
              "\n",
              "<style>\n",
              "  .colab-df-quickchart {\n",
              "      --bg-color: #E8F0FE;\n",
              "      --fill-color: #1967D2;\n",
              "      --hover-bg-color: #E2EBFA;\n",
              "      --hover-fill-color: #174EA6;\n",
              "      --disabled-fill-color: #AAA;\n",
              "      --disabled-bg-color: #DDD;\n",
              "  }\n",
              "\n",
              "  [theme=dark] .colab-df-quickchart {\n",
              "      --bg-color: #3B4455;\n",
              "      --fill-color: #D2E3FC;\n",
              "      --hover-bg-color: #434B5C;\n",
              "      --hover-fill-color: #FFFFFF;\n",
              "      --disabled-bg-color: #3B4455;\n",
              "      --disabled-fill-color: #666;\n",
              "  }\n",
              "\n",
              "  .colab-df-quickchart {\n",
              "    background-color: var(--bg-color);\n",
              "    border: none;\n",
              "    border-radius: 50%;\n",
              "    cursor: pointer;\n",
              "    display: none;\n",
              "    fill: var(--fill-color);\n",
              "    height: 32px;\n",
              "    padding: 0;\n",
              "    width: 32px;\n",
              "  }\n",
              "\n",
              "  .colab-df-quickchart:hover {\n",
              "    background-color: var(--hover-bg-color);\n",
              "    box-shadow: 0 1px 2px rgba(60, 64, 67, 0.3), 0 1px 3px 1px rgba(60, 64, 67, 0.15);\n",
              "    fill: var(--button-hover-fill-color);\n",
              "  }\n",
              "\n",
              "  .colab-df-quickchart-complete:disabled,\n",
              "  .colab-df-quickchart-complete:disabled:hover {\n",
              "    background-color: var(--disabled-bg-color);\n",
              "    fill: var(--disabled-fill-color);\n",
              "    box-shadow: none;\n",
              "  }\n",
              "\n",
              "  .colab-df-spinner {\n",
              "    border: 2px solid var(--fill-color);\n",
              "    border-color: transparent;\n",
              "    border-bottom-color: var(--fill-color);\n",
              "    animation:\n",
              "      spin 1s steps(1) infinite;\n",
              "  }\n",
              "\n",
              "  @keyframes spin {\n",
              "    0% {\n",
              "      border-color: transparent;\n",
              "      border-bottom-color: var(--fill-color);\n",
              "      border-left-color: var(--fill-color);\n",
              "    }\n",
              "    20% {\n",
              "      border-color: transparent;\n",
              "      border-left-color: var(--fill-color);\n",
              "      border-top-color: var(--fill-color);\n",
              "    }\n",
              "    30% {\n",
              "      border-color: transparent;\n",
              "      border-left-color: var(--fill-color);\n",
              "      border-top-color: var(--fill-color);\n",
              "      border-right-color: var(--fill-color);\n",
              "    }\n",
              "    40% {\n",
              "      border-color: transparent;\n",
              "      border-right-color: var(--fill-color);\n",
              "      border-top-color: var(--fill-color);\n",
              "    }\n",
              "    60% {\n",
              "      border-color: transparent;\n",
              "      border-right-color: var(--fill-color);\n",
              "    }\n",
              "    80% {\n",
              "      border-color: transparent;\n",
              "      border-right-color: var(--fill-color);\n",
              "      border-bottom-color: var(--fill-color);\n",
              "    }\n",
              "    90% {\n",
              "      border-color: transparent;\n",
              "      border-bottom-color: var(--fill-color);\n",
              "    }\n",
              "  }\n",
              "</style>\n",
              "\n",
              "  <script>\n",
              "    async function quickchart(key) {\n",
              "      const quickchartButtonEl =\n",
              "        document.querySelector('#' + key + ' button');\n",
              "      quickchartButtonEl.disabled = true;  // To prevent multiple clicks.\n",
              "      quickchartButtonEl.classList.add('colab-df-spinner');\n",
              "      try {\n",
              "        const charts = await google.colab.kernel.invokeFunction(\n",
              "            'suggestCharts', [key], {});\n",
              "      } catch (error) {\n",
              "        console.error('Error during call to suggestCharts:', error);\n",
              "      }\n",
              "      quickchartButtonEl.classList.remove('colab-df-spinner');\n",
              "      quickchartButtonEl.classList.add('colab-df-quickchart-complete');\n",
              "    }\n",
              "    (() => {\n",
              "      let quickchartButtonEl =\n",
              "        document.querySelector('#df-ec99c3ba-498e-484a-bfef-879acb0c5f22 button');\n",
              "      quickchartButtonEl.style.display =\n",
              "        google.colab.kernel.accessAllowed ? 'block' : 'none';\n",
              "    })();\n",
              "  </script>\n",
              "</div>\n",
              "    </div>\n",
              "  </div>\n"
            ]
          },
          "metadata": {},
          "execution_count": 11
        }
      ]
    },
    {
      "cell_type": "code",
      "source": [
        "df['number of scene changes'].isnull().sum() #fidelity check"
      ],
      "metadata": {
        "colab": {
          "base_uri": "https://localhost:8080/"
        },
        "id": "5oZ3rSd44TO0",
        "outputId": "733b4bc1-1acf-4bb7-c0a2-2c0fe31d5edf"
      },
      "execution_count": 12,
      "outputs": [
        {
          "output_type": "execute_result",
          "data": {
            "text/plain": [
              "0"
            ]
          },
          "metadata": {},
          "execution_count": 12
        }
      ]
    },
    {
      "cell_type": "code",
      "source": [
        "for index, row in df.tail().iterrows():\n",
        "    print(f\"Row {index + 1}: {row['scene changes']}\") #fidelity check"
      ],
      "metadata": {
        "colab": {
          "base_uri": "https://localhost:8080/"
        },
        "id": "A5zTk_Hl4f2k",
        "outputId": "16510f89-e793-4dc1-9e6b-b600c03548ee"
      },
      "execution_count": 13,
      "outputs": [
        {
          "output_type": "stream",
          "name": "stdout",
          "text": [
            "Row 225: [' Central Perk. Phoebe, Monica and Chandler on \\n                          their couch.', ' A restaurant. Rachel enters.', \" A counter at a government building. Phoebe's \\n                          waiting in line.\", ' Central Perk. Chandler and Monica are there \\n                          when Phoebe enters.', \" Chandler and Monica's future house. They enter \\n                          the living room with the realtor and Joey.\", ' Phoebe is at Central Perk. Mike enters.', ' Joey is in Monica and Chandler\\'s future house, \\n                          sitting in a child\\'s bedroom, looking at a quiz card \\n                          which has \"5+10=\" printed on one side.', ' Outside Ralph Lauren building. Rachel just \\n                          walked out carrying a box of her stuff, and a strange \\n                          man approaches her.', \" Chandler and Monica's new house. Sitting near \\n                          the window, they look at the neighborhood.\", ' Central Perk. Phoebe and Mike are leaving.', \" Monica and Chandler's apartment. Ross enters.\", \" Joey and Rachel's. Joey's on the phone.\"]\n",
            "Row 226: [\" Central Perk. Phoebe's reading a newspaper. Chandler \\n  and Monica walk in.\", \" Ralph Lauren. Mr Zelner's office. Ross knocks on the \\n  door and enters.\", ' Central Perk. Phoebe’s reading, Joey has just entered \\n  the room', ' Joey’s apartment. Rachel’s there and Ross \\n  enters the room with a stuffed dinosaur', ' house next to the one the Bings are moving into. Chandler \\n  and Monica knock, a lady opens the door.', ' Joey’s apartment. He’s there and Phoebe comes \\n  in.', ' The house Monica and Chandler are viewing. Janice comes \\n  down the stairs.', \" Mr. Zellner's office. There is a knock on the door.\", \" Joey's apartment. He walks in reading his mail, and plays \\n  back his messages on the answering machine\", \" The house next door to Chandler and Monica's new house. \\n  Chandler is pacing worriedly through the living room when Janice enters.\", \" Ross's apartment. Ross is working on his laptop when \\n\\n  Rachel enters with Emma.\", \" Estelle's memorial service. Joey is giving a speech. \\n  Next to him is a blown op photograph of Estelle behind her desk and there's \\n  a man standing next to him.\"]\n",
            "Row 227: [\" Joey's place. Rachel and Joey \\n                          are talking\", \" Monica's apartment. Monica and \\n                          Erica are talking about the baby, and Monica is rubbing \\n                          Erica's tummy.\", ' Guest room. Joey has his head \\n                          wrapped in bubbled wrap and Chandler is punching him. \\n                          Ross enters the room.', \" Monica's apartment. Phoebe and \\n                          Ross enter the room.\", ' Guest room. Rachel and Phoebe \\n                          are sitting on the bed.', \" Monica's apartment. The living \\n                          room.\", ' The guest bedroom. Rachel and \\n                          Monica are talking to each other.', ' Back to the living room. Monica \\n                          and Rachel enter and hug each other. The guys see this.', ' The guest bedroom. Chandler and \\n                          Rachel.', \" Monica's living room. We look \\n                          outside to the balcony where Rachel is saying goodbye \\n                          to Joey.\", \" Monica's apartment continued... \\n                          Phoebe, Chandler, Monica and Joey are sitting down and \\n                          Ross is pacing up and down.\", \" Monica and Chandler's apartment. \\n                          The others are still there.\", \" Ross's apartment. Rachel bursts \\n                          in.\", \" Chandler and Monica's apartment.\"]\n",
            "Row 228: [\" Monica and Chandler's apartment. It's a scene from 1016 TOW\\nRachel's Going Away Party.\", \" Ross's bedroom. Rachel is putting on her shoes as Ross shows \\n  up from underneath the covers.\", ' The delivery room at the hospital. Monica, Chandler and Erica \\n  are there. Erica is in labor, and she is breathing heavily.', \" Joey and Rachel's apartment. Joey is there as Phoebe enters. \\n  Joey is holding a baby duck.\", ' The Hospital. Erica is moaning and about to give birth. \\n  Monica, Chandler, a nurse and a doctor are there with her.', ' The hospital. Continued from earlier.', ' Central Perk. Ross, Phoebe and Joey are there.', ' The hospital. Monica and Chandler are holding the twins, while\\n  two nurses are taking care of Erica.', \" Monica and Chandler's apartment. Joey and Phoebe are there. \\n  There is a white crib decorated with balloons in the middle of the \\n  apartment. Also, there are boxes all over the apartment. Joey is \\n  working on something on the coffee table.\", \" The street right in front of Central Perk. Phoebe's cab is\\n  there. Ross and Phoebe run over and jump in.\", \" Monica and Chandler's apartment. Monica, Chandler and Joey are\\n  there, packing the last boxes.\", \" Phoebe's cab. Phoebe is driving very fast, and a terrified\\n  Ross has closed his eyes.\", \" Joey's apartment. Joey is still looking for the birds.\", ' The airport. Ross and Phoebe run in.', ' The gate. Rachel walks up to the man at the gate and gives him \\nher passport.', ' The ticket-counter. Ross and Phoebe come running.', ' The gate. Rachel is still searching for her boarding pass.', ' The ticket-counter. Ross and Phoebe have their tickets and \\n  start looking at the screens in order to find the gate.', \" Joey's apartment. Joey and Chandler are still trying to get \\n  the birds out of the foosball-table.\", \" Phoebe's cab. She's driving faster than ever before.\", \" Joey's apartment. Monica has completely destroyed the \\n  foosball-table, and Chandler and Joey are holding the birds.\", \" The gate at the airport. The passengers are standing in line, \\n  and they're about to board the plane again.\", \" Monica and Chandler's apartment. Joey, Chandler, Monica and \\n  the twins are there. Everything has been put into boxes.\", \" Ross's apartment. Ross enters and checks his messages.\", \" Monica and Chandler's apartment. Chandler and Monica are \\n  holding the twins. Joey and Phoebe are sitting by the window, while \\n  Ross and Rachel are standing together. The apartment is completely \\n  empty. Two men are carrying a large dresser.\"]\n",
            "Row 229: [\" In a TV commercial that the gang is watching at Monica and\\nRachel's.\", ' Central Perk. Chandler, Monica, Rachel, and Phoebe are at the couch.', \" Chandler and Joey's apartment. Chandler and Joey are standing around in the\\nkitchen.\", ' San Diego Zoo. Ross is at the Monkey cages.', ' Library. Phoebe is getting ready to sing for the kids. Chandler, Monica, and\\nRachel are there.', ' A nice restraunt. Joey and Erica are dining.', ' San Diege Zoo. Ross is still at the monkey cages. A janitor is sweeping.', ' Restraunt. Joey and Erica are still there.', ' Library. Phoebe is singing.', ' San Diego Zoo. Ross and the janitor are in the nocturnal house.', ' Library. Ross show up with a MonkeyShine Beer poster.', \" Chandler and Joey's apartment. Monica, Rachel, and the guys are watching Days\\nof Our Lives.\", ' Central Perk. Phoebe and Rob are sitting on the couch.', ' Central Perk. The whole gang is there.', ' City street. The whole gang is walking up to the movie set.', ' The next time at the movie set.', ' Central Perk. Joey and the girls are sitting at the couches.', \" Chandler and Joey's apartment. Chandler and Susie are making out on the couch.\", \" Ross's apartment. Ross is setting up for his time with Marcel. Joey is there.\", \" Monica and Rachel's apartment. Monica and Rachel are upset with each other.\\nPhoebe is mediating.\", \" A fancy restraunt (Marcel's). Joey, Ross, Chandler, Susie, and the Director's\\nAssistant are there.\", ' Monica and Van Damme are walking down the street.', \" Back at Monica and Rachel's apartment. They are now fighting about what Rachel\\ntold Van Damme.\", \" Back at the restroom at Marcel's. Chandler is still in the stall, Joey comes in\\nto go to the bathroom.\", ' Central Perk. Ross, Phoebe, and Chandler are sitting.', ' The movie set. Monica and Rachel are saying goodbye to Jean-Claude', ' City street. Whole gang is there seeing off Marcel.', ' Filming a scene from the movie. Joey is dying on a gurney, Van Damme is looking\\nover him.']\n"
          ]
        }
      ]
    },
    {
      "cell_type": "code",
      "source": [
        "# Function to extract the first location from each scene\n",
        "def extract_first_location(scene_changes):\n",
        "    extracted_parts = []\n",
        "    for scenes in scene_changes:\n",
        "      current_part = ''\n",
        "      for char in scenes:\n",
        "        if char in ('.', ','):\n",
        "            cleaned_string = re.sub(r'[\\n,]', '', current_part.strip())\n",
        "            extracted_parts.append(cleaned_string)\n",
        "            break\n",
        "        else:\n",
        "            current_part += char\n",
        "    return extracted_parts\n",
        "\n",
        "# Apply the function to create the 'first locations' column\n",
        "df['locations'] = df['scene changes'].apply(extract_first_location)\n",
        "\n",
        "# Display the updated DataFrame\n",
        "df.head()"
      ],
      "metadata": {
        "colab": {
          "base_uri": "https://localhost:8080/",
          "height": 730
        },
        "id": "jnpj6ZqL4qu7",
        "outputId": "4d896dd4-c3f8-476b-c23b-0f3511281762"
      },
      "execution_count": 14,
      "outputs": [
        {
          "output_type": "execute_result",
          "data": {
            "text/plain": [
              "                                         text script  \\\n",
              "0  [Scene: The Subway, Phoebe is singing for\\ncha...   \n",
              "1  [Scene Central Perk, everyone's there.]\\nMonic...   \n",
              "2  [Scene: Chandler and Joey's, Chandler is helpi...   \n",
              "3  [Scene: Central Perk, Ross and Monica are watc...   \n",
              "4  [Scene: Central Perk, all six are there.]\\nMon...   \n",
              "\n",
              "                                             Title  Episode  Season  \\\n",
              "0                      The Pilot-The Uncut Version      1.0     1.0   \n",
              "1             The One With The Sonogram At the End      2.0     1.0   \n",
              "2                           The One With The Thumb      3.0     1.0   \n",
              "3               The One With George Stephanopoulos      4.0     1.0   \n",
              "4   The One With The East German Laundry Detergant      5.0     1.0   \n",
              "\n",
              "                                     character_names  \\\n",
              "0  ['Joey', 'Paul', 'Rachel', 'Frannie', 'Chandle...   \n",
              "1  ['Rachel', 'Joey', 'Barry', 'Scene', 'Geller',...   \n",
              "2  ['Joey', 'Rachel', 'Scene', 'Chandler', 'Lizzi...   \n",
              "3  ['Joey', 'Rachel', 'Receptionist', 'Chandler',...   \n",
              "4  ['Angela', 'Joey', 'Rachel', 'Bob', 'Chandler'...   \n",
              "\n",
              "                                    Spoken Word List  Total Spoken Words  \\\n",
              "0  {'[Scene': 81, 'Phoebe': 166, 'Ross': 357, 'Jo...                2290   \n",
              "1  {'Monica': 253, 'Joey': 73, 'Phoebe': 115, 'Ra...                2520   \n",
              "2  {'Chandler': 449, 'Joey': 185, 'Monica': 480, ...                2336   \n",
              "3  {'[Scene': 158, 'Monica': 418, 'Ross': 440, 'P...                2721   \n",
              "4  {'Monica': 323, 'Ross': 560, 'Rachel': 371, 'C...                2765   \n",
              "\n",
              "                               List of Locations  \\\n",
              "0                                      [Iridium]   \n",
              "1                                 [Central Park]   \n",
              "2  [Central Perk, Iridium, Iridium, Cental Perk]   \n",
              "3                                             []   \n",
              "4                                             []   \n",
              "\n",
              "                                       scene changes  number of scene changes  \\\n",
              "0  [ The Subway, Phoebe is singing for\\nchange., ...                       13   \n",
              "1  [Central Perk, everyone's there.,  Museum of P...                       11   \n",
              "2  [ Chandler and Joey's, Chandler is helping Joe...                       14   \n",
              "3  [ Central Perk, Ross and Monica are watching P...                       15   \n",
              "4  [ Central Perk, all six are there.,  Central P...                       16   \n",
              "\n",
              "                                           locations  \n",
              "0  [The Subway, Ross's Apartment, A Restaurant, M...  \n",
              "1  [Central Perk, Museum of Prehistoric History, ...  \n",
              "2  [Chandler and Joey's, Central Perk, Iridium, M...  \n",
              "3  [Central Perk, A Street, Central Perk, Monica ...  \n",
              "4  [Central Perk, Central Perk, Monica and Rachel...  "
            ],
            "text/html": [
              "\n",
              "  <div id=\"df-31b0b247-b1d4-44f3-a90e-baea69046cd6\" class=\"colab-df-container\">\n",
              "    <div>\n",
              "<style scoped>\n",
              "    .dataframe tbody tr th:only-of-type {\n",
              "        vertical-align: middle;\n",
              "    }\n",
              "\n",
              "    .dataframe tbody tr th {\n",
              "        vertical-align: top;\n",
              "    }\n",
              "\n",
              "    .dataframe thead th {\n",
              "        text-align: right;\n",
              "    }\n",
              "</style>\n",
              "<table border=\"1\" class=\"dataframe\">\n",
              "  <thead>\n",
              "    <tr style=\"text-align: right;\">\n",
              "      <th></th>\n",
              "      <th>text script</th>\n",
              "      <th>Title</th>\n",
              "      <th>Episode</th>\n",
              "      <th>Season</th>\n",
              "      <th>character_names</th>\n",
              "      <th>Spoken Word List</th>\n",
              "      <th>Total Spoken Words</th>\n",
              "      <th>List of Locations</th>\n",
              "      <th>scene changes</th>\n",
              "      <th>number of scene changes</th>\n",
              "      <th>locations</th>\n",
              "    </tr>\n",
              "  </thead>\n",
              "  <tbody>\n",
              "    <tr>\n",
              "      <th>0</th>\n",
              "      <td>[Scene: The Subway, Phoebe is singing for\\ncha...</td>\n",
              "      <td>The Pilot-The Uncut Version</td>\n",
              "      <td>1.0</td>\n",
              "      <td>1.0</td>\n",
              "      <td>['Joey', 'Paul', 'Rachel', 'Frannie', 'Chandle...</td>\n",
              "      <td>{'[Scene': 81, 'Phoebe': 166, 'Ross': 357, 'Jo...</td>\n",
              "      <td>2290</td>\n",
              "      <td>[Iridium]</td>\n",
              "      <td>[ The Subway, Phoebe is singing for\\nchange., ...</td>\n",
              "      <td>13</td>\n",
              "      <td>[The Subway, Ross's Apartment, A Restaurant, M...</td>\n",
              "    </tr>\n",
              "    <tr>\n",
              "      <th>1</th>\n",
              "      <td>[Scene Central Perk, everyone's there.]\\nMonic...</td>\n",
              "      <td>The One With The Sonogram At the End</td>\n",
              "      <td>2.0</td>\n",
              "      <td>1.0</td>\n",
              "      <td>['Rachel', 'Joey', 'Barry', 'Scene', 'Geller',...</td>\n",
              "      <td>{'Monica': 253, 'Joey': 73, 'Phoebe': 115, 'Ra...</td>\n",
              "      <td>2520</td>\n",
              "      <td>[Central Park]</td>\n",
              "      <td>[Central Perk, everyone's there.,  Museum of P...</td>\n",
              "      <td>11</td>\n",
              "      <td>[Central Perk, Museum of Prehistoric History, ...</td>\n",
              "    </tr>\n",
              "    <tr>\n",
              "      <th>2</th>\n",
              "      <td>[Scene: Chandler and Joey's, Chandler is helpi...</td>\n",
              "      <td>The One With The Thumb</td>\n",
              "      <td>3.0</td>\n",
              "      <td>1.0</td>\n",
              "      <td>['Joey', 'Rachel', 'Scene', 'Chandler', 'Lizzi...</td>\n",
              "      <td>{'Chandler': 449, 'Joey': 185, 'Monica': 480, ...</td>\n",
              "      <td>2336</td>\n",
              "      <td>[Central Perk, Iridium, Iridium, Cental Perk]</td>\n",
              "      <td>[ Chandler and Joey's, Chandler is helping Joe...</td>\n",
              "      <td>14</td>\n",
              "      <td>[Chandler and Joey's, Central Perk, Iridium, M...</td>\n",
              "    </tr>\n",
              "    <tr>\n",
              "      <th>3</th>\n",
              "      <td>[Scene: Central Perk, Ross and Monica are watc...</td>\n",
              "      <td>The One With George Stephanopoulos</td>\n",
              "      <td>4.0</td>\n",
              "      <td>1.0</td>\n",
              "      <td>['Joey', 'Rachel', 'Receptionist', 'Chandler',...</td>\n",
              "      <td>{'[Scene': 158, 'Monica': 418, 'Ross': 440, 'P...</td>\n",
              "      <td>2721</td>\n",
              "      <td>[]</td>\n",
              "      <td>[ Central Perk, Ross and Monica are watching P...</td>\n",
              "      <td>15</td>\n",
              "      <td>[Central Perk, A Street, Central Perk, Monica ...</td>\n",
              "    </tr>\n",
              "    <tr>\n",
              "      <th>4</th>\n",
              "      <td>[Scene: Central Perk, all six are there.]\\nMon...</td>\n",
              "      <td>The One With The East German Laundry Detergant</td>\n",
              "      <td>5.0</td>\n",
              "      <td>1.0</td>\n",
              "      <td>['Angela', 'Joey', 'Rachel', 'Bob', 'Chandler'...</td>\n",
              "      <td>{'Monica': 323, 'Ross': 560, 'Rachel': 371, 'C...</td>\n",
              "      <td>2765</td>\n",
              "      <td>[]</td>\n",
              "      <td>[ Central Perk, all six are there.,  Central P...</td>\n",
              "      <td>16</td>\n",
              "      <td>[Central Perk, Central Perk, Monica and Rachel...</td>\n",
              "    </tr>\n",
              "  </tbody>\n",
              "</table>\n",
              "</div>\n",
              "    <div class=\"colab-df-buttons\">\n",
              "\n",
              "  <div class=\"colab-df-container\">\n",
              "    <button class=\"colab-df-convert\" onclick=\"convertToInteractive('df-31b0b247-b1d4-44f3-a90e-baea69046cd6')\"\n",
              "            title=\"Convert this dataframe to an interactive table.\"\n",
              "            style=\"display:none;\">\n",
              "\n",
              "  <svg xmlns=\"http://www.w3.org/2000/svg\" height=\"24px\" viewBox=\"0 -960 960 960\">\n",
              "    <path d=\"M120-120v-720h720v720H120Zm60-500h600v-160H180v160Zm220 220h160v-160H400v160Zm0 220h160v-160H400v160ZM180-400h160v-160H180v160Zm440 0h160v-160H620v160ZM180-180h160v-160H180v160Zm440 0h160v-160H620v160Z\"/>\n",
              "  </svg>\n",
              "    </button>\n",
              "\n",
              "  <style>\n",
              "    .colab-df-container {\n",
              "      display:flex;\n",
              "      gap: 12px;\n",
              "    }\n",
              "\n",
              "    .colab-df-convert {\n",
              "      background-color: #E8F0FE;\n",
              "      border: none;\n",
              "      border-radius: 50%;\n",
              "      cursor: pointer;\n",
              "      display: none;\n",
              "      fill: #1967D2;\n",
              "      height: 32px;\n",
              "      padding: 0 0 0 0;\n",
              "      width: 32px;\n",
              "    }\n",
              "\n",
              "    .colab-df-convert:hover {\n",
              "      background-color: #E2EBFA;\n",
              "      box-shadow: 0px 1px 2px rgba(60, 64, 67, 0.3), 0px 1px 3px 1px rgba(60, 64, 67, 0.15);\n",
              "      fill: #174EA6;\n",
              "    }\n",
              "\n",
              "    .colab-df-buttons div {\n",
              "      margin-bottom: 4px;\n",
              "    }\n",
              "\n",
              "    [theme=dark] .colab-df-convert {\n",
              "      background-color: #3B4455;\n",
              "      fill: #D2E3FC;\n",
              "    }\n",
              "\n",
              "    [theme=dark] .colab-df-convert:hover {\n",
              "      background-color: #434B5C;\n",
              "      box-shadow: 0px 1px 3px 1px rgba(0, 0, 0, 0.15);\n",
              "      filter: drop-shadow(0px 1px 2px rgba(0, 0, 0, 0.3));\n",
              "      fill: #FFFFFF;\n",
              "    }\n",
              "  </style>\n",
              "\n",
              "    <script>\n",
              "      const buttonEl =\n",
              "        document.querySelector('#df-31b0b247-b1d4-44f3-a90e-baea69046cd6 button.colab-df-convert');\n",
              "      buttonEl.style.display =\n",
              "        google.colab.kernel.accessAllowed ? 'block' : 'none';\n",
              "\n",
              "      async function convertToInteractive(key) {\n",
              "        const element = document.querySelector('#df-31b0b247-b1d4-44f3-a90e-baea69046cd6');\n",
              "        const dataTable =\n",
              "          await google.colab.kernel.invokeFunction('convertToInteractive',\n",
              "                                                    [key], {});\n",
              "        if (!dataTable) return;\n",
              "\n",
              "        const docLinkHtml = 'Like what you see? Visit the ' +\n",
              "          '<a target=\"_blank\" href=https://colab.research.google.com/notebooks/data_table.ipynb>data table notebook</a>'\n",
              "          + ' to learn more about interactive tables.';\n",
              "        element.innerHTML = '';\n",
              "        dataTable['output_type'] = 'display_data';\n",
              "        await google.colab.output.renderOutput(dataTable, element);\n",
              "        const docLink = document.createElement('div');\n",
              "        docLink.innerHTML = docLinkHtml;\n",
              "        element.appendChild(docLink);\n",
              "      }\n",
              "    </script>\n",
              "  </div>\n",
              "\n",
              "\n",
              "<div id=\"df-3cf02dd7-be05-40f6-80d9-c7f5e7ed751b\">\n",
              "  <button class=\"colab-df-quickchart\" onclick=\"quickchart('df-3cf02dd7-be05-40f6-80d9-c7f5e7ed751b')\"\n",
              "            title=\"Suggest charts\"\n",
              "            style=\"display:none;\">\n",
              "\n",
              "<svg xmlns=\"http://www.w3.org/2000/svg\" height=\"24px\"viewBox=\"0 0 24 24\"\n",
              "     width=\"24px\">\n",
              "    <g>\n",
              "        <path d=\"M19 3H5c-1.1 0-2 .9-2 2v14c0 1.1.9 2 2 2h14c1.1 0 2-.9 2-2V5c0-1.1-.9-2-2-2zM9 17H7v-7h2v7zm4 0h-2V7h2v10zm4 0h-2v-4h2v4z\"/>\n",
              "    </g>\n",
              "</svg>\n",
              "  </button>\n",
              "\n",
              "<style>\n",
              "  .colab-df-quickchart {\n",
              "      --bg-color: #E8F0FE;\n",
              "      --fill-color: #1967D2;\n",
              "      --hover-bg-color: #E2EBFA;\n",
              "      --hover-fill-color: #174EA6;\n",
              "      --disabled-fill-color: #AAA;\n",
              "      --disabled-bg-color: #DDD;\n",
              "  }\n",
              "\n",
              "  [theme=dark] .colab-df-quickchart {\n",
              "      --bg-color: #3B4455;\n",
              "      --fill-color: #D2E3FC;\n",
              "      --hover-bg-color: #434B5C;\n",
              "      --hover-fill-color: #FFFFFF;\n",
              "      --disabled-bg-color: #3B4455;\n",
              "      --disabled-fill-color: #666;\n",
              "  }\n",
              "\n",
              "  .colab-df-quickchart {\n",
              "    background-color: var(--bg-color);\n",
              "    border: none;\n",
              "    border-radius: 50%;\n",
              "    cursor: pointer;\n",
              "    display: none;\n",
              "    fill: var(--fill-color);\n",
              "    height: 32px;\n",
              "    padding: 0;\n",
              "    width: 32px;\n",
              "  }\n",
              "\n",
              "  .colab-df-quickchart:hover {\n",
              "    background-color: var(--hover-bg-color);\n",
              "    box-shadow: 0 1px 2px rgba(60, 64, 67, 0.3), 0 1px 3px 1px rgba(60, 64, 67, 0.15);\n",
              "    fill: var(--button-hover-fill-color);\n",
              "  }\n",
              "\n",
              "  .colab-df-quickchart-complete:disabled,\n",
              "  .colab-df-quickchart-complete:disabled:hover {\n",
              "    background-color: var(--disabled-bg-color);\n",
              "    fill: var(--disabled-fill-color);\n",
              "    box-shadow: none;\n",
              "  }\n",
              "\n",
              "  .colab-df-spinner {\n",
              "    border: 2px solid var(--fill-color);\n",
              "    border-color: transparent;\n",
              "    border-bottom-color: var(--fill-color);\n",
              "    animation:\n",
              "      spin 1s steps(1) infinite;\n",
              "  }\n",
              "\n",
              "  @keyframes spin {\n",
              "    0% {\n",
              "      border-color: transparent;\n",
              "      border-bottom-color: var(--fill-color);\n",
              "      border-left-color: var(--fill-color);\n",
              "    }\n",
              "    20% {\n",
              "      border-color: transparent;\n",
              "      border-left-color: var(--fill-color);\n",
              "      border-top-color: var(--fill-color);\n",
              "    }\n",
              "    30% {\n",
              "      border-color: transparent;\n",
              "      border-left-color: var(--fill-color);\n",
              "      border-top-color: var(--fill-color);\n",
              "      border-right-color: var(--fill-color);\n",
              "    }\n",
              "    40% {\n",
              "      border-color: transparent;\n",
              "      border-right-color: var(--fill-color);\n",
              "      border-top-color: var(--fill-color);\n",
              "    }\n",
              "    60% {\n",
              "      border-color: transparent;\n",
              "      border-right-color: var(--fill-color);\n",
              "    }\n",
              "    80% {\n",
              "      border-color: transparent;\n",
              "      border-right-color: var(--fill-color);\n",
              "      border-bottom-color: var(--fill-color);\n",
              "    }\n",
              "    90% {\n",
              "      border-color: transparent;\n",
              "      border-bottom-color: var(--fill-color);\n",
              "    }\n",
              "  }\n",
              "</style>\n",
              "\n",
              "  <script>\n",
              "    async function quickchart(key) {\n",
              "      const quickchartButtonEl =\n",
              "        document.querySelector('#' + key + ' button');\n",
              "      quickchartButtonEl.disabled = true;  // To prevent multiple clicks.\n",
              "      quickchartButtonEl.classList.add('colab-df-spinner');\n",
              "      try {\n",
              "        const charts = await google.colab.kernel.invokeFunction(\n",
              "            'suggestCharts', [key], {});\n",
              "      } catch (error) {\n",
              "        console.error('Error during call to suggestCharts:', error);\n",
              "      }\n",
              "      quickchartButtonEl.classList.remove('colab-df-spinner');\n",
              "      quickchartButtonEl.classList.add('colab-df-quickchart-complete');\n",
              "    }\n",
              "    (() => {\n",
              "      let quickchartButtonEl =\n",
              "        document.querySelector('#df-3cf02dd7-be05-40f6-80d9-c7f5e7ed751b button');\n",
              "      quickchartButtonEl.style.display =\n",
              "        google.colab.kernel.accessAllowed ? 'block' : 'none';\n",
              "    })();\n",
              "  </script>\n",
              "</div>\n",
              "    </div>\n",
              "  </div>\n"
            ]
          },
          "metadata": {},
          "execution_count": 14
        }
      ]
    },
    {
      "cell_type": "code",
      "source": [
        "!pip install fuzzywuzzy"
      ],
      "metadata": {
        "colab": {
          "base_uri": "https://localhost:8080/"
        },
        "id": "xbfHgLNUZq89",
        "outputId": "eb9c7c80-3695-4ca9-e7e7-249dbc2edfbe"
      },
      "execution_count": 15,
      "outputs": [
        {
          "output_type": "stream",
          "name": "stdout",
          "text": [
            "Collecting fuzzywuzzy\n",
            "  Downloading fuzzywuzzy-0.18.0-py2.py3-none-any.whl (18 kB)\n",
            "Installing collected packages: fuzzywuzzy\n",
            "Successfully installed fuzzywuzzy-0.18.0\n"
          ]
        }
      ]
    },
    {
      "cell_type": "code",
      "source": [
        "from fuzzywuzzy import fuzz\n",
        "\n",
        "def is_approximate_match(item, target, threshold=90):\n",
        "    similarity_score = fuzz.token_set_ratio(item, target)\n",
        "    return similarity_score >= threshold\n",
        "\n",
        "def extract_nouns(scene_changes):\n",
        "    final_ans = []\n",
        "    for scenes in scene_changes:\n",
        "        nouns = []\n",
        "        if is_approximate_match(scenes, \"Central Perk\"):\n",
        "            nouns.append(\"Central Perk\")\n",
        "        if is_approximate_match(scenes, \"Monica's Apartment\"):\n",
        "            nouns.append(\"Monica's Apartment\")\n",
        "        if is_approximate_match(scenes, \"Ross's Apartment\"):\n",
        "            nouns.append(\"Ross's Apartment\")\n",
        "        if is_approximate_match(scenes, \"Chandler's Apartment\"):\n",
        "            nouns.append(\"Chandler's Apartment\")\n",
        "        if is_approximate_match(scenes, \"Ralph Lauren\"):\n",
        "            nouns.append(\"Ralph Lauren\")\n",
        "        if is_approximate_match(scenes, \"Bloomingdales\"):\n",
        "            nouns.append(\"Bloomingdales\")\n",
        "        if is_approximate_match(scenes, \"Phoebe's Apartment\"):\n",
        "            nouns.append(\"Phoebe's Apartment\")\n",
        "        if nouns:\n",
        "            final_ans.append(\" \".join(nouns))\n",
        "    return final_ans\n",
        "\n",
        "# Assuming df is a DataFrame with a 'locations' column\n",
        "df['locs'] = df['locations'].apply(extract_nouns)\n",
        "df.head()"
      ],
      "metadata": {
        "colab": {
          "base_uri": "https://localhost:8080/",
          "height": 783
        },
        "id": "_yrF-s_gD58E",
        "outputId": "2719e2f8-7698-4bcd-f0ec-5d5a0a4282a2"
      },
      "execution_count": 16,
      "outputs": [
        {
          "output_type": "stream",
          "name": "stderr",
          "text": [
            "/usr/local/lib/python3.10/dist-packages/fuzzywuzzy/fuzz.py:11: UserWarning: Using slow pure-python SequenceMatcher. Install python-Levenshtein to remove this warning\n",
            "  warnings.warn('Using slow pure-python SequenceMatcher. Install python-Levenshtein to remove this warning')\n"
          ]
        },
        {
          "output_type": "execute_result",
          "data": {
            "text/plain": [
              "                                         text script  \\\n",
              "0  [Scene: The Subway, Phoebe is singing for\\ncha...   \n",
              "1  [Scene Central Perk, everyone's there.]\\nMonic...   \n",
              "2  [Scene: Chandler and Joey's, Chandler is helpi...   \n",
              "3  [Scene: Central Perk, Ross and Monica are watc...   \n",
              "4  [Scene: Central Perk, all six are there.]\\nMon...   \n",
              "\n",
              "                                             Title  Episode  Season  \\\n",
              "0                      The Pilot-The Uncut Version      1.0     1.0   \n",
              "1             The One With The Sonogram At the End      2.0     1.0   \n",
              "2                           The One With The Thumb      3.0     1.0   \n",
              "3               The One With George Stephanopoulos      4.0     1.0   \n",
              "4   The One With The East German Laundry Detergant      5.0     1.0   \n",
              "\n",
              "                                     character_names  \\\n",
              "0  ['Joey', 'Paul', 'Rachel', 'Frannie', 'Chandle...   \n",
              "1  ['Rachel', 'Joey', 'Barry', 'Scene', 'Geller',...   \n",
              "2  ['Joey', 'Rachel', 'Scene', 'Chandler', 'Lizzi...   \n",
              "3  ['Joey', 'Rachel', 'Receptionist', 'Chandler',...   \n",
              "4  ['Angela', 'Joey', 'Rachel', 'Bob', 'Chandler'...   \n",
              "\n",
              "                                    Spoken Word List  Total Spoken Words  \\\n",
              "0  {'[Scene': 81, 'Phoebe': 166, 'Ross': 357, 'Jo...                2290   \n",
              "1  {'Monica': 253, 'Joey': 73, 'Phoebe': 115, 'Ra...                2520   \n",
              "2  {'Chandler': 449, 'Joey': 185, 'Monica': 480, ...                2336   \n",
              "3  {'[Scene': 158, 'Monica': 418, 'Ross': 440, 'P...                2721   \n",
              "4  {'Monica': 323, 'Ross': 560, 'Rachel': 371, 'C...                2765   \n",
              "\n",
              "                               List of Locations  \\\n",
              "0                                      [Iridium]   \n",
              "1                                 [Central Park]   \n",
              "2  [Central Perk, Iridium, Iridium, Cental Perk]   \n",
              "3                                             []   \n",
              "4                                             []   \n",
              "\n",
              "                                       scene changes  number of scene changes  \\\n",
              "0  [ The Subway, Phoebe is singing for\\nchange., ...                       13   \n",
              "1  [Central Perk, everyone's there.,  Museum of P...                       11   \n",
              "2  [ Chandler and Joey's, Chandler is helping Joe...                       14   \n",
              "3  [ Central Perk, Ross and Monica are watching P...                       15   \n",
              "4  [ Central Perk, all six are there.,  Central P...                       16   \n",
              "\n",
              "                                           locations  \\\n",
              "0  [The Subway, Ross's Apartment, A Restaurant, M...   \n",
              "1  [Central Perk, Museum of Prehistoric History, ...   \n",
              "2  [Chandler and Joey's, Central Perk, Iridium, M...   \n",
              "3  [Central Perk, A Street, Central Perk, Monica ...   \n",
              "4  [Central Perk, Central Perk, Monica and Rachel...   \n",
              "\n",
              "                                                locs  \n",
              "0  [Ross's Apartment, Monica's Apartment, Ross's ...  \n",
              "1   [Central Perk, Central Perk, Monica's Apartment]  \n",
              "2  [Central Perk, Central Perk, Central Perk, Cen...  \n",
              "3                       [Central Perk, Central Perk]  \n",
              "4  [Central Perk, Central Perk, Monica's Apartmen...  "
            ],
            "text/html": [
              "\n",
              "  <div id=\"df-efc65b11-443e-4037-bd6e-a95e7b986af7\" class=\"colab-df-container\">\n",
              "    <div>\n",
              "<style scoped>\n",
              "    .dataframe tbody tr th:only-of-type {\n",
              "        vertical-align: middle;\n",
              "    }\n",
              "\n",
              "    .dataframe tbody tr th {\n",
              "        vertical-align: top;\n",
              "    }\n",
              "\n",
              "    .dataframe thead th {\n",
              "        text-align: right;\n",
              "    }\n",
              "</style>\n",
              "<table border=\"1\" class=\"dataframe\">\n",
              "  <thead>\n",
              "    <tr style=\"text-align: right;\">\n",
              "      <th></th>\n",
              "      <th>text script</th>\n",
              "      <th>Title</th>\n",
              "      <th>Episode</th>\n",
              "      <th>Season</th>\n",
              "      <th>character_names</th>\n",
              "      <th>Spoken Word List</th>\n",
              "      <th>Total Spoken Words</th>\n",
              "      <th>List of Locations</th>\n",
              "      <th>scene changes</th>\n",
              "      <th>number of scene changes</th>\n",
              "      <th>locations</th>\n",
              "      <th>locs</th>\n",
              "    </tr>\n",
              "  </thead>\n",
              "  <tbody>\n",
              "    <tr>\n",
              "      <th>0</th>\n",
              "      <td>[Scene: The Subway, Phoebe is singing for\\ncha...</td>\n",
              "      <td>The Pilot-The Uncut Version</td>\n",
              "      <td>1.0</td>\n",
              "      <td>1.0</td>\n",
              "      <td>['Joey', 'Paul', 'Rachel', 'Frannie', 'Chandle...</td>\n",
              "      <td>{'[Scene': 81, 'Phoebe': 166, 'Ross': 357, 'Jo...</td>\n",
              "      <td>2290</td>\n",
              "      <td>[Iridium]</td>\n",
              "      <td>[ The Subway, Phoebe is singing for\\nchange., ...</td>\n",
              "      <td>13</td>\n",
              "      <td>[The Subway, Ross's Apartment, A Restaurant, M...</td>\n",
              "      <td>[Ross's Apartment, Monica's Apartment, Ross's ...</td>\n",
              "    </tr>\n",
              "    <tr>\n",
              "      <th>1</th>\n",
              "      <td>[Scene Central Perk, everyone's there.]\\nMonic...</td>\n",
              "      <td>The One With The Sonogram At the End</td>\n",
              "      <td>2.0</td>\n",
              "      <td>1.0</td>\n",
              "      <td>['Rachel', 'Joey', 'Barry', 'Scene', 'Geller',...</td>\n",
              "      <td>{'Monica': 253, 'Joey': 73, 'Phoebe': 115, 'Ra...</td>\n",
              "      <td>2520</td>\n",
              "      <td>[Central Park]</td>\n",
              "      <td>[Central Perk, everyone's there.,  Museum of P...</td>\n",
              "      <td>11</td>\n",
              "      <td>[Central Perk, Museum of Prehistoric History, ...</td>\n",
              "      <td>[Central Perk, Central Perk, Monica's Apartment]</td>\n",
              "    </tr>\n",
              "    <tr>\n",
              "      <th>2</th>\n",
              "      <td>[Scene: Chandler and Joey's, Chandler is helpi...</td>\n",
              "      <td>The One With The Thumb</td>\n",
              "      <td>3.0</td>\n",
              "      <td>1.0</td>\n",
              "      <td>['Joey', 'Rachel', 'Scene', 'Chandler', 'Lizzi...</td>\n",
              "      <td>{'Chandler': 449, 'Joey': 185, 'Monica': 480, ...</td>\n",
              "      <td>2336</td>\n",
              "      <td>[Central Perk, Iridium, Iridium, Cental Perk]</td>\n",
              "      <td>[ Chandler and Joey's, Chandler is helping Joe...</td>\n",
              "      <td>14</td>\n",
              "      <td>[Chandler and Joey's, Central Perk, Iridium, M...</td>\n",
              "      <td>[Central Perk, Central Perk, Central Perk, Cen...</td>\n",
              "    </tr>\n",
              "    <tr>\n",
              "      <th>3</th>\n",
              "      <td>[Scene: Central Perk, Ross and Monica are watc...</td>\n",
              "      <td>The One With George Stephanopoulos</td>\n",
              "      <td>4.0</td>\n",
              "      <td>1.0</td>\n",
              "      <td>['Joey', 'Rachel', 'Receptionist', 'Chandler',...</td>\n",
              "      <td>{'[Scene': 158, 'Monica': 418, 'Ross': 440, 'P...</td>\n",
              "      <td>2721</td>\n",
              "      <td>[]</td>\n",
              "      <td>[ Central Perk, Ross and Monica are watching P...</td>\n",
              "      <td>15</td>\n",
              "      <td>[Central Perk, A Street, Central Perk, Monica ...</td>\n",
              "      <td>[Central Perk, Central Perk]</td>\n",
              "    </tr>\n",
              "    <tr>\n",
              "      <th>4</th>\n",
              "      <td>[Scene: Central Perk, all six are there.]\\nMon...</td>\n",
              "      <td>The One With The East German Laundry Detergant</td>\n",
              "      <td>5.0</td>\n",
              "      <td>1.0</td>\n",
              "      <td>['Angela', 'Joey', 'Rachel', 'Bob', 'Chandler'...</td>\n",
              "      <td>{'Monica': 323, 'Ross': 560, 'Rachel': 371, 'C...</td>\n",
              "      <td>2765</td>\n",
              "      <td>[]</td>\n",
              "      <td>[ Central Perk, all six are there.,  Central P...</td>\n",
              "      <td>16</td>\n",
              "      <td>[Central Perk, Central Perk, Monica and Rachel...</td>\n",
              "      <td>[Central Perk, Central Perk, Monica's Apartmen...</td>\n",
              "    </tr>\n",
              "  </tbody>\n",
              "</table>\n",
              "</div>\n",
              "    <div class=\"colab-df-buttons\">\n",
              "\n",
              "  <div class=\"colab-df-container\">\n",
              "    <button class=\"colab-df-convert\" onclick=\"convertToInteractive('df-efc65b11-443e-4037-bd6e-a95e7b986af7')\"\n",
              "            title=\"Convert this dataframe to an interactive table.\"\n",
              "            style=\"display:none;\">\n",
              "\n",
              "  <svg xmlns=\"http://www.w3.org/2000/svg\" height=\"24px\" viewBox=\"0 -960 960 960\">\n",
              "    <path d=\"M120-120v-720h720v720H120Zm60-500h600v-160H180v160Zm220 220h160v-160H400v160Zm0 220h160v-160H400v160ZM180-400h160v-160H180v160Zm440 0h160v-160H620v160ZM180-180h160v-160H180v160Zm440 0h160v-160H620v160Z\"/>\n",
              "  </svg>\n",
              "    </button>\n",
              "\n",
              "  <style>\n",
              "    .colab-df-container {\n",
              "      display:flex;\n",
              "      gap: 12px;\n",
              "    }\n",
              "\n",
              "    .colab-df-convert {\n",
              "      background-color: #E8F0FE;\n",
              "      border: none;\n",
              "      border-radius: 50%;\n",
              "      cursor: pointer;\n",
              "      display: none;\n",
              "      fill: #1967D2;\n",
              "      height: 32px;\n",
              "      padding: 0 0 0 0;\n",
              "      width: 32px;\n",
              "    }\n",
              "\n",
              "    .colab-df-convert:hover {\n",
              "      background-color: #E2EBFA;\n",
              "      box-shadow: 0px 1px 2px rgba(60, 64, 67, 0.3), 0px 1px 3px 1px rgba(60, 64, 67, 0.15);\n",
              "      fill: #174EA6;\n",
              "    }\n",
              "\n",
              "    .colab-df-buttons div {\n",
              "      margin-bottom: 4px;\n",
              "    }\n",
              "\n",
              "    [theme=dark] .colab-df-convert {\n",
              "      background-color: #3B4455;\n",
              "      fill: #D2E3FC;\n",
              "    }\n",
              "\n",
              "    [theme=dark] .colab-df-convert:hover {\n",
              "      background-color: #434B5C;\n",
              "      box-shadow: 0px 1px 3px 1px rgba(0, 0, 0, 0.15);\n",
              "      filter: drop-shadow(0px 1px 2px rgba(0, 0, 0, 0.3));\n",
              "      fill: #FFFFFF;\n",
              "    }\n",
              "  </style>\n",
              "\n",
              "    <script>\n",
              "      const buttonEl =\n",
              "        document.querySelector('#df-efc65b11-443e-4037-bd6e-a95e7b986af7 button.colab-df-convert');\n",
              "      buttonEl.style.display =\n",
              "        google.colab.kernel.accessAllowed ? 'block' : 'none';\n",
              "\n",
              "      async function convertToInteractive(key) {\n",
              "        const element = document.querySelector('#df-efc65b11-443e-4037-bd6e-a95e7b986af7');\n",
              "        const dataTable =\n",
              "          await google.colab.kernel.invokeFunction('convertToInteractive',\n",
              "                                                    [key], {});\n",
              "        if (!dataTable) return;\n",
              "\n",
              "        const docLinkHtml = 'Like what you see? Visit the ' +\n",
              "          '<a target=\"_blank\" href=https://colab.research.google.com/notebooks/data_table.ipynb>data table notebook</a>'\n",
              "          + ' to learn more about interactive tables.';\n",
              "        element.innerHTML = '';\n",
              "        dataTable['output_type'] = 'display_data';\n",
              "        await google.colab.output.renderOutput(dataTable, element);\n",
              "        const docLink = document.createElement('div');\n",
              "        docLink.innerHTML = docLinkHtml;\n",
              "        element.appendChild(docLink);\n",
              "      }\n",
              "    </script>\n",
              "  </div>\n",
              "\n",
              "\n",
              "<div id=\"df-905d387c-0b2e-4d76-aedf-2ef828871020\">\n",
              "  <button class=\"colab-df-quickchart\" onclick=\"quickchart('df-905d387c-0b2e-4d76-aedf-2ef828871020')\"\n",
              "            title=\"Suggest charts\"\n",
              "            style=\"display:none;\">\n",
              "\n",
              "<svg xmlns=\"http://www.w3.org/2000/svg\" height=\"24px\"viewBox=\"0 0 24 24\"\n",
              "     width=\"24px\">\n",
              "    <g>\n",
              "        <path d=\"M19 3H5c-1.1 0-2 .9-2 2v14c0 1.1.9 2 2 2h14c1.1 0 2-.9 2-2V5c0-1.1-.9-2-2-2zM9 17H7v-7h2v7zm4 0h-2V7h2v10zm4 0h-2v-4h2v4z\"/>\n",
              "    </g>\n",
              "</svg>\n",
              "  </button>\n",
              "\n",
              "<style>\n",
              "  .colab-df-quickchart {\n",
              "      --bg-color: #E8F0FE;\n",
              "      --fill-color: #1967D2;\n",
              "      --hover-bg-color: #E2EBFA;\n",
              "      --hover-fill-color: #174EA6;\n",
              "      --disabled-fill-color: #AAA;\n",
              "      --disabled-bg-color: #DDD;\n",
              "  }\n",
              "\n",
              "  [theme=dark] .colab-df-quickchart {\n",
              "      --bg-color: #3B4455;\n",
              "      --fill-color: #D2E3FC;\n",
              "      --hover-bg-color: #434B5C;\n",
              "      --hover-fill-color: #FFFFFF;\n",
              "      --disabled-bg-color: #3B4455;\n",
              "      --disabled-fill-color: #666;\n",
              "  }\n",
              "\n",
              "  .colab-df-quickchart {\n",
              "    background-color: var(--bg-color);\n",
              "    border: none;\n",
              "    border-radius: 50%;\n",
              "    cursor: pointer;\n",
              "    display: none;\n",
              "    fill: var(--fill-color);\n",
              "    height: 32px;\n",
              "    padding: 0;\n",
              "    width: 32px;\n",
              "  }\n",
              "\n",
              "  .colab-df-quickchart:hover {\n",
              "    background-color: var(--hover-bg-color);\n",
              "    box-shadow: 0 1px 2px rgba(60, 64, 67, 0.3), 0 1px 3px 1px rgba(60, 64, 67, 0.15);\n",
              "    fill: var(--button-hover-fill-color);\n",
              "  }\n",
              "\n",
              "  .colab-df-quickchart-complete:disabled,\n",
              "  .colab-df-quickchart-complete:disabled:hover {\n",
              "    background-color: var(--disabled-bg-color);\n",
              "    fill: var(--disabled-fill-color);\n",
              "    box-shadow: none;\n",
              "  }\n",
              "\n",
              "  .colab-df-spinner {\n",
              "    border: 2px solid var(--fill-color);\n",
              "    border-color: transparent;\n",
              "    border-bottom-color: var(--fill-color);\n",
              "    animation:\n",
              "      spin 1s steps(1) infinite;\n",
              "  }\n",
              "\n",
              "  @keyframes spin {\n",
              "    0% {\n",
              "      border-color: transparent;\n",
              "      border-bottom-color: var(--fill-color);\n",
              "      border-left-color: var(--fill-color);\n",
              "    }\n",
              "    20% {\n",
              "      border-color: transparent;\n",
              "      border-left-color: var(--fill-color);\n",
              "      border-top-color: var(--fill-color);\n",
              "    }\n",
              "    30% {\n",
              "      border-color: transparent;\n",
              "      border-left-color: var(--fill-color);\n",
              "      border-top-color: var(--fill-color);\n",
              "      border-right-color: var(--fill-color);\n",
              "    }\n",
              "    40% {\n",
              "      border-color: transparent;\n",
              "      border-right-color: var(--fill-color);\n",
              "      border-top-color: var(--fill-color);\n",
              "    }\n",
              "    60% {\n",
              "      border-color: transparent;\n",
              "      border-right-color: var(--fill-color);\n",
              "    }\n",
              "    80% {\n",
              "      border-color: transparent;\n",
              "      border-right-color: var(--fill-color);\n",
              "      border-bottom-color: var(--fill-color);\n",
              "    }\n",
              "    90% {\n",
              "      border-color: transparent;\n",
              "      border-bottom-color: var(--fill-color);\n",
              "    }\n",
              "  }\n",
              "</style>\n",
              "\n",
              "  <script>\n",
              "    async function quickchart(key) {\n",
              "      const quickchartButtonEl =\n",
              "        document.querySelector('#' + key + ' button');\n",
              "      quickchartButtonEl.disabled = true;  // To prevent multiple clicks.\n",
              "      quickchartButtonEl.classList.add('colab-df-spinner');\n",
              "      try {\n",
              "        const charts = await google.colab.kernel.invokeFunction(\n",
              "            'suggestCharts', [key], {});\n",
              "      } catch (error) {\n",
              "        console.error('Error during call to suggestCharts:', error);\n",
              "      }\n",
              "      quickchartButtonEl.classList.remove('colab-df-spinner');\n",
              "      quickchartButtonEl.classList.add('colab-df-quickchart-complete');\n",
              "    }\n",
              "    (() => {\n",
              "      let quickchartButtonEl =\n",
              "        document.querySelector('#df-905d387c-0b2e-4d76-aedf-2ef828871020 button');\n",
              "      quickchartButtonEl.style.display =\n",
              "        google.colab.kernel.accessAllowed ? 'block' : 'none';\n",
              "    })();\n",
              "  </script>\n",
              "</div>\n",
              "    </div>\n",
              "  </div>\n"
            ]
          },
          "metadata": {},
          "execution_count": 16
        }
      ]
    },
    {
      "cell_type": "code",
      "source": [
        "import ast\n",
        "# Convert string representations of lists to actual lists using ast.literal_eval\n",
        "#df['locs'] = df['locs'].apply(ast.literal_eval)\n",
        "\n",
        "# Count rows where the value of 'List of Locations' is an empty list\n",
        "count_empty_lists = df[df['locs'].apply(lambda x: len(x) == 0)].shape[0]\n",
        "\n",
        "print(f\"Number of rows with empty lists in 'List of Locations': {count_empty_lists}\")"
      ],
      "metadata": {
        "colab": {
          "base_uri": "https://localhost:8080/"
        },
        "id": "KpmixzzlcFKi",
        "outputId": "9aaad0ea-4b78-4b65-c732-5d69997157b6"
      },
      "execution_count": 17,
      "outputs": [
        {
          "output_type": "stream",
          "name": "stdout",
          "text": [
            "Number of rows with empty lists in 'List of Locations': 25\n"
          ]
        }
      ]
    },
    {
      "cell_type": "markdown",
      "source": [
        "Now this might indicate out of ordinary format episodes which might impact the ratings. eg- Ross and Emily's wedding in London"
      ],
      "metadata": {
        "id": "MJqB58-jfbET"
      }
    },
    {
      "cell_type": "code",
      "source": [
        "#saving relevant information as a separate dataframe\n",
        "df_final = df[['Title','Episode','Season','character_names','Spoken Word List','Total Spoken Words','number of scene changes','locs' ]]\n",
        "df_final.head()"
      ],
      "metadata": {
        "colab": {
          "base_uri": "https://localhost:8080/",
          "height": 449
        },
        "id": "iaMt-7xTgcd5",
        "outputId": "2e2de418-6193-4952-8133-ea9ebd7ef860"
      },
      "execution_count": 18,
      "outputs": [
        {
          "output_type": "execute_result",
          "data": {
            "text/plain": [
              "                                             Title  Episode  Season  \\\n",
              "0                      The Pilot-The Uncut Version      1.0     1.0   \n",
              "1             The One With The Sonogram At the End      2.0     1.0   \n",
              "2                           The One With The Thumb      3.0     1.0   \n",
              "3               The One With George Stephanopoulos      4.0     1.0   \n",
              "4   The One With The East German Laundry Detergant      5.0     1.0   \n",
              "\n",
              "                                     character_names  \\\n",
              "0  ['Joey', 'Paul', 'Rachel', 'Frannie', 'Chandle...   \n",
              "1  ['Rachel', 'Joey', 'Barry', 'Scene', 'Geller',...   \n",
              "2  ['Joey', 'Rachel', 'Scene', 'Chandler', 'Lizzi...   \n",
              "3  ['Joey', 'Rachel', 'Receptionist', 'Chandler',...   \n",
              "4  ['Angela', 'Joey', 'Rachel', 'Bob', 'Chandler'...   \n",
              "\n",
              "                                    Spoken Word List  Total Spoken Words  \\\n",
              "0  {'[Scene': 81, 'Phoebe': 166, 'Ross': 357, 'Jo...                2290   \n",
              "1  {'Monica': 253, 'Joey': 73, 'Phoebe': 115, 'Ra...                2520   \n",
              "2  {'Chandler': 449, 'Joey': 185, 'Monica': 480, ...                2336   \n",
              "3  {'[Scene': 158, 'Monica': 418, 'Ross': 440, 'P...                2721   \n",
              "4  {'Monica': 323, 'Ross': 560, 'Rachel': 371, 'C...                2765   \n",
              "\n",
              "   number of scene changes                                               locs  \n",
              "0                       13  [Ross's Apartment, Monica's Apartment, Ross's ...  \n",
              "1                       11   [Central Perk, Central Perk, Monica's Apartment]  \n",
              "2                       14  [Central Perk, Central Perk, Central Perk, Cen...  \n",
              "3                       15                       [Central Perk, Central Perk]  \n",
              "4                       16  [Central Perk, Central Perk, Monica's Apartmen...  "
            ],
            "text/html": [
              "\n",
              "  <div id=\"df-8f436975-c435-4d1b-a415-4bd2d61efd80\" class=\"colab-df-container\">\n",
              "    <div>\n",
              "<style scoped>\n",
              "    .dataframe tbody tr th:only-of-type {\n",
              "        vertical-align: middle;\n",
              "    }\n",
              "\n",
              "    .dataframe tbody tr th {\n",
              "        vertical-align: top;\n",
              "    }\n",
              "\n",
              "    .dataframe thead th {\n",
              "        text-align: right;\n",
              "    }\n",
              "</style>\n",
              "<table border=\"1\" class=\"dataframe\">\n",
              "  <thead>\n",
              "    <tr style=\"text-align: right;\">\n",
              "      <th></th>\n",
              "      <th>Title</th>\n",
              "      <th>Episode</th>\n",
              "      <th>Season</th>\n",
              "      <th>character_names</th>\n",
              "      <th>Spoken Word List</th>\n",
              "      <th>Total Spoken Words</th>\n",
              "      <th>number of scene changes</th>\n",
              "      <th>locs</th>\n",
              "    </tr>\n",
              "  </thead>\n",
              "  <tbody>\n",
              "    <tr>\n",
              "      <th>0</th>\n",
              "      <td>The Pilot-The Uncut Version</td>\n",
              "      <td>1.0</td>\n",
              "      <td>1.0</td>\n",
              "      <td>['Joey', 'Paul', 'Rachel', 'Frannie', 'Chandle...</td>\n",
              "      <td>{'[Scene': 81, 'Phoebe': 166, 'Ross': 357, 'Jo...</td>\n",
              "      <td>2290</td>\n",
              "      <td>13</td>\n",
              "      <td>[Ross's Apartment, Monica's Apartment, Ross's ...</td>\n",
              "    </tr>\n",
              "    <tr>\n",
              "      <th>1</th>\n",
              "      <td>The One With The Sonogram At the End</td>\n",
              "      <td>2.0</td>\n",
              "      <td>1.0</td>\n",
              "      <td>['Rachel', 'Joey', 'Barry', 'Scene', 'Geller',...</td>\n",
              "      <td>{'Monica': 253, 'Joey': 73, 'Phoebe': 115, 'Ra...</td>\n",
              "      <td>2520</td>\n",
              "      <td>11</td>\n",
              "      <td>[Central Perk, Central Perk, Monica's Apartment]</td>\n",
              "    </tr>\n",
              "    <tr>\n",
              "      <th>2</th>\n",
              "      <td>The One With The Thumb</td>\n",
              "      <td>3.0</td>\n",
              "      <td>1.0</td>\n",
              "      <td>['Joey', 'Rachel', 'Scene', 'Chandler', 'Lizzi...</td>\n",
              "      <td>{'Chandler': 449, 'Joey': 185, 'Monica': 480, ...</td>\n",
              "      <td>2336</td>\n",
              "      <td>14</td>\n",
              "      <td>[Central Perk, Central Perk, Central Perk, Cen...</td>\n",
              "    </tr>\n",
              "    <tr>\n",
              "      <th>3</th>\n",
              "      <td>The One With George Stephanopoulos</td>\n",
              "      <td>4.0</td>\n",
              "      <td>1.0</td>\n",
              "      <td>['Joey', 'Rachel', 'Receptionist', 'Chandler',...</td>\n",
              "      <td>{'[Scene': 158, 'Monica': 418, 'Ross': 440, 'P...</td>\n",
              "      <td>2721</td>\n",
              "      <td>15</td>\n",
              "      <td>[Central Perk, Central Perk]</td>\n",
              "    </tr>\n",
              "    <tr>\n",
              "      <th>4</th>\n",
              "      <td>The One With The East German Laundry Detergant</td>\n",
              "      <td>5.0</td>\n",
              "      <td>1.0</td>\n",
              "      <td>['Angela', 'Joey', 'Rachel', 'Bob', 'Chandler'...</td>\n",
              "      <td>{'Monica': 323, 'Ross': 560, 'Rachel': 371, 'C...</td>\n",
              "      <td>2765</td>\n",
              "      <td>16</td>\n",
              "      <td>[Central Perk, Central Perk, Monica's Apartmen...</td>\n",
              "    </tr>\n",
              "  </tbody>\n",
              "</table>\n",
              "</div>\n",
              "    <div class=\"colab-df-buttons\">\n",
              "\n",
              "  <div class=\"colab-df-container\">\n",
              "    <button class=\"colab-df-convert\" onclick=\"convertToInteractive('df-8f436975-c435-4d1b-a415-4bd2d61efd80')\"\n",
              "            title=\"Convert this dataframe to an interactive table.\"\n",
              "            style=\"display:none;\">\n",
              "\n",
              "  <svg xmlns=\"http://www.w3.org/2000/svg\" height=\"24px\" viewBox=\"0 -960 960 960\">\n",
              "    <path d=\"M120-120v-720h720v720H120Zm60-500h600v-160H180v160Zm220 220h160v-160H400v160Zm0 220h160v-160H400v160ZM180-400h160v-160H180v160Zm440 0h160v-160H620v160ZM180-180h160v-160H180v160Zm440 0h160v-160H620v160Z\"/>\n",
              "  </svg>\n",
              "    </button>\n",
              "\n",
              "  <style>\n",
              "    .colab-df-container {\n",
              "      display:flex;\n",
              "      gap: 12px;\n",
              "    }\n",
              "\n",
              "    .colab-df-convert {\n",
              "      background-color: #E8F0FE;\n",
              "      border: none;\n",
              "      border-radius: 50%;\n",
              "      cursor: pointer;\n",
              "      display: none;\n",
              "      fill: #1967D2;\n",
              "      height: 32px;\n",
              "      padding: 0 0 0 0;\n",
              "      width: 32px;\n",
              "    }\n",
              "\n",
              "    .colab-df-convert:hover {\n",
              "      background-color: #E2EBFA;\n",
              "      box-shadow: 0px 1px 2px rgba(60, 64, 67, 0.3), 0px 1px 3px 1px rgba(60, 64, 67, 0.15);\n",
              "      fill: #174EA6;\n",
              "    }\n",
              "\n",
              "    .colab-df-buttons div {\n",
              "      margin-bottom: 4px;\n",
              "    }\n",
              "\n",
              "    [theme=dark] .colab-df-convert {\n",
              "      background-color: #3B4455;\n",
              "      fill: #D2E3FC;\n",
              "    }\n",
              "\n",
              "    [theme=dark] .colab-df-convert:hover {\n",
              "      background-color: #434B5C;\n",
              "      box-shadow: 0px 1px 3px 1px rgba(0, 0, 0, 0.15);\n",
              "      filter: drop-shadow(0px 1px 2px rgba(0, 0, 0, 0.3));\n",
              "      fill: #FFFFFF;\n",
              "    }\n",
              "  </style>\n",
              "\n",
              "    <script>\n",
              "      const buttonEl =\n",
              "        document.querySelector('#df-8f436975-c435-4d1b-a415-4bd2d61efd80 button.colab-df-convert');\n",
              "      buttonEl.style.display =\n",
              "        google.colab.kernel.accessAllowed ? 'block' : 'none';\n",
              "\n",
              "      async function convertToInteractive(key) {\n",
              "        const element = document.querySelector('#df-8f436975-c435-4d1b-a415-4bd2d61efd80');\n",
              "        const dataTable =\n",
              "          await google.colab.kernel.invokeFunction('convertToInteractive',\n",
              "                                                    [key], {});\n",
              "        if (!dataTable) return;\n",
              "\n",
              "        const docLinkHtml = 'Like what you see? Visit the ' +\n",
              "          '<a target=\"_blank\" href=https://colab.research.google.com/notebooks/data_table.ipynb>data table notebook</a>'\n",
              "          + ' to learn more about interactive tables.';\n",
              "        element.innerHTML = '';\n",
              "        dataTable['output_type'] = 'display_data';\n",
              "        await google.colab.output.renderOutput(dataTable, element);\n",
              "        const docLink = document.createElement('div');\n",
              "        docLink.innerHTML = docLinkHtml;\n",
              "        element.appendChild(docLink);\n",
              "      }\n",
              "    </script>\n",
              "  </div>\n",
              "\n",
              "\n",
              "<div id=\"df-f1a2bbb0-a59a-4223-9702-6690c80dc7f8\">\n",
              "  <button class=\"colab-df-quickchart\" onclick=\"quickchart('df-f1a2bbb0-a59a-4223-9702-6690c80dc7f8')\"\n",
              "            title=\"Suggest charts\"\n",
              "            style=\"display:none;\">\n",
              "\n",
              "<svg xmlns=\"http://www.w3.org/2000/svg\" height=\"24px\"viewBox=\"0 0 24 24\"\n",
              "     width=\"24px\">\n",
              "    <g>\n",
              "        <path d=\"M19 3H5c-1.1 0-2 .9-2 2v14c0 1.1.9 2 2 2h14c1.1 0 2-.9 2-2V5c0-1.1-.9-2-2-2zM9 17H7v-7h2v7zm4 0h-2V7h2v10zm4 0h-2v-4h2v4z\"/>\n",
              "    </g>\n",
              "</svg>\n",
              "  </button>\n",
              "\n",
              "<style>\n",
              "  .colab-df-quickchart {\n",
              "      --bg-color: #E8F0FE;\n",
              "      --fill-color: #1967D2;\n",
              "      --hover-bg-color: #E2EBFA;\n",
              "      --hover-fill-color: #174EA6;\n",
              "      --disabled-fill-color: #AAA;\n",
              "      --disabled-bg-color: #DDD;\n",
              "  }\n",
              "\n",
              "  [theme=dark] .colab-df-quickchart {\n",
              "      --bg-color: #3B4455;\n",
              "      --fill-color: #D2E3FC;\n",
              "      --hover-bg-color: #434B5C;\n",
              "      --hover-fill-color: #FFFFFF;\n",
              "      --disabled-bg-color: #3B4455;\n",
              "      --disabled-fill-color: #666;\n",
              "  }\n",
              "\n",
              "  .colab-df-quickchart {\n",
              "    background-color: var(--bg-color);\n",
              "    border: none;\n",
              "    border-radius: 50%;\n",
              "    cursor: pointer;\n",
              "    display: none;\n",
              "    fill: var(--fill-color);\n",
              "    height: 32px;\n",
              "    padding: 0;\n",
              "    width: 32px;\n",
              "  }\n",
              "\n",
              "  .colab-df-quickchart:hover {\n",
              "    background-color: var(--hover-bg-color);\n",
              "    box-shadow: 0 1px 2px rgba(60, 64, 67, 0.3), 0 1px 3px 1px rgba(60, 64, 67, 0.15);\n",
              "    fill: var(--button-hover-fill-color);\n",
              "  }\n",
              "\n",
              "  .colab-df-quickchart-complete:disabled,\n",
              "  .colab-df-quickchart-complete:disabled:hover {\n",
              "    background-color: var(--disabled-bg-color);\n",
              "    fill: var(--disabled-fill-color);\n",
              "    box-shadow: none;\n",
              "  }\n",
              "\n",
              "  .colab-df-spinner {\n",
              "    border: 2px solid var(--fill-color);\n",
              "    border-color: transparent;\n",
              "    border-bottom-color: var(--fill-color);\n",
              "    animation:\n",
              "      spin 1s steps(1) infinite;\n",
              "  }\n",
              "\n",
              "  @keyframes spin {\n",
              "    0% {\n",
              "      border-color: transparent;\n",
              "      border-bottom-color: var(--fill-color);\n",
              "      border-left-color: var(--fill-color);\n",
              "    }\n",
              "    20% {\n",
              "      border-color: transparent;\n",
              "      border-left-color: var(--fill-color);\n",
              "      border-top-color: var(--fill-color);\n",
              "    }\n",
              "    30% {\n",
              "      border-color: transparent;\n",
              "      border-left-color: var(--fill-color);\n",
              "      border-top-color: var(--fill-color);\n",
              "      border-right-color: var(--fill-color);\n",
              "    }\n",
              "    40% {\n",
              "      border-color: transparent;\n",
              "      border-right-color: var(--fill-color);\n",
              "      border-top-color: var(--fill-color);\n",
              "    }\n",
              "    60% {\n",
              "      border-color: transparent;\n",
              "      border-right-color: var(--fill-color);\n",
              "    }\n",
              "    80% {\n",
              "      border-color: transparent;\n",
              "      border-right-color: var(--fill-color);\n",
              "      border-bottom-color: var(--fill-color);\n",
              "    }\n",
              "    90% {\n",
              "      border-color: transparent;\n",
              "      border-bottom-color: var(--fill-color);\n",
              "    }\n",
              "  }\n",
              "</style>\n",
              "\n",
              "  <script>\n",
              "    async function quickchart(key) {\n",
              "      const quickchartButtonEl =\n",
              "        document.querySelector('#' + key + ' button');\n",
              "      quickchartButtonEl.disabled = true;  // To prevent multiple clicks.\n",
              "      quickchartButtonEl.classList.add('colab-df-spinner');\n",
              "      try {\n",
              "        const charts = await google.colab.kernel.invokeFunction(\n",
              "            'suggestCharts', [key], {});\n",
              "      } catch (error) {\n",
              "        console.error('Error during call to suggestCharts:', error);\n",
              "      }\n",
              "      quickchartButtonEl.classList.remove('colab-df-spinner');\n",
              "      quickchartButtonEl.classList.add('colab-df-quickchart-complete');\n",
              "    }\n",
              "    (() => {\n",
              "      let quickchartButtonEl =\n",
              "        document.querySelector('#df-f1a2bbb0-a59a-4223-9702-6690c80dc7f8 button');\n",
              "      quickchartButtonEl.style.display =\n",
              "        google.colab.kernel.accessAllowed ? 'block' : 'none';\n",
              "    })();\n",
              "  </script>\n",
              "</div>\n",
              "    </div>\n",
              "  </div>\n"
            ]
          },
          "metadata": {},
          "execution_count": 18
        }
      ]
    },
    {
      "cell_type": "code",
      "source": [
        "df_final.to_csv('Interim_chkpoint.csv') #saving and checkpointing to return later"
      ],
      "metadata": {
        "id": "dLzAdUBQqtyA"
      },
      "execution_count": 19,
      "outputs": []
    },
    {
      "cell_type": "markdown",
      "source": [
        "## Detecting sarcasm using pretrained huggingface model"
      ],
      "metadata": {
        "id": "_zMakjMufswr"
      }
    },
    {
      "cell_type": "markdown",
      "source": [
        "Testing methodology with a random row number first"
      ],
      "metadata": {
        "id": "ITMXSS45f19p"
      }
    },
    {
      "cell_type": "code",
      "source": [
        "import re\n",
        "import string\n",
        "from transformers import AutoTokenizer, AutoModelForSequenceClassification\n",
        "\n",
        "def cleaned_text(text):\n",
        "    lines = text.split('\\n')\n",
        "    cleaned_spoken_texts = []\n",
        "    for line in lines:\n",
        "        # Remove text within square brackets and parentheses\n",
        "        line = re.sub(r'\\[.*?\\]|\\(.*?\\)', '', line)\n",
        "        if ':' in line:\n",
        "            character, spoken_text = line.split(':', 1)\n",
        "            spoken_text = preprocess_data(spoken_text.strip())\n",
        "            cleaned_spoken_texts.append(spoken_text)\n",
        "    return ' '.join(cleaned_spoken_texts)\n",
        "\n",
        "def preprocess_data(text: str) -> str:\n",
        "    return text.lower().translate(str.maketrans(\"\", \"\", string.punctuation)).strip()\n",
        "\n",
        "def create_word_windows(text, window_size):\n",
        "    words = text.split()\n",
        "    windows = [words[i:i+window_size] for i in range(0, len(words), window_size)]\n",
        "    return [' '.join(window) for window in windows]\n",
        "\n",
        "MODEL_PATH = \"helinivan/english-sarcasm-detector\"\n",
        "\n",
        "tokenizer = AutoTokenizer.from_pretrained(MODEL_PATH)\n",
        "model = AutoModelForSequenceClassification.from_pretrained(MODEL_PATH)\n",
        "\n",
        "cleaned_spoken_texts = cleaned_text(df['text script'].loc[50,])\n",
        "win_size = int(int(df['Total Spoken Words'].loc[50,])/10)\n",
        "cleaned_spoken_texts = create_word_windows(cleaned_spoken_texts,win_size)\n",
        "# Assuming you want to process each cleaned spoken text separately\n",
        "total_sarcastic_count = 0\n",
        "total_sarcastic_confidence = 0.0\n",
        "\n",
        "for spoken_text in cleaned_spoken_texts:\n",
        "    tokenized_text = tokenizer([spoken_text], padding=True, truncation=True, max_length=256, return_tensors=\"pt\")\n",
        "    output = model(**tokenized_text)\n",
        "    probs = output.logits.softmax(dim=-1).tolist()[0]\n",
        "    confidence = max(probs)\n",
        "    prediction = probs.index(confidence)\n",
        "    results = {\"is_sarcastic\": prediction, \"confidence\": confidence}\n",
        "\n",
        "    # Update totals if the instance is sarcastic\n",
        "    if results[\"is_sarcastic\"] == 1:\n",
        "        total_sarcastic_count += 1\n",
        "        total_sarcastic_confidence += confidence\n",
        "\n",
        "    # Do something with the results, e.g., print or store them\n",
        "    print(results)\n",
        "if total_sarcastic_count > 0:\n",
        "    average_sarcastic_confidence = total_sarcastic_confidence / total_sarcastic_count\n",
        "    print(f\"Total Sarcastic Count: {total_sarcastic_count}\")\n",
        "    print(f\"Average Sarcastic Confidence: {average_sarcastic_confidence}\")\n",
        "else:\n",
        "    print(\"No sarcastic instances found.\")\n"
      ],
      "metadata": {
        "colab": {
          "base_uri": "https://localhost:8080/"
        },
        "id": "w9R2lozdmFWf",
        "outputId": "312af420-8027-4251-92f5-834a6931a1b0"
      },
      "execution_count": 46,
      "outputs": [
        {
          "output_type": "stream",
          "name": "stdout",
          "text": [
            "{'is_sarcastic': 0, 'confidence': 0.8568001389503479}\n",
            "{'is_sarcastic': 1, 'confidence': 0.73240065574646}\n",
            "{'is_sarcastic': 0, 'confidence': 0.7222325801849365}\n",
            "{'is_sarcastic': 1, 'confidence': 0.7502384185791016}\n",
            "{'is_sarcastic': 1, 'confidence': 0.8202803134918213}\n",
            "{'is_sarcastic': 1, 'confidence': 0.541737973690033}\n",
            "{'is_sarcastic': 1, 'confidence': 0.7291350364685059}\n",
            "Total Sarcastic Count: 0.7142857142857143\n",
            "Average Sarcastic Confidence: 0.7147584795951843\n"
          ]
        }
      ]
    },
    {
      "cell_type": "code",
      "source": [
        "!pip install tqdm #to track progress"
      ],
      "metadata": {
        "colab": {
          "base_uri": "https://localhost:8080/"
        },
        "id": "lQGjZQd3s3Il",
        "outputId": "9c09a14f-1b61-4b8f-bd18-ae8c0803badc"
      },
      "execution_count": 47,
      "outputs": [
        {
          "output_type": "stream",
          "name": "stdout",
          "text": [
            "Requirement already satisfied: tqdm in /usr/local/lib/python3.10/dist-packages (4.66.1)\n"
          ]
        }
      ]
    },
    {
      "cell_type": "markdown",
      "source": [
        "Running the sarcasm index detection on the entire dataset"
      ],
      "metadata": {
        "id": "VJbw865gf9AO"
      }
    },
    {
      "cell_type": "code",
      "source": [
        "import re\n",
        "import string\n",
        "import pandas as pd\n",
        "from transformers import AutoTokenizer, AutoModelForSequenceClassification\n",
        "from tqdm import tqdm  # Import tqdm\n",
        "\n",
        "def cleaned_text(text):\n",
        "    lines = text.split('\\n')\n",
        "    cleaned_spoken_texts = []\n",
        "    for line in lines:\n",
        "        # Remove text within square brackets and parentheses\n",
        "        line = re.sub(r'\\[.*?\\]|\\(.*?\\)', '', line)\n",
        "        if ':' in line:\n",
        "            character, spoken_text = line.split(':', 1)\n",
        "            spoken_text = preprocess_data(spoken_text.strip())\n",
        "            cleaned_spoken_texts.append(spoken_text)\n",
        "    return ' '.join(cleaned_spoken_texts)\n",
        "\n",
        "def preprocess_data(text: str) -> str:\n",
        "    return text.lower().translate(str.maketrans(\"\", \"\", string.punctuation)).strip()\n",
        "\n",
        "def create_word_windows(text, window_size):\n",
        "    words = text.split()\n",
        "    windows = [words[i:i+window_size] for i in range(0, len(words), window_size)]\n",
        "    return [' '.join(window) for window in windows]\n",
        "\n",
        "def calculate_sarcasm_index(spoken_texts, tokenizer, model, progress_bar=True):\n",
        "    total_sarcastic_count = 0\n",
        "    total_sarcastic_confidence = 0.0\n",
        "\n",
        "    # Use tqdm to display a progress bar\n",
        "    iterator = tqdm(spoken_texts, desc=\"Processing\", disable=not progress_bar, position=0)\n",
        "\n",
        "    for spoken_text in iterator:\n",
        "        tokenized_text = tokenizer([spoken_text], padding=True, truncation=True, max_length=256, return_tensors=\"pt\")\n",
        "        output = model(**tokenized_text)\n",
        "        probs = output.logits.softmax(dim=-1).tolist()[0]\n",
        "        confidence = max(probs)\n",
        "        prediction = probs.index(confidence)\n",
        "        results = {\"is_sarcastic\": prediction, \"confidence\": confidence}\n",
        "\n",
        "        # Update totals if the instance is sarcastic\n",
        "        if results[\"is_sarcastic\"] == 1:\n",
        "            total_sarcastic_count += 1\n",
        "            total_sarcastic_confidence += confidence\n",
        "\n",
        "    # Calculate the normalized sarcasm index\n",
        "    if total_sarcastic_count > 0:\n",
        "        normalized_total_sarcastic_count = total_sarcastic_count / len(spoken_texts)\n",
        "        return normalized_total_sarcastic_count\n",
        "    else:\n",
        "        return 0.0\n",
        "\n",
        "# Assuming df is your DataFrame\n",
        "df['sarcasm_index'] = df.apply(lambda row: (cleaned_text(row['text script']), int(row['Total Spoken Words'] / 10)), axis=1)\n",
        "df['sarcasm_index'] = df['sarcasm_index'].apply(lambda x: create_word_windows(x[0], x[1])).apply(lambda x: calculate_sarcasm_index(x, tokenizer, model))\n",
        "\n",
        "df.head()\n"
      ],
      "metadata": {
        "colab": {
          "base_uri": "https://localhost:8080/",
          "height": 1000
        },
        "id": "ZQ43sp0Awt74",
        "outputId": "fc4a612d-9a0f-487d-c194-75569e51de4d"
      },
      "execution_count": 55,
      "outputs": [
        {
          "output_type": "stream",
          "name": "stderr",
          "text": [
            "Processing: 100%|██████████| 6/6 [00:03<00:00,  1.85it/s]\n",
            "Processing: 100%|██████████| 7/7 [00:03<00:00,  1.81it/s]\n",
            "Processing: 100%|██████████| 8/8 [00:04<00:00,  1.91it/s]\n",
            "Processing: 100%|██████████| 6/6 [00:04<00:00,  1.42it/s]\n",
            "Processing: 100%|██████████| 8/8 [00:04<00:00,  1.90it/s]\n",
            "Processing: 100%|██████████| 7/7 [00:03<00:00,  1.78it/s]\n",
            "Processing: 100%|██████████| 7/7 [00:04<00:00,  1.62it/s]\n",
            "Processing: 100%|██████████| 8/8 [00:04<00:00,  1.73it/s]\n",
            "Processing: 100%|██████████| 8/8 [00:04<00:00,  1.90it/s]\n",
            "Processing: 100%|██████████| 7/7 [00:03<00:00,  1.89it/s]\n",
            "Processing: 100%|██████████| 8/8 [00:05<00:00,  1.54it/s]\n",
            "Processing: 100%|██████████| 8/8 [00:04<00:00,  1.90it/s]\n",
            "Processing: 100%|██████████| 7/7 [00:04<00:00,  1.73it/s]\n",
            "Processing: 100%|██████████| 7/7 [00:04<00:00,  1.44it/s]\n",
            "Processing: 100%|██████████| 7/7 [00:04<00:00,  1.63it/s]\n",
            "Processing: 100%|██████████| 10/10 [00:05<00:00,  1.77it/s]\n",
            "Processing: 100%|██████████| 6/6 [00:04<00:00,  1.41it/s]\n",
            "Processing: 100%|██████████| 8/8 [00:04<00:00,  1.81it/s]\n",
            "Processing: 100%|██████████| 7/7 [00:03<00:00,  1.95it/s]\n",
            "Processing: 100%|██████████| 7/7 [00:04<00:00,  1.66it/s]\n",
            "Processing: 100%|██████████| 8/8 [00:04<00:00,  1.67it/s]\n",
            "Processing: 100%|██████████| 8/8 [00:04<00:00,  1.89it/s]\n",
            "Processing: 100%|██████████| 7/7 [00:03<00:00,  1.81it/s]\n",
            "Processing: 100%|██████████| 7/7 [00:04<00:00,  1.41it/s]\n",
            "Processing: 100%|██████████| 7/7 [00:03<00:00,  1.86it/s]\n",
            "Processing: 100%|██████████| 7/7 [00:03<00:00,  1.94it/s]\n",
            "Processing: 100%|██████████| 7/7 [00:04<00:00,  1.70it/s]\n",
            "Processing: 100%|██████████| 7/7 [00:04<00:00,  1.60it/s]\n",
            "Processing: 100%|██████████| 8/8 [00:04<00:00,  1.79it/s]\n",
            "Processing: 100%|██████████| 8/8 [00:03<00:00,  2.02it/s]\n",
            "Processing: 100%|██████████| 7/7 [00:04<00:00,  1.43it/s]\n",
            "Processing: 100%|██████████| 7/7 [00:03<00:00,  1.82it/s]\n",
            "Processing: 100%|██████████| 8/8 [00:04<00:00,  1.94it/s]\n",
            "Processing: 100%|██████████| 8/8 [00:05<00:00,  1.47it/s]\n",
            "Processing: 100%|██████████| 8/8 [00:04<00:00,  1.96it/s]\n",
            "Processing: 100%|██████████| 8/8 [00:04<00:00,  1.86it/s]\n",
            "Processing: 100%|██████████| 8/8 [00:04<00:00,  1.73it/s]\n",
            "Processing: 100%|██████████| 8/8 [00:04<00:00,  1.69it/s]\n",
            "Processing: 100%|██████████| 9/9 [00:04<00:00,  1.81it/s]\n",
            "Processing: 100%|██████████| 10/10 [00:06<00:00,  1.48it/s]\n",
            "Processing: 100%|██████████| 10/10 [00:05<00:00,  1.76it/s]\n",
            "Processing: 100%|██████████| 10/10 [00:05<00:00,  1.69it/s]\n",
            "Processing: 100%|██████████| 10/10 [00:06<00:00,  1.63it/s]\n",
            "Processing: 100%|██████████| 11/11 [00:05<00:00,  1.96it/s]\n",
            "Processing: 100%|██████████| 10/10 [00:06<00:00,  1.47it/s]\n",
            "Processing: 100%|██████████| 11/11 [00:05<00:00,  1.94it/s]\n",
            "Processing: 100%|██████████| 7/7 [00:03<00:00,  1.87it/s]\n",
            "Processing: 100%|██████████| 8/8 [00:04<00:00,  1.60it/s]\n",
            "Processing: 0it [00:00, ?it/s]\n",
            "Processing: 100%|██████████| 7/7 [00:03<00:00,  1.96it/s]\n",
            "Processing: 100%|██████████| 7/7 [00:03<00:00,  1.89it/s]\n",
            "Processing: 100%|██████████| 8/8 [00:05<00:00,  1.59it/s]\n",
            "Processing: 100%|██████████| 7/7 [00:04<00:00,  1.67it/s]\n",
            "Processing: 100%|██████████| 7/7 [00:03<00:00,  1.91it/s]\n",
            "Processing: 100%|██████████| 7/7 [00:03<00:00,  1.86it/s]\n",
            "Processing: 100%|██████████| 7/7 [00:04<00:00,  1.41it/s]\n",
            "Processing: 100%|██████████| 7/7 [00:03<00:00,  2.03it/s]\n",
            "Processing: 100%|██████████| 7/7 [00:03<00:00,  1.84it/s]\n",
            "Processing: 100%|██████████| 7/7 [00:04<00:00,  1.50it/s]\n",
            "Processing: 100%|██████████| 7/7 [00:04<00:00,  1.68it/s]\n",
            "Processing: 100%|██████████| 7/7 [00:03<00:00,  1.96it/s]\n",
            "Processing: 100%|██████████| 8/8 [00:04<00:00,  1.98it/s]\n",
            "Processing: 100%|██████████| 7/7 [00:04<00:00,  1.44it/s]\n",
            "Processing: 100%|██████████| 7/7 [00:03<00:00,  1.84it/s]\n",
            "Processing: 100%|██████████| 7/7 [00:03<00:00,  1.99it/s]\n",
            "Processing: 100%|██████████| 7/7 [00:03<00:00,  1.76it/s]\n",
            "Processing: 100%|██████████| 7/7 [00:04<00:00,  1.54it/s]\n",
            "Processing: 100%|██████████| 7/7 [00:04<00:00,  1.75it/s]\n",
            "Processing: 100%|██████████| 7/7 [00:03<00:00,  1.87it/s]\n",
            "Processing: 100%|██████████| 7/7 [00:04<00:00,  1.48it/s]\n",
            "Processing: 100%|██████████| 7/7 [00:03<00:00,  1.92it/s]\n",
            "Processing: 100%|██████████| 7/7 [00:03<00:00,  1.93it/s]\n",
            "Processing: 100%|██████████| 7/7 [00:03<00:00,  1.91it/s]\n",
            "Processing: 100%|██████████| 7/7 [00:04<00:00,  1.49it/s]\n",
            "Processing: 100%|██████████| 6/6 [00:03<00:00,  1.78it/s]\n",
            "Processing: 100%|██████████| 7/7 [00:03<00:00,  1.79it/s]\n",
            "Processing: 100%|██████████| 7/7 [00:04<00:00,  1.70it/s]\n",
            "Processing: 100%|██████████| 2/2 [00:00<00:00,  5.49it/s]\n",
            "Processing: 100%|██████████| 7/7 [00:04<00:00,  1.65it/s]\n",
            "Processing: 100%|██████████| 7/7 [00:03<00:00,  1.84it/s]\n",
            "Processing: 100%|██████████| 7/7 [00:03<00:00,  1.82it/s]\n",
            "Processing: 100%|██████████| 7/7 [00:04<00:00,  1.47it/s]\n",
            "Processing: 100%|██████████| 6/6 [00:03<00:00,  1.81it/s]\n",
            "Processing: 100%|██████████| 8/8 [00:04<00:00,  1.97it/s]\n",
            "Processing: 100%|██████████| 7/7 [00:04<00:00,  1.65it/s]\n",
            "Processing: 100%|██████████| 7/7 [00:04<00:00,  1.62it/s]\n",
            "Processing: 100%|██████████| 7/7 [00:03<00:00,  1.84it/s]\n",
            "Processing: 100%|██████████| 7/7 [00:03<00:00,  1.97it/s]\n",
            "Processing: 100%|██████████| 7/7 [00:04<00:00,  1.59it/s]\n",
            "Processing: 100%|██████████| 7/7 [00:04<00:00,  1.74it/s]\n",
            "Processing: 100%|██████████| 7/7 [00:03<00:00,  1.81it/s]\n",
            "Processing: 100%|██████████| 7/7 [00:03<00:00,  1.78it/s]\n",
            "Processing: 100%|██████████| 7/7 [00:04<00:00,  1.53it/s]\n",
            "Processing: 100%|██████████| 7/7 [00:03<00:00,  2.00it/s]\n",
            "Processing: 100%|██████████| 6/6 [00:03<00:00,  1.78it/s]\n",
            "Processing: 100%|██████████| 7/7 [00:03<00:00,  1.86it/s]\n",
            "Processing: 100%|██████████| 7/7 [00:04<00:00,  1.53it/s]\n",
            "Processing: 100%|██████████| 7/7 [00:03<00:00,  1.76it/s]\n",
            "Processing: 100%|██████████| 7/7 [00:03<00:00,  1.89it/s]\n",
            "Processing: 100%|██████████| 8/8 [00:05<00:00,  1.48it/s]\n",
            "Processing: 100%|██████████| 7/7 [00:03<00:00,  1.91it/s]\n",
            "Processing: 100%|██████████| 7/7 [00:03<00:00,  2.01it/s]\n",
            "Processing: 100%|██████████| 7/7 [00:03<00:00,  1.91it/s]\n",
            "Processing: 100%|██████████| 7/7 [00:04<00:00,  1.42it/s]\n",
            "Processing: 100%|██████████| 7/7 [00:03<00:00,  1.87it/s]\n",
            "Processing: 100%|██████████| 6/6 [00:03<00:00,  1.81it/s]\n",
            "Processing: 100%|██████████| 7/7 [00:04<00:00,  1.48it/s]\n",
            "Processing: 100%|██████████| 7/7 [00:04<00:00,  1.61it/s]\n",
            "Processing: 100%|██████████| 7/7 [00:03<00:00,  1.80it/s]\n",
            "Processing: 100%|██████████| 7/7 [00:03<00:00,  1.97it/s]\n",
            "Processing: 100%|██████████| 7/7 [00:04<00:00,  1.43it/s]\n",
            "Processing: 100%|██████████| 6/6 [00:03<00:00,  1.85it/s]\n",
            "Processing: 100%|██████████| 8/8 [00:04<00:00,  1.96it/s]\n",
            "Processing: 100%|██████████| 8/8 [00:04<00:00,  1.67it/s]\n",
            "Processing: 100%|██████████| 7/7 [00:04<00:00,  1.60it/s]\n",
            "Processing: 100%|██████████| 7/7 [00:03<00:00,  1.89it/s]\n",
            "Processing: 100%|██████████| 7/7 [00:03<00:00,  1.87it/s]\n",
            "Processing: 100%|██████████| 6/6 [00:04<00:00,  1.37it/s]\n",
            "Processing: 100%|██████████| 7/7 [00:03<00:00,  1.85it/s]\n",
            "Processing: 100%|██████████| 7/7 [00:03<00:00,  2.05it/s]\n",
            "Processing: 100%|██████████| 7/7 [00:03<00:00,  1.88it/s]\n",
            "Processing: 100%|██████████| 6/6 [00:04<00:00,  1.36it/s]\n",
            "Processing: 100%|██████████| 7/7 [00:03<00:00,  1.96it/s]\n",
            "Processing: 100%|██████████| 7/7 [00:03<00:00,  1.99it/s]\n",
            "Processing: 100%|██████████| 7/7 [00:04<00:00,  1.63it/s]\n",
            "Processing: 100%|██████████| 8/8 [00:01<00:00,  7.15it/s]\n",
            "Processing: 100%|██████████| 6/6 [00:03<00:00,  1.57it/s]\n",
            "Processing: 100%|██████████| 7/7 [00:03<00:00,  1.78it/s]\n",
            "Processing: 100%|██████████| 8/8 [00:04<00:00,  1.85it/s]\n",
            "Processing: 100%|██████████| 7/7 [00:04<00:00,  1.40it/s]\n",
            "Processing: 100%|██████████| 7/7 [00:03<00:00,  1.89it/s]\n",
            "Processing: 100%|██████████| 7/7 [00:03<00:00,  1.79it/s]\n",
            "Processing: 100%|██████████| 7/7 [00:04<00:00,  1.49it/s]\n",
            "Processing: 100%|██████████| 6/6 [00:03<00:00,  1.64it/s]\n",
            "Processing: 100%|██████████| 7/7 [00:03<00:00,  1.77it/s]\n",
            "Processing: 100%|██████████| 8/8 [00:04<00:00,  1.83it/s]\n",
            "Processing: 100%|██████████| 6/6 [00:04<00:00,  1.45it/s]\n",
            "Processing: 100%|██████████| 7/7 [00:03<00:00,  1.79it/s]\n",
            "Processing: 100%|██████████| 7/7 [00:03<00:00,  2.00it/s]\n",
            "Processing: 100%|██████████| 7/7 [00:04<00:00,  1.73it/s]\n",
            "Processing: 100%|██████████| 7/7 [00:04<00:00,  1.54it/s]\n",
            "Processing: 100%|██████████| 7/7 [00:03<00:00,  1.88it/s]\n",
            "Processing: 100%|██████████| 7/7 [00:03<00:00,  1.80it/s]\n",
            "Processing: 100%|██████████| 7/7 [00:05<00:00,  1.36it/s]\n",
            "Processing: 100%|██████████| 7/7 [00:03<00:00,  1.79it/s]\n",
            "Processing: 100%|██████████| 8/8 [00:04<00:00,  1.94it/s]\n",
            "Processing: 100%|██████████| 7/7 [00:04<00:00,  1.59it/s]\n",
            "Processing: 100%|██████████| 7/7 [00:04<00:00,  1.69it/s]\n",
            "Processing: 100%|██████████| 7/7 [00:03<00:00,  1.80it/s]\n",
            "Processing: 100%|██████████| 7/7 [00:03<00:00,  1.82it/s]\n",
            "Processing: 100%|██████████| 7/7 [00:04<00:00,  1.41it/s]\n",
            "Processing: 100%|██████████| 7/7 [00:03<00:00,  1.94it/s]\n",
            "Processing: 100%|██████████| 6/6 [00:03<00:00,  1.87it/s]\n",
            "Processing: 100%|██████████| 7/7 [00:04<00:00,  1.68it/s]\n",
            "Processing: 100%|██████████| 6/6 [00:04<00:00,  1.46it/s]\n",
            "Processing: 100%|██████████| 7/7 [00:03<00:00,  1.86it/s]\n",
            "Processing: 100%|██████████| 7/7 [00:03<00:00,  1.95it/s]\n",
            "Processing: 100%|██████████| 7/7 [00:04<00:00,  1.46it/s]\n",
            "Processing: 100%|██████████| 6/6 [00:03<00:00,  1.62it/s]\n",
            "Processing: 100%|██████████| 6/6 [00:03<00:00,  1.79it/s]\n",
            "Processing: 100%|██████████| 7/7 [00:03<00:00,  1.83it/s]\n",
            "Processing: 100%|██████████| 7/7 [00:04<00:00,  1.56it/s]\n",
            "Processing: 100%|██████████| 7/7 [00:03<00:00,  1.85it/s]\n",
            "Processing: 100%|██████████| 7/7 [00:03<00:00,  1.80it/s]\n",
            "Processing: 100%|██████████| 5/5 [00:02<00:00,  1.81it/s]\n",
            "Processing: 100%|██████████| 7/7 [00:05<00:00,  1.36it/s]\n",
            "Processing: 100%|██████████| 7/7 [00:03<00:00,  1.78it/s]\n",
            "Processing: 100%|██████████| 8/8 [00:04<00:00,  1.93it/s]\n",
            "Processing: 100%|██████████| 7/7 [00:04<00:00,  1.45it/s]\n",
            "Processing: 100%|██████████| 7/7 [00:04<00:00,  1.68it/s]\n",
            "Processing: 100%|██████████| 7/7 [00:03<00:00,  1.81it/s]\n",
            "Processing: 100%|██████████| 8/8 [00:04<00:00,  1.80it/s]\n",
            "Processing: 100%|██████████| 7/7 [00:05<00:00,  1.39it/s]\n",
            "Processing: 100%|██████████| 7/7 [00:03<00:00,  1.77it/s]\n",
            "Processing: 100%|██████████| 8/8 [00:04<00:00,  1.95it/s]\n",
            "Processing: 100%|██████████| 7/7 [00:05<00:00,  1.39it/s]\n",
            "Processing: 100%|██████████| 7/7 [00:03<00:00,  1.82it/s]\n",
            "Processing: 100%|██████████| 5/5 [00:00<00:00,  7.62it/s]\n",
            "Processing: 100%|██████████| 7/7 [00:03<00:00,  1.82it/s]\n",
            "Processing: 100%|██████████| 4/4 [00:00<00:00,  6.91it/s]\n",
            "Processing: 100%|██████████| 7/7 [00:04<00:00,  1.45it/s]\n",
            "Processing: 100%|██████████| 7/7 [00:03<00:00,  1.90it/s]\n",
            "Processing: 100%|██████████| 7/7 [00:03<00:00,  1.82it/s]\n",
            "Processing: 100%|██████████| 6/6 [00:03<00:00,  1.73it/s]\n",
            "Processing: 100%|██████████| 7/7 [00:05<00:00,  1.34it/s]\n",
            "Processing: 100%|██████████| 7/7 [00:03<00:00,  1.76it/s]\n",
            "Processing: 100%|██████████| 7/7 [00:04<00:00,  1.74it/s]\n",
            "Processing: 100%|██████████| 8/8 [00:05<00:00,  1.53it/s]\n",
            "Processing: 100%|██████████| 8/8 [00:04<00:00,  1.81it/s]\n",
            "Processing: 100%|██████████| 7/7 [00:03<00:00,  1.95it/s]\n",
            "Processing: 100%|██████████| 8/8 [00:04<00:00,  1.62it/s]\n",
            "Processing: 100%|██████████| 7/7 [00:04<00:00,  1.74it/s]\n",
            "Processing: 100%|██████████| 7/7 [00:03<00:00,  1.86it/s]\n",
            "Processing: 100%|██████████| 6/6 [00:03<00:00,  1.86it/s]\n",
            "Processing: 100%|██████████| 6/6 [00:03<00:00,  1.61it/s]\n",
            "Processing: 100%|██████████| 7/7 [00:04<00:00,  1.67it/s]\n",
            "Processing: 100%|██████████| 7/7 [00:03<00:00,  1.84it/s]\n",
            "Processing: 100%|██████████| 7/7 [00:03<00:00,  2.04it/s]\n",
            "Processing: 100%|██████████| 7/7 [00:04<00:00,  1.42it/s]\n",
            "Processing: 100%|██████████| 7/7 [00:03<00:00,  1.83it/s]\n",
            "Processing: 0it [00:00, ?it/s]\n",
            "Processing: 100%|██████████| 5/5 [00:02<00:00,  1.97it/s]\n",
            "Processing: 100%|██████████| 8/8 [00:00<00:00,  8.28it/s]\n",
            "Processing: 100%|██████████| 7/7 [00:04<00:00,  1.68it/s]\n",
            "Processing: 100%|██████████| 7/7 [00:04<00:00,  1.53it/s]\n",
            "Processing: 100%|██████████| 7/7 [00:03<00:00,  1.77it/s]\n",
            "Processing: 100%|██████████| 6/6 [00:03<00:00,  1.77it/s]\n",
            "Processing: 100%|██████████| 7/7 [00:05<00:00,  1.40it/s]\n",
            "Processing: 100%|██████████| 7/7 [00:03<00:00,  1.82it/s]\n",
            "Processing: 100%|██████████| 10/10 [00:05<00:00,  1.78it/s]\n",
            "Processing: 100%|██████████| 10/10 [00:06<00:00,  1.50it/s]\n",
            "Processing: 100%|██████████| 6/6 [00:03<00:00,  1.82it/s]\n",
            "Processing: 100%|██████████| 5/5 [00:02<00:00,  2.14it/s]\n",
            "Processing: 100%|██████████| 2/2 [00:01<00:00,  1.85it/s]\n",
            "Processing: 100%|██████████| 1/1 [00:00<00:00,  2.21it/s]\n",
            "Processing: 100%|██████████| 2/2 [00:01<00:00,  1.77it/s]\n",
            "Processing: 100%|██████████| 5/5 [00:03<00:00,  1.43it/s]\n",
            "Processing: 100%|██████████| 5/5 [00:03<00:00,  1.59it/s]\n",
            "Processing: 100%|██████████| 6/6 [00:03<00:00,  1.98it/s]\n",
            "Processing: 100%|██████████| 5/5 [00:02<00:00,  2.01it/s]\n",
            "Processing: 100%|██████████| 6/6 [00:03<00:00,  2.00it/s]\n",
            "Processing: 100%|██████████| 5/5 [00:03<00:00,  1.33it/s]\n",
            "Processing: 100%|██████████| 5/5 [00:02<00:00,  1.80it/s]\n",
            "Processing: 100%|██████████| 6/6 [00:03<00:00,  1.85it/s]\n",
            "Processing: 100%|██████████| 6/6 [00:03<00:00,  1.80it/s]\n",
            "Processing: 100%|██████████| 7/7 [00:04<00:00,  1.63it/s]\n",
            "Processing: 100%|██████████| 4/4 [00:02<00:00,  1.57it/s]\n",
            "Processing: 100%|██████████| 7/7 [00:03<00:00,  1.78it/s]\n",
            "Processing: 100%|██████████| 8/8 [00:04<00:00,  1.80it/s]\n"
          ]
        },
        {
          "output_type": "execute_result",
          "data": {
            "text/plain": [
              "                                         text script  \\\n",
              "0  [Scene: The Subway, Phoebe is singing for\\ncha...   \n",
              "1  [Scene Central Perk, everyone's there.]\\nMonic...   \n",
              "2  [Scene: Chandler and Joey's, Chandler is helpi...   \n",
              "3  [Scene: Central Perk, Ross and Monica are watc...   \n",
              "4  [Scene: Central Perk, all six are there.]\\nMon...   \n",
              "\n",
              "                                             Title  Episode  Season  \\\n",
              "0                      The Pilot-The Uncut Version      1.0     1.0   \n",
              "1             The One With The Sonogram At the End      2.0     1.0   \n",
              "2                           The One With The Thumb      3.0     1.0   \n",
              "3               The One With George Stephanopoulos      4.0     1.0   \n",
              "4   The One With The East German Laundry Detergant      5.0     1.0   \n",
              "\n",
              "                                     character_names  \\\n",
              "0  ['Joey', 'Paul', 'Rachel', 'Frannie', 'Chandle...   \n",
              "1  ['Rachel', 'Joey', 'Barry', 'Scene', 'Geller',...   \n",
              "2  ['Joey', 'Rachel', 'Scene', 'Chandler', 'Lizzi...   \n",
              "3  ['Joey', 'Rachel', 'Receptionist', 'Chandler',...   \n",
              "4  ['Angela', 'Joey', 'Rachel', 'Bob', 'Chandler'...   \n",
              "\n",
              "                                    Spoken Word List  Total Spoken Words  \\\n",
              "0  {'[Scene': 81, 'Phoebe': 166, 'Ross': 357, 'Jo...                2290   \n",
              "1  {'Monica': 253, 'Joey': 73, 'Phoebe': 115, 'Ra...                2520   \n",
              "2  {'Chandler': 449, 'Joey': 185, 'Monica': 480, ...                2336   \n",
              "3  {'[Scene': 158, 'Monica': 418, 'Ross': 440, 'P...                2721   \n",
              "4  {'Monica': 323, 'Ross': 560, 'Rachel': 371, 'C...                2765   \n",
              "\n",
              "                               List of Locations  \\\n",
              "0                                      [Iridium]   \n",
              "1                                 [Central Park]   \n",
              "2  [Central Perk, Iridium, Iridium, Cental Perk]   \n",
              "3                                             []   \n",
              "4                                             []   \n",
              "\n",
              "                                       scene changes  number of scene changes  \\\n",
              "0  [ The Subway, Phoebe is singing for\\nchange., ...                       13   \n",
              "1  [Central Perk, everyone's there.,  Museum of P...                       11   \n",
              "2  [ Chandler and Joey's, Chandler is helping Joe...                       14   \n",
              "3  [ Central Perk, Ross and Monica are watching P...                       15   \n",
              "4  [ Central Perk, all six are there.,  Central P...                       16   \n",
              "\n",
              "                                           locations  \\\n",
              "0  [The Subway, Ross's Apartment, A Restaurant, M...   \n",
              "1  [Central Perk, Museum of Prehistoric History, ...   \n",
              "2  [Chandler and Joey's, Central Perk, Iridium, M...   \n",
              "3  [Central Perk, A Street, Central Perk, Monica ...   \n",
              "4  [Central Perk, Central Perk, Monica and Rachel...   \n",
              "\n",
              "                                                locs  sarcasm_index  \n",
              "0  [Ross's Apartment, Monica's Apartment, Ross's ...       0.666667  \n",
              "1   [Central Perk, Central Perk, Monica's Apartment]       0.714286  \n",
              "2  [Central Perk, Central Perk, Central Perk, Cen...       0.625000  \n",
              "3                       [Central Perk, Central Perk]       0.333333  \n",
              "4  [Central Perk, Central Perk, Monica's Apartmen...       0.625000  "
            ],
            "text/html": [
              "\n",
              "  <div id=\"df-42362382-0b11-473c-83c5-fc0de4eeb68b\" class=\"colab-df-container\">\n",
              "    <div>\n",
              "<style scoped>\n",
              "    .dataframe tbody tr th:only-of-type {\n",
              "        vertical-align: middle;\n",
              "    }\n",
              "\n",
              "    .dataframe tbody tr th {\n",
              "        vertical-align: top;\n",
              "    }\n",
              "\n",
              "    .dataframe thead th {\n",
              "        text-align: right;\n",
              "    }\n",
              "</style>\n",
              "<table border=\"1\" class=\"dataframe\">\n",
              "  <thead>\n",
              "    <tr style=\"text-align: right;\">\n",
              "      <th></th>\n",
              "      <th>text script</th>\n",
              "      <th>Title</th>\n",
              "      <th>Episode</th>\n",
              "      <th>Season</th>\n",
              "      <th>character_names</th>\n",
              "      <th>Spoken Word List</th>\n",
              "      <th>Total Spoken Words</th>\n",
              "      <th>List of Locations</th>\n",
              "      <th>scene changes</th>\n",
              "      <th>number of scene changes</th>\n",
              "      <th>locations</th>\n",
              "      <th>locs</th>\n",
              "      <th>sarcasm_index</th>\n",
              "    </tr>\n",
              "  </thead>\n",
              "  <tbody>\n",
              "    <tr>\n",
              "      <th>0</th>\n",
              "      <td>[Scene: The Subway, Phoebe is singing for\\ncha...</td>\n",
              "      <td>The Pilot-The Uncut Version</td>\n",
              "      <td>1.0</td>\n",
              "      <td>1.0</td>\n",
              "      <td>['Joey', 'Paul', 'Rachel', 'Frannie', 'Chandle...</td>\n",
              "      <td>{'[Scene': 81, 'Phoebe': 166, 'Ross': 357, 'Jo...</td>\n",
              "      <td>2290</td>\n",
              "      <td>[Iridium]</td>\n",
              "      <td>[ The Subway, Phoebe is singing for\\nchange., ...</td>\n",
              "      <td>13</td>\n",
              "      <td>[The Subway, Ross's Apartment, A Restaurant, M...</td>\n",
              "      <td>[Ross's Apartment, Monica's Apartment, Ross's ...</td>\n",
              "      <td>0.666667</td>\n",
              "    </tr>\n",
              "    <tr>\n",
              "      <th>1</th>\n",
              "      <td>[Scene Central Perk, everyone's there.]\\nMonic...</td>\n",
              "      <td>The One With The Sonogram At the End</td>\n",
              "      <td>2.0</td>\n",
              "      <td>1.0</td>\n",
              "      <td>['Rachel', 'Joey', 'Barry', 'Scene', 'Geller',...</td>\n",
              "      <td>{'Monica': 253, 'Joey': 73, 'Phoebe': 115, 'Ra...</td>\n",
              "      <td>2520</td>\n",
              "      <td>[Central Park]</td>\n",
              "      <td>[Central Perk, everyone's there.,  Museum of P...</td>\n",
              "      <td>11</td>\n",
              "      <td>[Central Perk, Museum of Prehistoric History, ...</td>\n",
              "      <td>[Central Perk, Central Perk, Monica's Apartment]</td>\n",
              "      <td>0.714286</td>\n",
              "    </tr>\n",
              "    <tr>\n",
              "      <th>2</th>\n",
              "      <td>[Scene: Chandler and Joey's, Chandler is helpi...</td>\n",
              "      <td>The One With The Thumb</td>\n",
              "      <td>3.0</td>\n",
              "      <td>1.0</td>\n",
              "      <td>['Joey', 'Rachel', 'Scene', 'Chandler', 'Lizzi...</td>\n",
              "      <td>{'Chandler': 449, 'Joey': 185, 'Monica': 480, ...</td>\n",
              "      <td>2336</td>\n",
              "      <td>[Central Perk, Iridium, Iridium, Cental Perk]</td>\n",
              "      <td>[ Chandler and Joey's, Chandler is helping Joe...</td>\n",
              "      <td>14</td>\n",
              "      <td>[Chandler and Joey's, Central Perk, Iridium, M...</td>\n",
              "      <td>[Central Perk, Central Perk, Central Perk, Cen...</td>\n",
              "      <td>0.625000</td>\n",
              "    </tr>\n",
              "    <tr>\n",
              "      <th>3</th>\n",
              "      <td>[Scene: Central Perk, Ross and Monica are watc...</td>\n",
              "      <td>The One With George Stephanopoulos</td>\n",
              "      <td>4.0</td>\n",
              "      <td>1.0</td>\n",
              "      <td>['Joey', 'Rachel', 'Receptionist', 'Chandler',...</td>\n",
              "      <td>{'[Scene': 158, 'Monica': 418, 'Ross': 440, 'P...</td>\n",
              "      <td>2721</td>\n",
              "      <td>[]</td>\n",
              "      <td>[ Central Perk, Ross and Monica are watching P...</td>\n",
              "      <td>15</td>\n",
              "      <td>[Central Perk, A Street, Central Perk, Monica ...</td>\n",
              "      <td>[Central Perk, Central Perk]</td>\n",
              "      <td>0.333333</td>\n",
              "    </tr>\n",
              "    <tr>\n",
              "      <th>4</th>\n",
              "      <td>[Scene: Central Perk, all six are there.]\\nMon...</td>\n",
              "      <td>The One With The East German Laundry Detergant</td>\n",
              "      <td>5.0</td>\n",
              "      <td>1.0</td>\n",
              "      <td>['Angela', 'Joey', 'Rachel', 'Bob', 'Chandler'...</td>\n",
              "      <td>{'Monica': 323, 'Ross': 560, 'Rachel': 371, 'C...</td>\n",
              "      <td>2765</td>\n",
              "      <td>[]</td>\n",
              "      <td>[ Central Perk, all six are there.,  Central P...</td>\n",
              "      <td>16</td>\n",
              "      <td>[Central Perk, Central Perk, Monica and Rachel...</td>\n",
              "      <td>[Central Perk, Central Perk, Monica's Apartmen...</td>\n",
              "      <td>0.625000</td>\n",
              "    </tr>\n",
              "  </tbody>\n",
              "</table>\n",
              "</div>\n",
              "    <div class=\"colab-df-buttons\">\n",
              "\n",
              "  <div class=\"colab-df-container\">\n",
              "    <button class=\"colab-df-convert\" onclick=\"convertToInteractive('df-42362382-0b11-473c-83c5-fc0de4eeb68b')\"\n",
              "            title=\"Convert this dataframe to an interactive table.\"\n",
              "            style=\"display:none;\">\n",
              "\n",
              "  <svg xmlns=\"http://www.w3.org/2000/svg\" height=\"24px\" viewBox=\"0 -960 960 960\">\n",
              "    <path d=\"M120-120v-720h720v720H120Zm60-500h600v-160H180v160Zm220 220h160v-160H400v160Zm0 220h160v-160H400v160ZM180-400h160v-160H180v160Zm440 0h160v-160H620v160ZM180-180h160v-160H180v160Zm440 0h160v-160H620v160Z\"/>\n",
              "  </svg>\n",
              "    </button>\n",
              "\n",
              "  <style>\n",
              "    .colab-df-container {\n",
              "      display:flex;\n",
              "      gap: 12px;\n",
              "    }\n",
              "\n",
              "    .colab-df-convert {\n",
              "      background-color: #E8F0FE;\n",
              "      border: none;\n",
              "      border-radius: 50%;\n",
              "      cursor: pointer;\n",
              "      display: none;\n",
              "      fill: #1967D2;\n",
              "      height: 32px;\n",
              "      padding: 0 0 0 0;\n",
              "      width: 32px;\n",
              "    }\n",
              "\n",
              "    .colab-df-convert:hover {\n",
              "      background-color: #E2EBFA;\n",
              "      box-shadow: 0px 1px 2px rgba(60, 64, 67, 0.3), 0px 1px 3px 1px rgba(60, 64, 67, 0.15);\n",
              "      fill: #174EA6;\n",
              "    }\n",
              "\n",
              "    .colab-df-buttons div {\n",
              "      margin-bottom: 4px;\n",
              "    }\n",
              "\n",
              "    [theme=dark] .colab-df-convert {\n",
              "      background-color: #3B4455;\n",
              "      fill: #D2E3FC;\n",
              "    }\n",
              "\n",
              "    [theme=dark] .colab-df-convert:hover {\n",
              "      background-color: #434B5C;\n",
              "      box-shadow: 0px 1px 3px 1px rgba(0, 0, 0, 0.15);\n",
              "      filter: drop-shadow(0px 1px 2px rgba(0, 0, 0, 0.3));\n",
              "      fill: #FFFFFF;\n",
              "    }\n",
              "  </style>\n",
              "\n",
              "    <script>\n",
              "      const buttonEl =\n",
              "        document.querySelector('#df-42362382-0b11-473c-83c5-fc0de4eeb68b button.colab-df-convert');\n",
              "      buttonEl.style.display =\n",
              "        google.colab.kernel.accessAllowed ? 'block' : 'none';\n",
              "\n",
              "      async function convertToInteractive(key) {\n",
              "        const element = document.querySelector('#df-42362382-0b11-473c-83c5-fc0de4eeb68b');\n",
              "        const dataTable =\n",
              "          await google.colab.kernel.invokeFunction('convertToInteractive',\n",
              "                                                    [key], {});\n",
              "        if (!dataTable) return;\n",
              "\n",
              "        const docLinkHtml = 'Like what you see? Visit the ' +\n",
              "          '<a target=\"_blank\" href=https://colab.research.google.com/notebooks/data_table.ipynb>data table notebook</a>'\n",
              "          + ' to learn more about interactive tables.';\n",
              "        element.innerHTML = '';\n",
              "        dataTable['output_type'] = 'display_data';\n",
              "        await google.colab.output.renderOutput(dataTable, element);\n",
              "        const docLink = document.createElement('div');\n",
              "        docLink.innerHTML = docLinkHtml;\n",
              "        element.appendChild(docLink);\n",
              "      }\n",
              "    </script>\n",
              "  </div>\n",
              "\n",
              "\n",
              "<div id=\"df-f745d44b-0122-4ed4-ab75-c02b1c84f259\">\n",
              "  <button class=\"colab-df-quickchart\" onclick=\"quickchart('df-f745d44b-0122-4ed4-ab75-c02b1c84f259')\"\n",
              "            title=\"Suggest charts\"\n",
              "            style=\"display:none;\">\n",
              "\n",
              "<svg xmlns=\"http://www.w3.org/2000/svg\" height=\"24px\"viewBox=\"0 0 24 24\"\n",
              "     width=\"24px\">\n",
              "    <g>\n",
              "        <path d=\"M19 3H5c-1.1 0-2 .9-2 2v14c0 1.1.9 2 2 2h14c1.1 0 2-.9 2-2V5c0-1.1-.9-2-2-2zM9 17H7v-7h2v7zm4 0h-2V7h2v10zm4 0h-2v-4h2v4z\"/>\n",
              "    </g>\n",
              "</svg>\n",
              "  </button>\n",
              "\n",
              "<style>\n",
              "  .colab-df-quickchart {\n",
              "      --bg-color: #E8F0FE;\n",
              "      --fill-color: #1967D2;\n",
              "      --hover-bg-color: #E2EBFA;\n",
              "      --hover-fill-color: #174EA6;\n",
              "      --disabled-fill-color: #AAA;\n",
              "      --disabled-bg-color: #DDD;\n",
              "  }\n",
              "\n",
              "  [theme=dark] .colab-df-quickchart {\n",
              "      --bg-color: #3B4455;\n",
              "      --fill-color: #D2E3FC;\n",
              "      --hover-bg-color: #434B5C;\n",
              "      --hover-fill-color: #FFFFFF;\n",
              "      --disabled-bg-color: #3B4455;\n",
              "      --disabled-fill-color: #666;\n",
              "  }\n",
              "\n",
              "  .colab-df-quickchart {\n",
              "    background-color: var(--bg-color);\n",
              "    border: none;\n",
              "    border-radius: 50%;\n",
              "    cursor: pointer;\n",
              "    display: none;\n",
              "    fill: var(--fill-color);\n",
              "    height: 32px;\n",
              "    padding: 0;\n",
              "    width: 32px;\n",
              "  }\n",
              "\n",
              "  .colab-df-quickchart:hover {\n",
              "    background-color: var(--hover-bg-color);\n",
              "    box-shadow: 0 1px 2px rgba(60, 64, 67, 0.3), 0 1px 3px 1px rgba(60, 64, 67, 0.15);\n",
              "    fill: var(--button-hover-fill-color);\n",
              "  }\n",
              "\n",
              "  .colab-df-quickchart-complete:disabled,\n",
              "  .colab-df-quickchart-complete:disabled:hover {\n",
              "    background-color: var(--disabled-bg-color);\n",
              "    fill: var(--disabled-fill-color);\n",
              "    box-shadow: none;\n",
              "  }\n",
              "\n",
              "  .colab-df-spinner {\n",
              "    border: 2px solid var(--fill-color);\n",
              "    border-color: transparent;\n",
              "    border-bottom-color: var(--fill-color);\n",
              "    animation:\n",
              "      spin 1s steps(1) infinite;\n",
              "  }\n",
              "\n",
              "  @keyframes spin {\n",
              "    0% {\n",
              "      border-color: transparent;\n",
              "      border-bottom-color: var(--fill-color);\n",
              "      border-left-color: var(--fill-color);\n",
              "    }\n",
              "    20% {\n",
              "      border-color: transparent;\n",
              "      border-left-color: var(--fill-color);\n",
              "      border-top-color: var(--fill-color);\n",
              "    }\n",
              "    30% {\n",
              "      border-color: transparent;\n",
              "      border-left-color: var(--fill-color);\n",
              "      border-top-color: var(--fill-color);\n",
              "      border-right-color: var(--fill-color);\n",
              "    }\n",
              "    40% {\n",
              "      border-color: transparent;\n",
              "      border-right-color: var(--fill-color);\n",
              "      border-top-color: var(--fill-color);\n",
              "    }\n",
              "    60% {\n",
              "      border-color: transparent;\n",
              "      border-right-color: var(--fill-color);\n",
              "    }\n",
              "    80% {\n",
              "      border-color: transparent;\n",
              "      border-right-color: var(--fill-color);\n",
              "      border-bottom-color: var(--fill-color);\n",
              "    }\n",
              "    90% {\n",
              "      border-color: transparent;\n",
              "      border-bottom-color: var(--fill-color);\n",
              "    }\n",
              "  }\n",
              "</style>\n",
              "\n",
              "  <script>\n",
              "    async function quickchart(key) {\n",
              "      const quickchartButtonEl =\n",
              "        document.querySelector('#' + key + ' button');\n",
              "      quickchartButtonEl.disabled = true;  // To prevent multiple clicks.\n",
              "      quickchartButtonEl.classList.add('colab-df-spinner');\n",
              "      try {\n",
              "        const charts = await google.colab.kernel.invokeFunction(\n",
              "            'suggestCharts', [key], {});\n",
              "      } catch (error) {\n",
              "        console.error('Error during call to suggestCharts:', error);\n",
              "      }\n",
              "      quickchartButtonEl.classList.remove('colab-df-spinner');\n",
              "      quickchartButtonEl.classList.add('colab-df-quickchart-complete');\n",
              "    }\n",
              "    (() => {\n",
              "      let quickchartButtonEl =\n",
              "        document.querySelector('#df-f745d44b-0122-4ed4-ab75-c02b1c84f259 button');\n",
              "      quickchartButtonEl.style.display =\n",
              "        google.colab.kernel.accessAllowed ? 'block' : 'none';\n",
              "    })();\n",
              "  </script>\n",
              "</div>\n",
              "    </div>\n",
              "  </div>\n"
            ]
          },
          "metadata": {},
          "execution_count": 55
        }
      ]
    },
    {
      "cell_type": "code",
      "source": [
        "#saving results\n",
        "df_final['Sarcasm Index'] = df['sarcasm_index']\n",
        "df_final.head()"
      ],
      "metadata": {
        "colab": {
          "base_uri": "https://localhost:8080/",
          "height": 628
        },
        "id": "u2HJ967ew2UR",
        "outputId": "f2f4bdae-3043-4b69-fa7c-e7527158ef99"
      },
      "execution_count": 56,
      "outputs": [
        {
          "output_type": "stream",
          "name": "stderr",
          "text": [
            "<ipython-input-56-3cb8199a40f8>:1: SettingWithCopyWarning: \n",
            "A value is trying to be set on a copy of a slice from a DataFrame.\n",
            "Try using .loc[row_indexer,col_indexer] = value instead\n",
            "\n",
            "See the caveats in the documentation: https://pandas.pydata.org/pandas-docs/stable/user_guide/indexing.html#returning-a-view-versus-a-copy\n",
            "  df_final['Sarcasm Index'] = df['sarcasm_index']\n"
          ]
        },
        {
          "output_type": "execute_result",
          "data": {
            "text/plain": [
              "                                             Title  Episode  Season  \\\n",
              "0                      The Pilot-The Uncut Version      1.0     1.0   \n",
              "1             The One With The Sonogram At the End      2.0     1.0   \n",
              "2                           The One With The Thumb      3.0     1.0   \n",
              "3               The One With George Stephanopoulos      4.0     1.0   \n",
              "4   The One With The East German Laundry Detergant      5.0     1.0   \n",
              "\n",
              "                                     character_names  \\\n",
              "0  ['Joey', 'Paul', 'Rachel', 'Frannie', 'Chandle...   \n",
              "1  ['Rachel', 'Joey', 'Barry', 'Scene', 'Geller',...   \n",
              "2  ['Joey', 'Rachel', 'Scene', 'Chandler', 'Lizzi...   \n",
              "3  ['Joey', 'Rachel', 'Receptionist', 'Chandler',...   \n",
              "4  ['Angela', 'Joey', 'Rachel', 'Bob', 'Chandler'...   \n",
              "\n",
              "                                    Spoken Word List  Total Spoken Words  \\\n",
              "0  {'[Scene': 81, 'Phoebe': 166, 'Ross': 357, 'Jo...                2290   \n",
              "1  {'Monica': 253, 'Joey': 73, 'Phoebe': 115, 'Ra...                2520   \n",
              "2  {'Chandler': 449, 'Joey': 185, 'Monica': 480, ...                2336   \n",
              "3  {'[Scene': 158, 'Monica': 418, 'Ross': 440, 'P...                2721   \n",
              "4  {'Monica': 323, 'Ross': 560, 'Rachel': 371, 'C...                2765   \n",
              "\n",
              "   number of scene changes                                               locs  \\\n",
              "0                       13  [Ross's Apartment, Monica's Apartment, Ross's ...   \n",
              "1                       11   [Central Perk, Central Perk, Monica's Apartment]   \n",
              "2                       14  [Central Perk, Central Perk, Central Perk, Cen...   \n",
              "3                       15                       [Central Perk, Central Perk]   \n",
              "4                       16  [Central Perk, Central Perk, Monica's Apartmen...   \n",
              "\n",
              "   Sarcasm Index  \n",
              "0       0.666667  \n",
              "1       0.714286  \n",
              "2       0.625000  \n",
              "3       0.333333  \n",
              "4       0.625000  "
            ],
            "text/html": [
              "\n",
              "  <div id=\"df-332e95d4-111d-4df1-8245-e56ba47f40ef\" class=\"colab-df-container\">\n",
              "    <div>\n",
              "<style scoped>\n",
              "    .dataframe tbody tr th:only-of-type {\n",
              "        vertical-align: middle;\n",
              "    }\n",
              "\n",
              "    .dataframe tbody tr th {\n",
              "        vertical-align: top;\n",
              "    }\n",
              "\n",
              "    .dataframe thead th {\n",
              "        text-align: right;\n",
              "    }\n",
              "</style>\n",
              "<table border=\"1\" class=\"dataframe\">\n",
              "  <thead>\n",
              "    <tr style=\"text-align: right;\">\n",
              "      <th></th>\n",
              "      <th>Title</th>\n",
              "      <th>Episode</th>\n",
              "      <th>Season</th>\n",
              "      <th>character_names</th>\n",
              "      <th>Spoken Word List</th>\n",
              "      <th>Total Spoken Words</th>\n",
              "      <th>number of scene changes</th>\n",
              "      <th>locs</th>\n",
              "      <th>Sarcasm Index</th>\n",
              "    </tr>\n",
              "  </thead>\n",
              "  <tbody>\n",
              "    <tr>\n",
              "      <th>0</th>\n",
              "      <td>The Pilot-The Uncut Version</td>\n",
              "      <td>1.0</td>\n",
              "      <td>1.0</td>\n",
              "      <td>['Joey', 'Paul', 'Rachel', 'Frannie', 'Chandle...</td>\n",
              "      <td>{'[Scene': 81, 'Phoebe': 166, 'Ross': 357, 'Jo...</td>\n",
              "      <td>2290</td>\n",
              "      <td>13</td>\n",
              "      <td>[Ross's Apartment, Monica's Apartment, Ross's ...</td>\n",
              "      <td>0.666667</td>\n",
              "    </tr>\n",
              "    <tr>\n",
              "      <th>1</th>\n",
              "      <td>The One With The Sonogram At the End</td>\n",
              "      <td>2.0</td>\n",
              "      <td>1.0</td>\n",
              "      <td>['Rachel', 'Joey', 'Barry', 'Scene', 'Geller',...</td>\n",
              "      <td>{'Monica': 253, 'Joey': 73, 'Phoebe': 115, 'Ra...</td>\n",
              "      <td>2520</td>\n",
              "      <td>11</td>\n",
              "      <td>[Central Perk, Central Perk, Monica's Apartment]</td>\n",
              "      <td>0.714286</td>\n",
              "    </tr>\n",
              "    <tr>\n",
              "      <th>2</th>\n",
              "      <td>The One With The Thumb</td>\n",
              "      <td>3.0</td>\n",
              "      <td>1.0</td>\n",
              "      <td>['Joey', 'Rachel', 'Scene', 'Chandler', 'Lizzi...</td>\n",
              "      <td>{'Chandler': 449, 'Joey': 185, 'Monica': 480, ...</td>\n",
              "      <td>2336</td>\n",
              "      <td>14</td>\n",
              "      <td>[Central Perk, Central Perk, Central Perk, Cen...</td>\n",
              "      <td>0.625000</td>\n",
              "    </tr>\n",
              "    <tr>\n",
              "      <th>3</th>\n",
              "      <td>The One With George Stephanopoulos</td>\n",
              "      <td>4.0</td>\n",
              "      <td>1.0</td>\n",
              "      <td>['Joey', 'Rachel', 'Receptionist', 'Chandler',...</td>\n",
              "      <td>{'[Scene': 158, 'Monica': 418, 'Ross': 440, 'P...</td>\n",
              "      <td>2721</td>\n",
              "      <td>15</td>\n",
              "      <td>[Central Perk, Central Perk]</td>\n",
              "      <td>0.333333</td>\n",
              "    </tr>\n",
              "    <tr>\n",
              "      <th>4</th>\n",
              "      <td>The One With The East German Laundry Detergant</td>\n",
              "      <td>5.0</td>\n",
              "      <td>1.0</td>\n",
              "      <td>['Angela', 'Joey', 'Rachel', 'Bob', 'Chandler'...</td>\n",
              "      <td>{'Monica': 323, 'Ross': 560, 'Rachel': 371, 'C...</td>\n",
              "      <td>2765</td>\n",
              "      <td>16</td>\n",
              "      <td>[Central Perk, Central Perk, Monica's Apartmen...</td>\n",
              "      <td>0.625000</td>\n",
              "    </tr>\n",
              "  </tbody>\n",
              "</table>\n",
              "</div>\n",
              "    <div class=\"colab-df-buttons\">\n",
              "\n",
              "  <div class=\"colab-df-container\">\n",
              "    <button class=\"colab-df-convert\" onclick=\"convertToInteractive('df-332e95d4-111d-4df1-8245-e56ba47f40ef')\"\n",
              "            title=\"Convert this dataframe to an interactive table.\"\n",
              "            style=\"display:none;\">\n",
              "\n",
              "  <svg xmlns=\"http://www.w3.org/2000/svg\" height=\"24px\" viewBox=\"0 -960 960 960\">\n",
              "    <path d=\"M120-120v-720h720v720H120Zm60-500h600v-160H180v160Zm220 220h160v-160H400v160Zm0 220h160v-160H400v160ZM180-400h160v-160H180v160Zm440 0h160v-160H620v160ZM180-180h160v-160H180v160Zm440 0h160v-160H620v160Z\"/>\n",
              "  </svg>\n",
              "    </button>\n",
              "\n",
              "  <style>\n",
              "    .colab-df-container {\n",
              "      display:flex;\n",
              "      gap: 12px;\n",
              "    }\n",
              "\n",
              "    .colab-df-convert {\n",
              "      background-color: #E8F0FE;\n",
              "      border: none;\n",
              "      border-radius: 50%;\n",
              "      cursor: pointer;\n",
              "      display: none;\n",
              "      fill: #1967D2;\n",
              "      height: 32px;\n",
              "      padding: 0 0 0 0;\n",
              "      width: 32px;\n",
              "    }\n",
              "\n",
              "    .colab-df-convert:hover {\n",
              "      background-color: #E2EBFA;\n",
              "      box-shadow: 0px 1px 2px rgba(60, 64, 67, 0.3), 0px 1px 3px 1px rgba(60, 64, 67, 0.15);\n",
              "      fill: #174EA6;\n",
              "    }\n",
              "\n",
              "    .colab-df-buttons div {\n",
              "      margin-bottom: 4px;\n",
              "    }\n",
              "\n",
              "    [theme=dark] .colab-df-convert {\n",
              "      background-color: #3B4455;\n",
              "      fill: #D2E3FC;\n",
              "    }\n",
              "\n",
              "    [theme=dark] .colab-df-convert:hover {\n",
              "      background-color: #434B5C;\n",
              "      box-shadow: 0px 1px 3px 1px rgba(0, 0, 0, 0.15);\n",
              "      filter: drop-shadow(0px 1px 2px rgba(0, 0, 0, 0.3));\n",
              "      fill: #FFFFFF;\n",
              "    }\n",
              "  </style>\n",
              "\n",
              "    <script>\n",
              "      const buttonEl =\n",
              "        document.querySelector('#df-332e95d4-111d-4df1-8245-e56ba47f40ef button.colab-df-convert');\n",
              "      buttonEl.style.display =\n",
              "        google.colab.kernel.accessAllowed ? 'block' : 'none';\n",
              "\n",
              "      async function convertToInteractive(key) {\n",
              "        const element = document.querySelector('#df-332e95d4-111d-4df1-8245-e56ba47f40ef');\n",
              "        const dataTable =\n",
              "          await google.colab.kernel.invokeFunction('convertToInteractive',\n",
              "                                                    [key], {});\n",
              "        if (!dataTable) return;\n",
              "\n",
              "        const docLinkHtml = 'Like what you see? Visit the ' +\n",
              "          '<a target=\"_blank\" href=https://colab.research.google.com/notebooks/data_table.ipynb>data table notebook</a>'\n",
              "          + ' to learn more about interactive tables.';\n",
              "        element.innerHTML = '';\n",
              "        dataTable['output_type'] = 'display_data';\n",
              "        await google.colab.output.renderOutput(dataTable, element);\n",
              "        const docLink = document.createElement('div');\n",
              "        docLink.innerHTML = docLinkHtml;\n",
              "        element.appendChild(docLink);\n",
              "      }\n",
              "    </script>\n",
              "  </div>\n",
              "\n",
              "\n",
              "<div id=\"df-fc0ae534-fd6f-4804-afd5-87409879c022\">\n",
              "  <button class=\"colab-df-quickchart\" onclick=\"quickchart('df-fc0ae534-fd6f-4804-afd5-87409879c022')\"\n",
              "            title=\"Suggest charts\"\n",
              "            style=\"display:none;\">\n",
              "\n",
              "<svg xmlns=\"http://www.w3.org/2000/svg\" height=\"24px\"viewBox=\"0 0 24 24\"\n",
              "     width=\"24px\">\n",
              "    <g>\n",
              "        <path d=\"M19 3H5c-1.1 0-2 .9-2 2v14c0 1.1.9 2 2 2h14c1.1 0 2-.9 2-2V5c0-1.1-.9-2-2-2zM9 17H7v-7h2v7zm4 0h-2V7h2v10zm4 0h-2v-4h2v4z\"/>\n",
              "    </g>\n",
              "</svg>\n",
              "  </button>\n",
              "\n",
              "<style>\n",
              "  .colab-df-quickchart {\n",
              "      --bg-color: #E8F0FE;\n",
              "      --fill-color: #1967D2;\n",
              "      --hover-bg-color: #E2EBFA;\n",
              "      --hover-fill-color: #174EA6;\n",
              "      --disabled-fill-color: #AAA;\n",
              "      --disabled-bg-color: #DDD;\n",
              "  }\n",
              "\n",
              "  [theme=dark] .colab-df-quickchart {\n",
              "      --bg-color: #3B4455;\n",
              "      --fill-color: #D2E3FC;\n",
              "      --hover-bg-color: #434B5C;\n",
              "      --hover-fill-color: #FFFFFF;\n",
              "      --disabled-bg-color: #3B4455;\n",
              "      --disabled-fill-color: #666;\n",
              "  }\n",
              "\n",
              "  .colab-df-quickchart {\n",
              "    background-color: var(--bg-color);\n",
              "    border: none;\n",
              "    border-radius: 50%;\n",
              "    cursor: pointer;\n",
              "    display: none;\n",
              "    fill: var(--fill-color);\n",
              "    height: 32px;\n",
              "    padding: 0;\n",
              "    width: 32px;\n",
              "  }\n",
              "\n",
              "  .colab-df-quickchart:hover {\n",
              "    background-color: var(--hover-bg-color);\n",
              "    box-shadow: 0 1px 2px rgba(60, 64, 67, 0.3), 0 1px 3px 1px rgba(60, 64, 67, 0.15);\n",
              "    fill: var(--button-hover-fill-color);\n",
              "  }\n",
              "\n",
              "  .colab-df-quickchart-complete:disabled,\n",
              "  .colab-df-quickchart-complete:disabled:hover {\n",
              "    background-color: var(--disabled-bg-color);\n",
              "    fill: var(--disabled-fill-color);\n",
              "    box-shadow: none;\n",
              "  }\n",
              "\n",
              "  .colab-df-spinner {\n",
              "    border: 2px solid var(--fill-color);\n",
              "    border-color: transparent;\n",
              "    border-bottom-color: var(--fill-color);\n",
              "    animation:\n",
              "      spin 1s steps(1) infinite;\n",
              "  }\n",
              "\n",
              "  @keyframes spin {\n",
              "    0% {\n",
              "      border-color: transparent;\n",
              "      border-bottom-color: var(--fill-color);\n",
              "      border-left-color: var(--fill-color);\n",
              "    }\n",
              "    20% {\n",
              "      border-color: transparent;\n",
              "      border-left-color: var(--fill-color);\n",
              "      border-top-color: var(--fill-color);\n",
              "    }\n",
              "    30% {\n",
              "      border-color: transparent;\n",
              "      border-left-color: var(--fill-color);\n",
              "      border-top-color: var(--fill-color);\n",
              "      border-right-color: var(--fill-color);\n",
              "    }\n",
              "    40% {\n",
              "      border-color: transparent;\n",
              "      border-right-color: var(--fill-color);\n",
              "      border-top-color: var(--fill-color);\n",
              "    }\n",
              "    60% {\n",
              "      border-color: transparent;\n",
              "      border-right-color: var(--fill-color);\n",
              "    }\n",
              "    80% {\n",
              "      border-color: transparent;\n",
              "      border-right-color: var(--fill-color);\n",
              "      border-bottom-color: var(--fill-color);\n",
              "    }\n",
              "    90% {\n",
              "      border-color: transparent;\n",
              "      border-bottom-color: var(--fill-color);\n",
              "    }\n",
              "  }\n",
              "</style>\n",
              "\n",
              "  <script>\n",
              "    async function quickchart(key) {\n",
              "      const quickchartButtonEl =\n",
              "        document.querySelector('#' + key + ' button');\n",
              "      quickchartButtonEl.disabled = true;  // To prevent multiple clicks.\n",
              "      quickchartButtonEl.classList.add('colab-df-spinner');\n",
              "      try {\n",
              "        const charts = await google.colab.kernel.invokeFunction(\n",
              "            'suggestCharts', [key], {});\n",
              "      } catch (error) {\n",
              "        console.error('Error during call to suggestCharts:', error);\n",
              "      }\n",
              "      quickchartButtonEl.classList.remove('colab-df-spinner');\n",
              "      quickchartButtonEl.classList.add('colab-df-quickchart-complete');\n",
              "    }\n",
              "    (() => {\n",
              "      let quickchartButtonEl =\n",
              "        document.querySelector('#df-fc0ae534-fd6f-4804-afd5-87409879c022 button');\n",
              "      quickchartButtonEl.style.display =\n",
              "        google.colab.kernel.accessAllowed ? 'block' : 'none';\n",
              "    })();\n",
              "  </script>\n",
              "</div>\n",
              "    </div>\n",
              "  </div>\n"
            ]
          },
          "metadata": {},
          "execution_count": 56
        }
      ]
    },
    {
      "cell_type": "code",
      "source": [
        "df_final.to_csv('CP_2.csv') #saving and checkpoint"
      ],
      "metadata": {
        "id": "F4wfNORF3dhl"
      },
      "execution_count": 57,
      "outputs": []
    },
    {
      "cell_type": "markdown",
      "source": [
        "## Detecting emotional Archetypes"
      ],
      "metadata": {
        "id": "yW-UnzxYgIfJ"
      }
    },
    {
      "cell_type": "markdown",
      "source": [
        "Taking inspiration from the original rejected thesis by acclaimed American writer Kurt Vonnegut and the recent work of a group of researchers from the University of Vermont we worked under the assumption that stories may have one of 6 archetypes and added a 7th case 'Uncharted' when such a pattern could not be recognised. The six archetypes were - \"Rags to Riches\" (rise), \"Riches to Rags\" (fall), \"Man in a Hole\" (fall then rise), \"Icarus\" (rise then fall), \"Cinderella\" (rise then fall then rise) and \"Oedipus\" (fall then rise then fall). We first use a sliding window approach of 200 words over the script and then create a rule based mapping to obtain the archetype value. Most of ou scripts were \"Uncharted\""
      ],
      "metadata": {
        "id": "5SvupDBYgMKf"
      }
    },
    {
      "cell_type": "code",
      "source": [
        "#function to map scripts to archetype given a list of detected sentiments using the sliding window approach\n",
        "def categorize_story(sentiment_list):\n",
        "    positive_sentiments = {'joy', 'surprise', 'neutral'}\n",
        "    negative_sentiments = {'anger', 'fear', 'disgust', 'sadness'}\n",
        "\n",
        "    positive_count = sum(1 for sentiment in sentiment_list if sentiment in positive_sentiments)\n",
        "    negative_count = sum(1 for sentiment in sentiment_list if sentiment in negative_sentiments)\n",
        "\n",
        "    total_sentiments = positive_count + negative_count\n",
        "\n",
        "    # Rule 1: All Positive Sentiments\n",
        "    if positive_count == total_sentiments:\n",
        "        return \"Rags to Riches\"\n",
        "\n",
        "    # Rule 2: All Negative Sentiments\n",
        "    elif negative_count == total_sentiments:\n",
        "        return \"Riches to Rags\"\n",
        "\n",
        "    midpoint = len(sentiment_list) // 2\n",
        "    part1 = sentiment_list[:midpoint]\n",
        "    part2 = sentiment_list[midpoint:]\n",
        "\n",
        "    part1_pc = sum(1 for sentiment in part1 if sentiment in positive_sentiments)\n",
        "    part1_nc = sum(1 for sentiment in part1 if sentiment in negative_sentiments)\n",
        "    part2_pc = sum(1 for sentiment in part2 if sentiment in positive_sentiments)\n",
        "    part2_nc = sum(1 for sentiment in part2 if sentiment in negative_sentiments)\n",
        "\n",
        "    # Rule 3: First Half Mostly Negative, Second Half Mostly Positive (Icarus)\n",
        "    if part1_nc > part1_pc and part2_pc > part2_nc:\n",
        "        return \"Icarus\"\n",
        "\n",
        "    # Rule 4: First Half Mostly Positive, Second Half Mostly Negative (Man in a Hole)\n",
        "    elif part1_pc > part1_nc and part2_nc > part2_pc:\n",
        "        return \"Man in a Hole\"\n",
        "\n",
        "    midpoint1 = len(sentiment_list) // 3\n",
        "    midpoint2 = 2 * midpoint1\n",
        "    part1 = sentiment_list[:midpoint1]\n",
        "    part2 = sentiment_list[midpoint1:midpoint2]\n",
        "    part3 = sentiment_list[midpoint2:]\n",
        "\n",
        "    part1_pc = sum(1 for sentiment in part1 if sentiment in positive_sentiments)\n",
        "    part1_nc = sum(1 for sentiment in part1 if sentiment in negative_sentiments)\n",
        "    part2_pc = sum(1 for sentiment in part2 if sentiment in positive_sentiments)\n",
        "    part2_nc = sum(1 for sentiment in part2 if sentiment in negative_sentiments)\n",
        "    part3_pc = sum(1 for sentiment in part3 if sentiment in positive_sentiments)\n",
        "    part3_nc = sum(1 for sentiment in part3 if sentiment in negative_sentiments)\n",
        "\n",
        "    # Rule 5: Three-Part Pattern (Cinderella)\n",
        "    if part1_nc > part1_pc and part2_pc > part2_nc and part3_pc > part3_nc:\n",
        "        return \"Cinderella\"\n",
        "\n",
        "    # Rule 6: Three-Part Pattern (Oedipus)\n",
        "    elif part1_pc > part1_nc and part2_nc > part2_pc and part3_nc > part3_pc:\n",
        "        return \"Oedipus\"\n",
        "\n",
        "    # Default: Uncategorized\n",
        "    else:\n",
        "        return \"Uncharted\""
      ],
      "metadata": {
        "id": "0E6kYstlHz3O"
      },
      "execution_count": 12,
      "outputs": []
    },
    {
      "cell_type": "code",
      "source": [
        "import re\n",
        "import string\n",
        "import pandas as pd\n",
        "from transformers import AutoTokenizer, AutoModelForSequenceClassification\n",
        "from tqdm import tqdm  # Import tqdm\n",
        "from transformers import pipeline\n",
        "classifier = pipeline(\"sentiment-analysis\", model=\"michellejieli/emotion_text_classifier\")\n",
        "\n",
        "#function to clean the text\n",
        "def cleaned_text(text):\n",
        "    lines = text.split('\\n')\n",
        "    cleaned_spoken_texts = []\n",
        "    for line in lines:\n",
        "        # Remove text within square brackets and parentheses\n",
        "        line = re.sub(r'\\[.*?\\]|\\(.*?\\)', '', line)\n",
        "        if ':' in line:\n",
        "            character, spoken_text = line.split(':', 1)\n",
        "            spoken_text = preprocess_data(spoken_text.strip())\n",
        "            cleaned_spoken_texts.append(spoken_text)\n",
        "    return ' '.join(cleaned_spoken_texts)\n",
        "\n",
        "#remove all punctuations\n",
        "def preprocess_data(text: str) -> str:\n",
        "    return text.lower().translate(str.maketrans(\"\", \"\", string.punctuation)).strip()\n",
        "\n",
        "#create sliding windows\n",
        "def create_word_windows(text, window_size):\n",
        "    words = text.split()\n",
        "    windows = [words[i:i+window_size] for i in range(0, len(words), window_size)]\n",
        "    return [' '.join(window) for window in windows]\n",
        "\n",
        "#Calculating sentiment from pretrained huggingface model\n",
        "def calculate_senti_list(spoken_texts, classifier, progress_bar=True):\n",
        "    total_sarcastic_count = 0\n",
        "    total_sarcastic_confidence = 0.0\n",
        "\n",
        "    # Use tqdm to display a progress bar\n",
        "    iterator = tqdm(spoken_texts, desc=\"Processing\", disable=not progress_bar, position=0)\n",
        "    tot_list = []\n",
        "\n",
        "    # Keep track of the previous emotion\n",
        "    prev_emotion = None\n",
        "\n",
        "    for spoken_text in iterator:\n",
        "        emotion = str(classifier(spoken_text)[0]['label'])\n",
        "        tot_list.append(emotion)\n",
        "    tot_list = categorize_story(tot_list)\n",
        "    print(tot_list)\n",
        "    return tot_list\n",
        "\n",
        "# Assuming df is your DataFrame\n",
        "df['emoticon'] = df.apply(lambda row: (cleaned_text(row['text script']), int(200)), axis=1)\n",
        "df['emoticon'] = df['emoticon'].apply(lambda x: create_word_windows(x[0], x[1])).apply(lambda x: calculate_senti_list(x, classifier))\n",
        "\n",
        "df.head()\n"
      ],
      "metadata": {
        "colab": {
          "base_uri": "https://localhost:8080/",
          "height": 1000
        },
        "id": "Ky8QyfiOD_Hm",
        "outputId": "da83228e-35f9-4497-95a6-576d48e89ca2"
      },
      "execution_count": 13,
      "outputs": [
        {
          "output_type": "stream",
          "name": "stderr",
          "text": [
            "Processing: 100%|██████████| 6/6 [00:01<00:00,  3.96it/s]\n"
          ]
        },
        {
          "output_type": "stream",
          "name": "stdout",
          "text": [
            "Uncharted\n"
          ]
        },
        {
          "output_type": "stream",
          "name": "stderr",
          "text": [
            "Processing: 100%|██████████| 9/9 [00:02<00:00,  3.86it/s]\n"
          ]
        },
        {
          "output_type": "stream",
          "name": "stdout",
          "text": [
            "Icarus\n"
          ]
        },
        {
          "output_type": "stream",
          "name": "stderr",
          "text": [
            "Processing: 100%|██████████| 9/9 [00:02<00:00,  3.83it/s]\n"
          ]
        },
        {
          "output_type": "stream",
          "name": "stdout",
          "text": [
            "Man in a Hole\n"
          ]
        },
        {
          "output_type": "stream",
          "name": "stderr",
          "text": [
            "Processing: 100%|██████████| 8/8 [00:02<00:00,  3.64it/s]\n"
          ]
        },
        {
          "output_type": "stream",
          "name": "stdout",
          "text": [
            "Rags to Riches\n"
          ]
        },
        {
          "output_type": "stream",
          "name": "stderr",
          "text": [
            "Processing: 100%|██████████| 10/10 [00:02<00:00,  3.49it/s]\n"
          ]
        },
        {
          "output_type": "stream",
          "name": "stdout",
          "text": [
            "Man in a Hole\n"
          ]
        },
        {
          "output_type": "stream",
          "name": "stderr",
          "text": [
            "Processing: 100%|██████████| 9/9 [00:02<00:00,  4.11it/s]\n"
          ]
        },
        {
          "output_type": "stream",
          "name": "stdout",
          "text": [
            "Uncharted\n"
          ]
        },
        {
          "output_type": "stream",
          "name": "stderr",
          "text": [
            "Processing: 100%|██████████| 8/8 [00:02<00:00,  3.72it/s]\n"
          ]
        },
        {
          "output_type": "stream",
          "name": "stdout",
          "text": [
            "Uncharted\n"
          ]
        },
        {
          "output_type": "stream",
          "name": "stderr",
          "text": [
            "Processing: 100%|██████████| 8/8 [00:02<00:00,  3.76it/s]\n"
          ]
        },
        {
          "output_type": "stream",
          "name": "stdout",
          "text": [
            "Uncharted\n"
          ]
        },
        {
          "output_type": "stream",
          "name": "stderr",
          "text": [
            "Processing: 100%|██████████| 9/9 [00:02<00:00,  3.80it/s]\n"
          ]
        },
        {
          "output_type": "stream",
          "name": "stdout",
          "text": [
            "Uncharted\n"
          ]
        },
        {
          "output_type": "stream",
          "name": "stderr",
          "text": [
            "Processing: 100%|██████████| 9/9 [00:02<00:00,  3.22it/s]\n"
          ]
        },
        {
          "output_type": "stream",
          "name": "stdout",
          "text": [
            "Cinderella\n"
          ]
        },
        {
          "output_type": "stream",
          "name": "stderr",
          "text": [
            "Processing: 100%|██████████| 11/11 [00:02<00:00,  3.98it/s]\n"
          ]
        },
        {
          "output_type": "stream",
          "name": "stdout",
          "text": [
            "Uncharted\n"
          ]
        },
        {
          "output_type": "stream",
          "name": "stderr",
          "text": [
            "Processing: 100%|██████████| 10/10 [00:02<00:00,  3.97it/s]\n"
          ]
        },
        {
          "output_type": "stream",
          "name": "stdout",
          "text": [
            "Uncharted\n"
          ]
        },
        {
          "output_type": "stream",
          "name": "stderr",
          "text": [
            "Processing: 100%|██████████| 10/10 [00:02<00:00,  4.01it/s]\n"
          ]
        },
        {
          "output_type": "stream",
          "name": "stdout",
          "text": [
            "Uncharted\n"
          ]
        },
        {
          "output_type": "stream",
          "name": "stderr",
          "text": [
            "Processing: 100%|██████████| 9/9 [00:02<00:00,  4.00it/s]\n"
          ]
        },
        {
          "output_type": "stream",
          "name": "stdout",
          "text": [
            "Uncharted\n"
          ]
        },
        {
          "output_type": "stream",
          "name": "stderr",
          "text": [
            "Processing: 100%|██████████| 10/10 [00:02<00:00,  3.42it/s]\n"
          ]
        },
        {
          "output_type": "stream",
          "name": "stdout",
          "text": [
            "Rags to Riches\n"
          ]
        },
        {
          "output_type": "stream",
          "name": "stderr",
          "text": [
            "Processing: 100%|██████████| 13/13 [00:03<00:00,  3.30it/s]\n"
          ]
        },
        {
          "output_type": "stream",
          "name": "stdout",
          "text": [
            "Uncharted\n"
          ]
        },
        {
          "output_type": "stream",
          "name": "stderr",
          "text": [
            "Processing: 100%|██████████| 11/11 [00:02<00:00,  3.94it/s]\n"
          ]
        },
        {
          "output_type": "stream",
          "name": "stdout",
          "text": [
            "Uncharted\n"
          ]
        },
        {
          "output_type": "stream",
          "name": "stderr",
          "text": [
            "Processing: 100%|██████████| 10/10 [00:02<00:00,  4.07it/s]\n"
          ]
        },
        {
          "output_type": "stream",
          "name": "stdout",
          "text": [
            "Uncharted\n"
          ]
        },
        {
          "output_type": "stream",
          "name": "stderr",
          "text": [
            "Processing: 100%|██████████| 10/10 [00:03<00:00,  3.23it/s]\n"
          ]
        },
        {
          "output_type": "stream",
          "name": "stdout",
          "text": [
            "Man in a Hole\n"
          ]
        },
        {
          "output_type": "stream",
          "name": "stderr",
          "text": [
            "Processing: 100%|██████████| 9/9 [00:02<00:00,  3.83it/s]\n"
          ]
        },
        {
          "output_type": "stream",
          "name": "stdout",
          "text": [
            "Uncharted\n"
          ]
        },
        {
          "output_type": "stream",
          "name": "stderr",
          "text": [
            "Processing: 100%|██████████| 9/9 [00:02<00:00,  3.97it/s]\n"
          ]
        },
        {
          "output_type": "stream",
          "name": "stdout",
          "text": [
            "Uncharted\n"
          ]
        },
        {
          "output_type": "stream",
          "name": "stderr",
          "text": [
            "Processing: 100%|██████████| 9/9 [00:02<00:00,  3.95it/s]\n"
          ]
        },
        {
          "output_type": "stream",
          "name": "stdout",
          "text": [
            "Uncharted\n"
          ]
        },
        {
          "output_type": "stream",
          "name": "stderr",
          "text": [
            "Processing: 100%|██████████| 11/11 [00:02<00:00,  4.18it/s]\n"
          ]
        },
        {
          "output_type": "stream",
          "name": "stdout",
          "text": [
            "Uncharted\n"
          ]
        },
        {
          "output_type": "stream",
          "name": "stderr",
          "text": [
            "Processing: 100%|██████████| 11/11 [00:03<00:00,  3.34it/s]\n"
          ]
        },
        {
          "output_type": "stream",
          "name": "stdout",
          "text": [
            "Uncharted\n"
          ]
        },
        {
          "output_type": "stream",
          "name": "stderr",
          "text": [
            "Processing: 100%|██████████| 9/9 [00:02<00:00,  3.94it/s]\n"
          ]
        },
        {
          "output_type": "stream",
          "name": "stdout",
          "text": [
            "Man in a Hole\n"
          ]
        },
        {
          "output_type": "stream",
          "name": "stderr",
          "text": [
            "Processing: 100%|██████████| 8/8 [00:02<00:00,  3.85it/s]\n"
          ]
        },
        {
          "output_type": "stream",
          "name": "stdout",
          "text": [
            "Man in a Hole\n"
          ]
        },
        {
          "output_type": "stream",
          "name": "stderr",
          "text": [
            "Processing: 100%|██████████| 9/9 [00:02<00:00,  3.98it/s]\n"
          ]
        },
        {
          "output_type": "stream",
          "name": "stdout",
          "text": [
            "Uncharted\n"
          ]
        },
        {
          "output_type": "stream",
          "name": "stderr",
          "text": [
            "Processing: 100%|██████████| 9/9 [00:02<00:00,  3.83it/s]\n"
          ]
        },
        {
          "output_type": "stream",
          "name": "stdout",
          "text": [
            "Uncharted\n"
          ]
        },
        {
          "output_type": "stream",
          "name": "stderr",
          "text": [
            "Processing: 100%|██████████| 11/11 [00:03<00:00,  3.32it/s]\n"
          ]
        },
        {
          "output_type": "stream",
          "name": "stdout",
          "text": [
            "Uncharted\n"
          ]
        },
        {
          "output_type": "stream",
          "name": "stderr",
          "text": [
            "Processing: 100%|██████████| 10/10 [00:02<00:00,  3.96it/s]\n"
          ]
        },
        {
          "output_type": "stream",
          "name": "stdout",
          "text": [
            "Uncharted\n"
          ]
        },
        {
          "output_type": "stream",
          "name": "stderr",
          "text": [
            "Processing: 100%|██████████| 9/9 [00:02<00:00,  3.82it/s]\n"
          ]
        },
        {
          "output_type": "stream",
          "name": "stdout",
          "text": [
            "Uncharted\n"
          ]
        },
        {
          "output_type": "stream",
          "name": "stderr",
          "text": [
            "Processing: 100%|██████████| 10/10 [00:02<00:00,  4.05it/s]\n"
          ]
        },
        {
          "output_type": "stream",
          "name": "stdout",
          "text": [
            "Uncharted\n"
          ]
        },
        {
          "output_type": "stream",
          "name": "stderr",
          "text": [
            "Processing: 100%|██████████| 11/11 [00:02<00:00,  3.91it/s]\n"
          ]
        },
        {
          "output_type": "stream",
          "name": "stdout",
          "text": [
            "Uncharted\n"
          ]
        },
        {
          "output_type": "stream",
          "name": "stderr",
          "text": [
            "Processing: 100%|██████████| 11/11 [00:03<00:00,  3.21it/s]\n"
          ]
        },
        {
          "output_type": "stream",
          "name": "stdout",
          "text": [
            "Uncharted\n"
          ]
        },
        {
          "output_type": "stream",
          "name": "stderr",
          "text": [
            "Processing: 100%|██████████| 10/10 [00:02<00:00,  4.00it/s]\n"
          ]
        },
        {
          "output_type": "stream",
          "name": "stdout",
          "text": [
            "Uncharted\n"
          ]
        },
        {
          "output_type": "stream",
          "name": "stderr",
          "text": [
            "Processing: 100%|██████████| 21/21 [00:05<00:00,  3.94it/s]\n"
          ]
        },
        {
          "output_type": "stream",
          "name": "stdout",
          "text": [
            "Uncharted\n"
          ]
        },
        {
          "output_type": "stream",
          "name": "stderr",
          "text": [
            "Processing: 100%|██████████| 11/11 [00:03<00:00,  3.56it/s]\n"
          ]
        },
        {
          "output_type": "stream",
          "name": "stdout",
          "text": [
            "Uncharted\n"
          ]
        },
        {
          "output_type": "stream",
          "name": "stderr",
          "text": [
            "Processing: 100%|██████████| 9/9 [00:02<00:00,  3.45it/s]\n"
          ]
        },
        {
          "output_type": "stream",
          "name": "stdout",
          "text": [
            "Uncharted\n"
          ]
        },
        {
          "output_type": "stream",
          "name": "stderr",
          "text": [
            "Processing: 100%|██████████| 12/12 [00:03<00:00,  3.97it/s]\n"
          ]
        },
        {
          "output_type": "stream",
          "name": "stdout",
          "text": [
            "Uncharted\n"
          ]
        },
        {
          "output_type": "stream",
          "name": "stderr",
          "text": [
            "Processing: 100%|██████████| 13/13 [00:03<00:00,  4.10it/s]\n"
          ]
        },
        {
          "output_type": "stream",
          "name": "stdout",
          "text": [
            "Uncharted\n"
          ]
        },
        {
          "output_type": "stream",
          "name": "stderr",
          "text": [
            "Processing: 100%|██████████| 13/13 [00:03<00:00,  3.58it/s]\n"
          ]
        },
        {
          "output_type": "stream",
          "name": "stdout",
          "text": [
            "Uncharted\n"
          ]
        },
        {
          "output_type": "stream",
          "name": "stderr",
          "text": [
            "Processing: 100%|██████████| 14/14 [00:03<00:00,  3.64it/s]\n"
          ]
        },
        {
          "output_type": "stream",
          "name": "stdout",
          "text": [
            "Uncharted\n"
          ]
        },
        {
          "output_type": "stream",
          "name": "stderr",
          "text": [
            "Processing: 100%|██████████| 16/16 [00:04<00:00,  3.89it/s]\n"
          ]
        },
        {
          "output_type": "stream",
          "name": "stdout",
          "text": [
            "Uncharted\n"
          ]
        },
        {
          "output_type": "stream",
          "name": "stderr",
          "text": [
            "Processing: 100%|██████████| 14/14 [00:03<00:00,  3.97it/s]\n"
          ]
        },
        {
          "output_type": "stream",
          "name": "stdout",
          "text": [
            "Uncharted\n"
          ]
        },
        {
          "output_type": "stream",
          "name": "stderr",
          "text": [
            "Processing: 100%|██████████| 14/14 [00:04<00:00,  3.46it/s]\n"
          ]
        },
        {
          "output_type": "stream",
          "name": "stdout",
          "text": [
            "Uncharted\n"
          ]
        },
        {
          "output_type": "stream",
          "name": "stderr",
          "text": [
            "Processing: 100%|██████████| 13/13 [00:03<00:00,  3.82it/s]\n"
          ]
        },
        {
          "output_type": "stream",
          "name": "stdout",
          "text": [
            "Rags to Riches\n"
          ]
        },
        {
          "output_type": "stream",
          "name": "stderr",
          "text": [
            "Processing: 100%|██████████| 10/10 [00:02<00:00,  4.04it/s]\n"
          ]
        },
        {
          "output_type": "stream",
          "name": "stdout",
          "text": [
            "Man in a Hole\n"
          ]
        },
        {
          "output_type": "stream",
          "name": "stderr",
          "text": [
            "Processing: 100%|██████████| 10/10 [00:02<00:00,  3.92it/s]\n"
          ]
        },
        {
          "output_type": "stream",
          "name": "stdout",
          "text": [
            "Uncharted\n"
          ]
        },
        {
          "output_type": "stream",
          "name": "stderr",
          "text": [
            "Processing: 0it [00:00, ?it/s]\n"
          ]
        },
        {
          "output_type": "stream",
          "name": "stdout",
          "text": [
            "Rags to Riches\n"
          ]
        },
        {
          "output_type": "stream",
          "name": "stderr",
          "text": [
            "Processing: 100%|██████████| 9/9 [00:02<00:00,  3.13it/s]\n"
          ]
        },
        {
          "output_type": "stream",
          "name": "stdout",
          "text": [
            "Rags to Riches\n"
          ]
        },
        {
          "output_type": "stream",
          "name": "stderr",
          "text": [
            "Processing: 100%|██████████| 11/11 [00:02<00:00,  4.00it/s]\n"
          ]
        },
        {
          "output_type": "stream",
          "name": "stdout",
          "text": [
            "Uncharted\n"
          ]
        },
        {
          "output_type": "stream",
          "name": "stderr",
          "text": [
            "Processing: 100%|██████████| 10/10 [00:02<00:00,  3.34it/s]\n"
          ]
        },
        {
          "output_type": "stream",
          "name": "stdout",
          "text": [
            "Rags to Riches\n"
          ]
        },
        {
          "output_type": "stream",
          "name": "stderr",
          "text": [
            "Processing: 100%|██████████| 9/9 [00:02<00:00,  3.42it/s]\n"
          ]
        },
        {
          "output_type": "stream",
          "name": "stdout",
          "text": [
            "Uncharted\n"
          ]
        },
        {
          "output_type": "stream",
          "name": "stderr",
          "text": [
            "Processing: 100%|██████████| 10/10 [00:03<00:00,  3.20it/s]\n"
          ]
        },
        {
          "output_type": "stream",
          "name": "stdout",
          "text": [
            "Uncharted\n"
          ]
        },
        {
          "output_type": "stream",
          "name": "stderr",
          "text": [
            "Processing: 100%|██████████| 10/10 [00:03<00:00,  3.16it/s]\n"
          ]
        },
        {
          "output_type": "stream",
          "name": "stdout",
          "text": [
            "Uncharted\n"
          ]
        },
        {
          "output_type": "stream",
          "name": "stderr",
          "text": [
            "Processing: 100%|██████████| 12/12 [00:03<00:00,  3.47it/s]\n"
          ]
        },
        {
          "output_type": "stream",
          "name": "stdout",
          "text": [
            "Uncharted\n"
          ]
        },
        {
          "output_type": "stream",
          "name": "stderr",
          "text": [
            "Processing: 100%|██████████| 10/10 [00:02<00:00,  3.48it/s]\n"
          ]
        },
        {
          "output_type": "stream",
          "name": "stdout",
          "text": [
            "Man in a Hole\n"
          ]
        },
        {
          "output_type": "stream",
          "name": "stderr",
          "text": [
            "Processing: 100%|██████████| 11/11 [00:03<00:00,  2.98it/s]\n"
          ]
        },
        {
          "output_type": "stream",
          "name": "stdout",
          "text": [
            "Uncharted\n"
          ]
        },
        {
          "output_type": "stream",
          "name": "stderr",
          "text": [
            "Processing: 100%|██████████| 10/10 [00:02<00:00,  3.70it/s]\n"
          ]
        },
        {
          "output_type": "stream",
          "name": "stdout",
          "text": [
            "Uncharted\n"
          ]
        },
        {
          "output_type": "stream",
          "name": "stderr",
          "text": [
            "Processing: 100%|██████████| 10/10 [00:02<00:00,  3.53it/s]\n"
          ]
        },
        {
          "output_type": "stream",
          "name": "stdout",
          "text": [
            "Uncharted\n"
          ]
        },
        {
          "output_type": "stream",
          "name": "stderr",
          "text": [
            "Processing: 100%|██████████| 9/9 [00:02<00:00,  3.42it/s]\n"
          ]
        },
        {
          "output_type": "stream",
          "name": "stdout",
          "text": [
            "Uncharted\n"
          ]
        },
        {
          "output_type": "stream",
          "name": "stderr",
          "text": [
            "Processing: 100%|██████████| 10/10 [00:03<00:00,  3.27it/s]\n"
          ]
        },
        {
          "output_type": "stream",
          "name": "stdout",
          "text": [
            "Uncharted\n"
          ]
        },
        {
          "output_type": "stream",
          "name": "stderr",
          "text": [
            "Processing: 100%|██████████| 11/11 [00:03<00:00,  3.03it/s]\n"
          ]
        },
        {
          "output_type": "stream",
          "name": "stdout",
          "text": [
            "Uncharted\n"
          ]
        },
        {
          "output_type": "stream",
          "name": "stderr",
          "text": [
            "Processing: 100%|██████████| 12/12 [00:03<00:00,  3.50it/s]\n"
          ]
        },
        {
          "output_type": "stream",
          "name": "stdout",
          "text": [
            "Uncharted\n"
          ]
        },
        {
          "output_type": "stream",
          "name": "stderr",
          "text": [
            "Processing: 100%|██████████| 10/10 [00:02<00:00,  3.35it/s]\n"
          ]
        },
        {
          "output_type": "stream",
          "name": "stdout",
          "text": [
            "Uncharted\n"
          ]
        },
        {
          "output_type": "stream",
          "name": "stderr",
          "text": [
            "Processing: 100%|██████████| 9/9 [00:02<00:00,  3.21it/s]\n"
          ]
        },
        {
          "output_type": "stream",
          "name": "stdout",
          "text": [
            "Uncharted\n"
          ]
        },
        {
          "output_type": "stream",
          "name": "stderr",
          "text": [
            "Processing: 100%|██████████| 10/10 [00:03<00:00,  2.87it/s]\n"
          ]
        },
        {
          "output_type": "stream",
          "name": "stdout",
          "text": [
            "Uncharted\n"
          ]
        },
        {
          "output_type": "stream",
          "name": "stderr",
          "text": [
            "Processing: 100%|██████████| 12/12 [00:03<00:00,  3.45it/s]\n"
          ]
        },
        {
          "output_type": "stream",
          "name": "stdout",
          "text": [
            "Uncharted\n"
          ]
        },
        {
          "output_type": "stream",
          "name": "stderr",
          "text": [
            "Processing: 100%|██████████| 10/10 [00:02<00:00,  3.37it/s]\n"
          ]
        },
        {
          "output_type": "stream",
          "name": "stdout",
          "text": [
            "Uncharted\n"
          ]
        },
        {
          "output_type": "stream",
          "name": "stderr",
          "text": [
            "Processing: 100%|██████████| 10/10 [00:02<00:00,  3.38it/s]\n"
          ]
        },
        {
          "output_type": "stream",
          "name": "stdout",
          "text": [
            "Rags to Riches\n"
          ]
        },
        {
          "output_type": "stream",
          "name": "stderr",
          "text": [
            "Processing: 100%|██████████| 10/10 [00:03<00:00,  2.89it/s]\n"
          ]
        },
        {
          "output_type": "stream",
          "name": "stdout",
          "text": [
            "Man in a Hole\n"
          ]
        },
        {
          "output_type": "stream",
          "name": "stderr",
          "text": [
            "Processing: 100%|██████████| 11/11 [00:03<00:00,  3.62it/s]\n"
          ]
        },
        {
          "output_type": "stream",
          "name": "stdout",
          "text": [
            "Uncharted\n"
          ]
        },
        {
          "output_type": "stream",
          "name": "stderr",
          "text": [
            "Processing: 100%|██████████| 9/9 [00:02<00:00,  3.58it/s]\n"
          ]
        },
        {
          "output_type": "stream",
          "name": "stdout",
          "text": [
            "Uncharted\n"
          ]
        },
        {
          "output_type": "stream",
          "name": "stderr",
          "text": [
            "Processing: 100%|██████████| 10/10 [00:02<00:00,  3.65it/s]\n"
          ]
        },
        {
          "output_type": "stream",
          "name": "stdout",
          "text": [
            "Uncharted\n"
          ]
        },
        {
          "output_type": "stream",
          "name": "stderr",
          "text": [
            "Processing: 100%|██████████| 10/10 [00:03<00:00,  2.92it/s]\n"
          ]
        },
        {
          "output_type": "stream",
          "name": "stdout",
          "text": [
            "Uncharted\n"
          ]
        },
        {
          "output_type": "stream",
          "name": "stderr",
          "text": [
            "Processing: 100%|██████████| 10/10 [00:02<00:00,  3.49it/s]\n"
          ]
        },
        {
          "output_type": "stream",
          "name": "stdout",
          "text": [
            "Uncharted\n"
          ]
        },
        {
          "output_type": "stream",
          "name": "stderr",
          "text": [
            "Processing: 100%|██████████| 9/9 [00:02<00:00,  3.99it/s]\n"
          ]
        },
        {
          "output_type": "stream",
          "name": "stdout",
          "text": [
            "Uncharted\n"
          ]
        },
        {
          "output_type": "stream",
          "name": "stderr",
          "text": [
            "Processing: 100%|██████████| 1/1 [00:00<00:00,  9.77it/s]\n"
          ]
        },
        {
          "output_type": "stream",
          "name": "stdout",
          "text": [
            "Rags to Riches\n"
          ]
        },
        {
          "output_type": "stream",
          "name": "stderr",
          "text": [
            "Processing: 100%|██████████| 9/9 [00:02<00:00,  3.23it/s]\n"
          ]
        },
        {
          "output_type": "stream",
          "name": "stdout",
          "text": [
            "Man in a Hole\n"
          ]
        },
        {
          "output_type": "stream",
          "name": "stderr",
          "text": [
            "Processing: 100%|██████████| 10/10 [00:03<00:00,  2.96it/s]\n"
          ]
        },
        {
          "output_type": "stream",
          "name": "stdout",
          "text": [
            "Uncharted\n"
          ]
        },
        {
          "output_type": "stream",
          "name": "stderr",
          "text": [
            "Processing: 100%|██████████| 11/11 [00:03<00:00,  3.21it/s]\n"
          ]
        },
        {
          "output_type": "stream",
          "name": "stdout",
          "text": [
            "Uncharted\n"
          ]
        },
        {
          "output_type": "stream",
          "name": "stderr",
          "text": [
            "Processing: 100%|██████████| 10/10 [00:02<00:00,  3.52it/s]\n"
          ]
        },
        {
          "output_type": "stream",
          "name": "stdout",
          "text": [
            "Uncharted\n"
          ]
        },
        {
          "output_type": "stream",
          "name": "stderr",
          "text": [
            "Processing: 100%|██████████| 9/9 [00:02<00:00,  3.31it/s]\n"
          ]
        },
        {
          "output_type": "stream",
          "name": "stdout",
          "text": [
            "Uncharted\n"
          ]
        },
        {
          "output_type": "stream",
          "name": "stderr",
          "text": [
            "Processing: 100%|██████████| 10/10 [00:03<00:00,  2.91it/s]\n"
          ]
        },
        {
          "output_type": "stream",
          "name": "stdout",
          "text": [
            "Uncharted\n"
          ]
        },
        {
          "output_type": "stream",
          "name": "stderr",
          "text": [
            "Processing: 100%|██████████| 11/11 [00:03<00:00,  3.17it/s]\n"
          ]
        },
        {
          "output_type": "stream",
          "name": "stdout",
          "text": [
            "Oedipus\n"
          ]
        },
        {
          "output_type": "stream",
          "name": "stderr",
          "text": [
            "Processing: 100%|██████████| 11/11 [00:03<00:00,  3.25it/s]\n"
          ]
        },
        {
          "output_type": "stream",
          "name": "stdout",
          "text": [
            "Uncharted\n"
          ]
        },
        {
          "output_type": "stream",
          "name": "stderr",
          "text": [
            "Processing: 100%|██████████| 11/11 [00:03<00:00,  3.38it/s]\n"
          ]
        },
        {
          "output_type": "stream",
          "name": "stdout",
          "text": [
            "Uncharted\n"
          ]
        },
        {
          "output_type": "stream",
          "name": "stderr",
          "text": [
            "Processing: 100%|██████████| 9/9 [00:03<00:00,  2.70it/s]\n"
          ]
        },
        {
          "output_type": "stream",
          "name": "stdout",
          "text": [
            "Uncharted\n"
          ]
        },
        {
          "output_type": "stream",
          "name": "stderr",
          "text": [
            "Processing: 100%|██████████| 10/10 [00:03<00:00,  3.31it/s]\n"
          ]
        },
        {
          "output_type": "stream",
          "name": "stdout",
          "text": [
            "Uncharted\n"
          ]
        },
        {
          "output_type": "stream",
          "name": "stderr",
          "text": [
            "Processing: 100%|██████████| 10/10 [00:03<00:00,  3.23it/s]\n"
          ]
        },
        {
          "output_type": "stream",
          "name": "stdout",
          "text": [
            "Uncharted\n"
          ]
        },
        {
          "output_type": "stream",
          "name": "stderr",
          "text": [
            "Processing: 100%|██████████| 10/10 [00:02<00:00,  3.46it/s]\n"
          ]
        },
        {
          "output_type": "stream",
          "name": "stdout",
          "text": [
            "Uncharted\n"
          ]
        },
        {
          "output_type": "stream",
          "name": "stderr",
          "text": [
            "Processing: 100%|██████████| 9/9 [00:02<00:00,  3.04it/s]\n"
          ]
        },
        {
          "output_type": "stream",
          "name": "stdout",
          "text": [
            "Uncharted\n"
          ]
        },
        {
          "output_type": "stream",
          "name": "stderr",
          "text": [
            "Processing: 100%|██████████| 10/10 [00:02<00:00,  3.34it/s]\n"
          ]
        },
        {
          "output_type": "stream",
          "name": "stdout",
          "text": [
            "Uncharted\n"
          ]
        },
        {
          "output_type": "stream",
          "name": "stderr",
          "text": [
            "Processing: 100%|██████████| 10/10 [00:03<00:00,  3.25it/s]\n"
          ]
        },
        {
          "output_type": "stream",
          "name": "stdout",
          "text": [
            "Uncharted\n"
          ]
        },
        {
          "output_type": "stream",
          "name": "stderr",
          "text": [
            "Processing: 100%|██████████| 11/11 [00:03<00:00,  3.31it/s]\n"
          ]
        },
        {
          "output_type": "stream",
          "name": "stdout",
          "text": [
            "Rags to Riches\n"
          ]
        },
        {
          "output_type": "stream",
          "name": "stderr",
          "text": [
            "Processing: 100%|██████████| 9/9 [00:03<00:00,  2.90it/s]\n"
          ]
        },
        {
          "output_type": "stream",
          "name": "stdout",
          "text": [
            "Rags to Riches\n"
          ]
        },
        {
          "output_type": "stream",
          "name": "stderr",
          "text": [
            "Processing: 100%|██████████| 10/10 [00:02<00:00,  3.43it/s]\n"
          ]
        },
        {
          "output_type": "stream",
          "name": "stdout",
          "text": [
            "Cinderella\n"
          ]
        },
        {
          "output_type": "stream",
          "name": "stderr",
          "text": [
            "Processing: 100%|██████████| 10/10 [00:02<00:00,  3.90it/s]\n"
          ]
        },
        {
          "output_type": "stream",
          "name": "stdout",
          "text": [
            "Uncharted\n"
          ]
        },
        {
          "output_type": "stream",
          "name": "stderr",
          "text": [
            "Processing: 100%|██████████| 10/10 [00:02<00:00,  3.77it/s]\n"
          ]
        },
        {
          "output_type": "stream",
          "name": "stdout",
          "text": [
            "Uncharted\n"
          ]
        },
        {
          "output_type": "stream",
          "name": "stderr",
          "text": [
            "Processing: 100%|██████████| 10/10 [00:02<00:00,  3.69it/s]\n"
          ]
        },
        {
          "output_type": "stream",
          "name": "stdout",
          "text": [
            "Uncharted\n"
          ]
        },
        {
          "output_type": "stream",
          "name": "stderr",
          "text": [
            "Processing: 100%|██████████| 10/10 [00:03<00:00,  3.23it/s]\n"
          ]
        },
        {
          "output_type": "stream",
          "name": "stdout",
          "text": [
            "Man in a Hole\n"
          ]
        },
        {
          "output_type": "stream",
          "name": "stderr",
          "text": [
            "Processing: 100%|██████████| 10/10 [00:02<00:00,  3.76it/s]\n"
          ]
        },
        {
          "output_type": "stream",
          "name": "stdout",
          "text": [
            "Uncharted\n"
          ]
        },
        {
          "output_type": "stream",
          "name": "stderr",
          "text": [
            "Processing: 100%|██████████| 11/11 [00:02<00:00,  3.98it/s]\n"
          ]
        },
        {
          "output_type": "stream",
          "name": "stdout",
          "text": [
            "Icarus\n"
          ]
        },
        {
          "output_type": "stream",
          "name": "stderr",
          "text": [
            "Processing: 100%|██████████| 10/10 [00:02<00:00,  3.77it/s]\n"
          ]
        },
        {
          "output_type": "stream",
          "name": "stdout",
          "text": [
            "Man in a Hole\n"
          ]
        },
        {
          "output_type": "stream",
          "name": "stderr",
          "text": [
            "Processing: 100%|██████████| 9/9 [00:02<00:00,  3.60it/s]\n"
          ]
        },
        {
          "output_type": "stream",
          "name": "stdout",
          "text": [
            "Uncharted\n"
          ]
        },
        {
          "output_type": "stream",
          "name": "stderr",
          "text": [
            "Processing: 100%|██████████| 10/10 [00:02<00:00,  3.36it/s]\n"
          ]
        },
        {
          "output_type": "stream",
          "name": "stdout",
          "text": [
            "Uncharted\n"
          ]
        },
        {
          "output_type": "stream",
          "name": "stderr",
          "text": [
            "Processing: 100%|██████████| 11/11 [00:02<00:00,  3.96it/s]\n"
          ]
        },
        {
          "output_type": "stream",
          "name": "stdout",
          "text": [
            "Oedipus\n"
          ]
        },
        {
          "output_type": "stream",
          "name": "stderr",
          "text": [
            "Processing: 100%|██████████| 10/10 [00:02<00:00,  3.88it/s]\n"
          ]
        },
        {
          "output_type": "stream",
          "name": "stdout",
          "text": [
            "Cinderella\n"
          ]
        },
        {
          "output_type": "stream",
          "name": "stderr",
          "text": [
            "Processing: 100%|██████████| 11/11 [00:02<00:00,  3.90it/s]\n"
          ]
        },
        {
          "output_type": "stream",
          "name": "stdout",
          "text": [
            "Uncharted\n"
          ]
        },
        {
          "output_type": "stream",
          "name": "stderr",
          "text": [
            "Processing: 100%|██████████| 10/10 [00:02<00:00,  3.35it/s]\n"
          ]
        },
        {
          "output_type": "stream",
          "name": "stdout",
          "text": [
            "Man in a Hole\n"
          ]
        },
        {
          "output_type": "stream",
          "name": "stderr",
          "text": [
            "Processing: 100%|██████████| 11/11 [00:03<00:00,  3.61it/s]\n"
          ]
        },
        {
          "output_type": "stream",
          "name": "stdout",
          "text": [
            "Uncharted\n"
          ]
        },
        {
          "output_type": "stream",
          "name": "stderr",
          "text": [
            "Processing: 100%|██████████| 9/9 [00:02<00:00,  3.74it/s]\n"
          ]
        },
        {
          "output_type": "stream",
          "name": "stdout",
          "text": [
            "Cinderella\n"
          ]
        },
        {
          "output_type": "stream",
          "name": "stderr",
          "text": [
            "Processing: 100%|██████████| 11/11 [00:02<00:00,  3.83it/s]\n"
          ]
        },
        {
          "output_type": "stream",
          "name": "stdout",
          "text": [
            "Uncharted\n"
          ]
        },
        {
          "output_type": "stream",
          "name": "stderr",
          "text": [
            "Processing: 100%|██████████| 12/12 [00:03<00:00,  3.86it/s]\n"
          ]
        },
        {
          "output_type": "stream",
          "name": "stdout",
          "text": [
            "Uncharted\n"
          ]
        },
        {
          "output_type": "stream",
          "name": "stderr",
          "text": [
            "Processing: 100%|██████████| 10/10 [00:03<00:00,  3.30it/s]\n"
          ]
        },
        {
          "output_type": "stream",
          "name": "stdout",
          "text": [
            "Uncharted\n"
          ]
        },
        {
          "output_type": "stream",
          "name": "stderr",
          "text": [
            "Processing: 100%|██████████| 12/12 [00:03<00:00,  3.95it/s]\n"
          ]
        },
        {
          "output_type": "stream",
          "name": "stdout",
          "text": [
            "Uncharted\n"
          ]
        },
        {
          "output_type": "stream",
          "name": "stderr",
          "text": [
            "Processing: 100%|██████████| 13/13 [00:03<00:00,  3.90it/s]\n"
          ]
        },
        {
          "output_type": "stream",
          "name": "stdout",
          "text": [
            "Uncharted\n"
          ]
        },
        {
          "output_type": "stream",
          "name": "stderr",
          "text": [
            "Processing: 100%|██████████| 20/20 [00:05<00:00,  3.39it/s]\n"
          ]
        },
        {
          "output_type": "stream",
          "name": "stdout",
          "text": [
            "Uncharted\n"
          ]
        },
        {
          "output_type": "stream",
          "name": "stderr",
          "text": [
            "Processing: 100%|██████████| 10/10 [00:02<00:00,  3.51it/s]\n"
          ]
        },
        {
          "output_type": "stream",
          "name": "stdout",
          "text": [
            "Uncharted\n"
          ]
        },
        {
          "output_type": "stream",
          "name": "stderr",
          "text": [
            "Processing: 100%|██████████| 10/10 [00:03<00:00,  3.30it/s]\n"
          ]
        },
        {
          "output_type": "stream",
          "name": "stdout",
          "text": [
            "Man in a Hole\n"
          ]
        },
        {
          "output_type": "stream",
          "name": "stderr",
          "text": [
            "Processing: 100%|██████████| 10/10 [00:03<00:00,  3.20it/s]\n"
          ]
        },
        {
          "output_type": "stream",
          "name": "stdout",
          "text": [
            "Uncharted\n"
          ]
        },
        {
          "output_type": "stream",
          "name": "stderr",
          "text": [
            "Processing: 100%|██████████| 10/10 [00:03<00:00,  2.93it/s]\n"
          ]
        },
        {
          "output_type": "stream",
          "name": "stdout",
          "text": [
            "Uncharted\n"
          ]
        },
        {
          "output_type": "stream",
          "name": "stderr",
          "text": [
            "Processing: 100%|██████████| 11/11 [00:03<00:00,  3.50it/s]\n"
          ]
        },
        {
          "output_type": "stream",
          "name": "stdout",
          "text": [
            "Uncharted\n"
          ]
        },
        {
          "output_type": "stream",
          "name": "stderr",
          "text": [
            "Processing: 100%|██████████| 11/11 [00:03<00:00,  3.52it/s]\n"
          ]
        },
        {
          "output_type": "stream",
          "name": "stdout",
          "text": [
            "Uncharted\n"
          ]
        },
        {
          "output_type": "stream",
          "name": "stderr",
          "text": [
            "Processing: 100%|██████████| 10/10 [00:02<00:00,  3.54it/s]\n"
          ]
        },
        {
          "output_type": "stream",
          "name": "stdout",
          "text": [
            "Uncharted\n"
          ]
        },
        {
          "output_type": "stream",
          "name": "stderr",
          "text": [
            "Processing: 100%|██████████| 1/1 [00:00<00:00,  5.01it/s]\n"
          ]
        },
        {
          "output_type": "stream",
          "name": "stdout",
          "text": [
            "Rags to Riches\n"
          ]
        },
        {
          "output_type": "stream",
          "name": "stderr",
          "text": [
            "Processing: 100%|██████████| 10/10 [00:03<00:00,  2.71it/s]\n"
          ]
        },
        {
          "output_type": "stream",
          "name": "stdout",
          "text": [
            "Rags to Riches\n"
          ]
        },
        {
          "output_type": "stream",
          "name": "stderr",
          "text": [
            "Processing: 100%|██████████| 10/10 [00:02<00:00,  3.46it/s]\n"
          ]
        },
        {
          "output_type": "stream",
          "name": "stdout",
          "text": [
            "Uncharted\n"
          ]
        },
        {
          "output_type": "stream",
          "name": "stderr",
          "text": [
            "Processing: 100%|██████████| 11/11 [00:03<00:00,  3.19it/s]\n"
          ]
        },
        {
          "output_type": "stream",
          "name": "stdout",
          "text": [
            "Uncharted\n"
          ]
        },
        {
          "output_type": "stream",
          "name": "stderr",
          "text": [
            "Processing: 100%|██████████| 11/11 [00:03<00:00,  3.39it/s]\n"
          ]
        },
        {
          "output_type": "stream",
          "name": "stdout",
          "text": [
            "Uncharted\n"
          ]
        },
        {
          "output_type": "stream",
          "name": "stderr",
          "text": [
            "Processing: 100%|██████████| 10/10 [00:03<00:00,  2.83it/s]\n"
          ]
        },
        {
          "output_type": "stream",
          "name": "stdout",
          "text": [
            "Man in a Hole\n"
          ]
        },
        {
          "output_type": "stream",
          "name": "stderr",
          "text": [
            "Processing: 100%|██████████| 11/11 [00:03<00:00,  3.35it/s]\n"
          ]
        },
        {
          "output_type": "stream",
          "name": "stdout",
          "text": [
            "Uncharted\n"
          ]
        },
        {
          "output_type": "stream",
          "name": "stderr",
          "text": [
            "Processing: 100%|██████████| 20/20 [00:06<00:00,  3.18it/s]\n"
          ]
        },
        {
          "output_type": "stream",
          "name": "stdout",
          "text": [
            "Uncharted\n"
          ]
        },
        {
          "output_type": "stream",
          "name": "stderr",
          "text": [
            "Processing: 100%|██████████| 9/9 [00:03<00:00,  2.89it/s]\n"
          ]
        },
        {
          "output_type": "stream",
          "name": "stdout",
          "text": [
            "Uncharted\n"
          ]
        },
        {
          "output_type": "stream",
          "name": "stderr",
          "text": [
            "Processing: 100%|██████████| 11/11 [00:03<00:00,  3.25it/s]\n"
          ]
        },
        {
          "output_type": "stream",
          "name": "stdout",
          "text": [
            "Uncharted\n"
          ]
        },
        {
          "output_type": "stream",
          "name": "stderr",
          "text": [
            "Processing: 100%|██████████| 12/12 [00:03<00:00,  3.48it/s]\n"
          ]
        },
        {
          "output_type": "stream",
          "name": "stdout",
          "text": [
            "Uncharted\n"
          ]
        },
        {
          "output_type": "stream",
          "name": "stderr",
          "text": [
            "Processing: 100%|██████████| 10/10 [00:03<00:00,  3.22it/s]\n"
          ]
        },
        {
          "output_type": "stream",
          "name": "stdout",
          "text": [
            "Man in a Hole\n"
          ]
        },
        {
          "output_type": "stream",
          "name": "stderr",
          "text": [
            "Processing: 100%|██████████| 11/11 [00:03<00:00,  2.87it/s]\n"
          ]
        },
        {
          "output_type": "stream",
          "name": "stdout",
          "text": [
            "Uncharted\n"
          ]
        },
        {
          "output_type": "stream",
          "name": "stderr",
          "text": [
            "Processing: 100%|██████████| 10/10 [00:02<00:00,  3.36it/s]\n"
          ]
        },
        {
          "output_type": "stream",
          "name": "stdout",
          "text": [
            "Uncharted\n"
          ]
        },
        {
          "output_type": "stream",
          "name": "stderr",
          "text": [
            "Processing: 100%|██████████| 10/10 [00:03<00:00,  3.29it/s]\n"
          ]
        },
        {
          "output_type": "stream",
          "name": "stdout",
          "text": [
            "Uncharted\n"
          ]
        },
        {
          "output_type": "stream",
          "name": "stderr",
          "text": [
            "Processing: 100%|██████████| 20/20 [00:06<00:00,  2.95it/s]\n"
          ]
        },
        {
          "output_type": "stream",
          "name": "stdout",
          "text": [
            "Uncharted\n"
          ]
        },
        {
          "output_type": "stream",
          "name": "stderr",
          "text": [
            "Processing: 100%|██████████| 10/10 [00:03<00:00,  3.25it/s]\n"
          ]
        },
        {
          "output_type": "stream",
          "name": "stdout",
          "text": [
            "Man in a Hole\n"
          ]
        },
        {
          "output_type": "stream",
          "name": "stderr",
          "text": [
            "Processing: 100%|██████████| 10/10 [00:02<00:00,  3.49it/s]\n"
          ]
        },
        {
          "output_type": "stream",
          "name": "stdout",
          "text": [
            "Man in a Hole\n"
          ]
        },
        {
          "output_type": "stream",
          "name": "stderr",
          "text": [
            "Processing: 100%|██████████| 11/11 [00:03<00:00,  3.03it/s]\n"
          ]
        },
        {
          "output_type": "stream",
          "name": "stdout",
          "text": [
            "Uncharted\n"
          ]
        },
        {
          "output_type": "stream",
          "name": "stderr",
          "text": [
            "Processing: 100%|██████████| 11/11 [00:03<00:00,  3.17it/s]\n"
          ]
        },
        {
          "output_type": "stream",
          "name": "stdout",
          "text": [
            "Uncharted\n"
          ]
        },
        {
          "output_type": "stream",
          "name": "stderr",
          "text": [
            "Processing: 100%|██████████| 11/11 [00:03<00:00,  3.20it/s]\n"
          ]
        },
        {
          "output_type": "stream",
          "name": "stdout",
          "text": [
            "Uncharted\n"
          ]
        },
        {
          "output_type": "stream",
          "name": "stderr",
          "text": [
            "Processing: 100%|██████████| 10/10 [00:02<00:00,  3.36it/s]\n"
          ]
        },
        {
          "output_type": "stream",
          "name": "stdout",
          "text": [
            "Uncharted\n"
          ]
        },
        {
          "output_type": "stream",
          "name": "stderr",
          "text": [
            "Processing: 100%|██████████| 10/10 [00:03<00:00,  3.00it/s]\n"
          ]
        },
        {
          "output_type": "stream",
          "name": "stdout",
          "text": [
            "Uncharted\n"
          ]
        },
        {
          "output_type": "stream",
          "name": "stderr",
          "text": [
            "Processing: 100%|██████████| 10/10 [00:02<00:00,  3.51it/s]\n"
          ]
        },
        {
          "output_type": "stream",
          "name": "stdout",
          "text": [
            "Icarus\n"
          ]
        },
        {
          "output_type": "stream",
          "name": "stderr",
          "text": [
            "Processing: 100%|██████████| 11/11 [00:03<00:00,  3.55it/s]\n"
          ]
        },
        {
          "output_type": "stream",
          "name": "stdout",
          "text": [
            "Man in a Hole\n"
          ]
        },
        {
          "output_type": "stream",
          "name": "stderr",
          "text": [
            "Processing: 100%|██████████| 9/9 [00:02<00:00,  3.41it/s]\n"
          ]
        },
        {
          "output_type": "stream",
          "name": "stdout",
          "text": [
            "Uncharted\n"
          ]
        },
        {
          "output_type": "stream",
          "name": "stderr",
          "text": [
            "Processing: 100%|██████████| 12/12 [00:03<00:00,  3.05it/s]\n"
          ]
        },
        {
          "output_type": "stream",
          "name": "stdout",
          "text": [
            "Uncharted\n"
          ]
        },
        {
          "output_type": "stream",
          "name": "stderr",
          "text": [
            "Processing: 100%|██████████| 9/9 [00:02<00:00,  3.22it/s]\n"
          ]
        },
        {
          "output_type": "stream",
          "name": "stdout",
          "text": [
            "Uncharted\n"
          ]
        },
        {
          "output_type": "stream",
          "name": "stderr",
          "text": [
            "Processing: 100%|██████████| 13/13 [00:03<00:00,  3.35it/s]\n"
          ]
        },
        {
          "output_type": "stream",
          "name": "stdout",
          "text": [
            "Uncharted\n"
          ]
        },
        {
          "output_type": "stream",
          "name": "stderr",
          "text": [
            "Processing: 100%|██████████| 10/10 [00:03<00:00,  3.21it/s]\n"
          ]
        },
        {
          "output_type": "stream",
          "name": "stdout",
          "text": [
            "Uncharted\n"
          ]
        },
        {
          "output_type": "stream",
          "name": "stderr",
          "text": [
            "Processing: 100%|██████████| 13/13 [00:04<00:00,  3.01it/s]\n"
          ]
        },
        {
          "output_type": "stream",
          "name": "stdout",
          "text": [
            "Uncharted\n"
          ]
        },
        {
          "output_type": "stream",
          "name": "stderr",
          "text": [
            "Processing: 100%|██████████| 13/13 [00:03<00:00,  3.33it/s]\n"
          ]
        },
        {
          "output_type": "stream",
          "name": "stdout",
          "text": [
            "Uncharted\n"
          ]
        },
        {
          "output_type": "stream",
          "name": "stderr",
          "text": [
            "Processing: 100%|██████████| 11/11 [00:03<00:00,  3.50it/s]\n"
          ]
        },
        {
          "output_type": "stream",
          "name": "stdout",
          "text": [
            "Uncharted\n"
          ]
        },
        {
          "output_type": "stream",
          "name": "stderr",
          "text": [
            "Processing: 100%|██████████| 9/9 [00:02<00:00,  3.23it/s]\n"
          ]
        },
        {
          "output_type": "stream",
          "name": "stdout",
          "text": [
            "Uncharted\n"
          ]
        },
        {
          "output_type": "stream",
          "name": "stderr",
          "text": [
            "Processing: 100%|██████████| 10/10 [00:03<00:00,  3.04it/s]\n"
          ]
        },
        {
          "output_type": "stream",
          "name": "stdout",
          "text": [
            "Uncharted\n"
          ]
        },
        {
          "output_type": "stream",
          "name": "stderr",
          "text": [
            "Processing: 100%|██████████| 10/10 [00:03<00:00,  3.17it/s]\n"
          ]
        },
        {
          "output_type": "stream",
          "name": "stdout",
          "text": [
            "Uncharted\n"
          ]
        },
        {
          "output_type": "stream",
          "name": "stderr",
          "text": [
            "Processing: 100%|██████████| 9/9 [00:02<00:00,  3.41it/s]\n"
          ]
        },
        {
          "output_type": "stream",
          "name": "stdout",
          "text": [
            "Icarus\n"
          ]
        },
        {
          "output_type": "stream",
          "name": "stderr",
          "text": [
            "Processing: 100%|██████████| 10/10 [00:03<00:00,  3.24it/s]\n"
          ]
        },
        {
          "output_type": "stream",
          "name": "stdout",
          "text": [
            "Uncharted\n"
          ]
        },
        {
          "output_type": "stream",
          "name": "stderr",
          "text": [
            "Processing: 100%|██████████| 19/19 [00:06<00:00,  2.97it/s]\n"
          ]
        },
        {
          "output_type": "stream",
          "name": "stdout",
          "text": [
            "Uncharted\n"
          ]
        },
        {
          "output_type": "stream",
          "name": "stderr",
          "text": [
            "Processing: 100%|██████████| 7/7 [00:02<00:00,  3.40it/s]\n"
          ]
        },
        {
          "output_type": "stream",
          "name": "stdout",
          "text": [
            "Uncharted\n"
          ]
        },
        {
          "output_type": "stream",
          "name": "stderr",
          "text": [
            "Processing: 100%|██████████| 10/10 [00:03<00:00,  3.25it/s]\n"
          ]
        },
        {
          "output_type": "stream",
          "name": "stdout",
          "text": [
            "Uncharted\n"
          ]
        },
        {
          "output_type": "stream",
          "name": "stderr",
          "text": [
            "Processing: 100%|██████████| 10/10 [00:03<00:00,  2.87it/s]\n"
          ]
        },
        {
          "output_type": "stream",
          "name": "stdout",
          "text": [
            "Uncharted\n"
          ]
        },
        {
          "output_type": "stream",
          "name": "stderr",
          "text": [
            "Processing: 100%|██████████| 11/11 [00:03<00:00,  3.18it/s]\n"
          ]
        },
        {
          "output_type": "stream",
          "name": "stdout",
          "text": [
            "Uncharted\n"
          ]
        },
        {
          "output_type": "stream",
          "name": "stderr",
          "text": [
            "Processing: 100%|██████████| 11/11 [00:03<00:00,  3.44it/s]\n"
          ]
        },
        {
          "output_type": "stream",
          "name": "stdout",
          "text": [
            "Uncharted\n"
          ]
        },
        {
          "output_type": "stream",
          "name": "stderr",
          "text": [
            "Processing: 100%|██████████| 12/12 [00:03<00:00,  3.41it/s]\n"
          ]
        },
        {
          "output_type": "stream",
          "name": "stdout",
          "text": [
            "Uncharted\n"
          ]
        },
        {
          "output_type": "stream",
          "name": "stderr",
          "text": [
            "Processing: 100%|██████████| 11/11 [00:03<00:00,  2.86it/s]\n"
          ]
        },
        {
          "output_type": "stream",
          "name": "stdout",
          "text": [
            "Man in a Hole\n"
          ]
        },
        {
          "output_type": "stream",
          "name": "stderr",
          "text": [
            "Processing: 100%|██████████| 11/11 [00:03<00:00,  3.31it/s]\n"
          ]
        },
        {
          "output_type": "stream",
          "name": "stdout",
          "text": [
            "Uncharted\n"
          ]
        },
        {
          "output_type": "stream",
          "name": "stderr",
          "text": [
            "Processing: 100%|██████████| 12/12 [00:03<00:00,  3.39it/s]\n"
          ]
        },
        {
          "output_type": "stream",
          "name": "stdout",
          "text": [
            "Man in a Hole\n"
          ]
        },
        {
          "output_type": "stream",
          "name": "stderr",
          "text": [
            "Processing: 100%|██████████| 10/10 [00:03<00:00,  3.08it/s]\n"
          ]
        },
        {
          "output_type": "stream",
          "name": "stdout",
          "text": [
            "Man in a Hole\n"
          ]
        },
        {
          "output_type": "stream",
          "name": "stderr",
          "text": [
            "Processing: 100%|██████████| 12/12 [00:04<00:00,  2.99it/s]\n"
          ]
        },
        {
          "output_type": "stream",
          "name": "stdout",
          "text": [
            "Uncharted\n"
          ]
        },
        {
          "output_type": "stream",
          "name": "stderr",
          "text": [
            "Processing: 100%|██████████| 10/10 [00:02<00:00,  3.50it/s]\n"
          ]
        },
        {
          "output_type": "stream",
          "name": "stdout",
          "text": [
            "Uncharted\n"
          ]
        },
        {
          "output_type": "stream",
          "name": "stderr",
          "text": [
            "Processing: 100%|██████████| 11/11 [00:03<00:00,  3.40it/s]\n"
          ]
        },
        {
          "output_type": "stream",
          "name": "stdout",
          "text": [
            "Uncharted\n"
          ]
        },
        {
          "output_type": "stream",
          "name": "stderr",
          "text": [
            "Processing: 100%|██████████| 1/1 [00:00<00:00,  8.90it/s]\n"
          ]
        },
        {
          "output_type": "stream",
          "name": "stdout",
          "text": [
            "Rags to Riches\n"
          ]
        },
        {
          "output_type": "stream",
          "name": "stderr",
          "text": [
            "Processing: 100%|██████████| 10/10 [00:03<00:00,  2.92it/s]\n"
          ]
        },
        {
          "output_type": "stream",
          "name": "stdout",
          "text": [
            "Uncharted\n"
          ]
        },
        {
          "output_type": "stream",
          "name": "stderr",
          "text": [
            "Processing: 100%|██████████| 1/1 [00:00<00:00,  4.30it/s]\n"
          ]
        },
        {
          "output_type": "stream",
          "name": "stdout",
          "text": [
            "Rags to Riches\n"
          ]
        },
        {
          "output_type": "stream",
          "name": "stderr",
          "text": [
            "Processing: 100%|██████████| 9/9 [00:02<00:00,  3.06it/s]\n"
          ]
        },
        {
          "output_type": "stream",
          "name": "stdout",
          "text": [
            "Cinderella\n"
          ]
        },
        {
          "output_type": "stream",
          "name": "stderr",
          "text": [
            "Processing: 100%|██████████| 9/9 [00:02<00:00,  3.29it/s]\n"
          ]
        },
        {
          "output_type": "stream",
          "name": "stdout",
          "text": [
            "Oedipus\n"
          ]
        },
        {
          "output_type": "stream",
          "name": "stderr",
          "text": [
            "Processing: 100%|██████████| 10/10 [00:02<00:00,  3.54it/s]\n"
          ]
        },
        {
          "output_type": "stream",
          "name": "stdout",
          "text": [
            "Rags to Riches\n"
          ]
        },
        {
          "output_type": "stream",
          "name": "stderr",
          "text": [
            "Processing: 100%|██████████| 8/8 [00:02<00:00,  3.50it/s]\n"
          ]
        },
        {
          "output_type": "stream",
          "name": "stdout",
          "text": [
            "Rags to Riches\n"
          ]
        },
        {
          "output_type": "stream",
          "name": "stderr",
          "text": [
            "Processing: 100%|██████████| 12/12 [00:04<00:00,  2.81it/s]\n"
          ]
        },
        {
          "output_type": "stream",
          "name": "stdout",
          "text": [
            "Uncharted\n"
          ]
        },
        {
          "output_type": "stream",
          "name": "stderr",
          "text": [
            "Processing: 100%|██████████| 11/11 [00:03<00:00,  3.44it/s]\n"
          ]
        },
        {
          "output_type": "stream",
          "name": "stdout",
          "text": [
            "Uncharted\n"
          ]
        },
        {
          "output_type": "stream",
          "name": "stderr",
          "text": [
            "Processing: 100%|██████████| 10/10 [00:02<00:00,  3.46it/s]\n"
          ]
        },
        {
          "output_type": "stream",
          "name": "stdout",
          "text": [
            "Uncharted\n"
          ]
        },
        {
          "output_type": "stream",
          "name": "stderr",
          "text": [
            "Processing: 100%|██████████| 20/20 [00:06<00:00,  3.02it/s]\n"
          ]
        },
        {
          "output_type": "stream",
          "name": "stdout",
          "text": [
            "Uncharted\n"
          ]
        },
        {
          "output_type": "stream",
          "name": "stderr",
          "text": [
            "Processing: 100%|██████████| 11/11 [00:03<00:00,  3.33it/s]\n"
          ]
        },
        {
          "output_type": "stream",
          "name": "stdout",
          "text": [
            "Uncharted\n"
          ]
        },
        {
          "output_type": "stream",
          "name": "stderr",
          "text": [
            "Processing: 100%|██████████| 10/10 [00:02<00:00,  3.52it/s]\n"
          ]
        },
        {
          "output_type": "stream",
          "name": "stdout",
          "text": [
            "Icarus\n"
          ]
        },
        {
          "output_type": "stream",
          "name": "stderr",
          "text": [
            "Processing: 100%|██████████| 11/11 [00:02<00:00,  3.89it/s]\n"
          ]
        },
        {
          "output_type": "stream",
          "name": "stdout",
          "text": [
            "Uncharted\n"
          ]
        },
        {
          "output_type": "stream",
          "name": "stderr",
          "text": [
            "Processing: 100%|██████████| 9/9 [00:02<00:00,  3.24it/s]\n"
          ]
        },
        {
          "output_type": "stream",
          "name": "stdout",
          "text": [
            "Uncharted\n"
          ]
        },
        {
          "output_type": "stream",
          "name": "stderr",
          "text": [
            "Processing: 100%|██████████| 10/10 [00:02<00:00,  3.76it/s]\n"
          ]
        },
        {
          "output_type": "stream",
          "name": "stdout",
          "text": [
            "Uncharted\n"
          ]
        },
        {
          "output_type": "stream",
          "name": "stderr",
          "text": [
            "Processing: 100%|██████████| 14/14 [00:03<00:00,  3.79it/s]\n"
          ]
        },
        {
          "output_type": "stream",
          "name": "stdout",
          "text": [
            "Uncharted\n"
          ]
        },
        {
          "output_type": "stream",
          "name": "stderr",
          "text": [
            "Processing: 100%|██████████| 10/10 [00:02<00:00,  3.94it/s]\n"
          ]
        },
        {
          "output_type": "stream",
          "name": "stdout",
          "text": [
            "Uncharted\n"
          ]
        },
        {
          "output_type": "stream",
          "name": "stderr",
          "text": [
            "Processing: 100%|██████████| 12/12 [00:03<00:00,  3.34it/s]\n"
          ]
        },
        {
          "output_type": "stream",
          "name": "stdout",
          "text": [
            "Uncharted\n"
          ]
        },
        {
          "output_type": "stream",
          "name": "stderr",
          "text": [
            "Processing: 100%|██████████| 11/11 [00:03<00:00,  3.33it/s]\n"
          ]
        },
        {
          "output_type": "stream",
          "name": "stdout",
          "text": [
            "Uncharted\n"
          ]
        },
        {
          "output_type": "stream",
          "name": "stderr",
          "text": [
            "Processing: 100%|██████████| 10/10 [00:02<00:00,  3.88it/s]\n"
          ]
        },
        {
          "output_type": "stream",
          "name": "stdout",
          "text": [
            "Uncharted\n"
          ]
        },
        {
          "output_type": "stream",
          "name": "stderr",
          "text": [
            "Processing: 100%|██████████| 10/10 [00:02<00:00,  3.95it/s]\n"
          ]
        },
        {
          "output_type": "stream",
          "name": "stdout",
          "text": [
            "Man in a Hole\n"
          ]
        },
        {
          "output_type": "stream",
          "name": "stderr",
          "text": [
            "Processing: 100%|██████████| 10/10 [00:02<00:00,  3.48it/s]\n"
          ]
        },
        {
          "output_type": "stream",
          "name": "stdout",
          "text": [
            "Man in a Hole\n"
          ]
        },
        {
          "output_type": "stream",
          "name": "stderr",
          "text": [
            "Processing: 0it [00:00, ?it/s]\n"
          ]
        },
        {
          "output_type": "stream",
          "name": "stdout",
          "text": [
            "Rags to Riches\n"
          ]
        },
        {
          "output_type": "stream",
          "name": "stderr",
          "text": [
            "Processing: 100%|██████████| 8/8 [00:02<00:00,  3.66it/s]\n"
          ]
        },
        {
          "output_type": "stream",
          "name": "stdout",
          "text": [
            "Man in a Hole\n"
          ]
        },
        {
          "output_type": "stream",
          "name": "stderr",
          "text": [
            "Processing: 100%|██████████| 1/1 [00:00<00:00, 10.06it/s]\n"
          ]
        },
        {
          "output_type": "stream",
          "name": "stdout",
          "text": [
            "Rags to Riches\n"
          ]
        },
        {
          "output_type": "stream",
          "name": "stderr",
          "text": [
            "Processing: 100%|██████████| 11/11 [00:02<00:00,  4.03it/s]\n"
          ]
        },
        {
          "output_type": "stream",
          "name": "stdout",
          "text": [
            "Uncharted\n"
          ]
        },
        {
          "output_type": "stream",
          "name": "stderr",
          "text": [
            "Processing: 100%|██████████| 11/11 [00:02<00:00,  4.02it/s]\n"
          ]
        },
        {
          "output_type": "stream",
          "name": "stdout",
          "text": [
            "Uncharted\n"
          ]
        },
        {
          "output_type": "stream",
          "name": "stderr",
          "text": [
            "Processing: 100%|██████████| 12/12 [00:02<00:00,  4.06it/s]\n"
          ]
        },
        {
          "output_type": "stream",
          "name": "stdout",
          "text": [
            "Uncharted\n"
          ]
        },
        {
          "output_type": "stream",
          "name": "stderr",
          "text": [
            "Processing: 100%|██████████| 79/79 [00:21<00:00,  3.62it/s]\n"
          ]
        },
        {
          "output_type": "stream",
          "name": "stdout",
          "text": [
            "Uncharted\n"
          ]
        },
        {
          "output_type": "stream",
          "name": "stderr",
          "text": [
            "Processing: 100%|██████████| 76/76 [00:20<00:00,  3.66it/s]\n"
          ]
        },
        {
          "output_type": "stream",
          "name": "stdout",
          "text": [
            "Uncharted\n"
          ]
        },
        {
          "output_type": "stream",
          "name": "stderr",
          "text": [
            "Processing: 100%|██████████| 49/49 [00:13<00:00,  3.64it/s]\n"
          ]
        },
        {
          "output_type": "stream",
          "name": "stdout",
          "text": [
            "Uncharted\n"
          ]
        },
        {
          "output_type": "stream",
          "name": "stderr",
          "text": [
            "Processing: 100%|██████████| 16/16 [00:04<00:00,  3.95it/s]\n"
          ]
        },
        {
          "output_type": "stream",
          "name": "stdout",
          "text": [
            "Uncharted\n"
          ]
        },
        {
          "output_type": "stream",
          "name": "stderr",
          "text": [
            "Processing: 100%|██████████| 30/30 [00:08<00:00,  3.63it/s]\n"
          ]
        },
        {
          "output_type": "stream",
          "name": "stdout",
          "text": [
            "Uncharted\n"
          ]
        },
        {
          "output_type": "stream",
          "name": "stderr",
          "text": [
            "Processing: 100%|██████████| 12/12 [00:02<00:00,  4.01it/s]\n"
          ]
        },
        {
          "output_type": "stream",
          "name": "stdout",
          "text": [
            "Uncharted\n"
          ]
        },
        {
          "output_type": "stream",
          "name": "stderr",
          "text": [
            "Processing: 100%|██████████| 7/7 [00:01<00:00,  4.27it/s]\n"
          ]
        },
        {
          "output_type": "stream",
          "name": "stdout",
          "text": [
            "Uncharted\n"
          ]
        },
        {
          "output_type": "stream",
          "name": "stderr",
          "text": [
            "Processing: 100%|██████████| 3/3 [00:00<00:00,  4.13it/s]\n"
          ]
        },
        {
          "output_type": "stream",
          "name": "stdout",
          "text": [
            "Rags to Riches\n"
          ]
        },
        {
          "output_type": "stream",
          "name": "stderr",
          "text": [
            "Processing: 100%|██████████| 1/1 [00:00<00:00,  4.03it/s]\n"
          ]
        },
        {
          "output_type": "stream",
          "name": "stdout",
          "text": [
            "Rags to Riches\n"
          ]
        },
        {
          "output_type": "stream",
          "name": "stderr",
          "text": [
            "Processing: 100%|██████████| 17/17 [00:05<00:00,  3.31it/s]\n"
          ]
        },
        {
          "output_type": "stream",
          "name": "stdout",
          "text": [
            "Man in a Hole\n"
          ]
        },
        {
          "output_type": "stream",
          "name": "stderr",
          "text": [
            "Processing: 100%|██████████| 9/9 [00:02<00:00,  3.67it/s]\n"
          ]
        },
        {
          "output_type": "stream",
          "name": "stdout",
          "text": [
            "Uncharted\n"
          ]
        },
        {
          "output_type": "stream",
          "name": "stderr",
          "text": [
            "Processing: 100%|██████████| 8/8 [00:02<00:00,  3.89it/s]\n"
          ]
        },
        {
          "output_type": "stream",
          "name": "stdout",
          "text": [
            "Uncharted\n"
          ]
        },
        {
          "output_type": "stream",
          "name": "stderr",
          "text": [
            "Processing: 100%|██████████| 10/10 [00:02<00:00,  4.09it/s]\n"
          ]
        },
        {
          "output_type": "stream",
          "name": "stdout",
          "text": [
            "Uncharted\n"
          ]
        },
        {
          "output_type": "stream",
          "name": "stderr",
          "text": [
            "Processing: 100%|██████████| 7/7 [00:01<00:00,  4.02it/s]\n"
          ]
        },
        {
          "output_type": "stream",
          "name": "stdout",
          "text": [
            "Uncharted\n"
          ]
        },
        {
          "output_type": "stream",
          "name": "stderr",
          "text": [
            "Processing: 100%|██████████| 8/8 [00:02<00:00,  3.55it/s]\n"
          ]
        },
        {
          "output_type": "stream",
          "name": "stdout",
          "text": [
            "Uncharted\n"
          ]
        },
        {
          "output_type": "stream",
          "name": "stderr",
          "text": [
            "Processing: 100%|██████████| 10/10 [00:02<00:00,  3.38it/s]\n"
          ]
        },
        {
          "output_type": "stream",
          "name": "stdout",
          "text": [
            "Uncharted\n"
          ]
        },
        {
          "output_type": "stream",
          "name": "stderr",
          "text": [
            "Processing: 100%|██████████| 10/10 [00:02<00:00,  3.94it/s]\n"
          ]
        },
        {
          "output_type": "stream",
          "name": "stdout",
          "text": [
            "Uncharted\n"
          ]
        },
        {
          "output_type": "stream",
          "name": "stderr",
          "text": [
            "Processing: 100%|██████████| 10/10 [00:02<00:00,  3.96it/s]\n"
          ]
        },
        {
          "output_type": "stream",
          "name": "stdout",
          "text": [
            "Uncharted\n"
          ]
        },
        {
          "output_type": "stream",
          "name": "stderr",
          "text": [
            "Processing: 100%|██████████| 9/9 [00:02<00:00,  3.82it/s]\n"
          ]
        },
        {
          "output_type": "stream",
          "name": "stdout",
          "text": [
            "Cinderella\n"
          ]
        },
        {
          "output_type": "stream",
          "name": "stderr",
          "text": [
            "Processing: 100%|██████████| 8/8 [00:02<00:00,  3.57it/s]\n"
          ]
        },
        {
          "output_type": "stream",
          "name": "stdout",
          "text": [
            "Uncharted\n"
          ]
        },
        {
          "output_type": "stream",
          "name": "stderr",
          "text": [
            "Processing: 100%|██████████| 6/6 [00:01<00:00,  3.03it/s]\n"
          ]
        },
        {
          "output_type": "stream",
          "name": "stdout",
          "text": [
            "Man in a Hole\n"
          ]
        },
        {
          "output_type": "stream",
          "name": "stderr",
          "text": [
            "Processing: 100%|██████████| 20/20 [00:05<00:00,  3.85it/s]\n"
          ]
        },
        {
          "output_type": "stream",
          "name": "stdout",
          "text": [
            "Uncharted\n"
          ]
        },
        {
          "output_type": "stream",
          "name": "stderr",
          "text": [
            "Processing: 100%|██████████| 21/21 [00:05<00:00,  3.90it/s]"
          ]
        },
        {
          "output_type": "stream",
          "name": "stdout",
          "text": [
            "Uncharted\n"
          ]
        },
        {
          "output_type": "stream",
          "name": "stderr",
          "text": [
            "\n"
          ]
        },
        {
          "output_type": "execute_result",
          "data": {
            "text/plain": [
              "                                         text script  \\\n",
              "0  [Scene: The Subway, Phoebe is singing for\\ncha...   \n",
              "1  [Scene Central Perk, everyone's there.]\\nMonic...   \n",
              "2  [Scene: Chandler and Joey's, Chandler is helpi...   \n",
              "3  [Scene: Central Perk, Ross and Monica are watc...   \n",
              "4  [Scene: Central Perk, all six are there.]\\nMon...   \n",
              "\n",
              "                                             Title  Episode  Season  \\\n",
              "0                      The Pilot-The Uncut Version      1.0     1.0   \n",
              "1             The One With The Sonogram At the End      2.0     1.0   \n",
              "2                           The One With The Thumb      3.0     1.0   \n",
              "3               The One With George Stephanopoulos      4.0     1.0   \n",
              "4   The One With The East German Laundry Detergant      5.0     1.0   \n",
              "\n",
              "                                     character_names  \\\n",
              "0  ['Joey', 'Paul', 'Rachel', 'Frannie', 'Chandle...   \n",
              "1  ['Rachel', 'Joey', 'Barry', 'Scene', 'Geller',...   \n",
              "2  ['Joey', 'Rachel', 'Scene', 'Chandler', 'Lizzi...   \n",
              "3  ['Joey', 'Rachel', 'Receptionist', 'Chandler',...   \n",
              "4  ['Angela', 'Joey', 'Rachel', 'Bob', 'Chandler'...   \n",
              "\n",
              "                                    Spoken Word List  Total Spoken Words  \\\n",
              "0  {'[Scene': 81, 'Phoebe': 166, 'Ross': 357, 'Jo...                2290   \n",
              "1  {'Monica': 253, 'Joey': 73, 'Phoebe': 115, 'Ra...                2520   \n",
              "2  {'Chandler': 449, 'Joey': 185, 'Monica': 480, ...                2336   \n",
              "3  {'[Scene': 158, 'Monica': 418, 'Ross': 440, 'P...                2721   \n",
              "4  {'Monica': 323, 'Ross': 560, 'Rachel': 371, 'C...                2765   \n",
              "\n",
              "                                   List of Locations        emoticon  \n",
              "0                                        ['Iridium']       Uncharted  \n",
              "1                                   ['Central Park']          Icarus  \n",
              "2  ['Central Perk', 'Iridium', 'Iridium', 'Cental...   Man in a Hole  \n",
              "3                                                 []  Rags to Riches  \n",
              "4                                                 []   Man in a Hole  "
            ],
            "text/html": [
              "\n",
              "  <div id=\"df-b70b4269-4da5-4f0b-93c3-856a55ba13a2\" class=\"colab-df-container\">\n",
              "    <div>\n",
              "<style scoped>\n",
              "    .dataframe tbody tr th:only-of-type {\n",
              "        vertical-align: middle;\n",
              "    }\n",
              "\n",
              "    .dataframe tbody tr th {\n",
              "        vertical-align: top;\n",
              "    }\n",
              "\n",
              "    .dataframe thead th {\n",
              "        text-align: right;\n",
              "    }\n",
              "</style>\n",
              "<table border=\"1\" class=\"dataframe\">\n",
              "  <thead>\n",
              "    <tr style=\"text-align: right;\">\n",
              "      <th></th>\n",
              "      <th>text script</th>\n",
              "      <th>Title</th>\n",
              "      <th>Episode</th>\n",
              "      <th>Season</th>\n",
              "      <th>character_names</th>\n",
              "      <th>Spoken Word List</th>\n",
              "      <th>Total Spoken Words</th>\n",
              "      <th>List of Locations</th>\n",
              "      <th>emoticon</th>\n",
              "    </tr>\n",
              "  </thead>\n",
              "  <tbody>\n",
              "    <tr>\n",
              "      <th>0</th>\n",
              "      <td>[Scene: The Subway, Phoebe is singing for\\ncha...</td>\n",
              "      <td>The Pilot-The Uncut Version</td>\n",
              "      <td>1.0</td>\n",
              "      <td>1.0</td>\n",
              "      <td>['Joey', 'Paul', 'Rachel', 'Frannie', 'Chandle...</td>\n",
              "      <td>{'[Scene': 81, 'Phoebe': 166, 'Ross': 357, 'Jo...</td>\n",
              "      <td>2290</td>\n",
              "      <td>['Iridium']</td>\n",
              "      <td>Uncharted</td>\n",
              "    </tr>\n",
              "    <tr>\n",
              "      <th>1</th>\n",
              "      <td>[Scene Central Perk, everyone's there.]\\nMonic...</td>\n",
              "      <td>The One With The Sonogram At the End</td>\n",
              "      <td>2.0</td>\n",
              "      <td>1.0</td>\n",
              "      <td>['Rachel', 'Joey', 'Barry', 'Scene', 'Geller',...</td>\n",
              "      <td>{'Monica': 253, 'Joey': 73, 'Phoebe': 115, 'Ra...</td>\n",
              "      <td>2520</td>\n",
              "      <td>['Central Park']</td>\n",
              "      <td>Icarus</td>\n",
              "    </tr>\n",
              "    <tr>\n",
              "      <th>2</th>\n",
              "      <td>[Scene: Chandler and Joey's, Chandler is helpi...</td>\n",
              "      <td>The One With The Thumb</td>\n",
              "      <td>3.0</td>\n",
              "      <td>1.0</td>\n",
              "      <td>['Joey', 'Rachel', 'Scene', 'Chandler', 'Lizzi...</td>\n",
              "      <td>{'Chandler': 449, 'Joey': 185, 'Monica': 480, ...</td>\n",
              "      <td>2336</td>\n",
              "      <td>['Central Perk', 'Iridium', 'Iridium', 'Cental...</td>\n",
              "      <td>Man in a Hole</td>\n",
              "    </tr>\n",
              "    <tr>\n",
              "      <th>3</th>\n",
              "      <td>[Scene: Central Perk, Ross and Monica are watc...</td>\n",
              "      <td>The One With George Stephanopoulos</td>\n",
              "      <td>4.0</td>\n",
              "      <td>1.0</td>\n",
              "      <td>['Joey', 'Rachel', 'Receptionist', 'Chandler',...</td>\n",
              "      <td>{'[Scene': 158, 'Monica': 418, 'Ross': 440, 'P...</td>\n",
              "      <td>2721</td>\n",
              "      <td>[]</td>\n",
              "      <td>Rags to Riches</td>\n",
              "    </tr>\n",
              "    <tr>\n",
              "      <th>4</th>\n",
              "      <td>[Scene: Central Perk, all six are there.]\\nMon...</td>\n",
              "      <td>The One With The East German Laundry Detergant</td>\n",
              "      <td>5.0</td>\n",
              "      <td>1.0</td>\n",
              "      <td>['Angela', 'Joey', 'Rachel', 'Bob', 'Chandler'...</td>\n",
              "      <td>{'Monica': 323, 'Ross': 560, 'Rachel': 371, 'C...</td>\n",
              "      <td>2765</td>\n",
              "      <td>[]</td>\n",
              "      <td>Man in a Hole</td>\n",
              "    </tr>\n",
              "  </tbody>\n",
              "</table>\n",
              "</div>\n",
              "    <div class=\"colab-df-buttons\">\n",
              "\n",
              "  <div class=\"colab-df-container\">\n",
              "    <button class=\"colab-df-convert\" onclick=\"convertToInteractive('df-b70b4269-4da5-4f0b-93c3-856a55ba13a2')\"\n",
              "            title=\"Convert this dataframe to an interactive table.\"\n",
              "            style=\"display:none;\">\n",
              "\n",
              "  <svg xmlns=\"http://www.w3.org/2000/svg\" height=\"24px\" viewBox=\"0 -960 960 960\">\n",
              "    <path d=\"M120-120v-720h720v720H120Zm60-500h600v-160H180v160Zm220 220h160v-160H400v160Zm0 220h160v-160H400v160ZM180-400h160v-160H180v160Zm440 0h160v-160H620v160ZM180-180h160v-160H180v160Zm440 0h160v-160H620v160Z\"/>\n",
              "  </svg>\n",
              "    </button>\n",
              "\n",
              "  <style>\n",
              "    .colab-df-container {\n",
              "      display:flex;\n",
              "      gap: 12px;\n",
              "    }\n",
              "\n",
              "    .colab-df-convert {\n",
              "      background-color: #E8F0FE;\n",
              "      border: none;\n",
              "      border-radius: 50%;\n",
              "      cursor: pointer;\n",
              "      display: none;\n",
              "      fill: #1967D2;\n",
              "      height: 32px;\n",
              "      padding: 0 0 0 0;\n",
              "      width: 32px;\n",
              "    }\n",
              "\n",
              "    .colab-df-convert:hover {\n",
              "      background-color: #E2EBFA;\n",
              "      box-shadow: 0px 1px 2px rgba(60, 64, 67, 0.3), 0px 1px 3px 1px rgba(60, 64, 67, 0.15);\n",
              "      fill: #174EA6;\n",
              "    }\n",
              "\n",
              "    .colab-df-buttons div {\n",
              "      margin-bottom: 4px;\n",
              "    }\n",
              "\n",
              "    [theme=dark] .colab-df-convert {\n",
              "      background-color: #3B4455;\n",
              "      fill: #D2E3FC;\n",
              "    }\n",
              "\n",
              "    [theme=dark] .colab-df-convert:hover {\n",
              "      background-color: #434B5C;\n",
              "      box-shadow: 0px 1px 3px 1px rgba(0, 0, 0, 0.15);\n",
              "      filter: drop-shadow(0px 1px 2px rgba(0, 0, 0, 0.3));\n",
              "      fill: #FFFFFF;\n",
              "    }\n",
              "  </style>\n",
              "\n",
              "    <script>\n",
              "      const buttonEl =\n",
              "        document.querySelector('#df-b70b4269-4da5-4f0b-93c3-856a55ba13a2 button.colab-df-convert');\n",
              "      buttonEl.style.display =\n",
              "        google.colab.kernel.accessAllowed ? 'block' : 'none';\n",
              "\n",
              "      async function convertToInteractive(key) {\n",
              "        const element = document.querySelector('#df-b70b4269-4da5-4f0b-93c3-856a55ba13a2');\n",
              "        const dataTable =\n",
              "          await google.colab.kernel.invokeFunction('convertToInteractive',\n",
              "                                                    [key], {});\n",
              "        if (!dataTable) return;\n",
              "\n",
              "        const docLinkHtml = 'Like what you see? Visit the ' +\n",
              "          '<a target=\"_blank\" href=https://colab.research.google.com/notebooks/data_table.ipynb>data table notebook</a>'\n",
              "          + ' to learn more about interactive tables.';\n",
              "        element.innerHTML = '';\n",
              "        dataTable['output_type'] = 'display_data';\n",
              "        await google.colab.output.renderOutput(dataTable, element);\n",
              "        const docLink = document.createElement('div');\n",
              "        docLink.innerHTML = docLinkHtml;\n",
              "        element.appendChild(docLink);\n",
              "      }\n",
              "    </script>\n",
              "  </div>\n",
              "\n",
              "\n",
              "<div id=\"df-79b395dd-3ab7-4691-bcd6-4dce576b6a8e\">\n",
              "  <button class=\"colab-df-quickchart\" onclick=\"quickchart('df-79b395dd-3ab7-4691-bcd6-4dce576b6a8e')\"\n",
              "            title=\"Suggest charts\"\n",
              "            style=\"display:none;\">\n",
              "\n",
              "<svg xmlns=\"http://www.w3.org/2000/svg\" height=\"24px\"viewBox=\"0 0 24 24\"\n",
              "     width=\"24px\">\n",
              "    <g>\n",
              "        <path d=\"M19 3H5c-1.1 0-2 .9-2 2v14c0 1.1.9 2 2 2h14c1.1 0 2-.9 2-2V5c0-1.1-.9-2-2-2zM9 17H7v-7h2v7zm4 0h-2V7h2v10zm4 0h-2v-4h2v4z\"/>\n",
              "    </g>\n",
              "</svg>\n",
              "  </button>\n",
              "\n",
              "<style>\n",
              "  .colab-df-quickchart {\n",
              "      --bg-color: #E8F0FE;\n",
              "      --fill-color: #1967D2;\n",
              "      --hover-bg-color: #E2EBFA;\n",
              "      --hover-fill-color: #174EA6;\n",
              "      --disabled-fill-color: #AAA;\n",
              "      --disabled-bg-color: #DDD;\n",
              "  }\n",
              "\n",
              "  [theme=dark] .colab-df-quickchart {\n",
              "      --bg-color: #3B4455;\n",
              "      --fill-color: #D2E3FC;\n",
              "      --hover-bg-color: #434B5C;\n",
              "      --hover-fill-color: #FFFFFF;\n",
              "      --disabled-bg-color: #3B4455;\n",
              "      --disabled-fill-color: #666;\n",
              "  }\n",
              "\n",
              "  .colab-df-quickchart {\n",
              "    background-color: var(--bg-color);\n",
              "    border: none;\n",
              "    border-radius: 50%;\n",
              "    cursor: pointer;\n",
              "    display: none;\n",
              "    fill: var(--fill-color);\n",
              "    height: 32px;\n",
              "    padding: 0;\n",
              "    width: 32px;\n",
              "  }\n",
              "\n",
              "  .colab-df-quickchart:hover {\n",
              "    background-color: var(--hover-bg-color);\n",
              "    box-shadow: 0 1px 2px rgba(60, 64, 67, 0.3), 0 1px 3px 1px rgba(60, 64, 67, 0.15);\n",
              "    fill: var(--button-hover-fill-color);\n",
              "  }\n",
              "\n",
              "  .colab-df-quickchart-complete:disabled,\n",
              "  .colab-df-quickchart-complete:disabled:hover {\n",
              "    background-color: var(--disabled-bg-color);\n",
              "    fill: var(--disabled-fill-color);\n",
              "    box-shadow: none;\n",
              "  }\n",
              "\n",
              "  .colab-df-spinner {\n",
              "    border: 2px solid var(--fill-color);\n",
              "    border-color: transparent;\n",
              "    border-bottom-color: var(--fill-color);\n",
              "    animation:\n",
              "      spin 1s steps(1) infinite;\n",
              "  }\n",
              "\n",
              "  @keyframes spin {\n",
              "    0% {\n",
              "      border-color: transparent;\n",
              "      border-bottom-color: var(--fill-color);\n",
              "      border-left-color: var(--fill-color);\n",
              "    }\n",
              "    20% {\n",
              "      border-color: transparent;\n",
              "      border-left-color: var(--fill-color);\n",
              "      border-top-color: var(--fill-color);\n",
              "    }\n",
              "    30% {\n",
              "      border-color: transparent;\n",
              "      border-left-color: var(--fill-color);\n",
              "      border-top-color: var(--fill-color);\n",
              "      border-right-color: var(--fill-color);\n",
              "    }\n",
              "    40% {\n",
              "      border-color: transparent;\n",
              "      border-right-color: var(--fill-color);\n",
              "      border-top-color: var(--fill-color);\n",
              "    }\n",
              "    60% {\n",
              "      border-color: transparent;\n",
              "      border-right-color: var(--fill-color);\n",
              "    }\n",
              "    80% {\n",
              "      border-color: transparent;\n",
              "      border-right-color: var(--fill-color);\n",
              "      border-bottom-color: var(--fill-color);\n",
              "    }\n",
              "    90% {\n",
              "      border-color: transparent;\n",
              "      border-bottom-color: var(--fill-color);\n",
              "    }\n",
              "  }\n",
              "</style>\n",
              "\n",
              "  <script>\n",
              "    async function quickchart(key) {\n",
              "      const quickchartButtonEl =\n",
              "        document.querySelector('#' + key + ' button');\n",
              "      quickchartButtonEl.disabled = true;  // To prevent multiple clicks.\n",
              "      quickchartButtonEl.classList.add('colab-df-spinner');\n",
              "      try {\n",
              "        const charts = await google.colab.kernel.invokeFunction(\n",
              "            'suggestCharts', [key], {});\n",
              "      } catch (error) {\n",
              "        console.error('Error during call to suggestCharts:', error);\n",
              "      }\n",
              "      quickchartButtonEl.classList.remove('colab-df-spinner');\n",
              "      quickchartButtonEl.classList.add('colab-df-quickchart-complete');\n",
              "    }\n",
              "    (() => {\n",
              "      let quickchartButtonEl =\n",
              "        document.querySelector('#df-79b395dd-3ab7-4691-bcd6-4dce576b6a8e button');\n",
              "      quickchartButtonEl.style.display =\n",
              "        google.colab.kernel.accessAllowed ? 'block' : 'none';\n",
              "    })();\n",
              "  </script>\n",
              "</div>\n",
              "    </div>\n",
              "  </div>\n"
            ]
          },
          "metadata": {},
          "execution_count": 13
        }
      ]
    },
    {
      "cell_type": "code",
      "source": [
        "df_final['Emotional Archetype'] = df['emoticon']\n",
        "df_final.head() #saving results"
      ],
      "metadata": {
        "colab": {
          "base_uri": "https://localhost:8080/",
          "height": 692
        },
        "id": "ZKpfvptgK7oB",
        "outputId": "68552d81-1b87-4660-ab3b-b197a378fc82"
      },
      "execution_count": 16,
      "outputs": [
        {
          "output_type": "execute_result",
          "data": {
            "text/plain": [
              "   Unnamed: 0                                            Title  Episode  \\\n",
              "0           0                      The Pilot-The Uncut Version      1.0   \n",
              "1           1             The One With The Sonogram At the End      2.0   \n",
              "2           2                           The One With The Thumb      3.0   \n",
              "3           3               The One With George Stephanopoulos      4.0   \n",
              "4           4   The One With The East German Laundry Detergant      5.0   \n",
              "\n",
              "   Season                                    character_names  \\\n",
              "0     1.0  ['Joey', 'Paul', 'Rachel', 'Frannie', 'Chandle...   \n",
              "1     1.0  ['Rachel', 'Joey', 'Barry', 'Scene', 'Geller',...   \n",
              "2     1.0  ['Joey', 'Rachel', 'Scene', 'Chandler', 'Lizzi...   \n",
              "3     1.0  ['Joey', 'Rachel', 'Receptionist', 'Chandler',...   \n",
              "4     1.0  ['Angela', 'Joey', 'Rachel', 'Bob', 'Chandler'...   \n",
              "\n",
              "                                    Spoken Word List  Total Spoken Words  \\\n",
              "0  {'[Scene': 81, 'Phoebe': 166, 'Ross': 357, 'Jo...                2290   \n",
              "1  {'Monica': 253, 'Joey': 73, 'Phoebe': 115, 'Ra...                2520   \n",
              "2  {'Chandler': 449, 'Joey': 185, 'Monica': 480, ...                2336   \n",
              "3  {'[Scene': 158, 'Monica': 418, 'Ross': 440, 'P...                2721   \n",
              "4  {'Monica': 323, 'Ross': 560, 'Rachel': 371, 'C...                2765   \n",
              "\n",
              "   number of scene changes                                               locs  \\\n",
              "0                       13  [\"Ross's Apartment\", \"Monica's Apartment\", \"Ro...   \n",
              "1                       11  ['Central Perk', 'Central Perk', \"Monica's Apa...   \n",
              "2                       14  ['Central Perk', 'Central Perk', 'Central Perk...   \n",
              "3                       15                   ['Central Perk', 'Central Perk']   \n",
              "4                       16  ['Central Perk', 'Central Perk', \"Monica's Apa...   \n",
              "\n",
              "   Sarcasm Index Emotional Archetype  \n",
              "0       0.666667           Uncharted  \n",
              "1       0.714286              Icarus  \n",
              "2       0.625000       Man in a Hole  \n",
              "3       0.333333      Rags to Riches  \n",
              "4       0.625000       Man in a Hole  "
            ],
            "text/html": [
              "\n",
              "  <div id=\"df-c517855e-901e-4284-a726-25073caffdba\" class=\"colab-df-container\">\n",
              "    <div>\n",
              "<style scoped>\n",
              "    .dataframe tbody tr th:only-of-type {\n",
              "        vertical-align: middle;\n",
              "    }\n",
              "\n",
              "    .dataframe tbody tr th {\n",
              "        vertical-align: top;\n",
              "    }\n",
              "\n",
              "    .dataframe thead th {\n",
              "        text-align: right;\n",
              "    }\n",
              "</style>\n",
              "<table border=\"1\" class=\"dataframe\">\n",
              "  <thead>\n",
              "    <tr style=\"text-align: right;\">\n",
              "      <th></th>\n",
              "      <th>Unnamed: 0</th>\n",
              "      <th>Title</th>\n",
              "      <th>Episode</th>\n",
              "      <th>Season</th>\n",
              "      <th>character_names</th>\n",
              "      <th>Spoken Word List</th>\n",
              "      <th>Total Spoken Words</th>\n",
              "      <th>number of scene changes</th>\n",
              "      <th>locs</th>\n",
              "      <th>Sarcasm Index</th>\n",
              "      <th>Emotional Archetype</th>\n",
              "    </tr>\n",
              "  </thead>\n",
              "  <tbody>\n",
              "    <tr>\n",
              "      <th>0</th>\n",
              "      <td>0</td>\n",
              "      <td>The Pilot-The Uncut Version</td>\n",
              "      <td>1.0</td>\n",
              "      <td>1.0</td>\n",
              "      <td>['Joey', 'Paul', 'Rachel', 'Frannie', 'Chandle...</td>\n",
              "      <td>{'[Scene': 81, 'Phoebe': 166, 'Ross': 357, 'Jo...</td>\n",
              "      <td>2290</td>\n",
              "      <td>13</td>\n",
              "      <td>[\"Ross's Apartment\", \"Monica's Apartment\", \"Ro...</td>\n",
              "      <td>0.666667</td>\n",
              "      <td>Uncharted</td>\n",
              "    </tr>\n",
              "    <tr>\n",
              "      <th>1</th>\n",
              "      <td>1</td>\n",
              "      <td>The One With The Sonogram At the End</td>\n",
              "      <td>2.0</td>\n",
              "      <td>1.0</td>\n",
              "      <td>['Rachel', 'Joey', 'Barry', 'Scene', 'Geller',...</td>\n",
              "      <td>{'Monica': 253, 'Joey': 73, 'Phoebe': 115, 'Ra...</td>\n",
              "      <td>2520</td>\n",
              "      <td>11</td>\n",
              "      <td>['Central Perk', 'Central Perk', \"Monica's Apa...</td>\n",
              "      <td>0.714286</td>\n",
              "      <td>Icarus</td>\n",
              "    </tr>\n",
              "    <tr>\n",
              "      <th>2</th>\n",
              "      <td>2</td>\n",
              "      <td>The One With The Thumb</td>\n",
              "      <td>3.0</td>\n",
              "      <td>1.0</td>\n",
              "      <td>['Joey', 'Rachel', 'Scene', 'Chandler', 'Lizzi...</td>\n",
              "      <td>{'Chandler': 449, 'Joey': 185, 'Monica': 480, ...</td>\n",
              "      <td>2336</td>\n",
              "      <td>14</td>\n",
              "      <td>['Central Perk', 'Central Perk', 'Central Perk...</td>\n",
              "      <td>0.625000</td>\n",
              "      <td>Man in a Hole</td>\n",
              "    </tr>\n",
              "    <tr>\n",
              "      <th>3</th>\n",
              "      <td>3</td>\n",
              "      <td>The One With George Stephanopoulos</td>\n",
              "      <td>4.0</td>\n",
              "      <td>1.0</td>\n",
              "      <td>['Joey', 'Rachel', 'Receptionist', 'Chandler',...</td>\n",
              "      <td>{'[Scene': 158, 'Monica': 418, 'Ross': 440, 'P...</td>\n",
              "      <td>2721</td>\n",
              "      <td>15</td>\n",
              "      <td>['Central Perk', 'Central Perk']</td>\n",
              "      <td>0.333333</td>\n",
              "      <td>Rags to Riches</td>\n",
              "    </tr>\n",
              "    <tr>\n",
              "      <th>4</th>\n",
              "      <td>4</td>\n",
              "      <td>The One With The East German Laundry Detergant</td>\n",
              "      <td>5.0</td>\n",
              "      <td>1.0</td>\n",
              "      <td>['Angela', 'Joey', 'Rachel', 'Bob', 'Chandler'...</td>\n",
              "      <td>{'Monica': 323, 'Ross': 560, 'Rachel': 371, 'C...</td>\n",
              "      <td>2765</td>\n",
              "      <td>16</td>\n",
              "      <td>['Central Perk', 'Central Perk', \"Monica's Apa...</td>\n",
              "      <td>0.625000</td>\n",
              "      <td>Man in a Hole</td>\n",
              "    </tr>\n",
              "  </tbody>\n",
              "</table>\n",
              "</div>\n",
              "    <div class=\"colab-df-buttons\">\n",
              "\n",
              "  <div class=\"colab-df-container\">\n",
              "    <button class=\"colab-df-convert\" onclick=\"convertToInteractive('df-c517855e-901e-4284-a726-25073caffdba')\"\n",
              "            title=\"Convert this dataframe to an interactive table.\"\n",
              "            style=\"display:none;\">\n",
              "\n",
              "  <svg xmlns=\"http://www.w3.org/2000/svg\" height=\"24px\" viewBox=\"0 -960 960 960\">\n",
              "    <path d=\"M120-120v-720h720v720H120Zm60-500h600v-160H180v160Zm220 220h160v-160H400v160Zm0 220h160v-160H400v160ZM180-400h160v-160H180v160Zm440 0h160v-160H620v160ZM180-180h160v-160H180v160Zm440 0h160v-160H620v160Z\"/>\n",
              "  </svg>\n",
              "    </button>\n",
              "\n",
              "  <style>\n",
              "    .colab-df-container {\n",
              "      display:flex;\n",
              "      gap: 12px;\n",
              "    }\n",
              "\n",
              "    .colab-df-convert {\n",
              "      background-color: #E8F0FE;\n",
              "      border: none;\n",
              "      border-radius: 50%;\n",
              "      cursor: pointer;\n",
              "      display: none;\n",
              "      fill: #1967D2;\n",
              "      height: 32px;\n",
              "      padding: 0 0 0 0;\n",
              "      width: 32px;\n",
              "    }\n",
              "\n",
              "    .colab-df-convert:hover {\n",
              "      background-color: #E2EBFA;\n",
              "      box-shadow: 0px 1px 2px rgba(60, 64, 67, 0.3), 0px 1px 3px 1px rgba(60, 64, 67, 0.15);\n",
              "      fill: #174EA6;\n",
              "    }\n",
              "\n",
              "    .colab-df-buttons div {\n",
              "      margin-bottom: 4px;\n",
              "    }\n",
              "\n",
              "    [theme=dark] .colab-df-convert {\n",
              "      background-color: #3B4455;\n",
              "      fill: #D2E3FC;\n",
              "    }\n",
              "\n",
              "    [theme=dark] .colab-df-convert:hover {\n",
              "      background-color: #434B5C;\n",
              "      box-shadow: 0px 1px 3px 1px rgba(0, 0, 0, 0.15);\n",
              "      filter: drop-shadow(0px 1px 2px rgba(0, 0, 0, 0.3));\n",
              "      fill: #FFFFFF;\n",
              "    }\n",
              "  </style>\n",
              "\n",
              "    <script>\n",
              "      const buttonEl =\n",
              "        document.querySelector('#df-c517855e-901e-4284-a726-25073caffdba button.colab-df-convert');\n",
              "      buttonEl.style.display =\n",
              "        google.colab.kernel.accessAllowed ? 'block' : 'none';\n",
              "\n",
              "      async function convertToInteractive(key) {\n",
              "        const element = document.querySelector('#df-c517855e-901e-4284-a726-25073caffdba');\n",
              "        const dataTable =\n",
              "          await google.colab.kernel.invokeFunction('convertToInteractive',\n",
              "                                                    [key], {});\n",
              "        if (!dataTable) return;\n",
              "\n",
              "        const docLinkHtml = 'Like what you see? Visit the ' +\n",
              "          '<a target=\"_blank\" href=https://colab.research.google.com/notebooks/data_table.ipynb>data table notebook</a>'\n",
              "          + ' to learn more about interactive tables.';\n",
              "        element.innerHTML = '';\n",
              "        dataTable['output_type'] = 'display_data';\n",
              "        await google.colab.output.renderOutput(dataTable, element);\n",
              "        const docLink = document.createElement('div');\n",
              "        docLink.innerHTML = docLinkHtml;\n",
              "        element.appendChild(docLink);\n",
              "      }\n",
              "    </script>\n",
              "  </div>\n",
              "\n",
              "\n",
              "<div id=\"df-f3555243-f485-401f-9553-964ac293b0fd\">\n",
              "  <button class=\"colab-df-quickchart\" onclick=\"quickchart('df-f3555243-f485-401f-9553-964ac293b0fd')\"\n",
              "            title=\"Suggest charts\"\n",
              "            style=\"display:none;\">\n",
              "\n",
              "<svg xmlns=\"http://www.w3.org/2000/svg\" height=\"24px\"viewBox=\"0 0 24 24\"\n",
              "     width=\"24px\">\n",
              "    <g>\n",
              "        <path d=\"M19 3H5c-1.1 0-2 .9-2 2v14c0 1.1.9 2 2 2h14c1.1 0 2-.9 2-2V5c0-1.1-.9-2-2-2zM9 17H7v-7h2v7zm4 0h-2V7h2v10zm4 0h-2v-4h2v4z\"/>\n",
              "    </g>\n",
              "</svg>\n",
              "  </button>\n",
              "\n",
              "<style>\n",
              "  .colab-df-quickchart {\n",
              "      --bg-color: #E8F0FE;\n",
              "      --fill-color: #1967D2;\n",
              "      --hover-bg-color: #E2EBFA;\n",
              "      --hover-fill-color: #174EA6;\n",
              "      --disabled-fill-color: #AAA;\n",
              "      --disabled-bg-color: #DDD;\n",
              "  }\n",
              "\n",
              "  [theme=dark] .colab-df-quickchart {\n",
              "      --bg-color: #3B4455;\n",
              "      --fill-color: #D2E3FC;\n",
              "      --hover-bg-color: #434B5C;\n",
              "      --hover-fill-color: #FFFFFF;\n",
              "      --disabled-bg-color: #3B4455;\n",
              "      --disabled-fill-color: #666;\n",
              "  }\n",
              "\n",
              "  .colab-df-quickchart {\n",
              "    background-color: var(--bg-color);\n",
              "    border: none;\n",
              "    border-radius: 50%;\n",
              "    cursor: pointer;\n",
              "    display: none;\n",
              "    fill: var(--fill-color);\n",
              "    height: 32px;\n",
              "    padding: 0;\n",
              "    width: 32px;\n",
              "  }\n",
              "\n",
              "  .colab-df-quickchart:hover {\n",
              "    background-color: var(--hover-bg-color);\n",
              "    box-shadow: 0 1px 2px rgba(60, 64, 67, 0.3), 0 1px 3px 1px rgba(60, 64, 67, 0.15);\n",
              "    fill: var(--button-hover-fill-color);\n",
              "  }\n",
              "\n",
              "  .colab-df-quickchart-complete:disabled,\n",
              "  .colab-df-quickchart-complete:disabled:hover {\n",
              "    background-color: var(--disabled-bg-color);\n",
              "    fill: var(--disabled-fill-color);\n",
              "    box-shadow: none;\n",
              "  }\n",
              "\n",
              "  .colab-df-spinner {\n",
              "    border: 2px solid var(--fill-color);\n",
              "    border-color: transparent;\n",
              "    border-bottom-color: var(--fill-color);\n",
              "    animation:\n",
              "      spin 1s steps(1) infinite;\n",
              "  }\n",
              "\n",
              "  @keyframes spin {\n",
              "    0% {\n",
              "      border-color: transparent;\n",
              "      border-bottom-color: var(--fill-color);\n",
              "      border-left-color: var(--fill-color);\n",
              "    }\n",
              "    20% {\n",
              "      border-color: transparent;\n",
              "      border-left-color: var(--fill-color);\n",
              "      border-top-color: var(--fill-color);\n",
              "    }\n",
              "    30% {\n",
              "      border-color: transparent;\n",
              "      border-left-color: var(--fill-color);\n",
              "      border-top-color: var(--fill-color);\n",
              "      border-right-color: var(--fill-color);\n",
              "    }\n",
              "    40% {\n",
              "      border-color: transparent;\n",
              "      border-right-color: var(--fill-color);\n",
              "      border-top-color: var(--fill-color);\n",
              "    }\n",
              "    60% {\n",
              "      border-color: transparent;\n",
              "      border-right-color: var(--fill-color);\n",
              "    }\n",
              "    80% {\n",
              "      border-color: transparent;\n",
              "      border-right-color: var(--fill-color);\n",
              "      border-bottom-color: var(--fill-color);\n",
              "    }\n",
              "    90% {\n",
              "      border-color: transparent;\n",
              "      border-bottom-color: var(--fill-color);\n",
              "    }\n",
              "  }\n",
              "</style>\n",
              "\n",
              "  <script>\n",
              "    async function quickchart(key) {\n",
              "      const quickchartButtonEl =\n",
              "        document.querySelector('#' + key + ' button');\n",
              "      quickchartButtonEl.disabled = true;  // To prevent multiple clicks.\n",
              "      quickchartButtonEl.classList.add('colab-df-spinner');\n",
              "      try {\n",
              "        const charts = await google.colab.kernel.invokeFunction(\n",
              "            'suggestCharts', [key], {});\n",
              "      } catch (error) {\n",
              "        console.error('Error during call to suggestCharts:', error);\n",
              "      }\n",
              "      quickchartButtonEl.classList.remove('colab-df-spinner');\n",
              "      quickchartButtonEl.classList.add('colab-df-quickchart-complete');\n",
              "    }\n",
              "    (() => {\n",
              "      let quickchartButtonEl =\n",
              "        document.querySelector('#df-f3555243-f485-401f-9553-964ac293b0fd button');\n",
              "      quickchartButtonEl.style.display =\n",
              "        google.colab.kernel.accessAllowed ? 'block' : 'none';\n",
              "    })();\n",
              "  </script>\n",
              "</div>\n",
              "    </div>\n",
              "  </div>\n"
            ]
          },
          "metadata": {},
          "execution_count": 16
        }
      ]
    },
    {
      "cell_type": "code",
      "source": [
        "df_final['Emotional Archetype'].value_counts() #observing values obtained"
      ],
      "metadata": {
        "colab": {
          "base_uri": "https://localhost:8080/"
        },
        "id": "uAQRlm8KaX-R",
        "outputId": "207fb601-7cb5-48ea-c41e-69247bba51a8"
      },
      "execution_count": 21,
      "outputs": [
        {
          "output_type": "execute_result",
          "data": {
            "text/plain": [
              "Uncharted         169\n",
              "Man in a Hole      26\n",
              "Rags to Riches     20\n",
              "Cinderella          6\n",
              "Icarus              5\n",
              "Oedipus             3\n",
              "Name: Emotional Archetype, dtype: int64"
            ]
          },
          "metadata": {},
          "execution_count": 21
        }
      ]
    },
    {
      "cell_type": "code",
      "source": [
        "df_final.to_csv('Final_Script_Feature_Engineered.csv') #saving and checkpoints"
      ],
      "metadata": {
        "id": "9ckaHZU8aqIO"
      },
      "execution_count": 19,
      "outputs": []
    }
  ]
}