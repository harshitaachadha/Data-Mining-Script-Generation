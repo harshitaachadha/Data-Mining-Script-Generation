{
 "cells": [
  {
   "cell_type": "markdown",
   "id": "a42b8e6b",
   "metadata": {},
   "source": [
    "https://transcripts.foreverdreaming.org/ + the scraped from page"
   ]
  },
  {
   "cell_type": "markdown",
   "id": "4c20042f",
   "metadata": {},
   "source": [
    "from level 1 page, the + url is housed under the ul tag where class = 'topics' -->"
   ]
  },
  {
   "cell_type": "code",
   "execution_count": 1,
   "id": "bd4bcdde",
   "metadata": {},
   "outputs": [],
   "source": [
    "import requests\n",
    "from bs4 import BeautifulSoup"
   ]
  },
  {
   "cell_type": "code",
   "execution_count": 2,
   "id": "bb40edea",
   "metadata": {},
   "outputs": [],
   "source": [
    "import requests\n",
    "from bs4 import BeautifulSoup\n",
    "\n",
    "url_list = [\"https://transcripts.foreverdreaming.org/viewforum.php?f=845\",\"https://transcripts.foreverdreaming.org/viewforum.php?f=845&start=78\", \"https://transcripts.foreverdreaming.org/viewforum.php?f=845&start=156\"]\n",
    "master_list = []\n",
    "for url in url_list:\n",
    "    loop_list = []\n",
    "    response = requests.get(url)\n",
    "    soup = BeautifulSoup(response.content, 'html.parser')\n",
    "    ul_tag = soup.find_all('ul', class_='topics')\n",
    "    for u in ul_tag:\n",
    "        rel_tag = u.find_all('li', class_=['row bg1', 'row bg2'])\n",
    "        for item in rel_tag:\n",
    "            title = item.find_all('a', attrs ={'class':'topictitle'})[0].get_text()\n",
    "            a_tag = item.find_all('a', attrs ={'title':'Go to last post'})\n",
    "            href_list = [a['href']for a in a_tag]\n",
    "            text = 'https://transcripts.foreverdreaming.org/'+href_list[0].split('&')[0]\n",
    "            item = [text,title]\n",
    "            loop_list.append(item)\n",
    "    master_list = master_list+loop_list"
   ]
  },
  {
   "cell_type": "markdown",
   "id": "1dfda92a",
   "metadata": {},
   "source": [
    "master_list has all the links for the webpages with scripts. Next task is to go to each of these pages and get the text content and store it in txt"
   ]
  },
  {
   "cell_type": "code",
   "execution_count": 3,
   "id": "b9350ba9",
   "metadata": {},
   "outputs": [
    {
     "data": {
      "text/plain": [
       "228"
      ]
     },
     "execution_count": 3,
     "metadata": {},
     "output_type": "execute_result"
    }
   ],
   "source": [
    "len(master_list)"
   ]
  },
  {
   "cell_type": "code",
   "execution_count": 5,
   "id": "778d0473",
   "metadata": {},
   "outputs": [
    {
     "data": {
      "text/plain": [
       "227"
      ]
     },
     "execution_count": 5,
     "metadata": {},
     "output_type": "execute_result"
    }
   ],
   "source": [
    "# removing the reunion\n",
    "master_list = master_list[1:len(master_list)]\n",
    "len(master_list)"
   ]
  },
  {
   "cell_type": "code",
   "execution_count": 6,
   "id": "58c26cf6",
   "metadata": {},
   "outputs": [
    {
     "data": {
      "text/plain": [
       "['https://transcripts.foreverdreaming.org/./viewtopic.php?p=145491',\n",
       " '01x01 - The One Where Monica Gets a New Roommate (The Pilot)']"
      ]
     },
     "execution_count": 6,
     "metadata": {},
     "output_type": "execute_result"
    }
   ],
   "source": [
    "master_list[226]"
   ]
  },
  {
   "cell_type": "code",
   "execution_count": 10,
   "id": "7f4b4093",
   "metadata": {},
   "outputs": [
    {
     "name": "stdout",
     "output_type": "stream",
     "text": [
      "1\n",
      "2\n",
      "3\n",
      "4\n",
      "5\n",
      "6\n",
      "7\n",
      "8\n",
      "9\n",
      "10\n",
      "11\n",
      "12\n",
      "13\n",
      "14\n",
      "15\n",
      "16\n",
      "17\n",
      "18\n",
      "19\n",
      "20\n",
      "21\n",
      "22\n",
      "23\n",
      "24\n",
      "25\n",
      "26\n",
      "27\n",
      "28\n",
      "29\n",
      "30\n",
      "31\n",
      "32\n",
      "33\n",
      "34\n",
      "35\n",
      "36\n",
      "37\n",
      "38\n",
      "39\n",
      "40\n",
      "41\n",
      "42\n",
      "43\n",
      "44\n",
      "45\n",
      "46\n",
      "47\n",
      "48\n",
      "49\n",
      "50\n",
      "51\n",
      "52\n",
      "53\n",
      "54\n",
      "55\n",
      "56\n",
      "57\n",
      "58\n",
      "59\n",
      "60\n",
      "61\n",
      "62\n",
      "63\n",
      "64\n",
      "65\n",
      "66\n",
      "67\n",
      "68\n",
      "69\n",
      "70\n",
      "71\n",
      "72\n",
      "73\n",
      "74\n",
      "75\n",
      "76\n",
      "77\n",
      "78\n",
      "79\n",
      "80\n",
      "81\n",
      "82\n",
      "83\n",
      "84\n",
      "85\n",
      "86\n",
      "87\n",
      "88\n",
      "89\n",
      "90\n",
      "91\n",
      "92\n",
      "93\n",
      "94\n",
      "95\n",
      "96\n",
      "97\n",
      "98\n",
      "99\n",
      "100\n",
      "101\n",
      "102\n",
      "103\n",
      "104\n",
      "105\n",
      "106\n",
      "107\n",
      "108\n",
      "109\n",
      "110\n",
      "111\n",
      "112\n",
      "113\n",
      "114\n",
      "115\n",
      "116\n",
      "117\n",
      "118\n",
      "119\n",
      "120\n",
      "121\n",
      "122\n",
      "123\n",
      "124\n",
      "125\n",
      "126\n",
      "127\n",
      "128\n",
      "129\n",
      "130\n",
      "131\n",
      "132\n",
      "133\n",
      "134\n",
      "135\n",
      "136\n",
      "137\n",
      "138\n",
      "139\n",
      "140\n",
      "141\n",
      "142\n",
      "143\n",
      "144\n",
      "145\n",
      "146\n",
      "147\n",
      "148\n",
      "149\n",
      "150\n",
      "151\n",
      "152\n",
      "153\n",
      "154\n",
      "155\n",
      "156\n",
      "157\n",
      "158\n",
      "159\n",
      "160\n",
      "161\n",
      "162\n",
      "163\n",
      "164\n",
      "165\n",
      "166\n",
      "167\n",
      "168\n",
      "169\n",
      "170\n",
      "171\n",
      "172\n",
      "173\n",
      "174\n",
      "175\n",
      "176\n",
      "177\n",
      "178\n",
      "179\n",
      "180\n",
      "181\n",
      "182\n",
      "183\n",
      "184\n",
      "185\n",
      "186\n",
      "187\n",
      "188\n",
      "189\n",
      "190\n",
      "191\n",
      "192\n",
      "193\n",
      "194\n",
      "195\n",
      "196\n",
      "197\n",
      "198\n",
      "199\n",
      "200\n",
      "201\n",
      "202\n",
      "203\n",
      "204\n",
      "205\n",
      "206\n",
      "207\n",
      "208\n",
      "209\n",
      "210\n",
      "211\n",
      "212\n",
      "213\n",
      "214\n",
      "215\n",
      "216\n",
      "217\n",
      "218\n",
      "219\n",
      "220\n",
      "221\n",
      "222\n",
      "223\n",
      "224\n",
      "225\n",
      "226\n",
      "227\n"
     ]
    }
   ],
   "source": [
    "from urllib.request import urlopen\n",
    "\n",
    "scripts_data = []\n",
    "i=1\n",
    "for episode in master_list:\n",
    "    response = requests.get(episode[0])\n",
    "    soup = BeautifulSoup(response.content, 'html.parser')\n",
    "    soup = soup.find_all('div', class_='content')[0]\n",
    "    for script in soup([\"script\", \"style\"]):\n",
    "        script.extract()    # rip it out\n",
    "    text = soup.get_text()\n",
    "    lines = (line.strip() for line in text.splitlines())\n",
    "    chunks = (phrase.strip() for line in lines for phrase in line.split(\"  \"))\n",
    "    text = '\\n'.join(chunk for chunk in chunks if chunk)\n",
    "    scripts_data.append([episode[1],episode[0],text])\n",
    "    print(i)\n",
    "    i = i+1"
   ]
  },
  {
   "cell_type": "code",
   "execution_count": 11,
   "id": "2f029719",
   "metadata": {},
   "outputs": [],
   "source": [
    "import pandas as pd\n",
    "df = pd.DataFrame(scripts_data, columns=['season and title','url','text script'])\n",
    "csv_file = \"Script_Data.csv\"\n",
    "df.to_csv(csv_file, index=False)"
   ]
  },
  {
   "cell_type": "code",
   "execution_count": 12,
   "id": "99e7bfcc",
   "metadata": {},
   "outputs": [
    {
     "data": {
      "text/html": [
       "<div>\n",
       "<style scoped>\n",
       "    .dataframe tbody tr th:only-of-type {\n",
       "        vertical-align: middle;\n",
       "    }\n",
       "\n",
       "    .dataframe tbody tr th {\n",
       "        vertical-align: top;\n",
       "    }\n",
       "\n",
       "    .dataframe thead th {\n",
       "        text-align: right;\n",
       "    }\n",
       "</style>\n",
       "<table border=\"1\" class=\"dataframe\">\n",
       "  <thead>\n",
       "    <tr style=\"text-align: right;\">\n",
       "      <th></th>\n",
       "      <th>season and title</th>\n",
       "      <th>url</th>\n",
       "      <th>text script</th>\n",
       "    </tr>\n",
       "  </thead>\n",
       "  <tbody>\n",
       "    <tr>\n",
       "      <th>0</th>\n",
       "      <td>10x17 - 10x18 -  The Last One (Finale)</td>\n",
       "      <td>https://transcripts.foreverdreaming.org/./view...</td>\n",
       "      <td>Written by: Marta Kauffman &amp; David Crane\\nDire...</td>\n",
       "    </tr>\n",
       "    <tr>\n",
       "      <th>1</th>\n",
       "      <td>10x16 - The One With Rachel's Going Away Party</td>\n",
       "      <td>https://transcripts.foreverdreaming.org/./view...</td>\n",
       "      <td>Written by: Andrew Reich &amp; Ted Cohen\\nProduced...</td>\n",
       "    </tr>\n",
       "    <tr>\n",
       "      <th>2</th>\n",
       "      <td>10x15 - The One Where Estelle Dies</td>\n",
       "      <td>https://transcripts.foreverdreaming.org/./view...</td>\n",
       "      <td>Teleplay by: Tracy Reilly\\nWritten by: Andrew ...</td>\n",
       "    </tr>\n",
       "    <tr>\n",
       "      <th>3</th>\n",
       "      <td>10x14 - The One With Princess Consuela</td>\n",
       "      <td>https://transcripts.foreverdreaming.org/./view...</td>\n",
       "      <td>Teleplay by: Tracy Reilly\\nStory by: Robert Ca...</td>\n",
       "    </tr>\n",
       "    <tr>\n",
       "      <th>4</th>\n",
       "      <td>10x13 - The One Where Joey Speaks French</td>\n",
       "      <td>https://transcripts.foreverdreaming.org/./view...</td>\n",
       "      <td>Written by: Sherry Bilding-Graham &amp; Ellen Plum...</td>\n",
       "    </tr>\n",
       "  </tbody>\n",
       "</table>\n",
       "</div>"
      ],
      "text/plain": [
       "                                 season and title  \\\n",
       "0          10x17 - 10x18 -  The Last One (Finale)   \n",
       "1  10x16 - The One With Rachel's Going Away Party   \n",
       "2              10x15 - The One Where Estelle Dies   \n",
       "3          10x14 - The One With Princess Consuela   \n",
       "4        10x13 - The One Where Joey Speaks French   \n",
       "\n",
       "                                                 url  \\\n",
       "0  https://transcripts.foreverdreaming.org/./view...   \n",
       "1  https://transcripts.foreverdreaming.org/./view...   \n",
       "2  https://transcripts.foreverdreaming.org/./view...   \n",
       "3  https://transcripts.foreverdreaming.org/./view...   \n",
       "4  https://transcripts.foreverdreaming.org/./view...   \n",
       "\n",
       "                                         text script  \n",
       "0  Written by: Marta Kauffman & David Crane\\nDire...  \n",
       "1  Written by: Andrew Reich & Ted Cohen\\nProduced...  \n",
       "2  Teleplay by: Tracy Reilly\\nWritten by: Andrew ...  \n",
       "3  Teleplay by: Tracy Reilly\\nStory by: Robert Ca...  \n",
       "4  Written by: Sherry Bilding-Graham & Ellen Plum...  "
      ]
     },
     "execution_count": 12,
     "metadata": {},
     "output_type": "execute_result"
    }
   ],
   "source": [
    "df.head()"
   ]
  },
  {
   "cell_type": "code",
   "execution_count": 13,
   "id": "c0d16caf",
   "metadata": {},
   "outputs": [
    {
     "data": {
      "text/plain": [
       "(227, 3)"
      ]
     },
     "execution_count": 13,
     "metadata": {},
     "output_type": "execute_result"
    }
   ],
   "source": [
    "df.shape"
   ]
  },
  {
   "cell_type": "code",
   "execution_count": null,
   "id": "ac0d756e",
   "metadata": {},
   "outputs": [],
   "source": [
    "##done"
   ]
  }
 ],
 "metadata": {
  "kernelspec": {
   "display_name": "Python 3",
   "language": "python",
   "name": "python3"
  },
  "language_info": {
   "codemirror_mode": {
    "name": "ipython",
    "version": 3
   },
   "file_extension": ".py",
   "mimetype": "text/x-python",
   "name": "python",
   "nbconvert_exporter": "python",
   "pygments_lexer": "ipython3",
   "version": "3.9.17"
  }
 },
 "nbformat": 4,
 "nbformat_minor": 5
}
