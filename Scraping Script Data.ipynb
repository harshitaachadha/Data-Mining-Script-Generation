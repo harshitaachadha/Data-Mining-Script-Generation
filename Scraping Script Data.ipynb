{
 "cells": [
  {
   "cell_type": "markdown",
   "id": "a42b8e6b",
   "metadata": {},
   "source": [
    "https://transcripts.foreverdreaming.org/ + the scraped from page"
   ]
  },
  {
   "cell_type": "markdown",
   "id": "4c20042f",
   "metadata": {},
   "source": [
    "from level 1 page, the + url is housed under the ul tag where class = 'topics' -->"
   ]
  }
 ],
 "metadata": {
  "kernelspec": {
   "display_name": "Python 3",
   "language": "python",
   "name": "python3"
  },
  "language_info": {
   "codemirror_mode": {
    "name": "ipython",
    "version": 3
   },
   "file_extension": ".py",
   "mimetype": "text/x-python",
   "name": "python",
   "nbconvert_exporter": "python",
   "pygments_lexer": "ipython3",
   "version": "3.9.17"
  }
 },
 "nbformat": 4,
 "nbformat_minor": 5
}
