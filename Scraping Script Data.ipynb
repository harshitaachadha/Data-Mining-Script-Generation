{
 "cells": [
  {
   "cell_type": "markdown",
   "id": "a42b8e6b",
   "metadata": {},
   "source": [
    "https://transcripts.foreverdreaming.org/ + the scraped from page"
   ]
  },
  {
   "cell_type": "markdown",
   "id": "4c20042f",
   "metadata": {},
   "source": [
    "from level 1 page, the + url is housed under the ul tag where class = 'topics' -->"
   ]
  },
  {
   "cell_type": "code",
   "execution_count": 11,
   "id": "bd4bcdde",
   "metadata": {},
   "outputs": [],
   "source": [
    "import requests\n",
    "from bs4 import BeautifulSoup"
   ]
  },
  {
   "cell_type": "code",
   "execution_count": 16,
   "id": "bb40edea",
   "metadata": {},
   "outputs": [],
   "source": [
    "import requests\n",
    "from bs4 import BeautifulSoup\n",
    "\n",
    "url_list = [\"https://transcripts.foreverdreaming.org/viewforum.php?f=11\",\"https://transcripts.foreverdreaming.org/viewforum.php?f=11&start=78\",\"https://transcripts.foreverdreaming.org/viewforum.php?f=11&start=156\", \"https://transcripts.foreverdreaming.org/viewforum.php?f=11&start=234\", \"https://transcripts.foreverdreaming.org/viewforum.php?f=11&start=312\", \"https://transcripts.foreverdreaming.org/viewforum.php?f=11&start=390\"]\n",
    "master_list = []\n",
    "for url in url_list:\n",
    "    loop_list = []\n",
    "    response = requests.get(url)\n",
    "    soup = BeautifulSoup(response.content, 'html.parser')\n",
    "    ul_tag = soup.find_all('ul', class_='topics')\n",
    "    for u in ul_tag:\n",
    "        rel_tag = u.find_all('li', class_=['row bg1', 'row bg2'])\n",
    "        for item in rel_tag:\n",
    "            title = item.find_all('a', attrs ={'class':'topictitle'})[0].get_text()\n",
    "            a_tag = item.find_all('a', attrs ={'title':'Go to last post'})\n",
    "            href_list = [a['href']for a in a_tag]\n",
    "            text = 'https://transcripts.foreverdreaming.org/'+href_list[0].split('&')[0]\n",
    "            item = [text,title]\n",
    "            loop_list.append(item)\n",
    "    master_list = master_list+loop_list"
   ]
  },
  {
   "cell_type": "markdown",
   "id": "1dfda92a",
   "metadata": {},
   "source": [
    "master_list has all the links for the webpages with scripts. Next task is to go to each of these pages and get the text content and store it in txt"
   ]
  },
  {
   "cell_type": "code",
   "execution_count": 24,
   "id": "b9350ba9",
   "metadata": {},
   "outputs": [
    {
     "data": {
      "text/plain": [
       "['https://transcripts.foreverdreaming.org/./viewtopic.php?p=104940',\n",
       " \"01x01 - A Hard Day's Night (Pilot)\"]"
      ]
     },
     "execution_count": 24,
     "metadata": {},
     "output_type": "execute_result"
    }
   ],
   "source": [
    "master_list[416]"
   ]
  },
  {
   "cell_type": "code",
   "execution_count": 37,
   "id": "7f4b4093",
   "metadata": {},
   "outputs": [],
   "source": [
    "from urllib.request import urlopen\n",
    "\n",
    "scripts_data = []\n",
    "for episode in master_list:\n",
    "    response = requests.get(episode[0])\n",
    "    soup = BeautifulSoup(response.content, 'html.parser')\n",
    "    soup = soup.find_all('div', class_='content')[0]\n",
    "    for script in soup([\"script\", \"style\"]):\n",
    "        script.extract()    # rip it out\n",
    "    text = soup.get_text()\n",
    "    lines = (line.strip() for line in text.splitlines())\n",
    "    chunks = (phrase.strip() for line in lines for phrase in line.split(\"  \"))\n",
    "    text = '\\n'.join(chunk for chunk in chunks if chunk)\n",
    "    scripts_data.append([episode[1],episode[0],text])"
   ]
  },
  {
   "cell_type": "code",
   "execution_count": 39,
   "id": "2f029719",
   "metadata": {},
   "outputs": [],
   "source": [
    "import pandas as pd\n",
    "df = pd.DataFrame(scripts_data, columns=['season and title','url','text script'])\n",
    "csv_file = \"Script_Data.csv\"\n",
    "df.to_csv(csv_file, index=False)"
   ]
  },
  {
   "cell_type": "code",
   "execution_count": 40,
   "id": "99e7bfcc",
   "metadata": {},
   "outputs": [
    {
     "data": {
      "text/html": [
       "<div>\n",
       "<style scoped>\n",
       "    .dataframe tbody tr th:only-of-type {\n",
       "        vertical-align: middle;\n",
       "    }\n",
       "\n",
       "    .dataframe tbody tr th {\n",
       "        vertical-align: top;\n",
       "    }\n",
       "\n",
       "    .dataframe thead th {\n",
       "        text-align: right;\n",
       "    }\n",
       "</style>\n",
       "<table border=\"1\" class=\"dataframe\">\n",
       "  <thead>\n",
       "    <tr style=\"text-align: right;\">\n",
       "      <th></th>\n",
       "      <th>season and title</th>\n",
       "      <th>url</th>\n",
       "      <th>text script</th>\n",
       "    </tr>\n",
       "  </thead>\n",
       "  <tbody>\n",
       "    <tr>\n",
       "      <th>0</th>\n",
       "      <td>19x20 - Happily Ever After?</td>\n",
       "      <td>https://transcripts.foreverdreaming.org/./view...</td>\n",
       "      <td>For decades, if we\\nwanted to see inside the b...</td>\n",
       "    </tr>\n",
       "    <tr>\n",
       "      <th>1</th>\n",
       "      <td>19x19 - Wedding Bell Blues</td>\n",
       "      <td>https://transcripts.foreverdreaming.org/./view...</td>\n",
       "      <td>MEREDITH: The idea that the\\nbrain can convinc...</td>\n",
       "    </tr>\n",
       "    <tr>\n",
       "      <th>2</th>\n",
       "      <td>19x18 - Ready to Run</td>\n",
       "      <td>https://transcripts.foreverdreaming.org/./view...</td>\n",
       "      <td>[JUDITH HILL'S \"TODAY IS\"]\\nMEREDITH: Oxygen i...</td>\n",
       "    </tr>\n",
       "    <tr>\n",
       "      <th>3</th>\n",
       "      <td>19x17 - Come Fly With Me</td>\n",
       "      <td>https://transcripts.foreverdreaming.org/./view...</td>\n",
       "      <td>[UPBEAT MUSIC]\\nMEREDITH: As doctors,\\nwe rely...</td>\n",
       "    </tr>\n",
       "    <tr>\n",
       "      <th>4</th>\n",
       "      <td>19x16 - g*n and Lead</td>\n",
       "      <td>https://transcripts.foreverdreaming.org/./view...</td>\n",
       "      <td>MEREDITH: Throughout\\nhistory, traumatic exper...</td>\n",
       "    </tr>\n",
       "  </tbody>\n",
       "</table>\n",
       "</div>"
      ],
      "text/plain": [
       "              season and title  \\\n",
       "0  19x20 - Happily Ever After?   \n",
       "1   19x19 - Wedding Bell Blues   \n",
       "2         19x18 - Ready to Run   \n",
       "3     19x17 - Come Fly With Me   \n",
       "4         19x16 - g*n and Lead   \n",
       "\n",
       "                                                 url  \\\n",
       "0  https://transcripts.foreverdreaming.org/./view...   \n",
       "1  https://transcripts.foreverdreaming.org/./view...   \n",
       "2  https://transcripts.foreverdreaming.org/./view...   \n",
       "3  https://transcripts.foreverdreaming.org/./view...   \n",
       "4  https://transcripts.foreverdreaming.org/./view...   \n",
       "\n",
       "                                         text script  \n",
       "0  For decades, if we\\nwanted to see inside the b...  \n",
       "1  MEREDITH: The idea that the\\nbrain can convinc...  \n",
       "2  [JUDITH HILL'S \"TODAY IS\"]\\nMEREDITH: Oxygen i...  \n",
       "3  [UPBEAT MUSIC]\\nMEREDITH: As doctors,\\nwe rely...  \n",
       "4  MEREDITH: Throughout\\nhistory, traumatic exper...  "
      ]
     },
     "execution_count": 40,
     "metadata": {},
     "output_type": "execute_result"
    }
   ],
   "source": [
    "df.head()"
   ]
  },
  {
   "cell_type": "code",
   "execution_count": 41,
   "id": "c0d16caf",
   "metadata": {},
   "outputs": [
    {
     "data": {
      "text/plain": [
       "(417, 3)"
      ]
     },
     "execution_count": 41,
     "metadata": {},
     "output_type": "execute_result"
    }
   ],
   "source": [
    "df.shape"
   ]
  },
  {
   "cell_type": "code",
   "execution_count": null,
   "id": "ac0d756e",
   "metadata": {},
   "outputs": [],
   "source": [
    "##done"
   ]
  }
 ],
 "metadata": {
  "kernelspec": {
   "display_name": "Python 3",
   "language": "python",
   "name": "python3"
  },
  "language_info": {
   "codemirror_mode": {
    "name": "ipython",
    "version": 3
   },
   "file_extension": ".py",
   "mimetype": "text/x-python",
   "name": "python",
   "nbconvert_exporter": "python",
   "pygments_lexer": "ipython3",
   "version": "3.9.17"
  }
 },
 "nbformat": 4,
 "nbformat_minor": 5
}
