{
 "cells": [
  {
   "cell_type": "markdown",
   "id": "4c20042f",
   "metadata": {},
   "source": [
    "from level 1 page, the + url is housed under the ul tag where class = 'topics' -->"
   ]
  },
  {
   "cell_type": "code",
   "execution_count": 157,
   "id": "bd4bcdde",
   "metadata": {},
   "outputs": [],
   "source": [
    "import requests\n",
    "from bs4 import BeautifulSoup"
   ]
  },
  {
   "cell_type": "code",
   "execution_count": 158,
   "id": "bb40edea",
   "metadata": {},
   "outputs": [],
   "source": [
    "import requests\n",
    "from bs4 import BeautifulSoup\n",
    "\n",
    "url = \"https://www.livesinabox.com/friends/scripts.shtml\"\n",
    "master_list = []\n",
    "loop_list = []\n",
    "response = requests.get(url, verify=False)\n",
    "soup = BeautifulSoup(response.content, 'html.parser')\n",
    "div_tag = soup.find_all('ul')\n",
    "for u in div_tag:\n",
    "    rel_tag = u.find_all('li')\n",
    "    for item in rel_tag:\n",
    "        title = item.find('a').text.replace('\\n', '').replace('                                ', '').strip()\n",
    "        a_tag = item.find_all('a')\n",
    "        href_list = [a['href']for a in a_tag]\n",
    "        text = 'https://www.livesinabox.com/friends/'+href_list[0].split('&')[0]\n",
    "        item = [text,title,'']\n",
    "        loop_list.append(item)\n",
    "master_list = master_list+loop_list"
   ]
  },
  {
   "cell_type": "markdown",
   "id": "1dfda92a",
   "metadata": {},
   "source": [
    "master_list has all the links for the webpages with scripts. Next task is to go to each of these pages and get the text content and store it in txt"
   ]
  },
  {
   "cell_type": "code",
   "execution_count": 159,
   "id": "23e9f9e2",
   "metadata": {},
   "outputs": [
    {
     "data": {
      "text/plain": [
       "['https://www.livesinabox.com/friends/season1/102towsg.htm',\n",
       " 'Episode 102: The One With The Sonogram At the End',\n",
       " '']"
      ]
     },
     "execution_count": 159,
     "metadata": {},
     "output_type": "execute_result"
    }
   ],
   "source": [
    "master_list[1]"
   ]
  },
  {
   "cell_type": "code",
   "execution_count": 160,
   "id": "b9350ba9",
   "metadata": {},
   "outputs": [
    {
     "data": {
      "text/plain": [
       "231"
      ]
     },
     "execution_count": 160,
     "metadata": {},
     "output_type": "execute_result"
    }
   ],
   "source": [
    "len(master_list)"
   ]
  },
  {
   "cell_type": "code",
   "execution_count": 161,
   "id": "58c26cf6",
   "metadata": {
    "collapsed": true
   },
   "outputs": [
    {
     "name": "stdout",
     "output_type": "stream",
     "text": [
      "0\n",
      "1\n",
      "2\n",
      "3\n",
      "4\n",
      "5\n",
      "6\n",
      "7\n",
      "8\n",
      "9\n",
      "10\n",
      "11\n",
      "12\n",
      "13\n",
      "14\n",
      "15\n",
      "16\n",
      "17\n",
      "18\n",
      "19\n",
      "20\n",
      "21\n",
      "22\n",
      "23\n",
      "24\n",
      "25\n",
      "26\n",
      "27\n",
      "28\n",
      "29\n",
      "30\n",
      "31\n",
      "32\n",
      "33\n",
      "34\n",
      "35\n",
      "36\n",
      "37\n",
      "38\n",
      "39\n",
      "40\n",
      "41\n",
      "42\n",
      "43\n",
      "44\n",
      "45\n",
      "46\n",
      "47\n",
      "48\n",
      "49\n",
      "50\n",
      "51\n",
      "52\n",
      "53\n",
      "54\n",
      "55\n",
      "56\n",
      "57\n",
      "58\n",
      "59\n",
      "60\n",
      "61\n",
      "62\n",
      "63\n",
      "64\n",
      "65\n",
      "66\n",
      "67\n",
      "68\n",
      "69\n",
      "70\n",
      "71\n",
      "72\n",
      "73\n",
      "74\n",
      "75\n",
      "76\n",
      "77\n",
      "78\n",
      "79\n",
      "80\n",
      "81\n",
      "82\n",
      "83\n",
      "84\n",
      "85\n",
      "86\n",
      "87\n",
      "88\n",
      "89\n",
      "90\n",
      "91\n",
      "92\n",
      "93\n",
      "94\n",
      "95\n",
      "96\n",
      "97\n",
      "98\n",
      "99\n",
      "100\n",
      "101\n",
      "102\n",
      "103\n",
      "104\n",
      "105\n",
      "106\n",
      "107\n",
      "108\n",
      "109\n",
      "110\n",
      "111\n",
      "112\n",
      "113\n",
      "114\n",
      "115\n",
      "116\n",
      "117\n",
      "118\n",
      "119\n",
      "120\n",
      "121\n",
      "122\n",
      "123\n",
      "124\n",
      "125\n",
      "126\n",
      "127\n",
      "128\n",
      "129\n",
      "130\n",
      "131\n",
      "132\n",
      "133\n",
      "134\n",
      "135\n",
      "136\n",
      "137\n",
      "138\n",
      "139\n",
      "140\n",
      "141\n",
      "142\n",
      "143\n",
      "144\n",
      "145\n",
      "146\n",
      "147\n",
      "148\n",
      "149\n",
      "150\n",
      "151\n",
      "152\n",
      "153\n",
      "154\n",
      "155\n",
      "156\n",
      "157\n",
      "158\n",
      "159\n",
      "160\n",
      "161\n",
      "162\n",
      "163\n",
      "164\n",
      "165\n",
      "166\n",
      "167\n",
      "168\n",
      "169\n",
      "170\n",
      "171\n",
      "172\n",
      "173\n",
      "174\n",
      "175\n",
      "176\n",
      "177\n",
      "178\n",
      "179\n",
      "180\n",
      "181\n",
      "182\n",
      "183\n",
      "184\n",
      "185\n",
      "186\n",
      "187\n",
      "188\n",
      "189\n",
      "190\n",
      "191\n",
      "192\n",
      "193\n",
      "194\n",
      "195\n",
      "196\n",
      "197\n",
      "198\n",
      "199\n",
      "200\n",
      "201\n",
      "202\n",
      "203\n",
      "204\n",
      "205\n",
      "206\n",
      "207\n",
      "208\n",
      "209\n",
      "210\n",
      "211\n",
      "212\n"
     ]
    }
   ],
   "source": [
    "# for master_list[0:211] the firmat of storage is of one type for the rest of the episodes, its different\n",
    "for i in range(0,213):\n",
    "    curr_episode_list=[]\n",
    "    response = requests.get(master_list[i][0], verify=False)\n",
    "    soup = BeautifulSoup(response.content, 'html.parser')\n",
    "    body_tag = soup.find_all('body')\n",
    "    all_text_p = body_tag[0].find_all('p')\n",
    "    for script in all_text_p:\n",
    "        curr_episode_list.append(script.get_text())\n",
    "    start_index = next((index for index, text in enumerate(curr_episode_list) if text.startswith(\"[Scene\") or text.startswith(\"Scene\")), None)\n",
    "    combined_text = '\\n'.join(curr_episode_list[start_index:]) #filtering out episode metadata as we already have this from ImDb\n",
    "    master_list[i][2] = combined_text\n",
    "    print(i)"
   ]
  },
  {
   "cell_type": "code",
   "execution_count": 162,
   "id": "257930ad",
   "metadata": {
    "collapsed": true
   },
   "outputs": [
    {
     "name": "stdout",
     "output_type": "stream",
     "text": [
      "213\n",
      "214\n",
      "215\n",
      "216\n",
      "217\n",
      "218\n",
      "219\n",
      "220\n",
      "221\n",
      "222\n",
      "223\n",
      "224\n",
      "225\n",
      "226\n",
      "227\n",
      "228\n",
      "229\n",
      "230\n"
     ]
    }
   ],
   "source": [
    "for i in range(213,231):\n",
    "    curr_episode_list=[]\n",
    "    response = requests.get(master_list[i][0], verify=False)\n",
    "    soup = BeautifulSoup(response.content, 'html.parser')\n",
    "    body_tag = soup.find_all('td')\n",
    "    all_text_p = body_tag[0].find_all('p')\n",
    "    for script in all_text_p:\n",
    "        curr_episode_list.append(script.get_text())\n",
    "    start_index = next((index for index, text in enumerate(curr_episode_list) if text.startswith(\"[Scene\") or text.startswith(\"Scene\")), None)\n",
    "    combined_text = '\\n'.join(curr_episode_list[start_index:]) #filtering out episode metadata as we already have this from ImDb\n",
    "    master_list[i][2] = combined_text\n",
    "    print(i)"
   ]
  },
  {
   "cell_type": "code",
   "execution_count": 163,
   "id": "2f029719",
   "metadata": {},
   "outputs": [],
   "source": [
    "import pandas as pd\n",
    "df = pd.DataFrame(master_list, columns=['url','season and title','text script'])\n",
    "csv_file = \"Script_Data.csv\"\n",
    "df.to_csv(csv_file, index=False)"
   ]
  },
  {
   "cell_type": "code",
   "execution_count": 167,
   "id": "99e7bfcc",
   "metadata": {},
   "outputs": [
    {
     "data": {
      "text/html": [
       "<div>\n",
       "<style scoped>\n",
       "    .dataframe tbody tr th:only-of-type {\n",
       "        vertical-align: middle;\n",
       "    }\n",
       "\n",
       "    .dataframe tbody tr th {\n",
       "        vertical-align: top;\n",
       "    }\n",
       "\n",
       "    .dataframe thead th {\n",
       "        text-align: right;\n",
       "    }\n",
       "</style>\n",
       "<table border=\"1\" class=\"dataframe\">\n",
       "  <thead>\n",
       "    <tr style=\"text-align: right;\">\n",
       "      <th></th>\n",
       "      <th>url</th>\n",
       "      <th>season and title</th>\n",
       "      <th>text script</th>\n",
       "    </tr>\n",
       "  </thead>\n",
       "  <tbody>\n",
       "    <tr>\n",
       "      <th>0</th>\n",
       "      <td>https://www.livesinabox.com/friends/season1/10...</td>\n",
       "      <td>Episode 101: The Pilot-The Uncut Version</td>\n",
       "      <td>[Scene: The Subway, Phoebe is singing for\\ncha...</td>\n",
       "    </tr>\n",
       "    <tr>\n",
       "      <th>1</th>\n",
       "      <td>https://www.livesinabox.com/friends/season1/10...</td>\n",
       "      <td>Episode 102: The One With The Sonogram At the End</td>\n",
       "      <td>[Scene Central Perk, everyone's there.]\\nMonic...</td>\n",
       "    </tr>\n",
       "    <tr>\n",
       "      <th>2</th>\n",
       "      <td>https://www.livesinabox.com/friends/season1/10...</td>\n",
       "      <td>Episode 103: The One With The Thumb</td>\n",
       "      <td>[Scene: Chandler and Joey's, Chandler is helpi...</td>\n",
       "    </tr>\n",
       "    <tr>\n",
       "      <th>3</th>\n",
       "      <td>https://www.livesinabox.com/friends/season1/10...</td>\n",
       "      <td>Episode 104: The One With George Stephanopoulos</td>\n",
       "      <td>[Scene: Central Perk, Ross and Monica are watc...</td>\n",
       "    </tr>\n",
       "    <tr>\n",
       "      <th>4</th>\n",
       "      <td>https://www.livesinabox.com/friends/season1/10...</td>\n",
       "      <td>Episode 105: The One With The East German Laun...</td>\n",
       "      <td>[Scene: Central Perk, all six are there.]\\nMon...</td>\n",
       "    </tr>\n",
       "  </tbody>\n",
       "</table>\n",
       "</div>"
      ],
      "text/plain": [
       "                                                 url  \\\n",
       "0  https://www.livesinabox.com/friends/season1/10...   \n",
       "1  https://www.livesinabox.com/friends/season1/10...   \n",
       "2  https://www.livesinabox.com/friends/season1/10...   \n",
       "3  https://www.livesinabox.com/friends/season1/10...   \n",
       "4  https://www.livesinabox.com/friends/season1/10...   \n",
       "\n",
       "                                    season and title  \\\n",
       "0           Episode 101: The Pilot-The Uncut Version   \n",
       "1  Episode 102: The One With The Sonogram At the End   \n",
       "2                Episode 103: The One With The Thumb   \n",
       "3    Episode 104: The One With George Stephanopoulos   \n",
       "4  Episode 105: The One With The East German Laun...   \n",
       "\n",
       "                                         text script  \n",
       "0  [Scene: The Subway, Phoebe is singing for\\ncha...  \n",
       "1  [Scene Central Perk, everyone's there.]\\nMonic...  \n",
       "2  [Scene: Chandler and Joey's, Chandler is helpi...  \n",
       "3  [Scene: Central Perk, Ross and Monica are watc...  \n",
       "4  [Scene: Central Perk, all six are there.]\\nMon...  "
      ]
     },
     "execution_count": 167,
     "metadata": {},
     "output_type": "execute_result"
    }
   ],
   "source": [
    "df.head()"
   ]
  },
  {
   "cell_type": "code",
   "execution_count": 168,
   "id": "c0d16caf",
   "metadata": {},
   "outputs": [
    {
     "data": {
      "text/plain": [
       "(231, 3)"
      ]
     },
     "execution_count": 168,
     "metadata": {},
     "output_type": "execute_result"
    }
   ],
   "source": [
    "df.shape"
   ]
  },
  {
   "cell_type": "code",
   "execution_count": 169,
   "id": "ac0d756e",
   "metadata": {},
   "outputs": [],
   "source": [
    "##done"
   ]
  },
  {
   "cell_type": "code",
   "execution_count": null,
   "id": "b61d8606",
   "metadata": {},
   "outputs": [],
   "source": []
  }
 ],
 "metadata": {
  "kernelspec": {
   "display_name": "Python 3",
   "language": "python",
   "name": "python3"
  },
  "language_info": {
   "codemirror_mode": {
    "name": "ipython",
    "version": 3
   },
   "file_extension": ".py",
   "mimetype": "text/x-python",
   "name": "python",
   "nbconvert_exporter": "python",
   "pygments_lexer": "ipython3",
   "version": "3.9.17"
  }
 },
 "nbformat": 4,
 "nbformat_minor": 5
}
