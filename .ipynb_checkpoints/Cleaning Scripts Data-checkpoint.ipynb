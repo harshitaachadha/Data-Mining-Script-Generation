{
 "cells": [
  {
   "cell_type": "code",
   "execution_count": 21,
   "id": "849aeb6f",
   "metadata": {},
   "outputs": [
    {
     "data": {
      "text/html": [
       "<div>\n",
       "<style scoped>\n",
       "    .dataframe tbody tr th:only-of-type {\n",
       "        vertical-align: middle;\n",
       "    }\n",
       "\n",
       "    .dataframe tbody tr th {\n",
       "        vertical-align: top;\n",
       "    }\n",
       "\n",
       "    .dataframe thead th {\n",
       "        text-align: right;\n",
       "    }\n",
       "</style>\n",
       "<table border=\"1\" class=\"dataframe\">\n",
       "  <thead>\n",
       "    <tr style=\"text-align: right;\">\n",
       "      <th></th>\n",
       "      <th>season and title</th>\n",
       "      <th>url</th>\n",
       "      <th>text script</th>\n",
       "    </tr>\n",
       "  </thead>\n",
       "  <tbody>\n",
       "    <tr>\n",
       "      <th>0</th>\n",
       "      <td>10x17 - 10x18 -  The Last One (Finale)</td>\n",
       "      <td>https://transcripts.foreverdreaming.org/./view...</td>\n",
       "      <td>Written by: Marta Kauffman &amp; David Crane\\nDire...</td>\n",
       "    </tr>\n",
       "    <tr>\n",
       "      <th>1</th>\n",
       "      <td>10x16 - The One With Rachel's Going Away Party</td>\n",
       "      <td>https://transcripts.foreverdreaming.org/./view...</td>\n",
       "      <td>Written by: Andrew Reich &amp; Ted Cohen\\nProduced...</td>\n",
       "    </tr>\n",
       "    <tr>\n",
       "      <th>2</th>\n",
       "      <td>10x15 - The One Where Estelle Dies</td>\n",
       "      <td>https://transcripts.foreverdreaming.org/./view...</td>\n",
       "      <td>Teleplay by: Tracy Reilly\\nWritten by: Andrew ...</td>\n",
       "    </tr>\n",
       "    <tr>\n",
       "      <th>3</th>\n",
       "      <td>10x14 - The One With Princess Consuela</td>\n",
       "      <td>https://transcripts.foreverdreaming.org/./view...</td>\n",
       "      <td>Teleplay by: Tracy Reilly\\nStory by: Robert Ca...</td>\n",
       "    </tr>\n",
       "    <tr>\n",
       "      <th>4</th>\n",
       "      <td>10x13 - The One Where Joey Speaks French</td>\n",
       "      <td>https://transcripts.foreverdreaming.org/./view...</td>\n",
       "      <td>Written by: Sherry Bilding-Graham &amp; Ellen Plum...</td>\n",
       "    </tr>\n",
       "  </tbody>\n",
       "</table>\n",
       "</div>"
      ],
      "text/plain": [
       "                                 season and title  \\\n",
       "0          10x17 - 10x18 -  The Last One (Finale)   \n",
       "1  10x16 - The One With Rachel's Going Away Party   \n",
       "2              10x15 - The One Where Estelle Dies   \n",
       "3          10x14 - The One With Princess Consuela   \n",
       "4        10x13 - The One Where Joey Speaks French   \n",
       "\n",
       "                                                 url  \\\n",
       "0  https://transcripts.foreverdreaming.org/./view...   \n",
       "1  https://transcripts.foreverdreaming.org/./view...   \n",
       "2  https://transcripts.foreverdreaming.org/./view...   \n",
       "3  https://transcripts.foreverdreaming.org/./view...   \n",
       "4  https://transcripts.foreverdreaming.org/./view...   \n",
       "\n",
       "                                         text script  \n",
       "0  Written by: Marta Kauffman & David Crane\\nDire...  \n",
       "1  Written by: Andrew Reich & Ted Cohen\\nProduced...  \n",
       "2  Teleplay by: Tracy Reilly\\nWritten by: Andrew ...  \n",
       "3  Teleplay by: Tracy Reilly\\nStory by: Robert Ca...  \n",
       "4  Written by: Sherry Bilding-Graham & Ellen Plum...  "
      ]
     },
     "execution_count": 21,
     "metadata": {},
     "output_type": "execute_result"
    }
   ],
   "source": [
    "import pandas as pd\n",
    "df = pd.read_csv('Script_Data.csv')\n",
    "df.head()"
   ]
  },
  {
   "cell_type": "code",
   "execution_count": 23,
   "id": "e28bf5b2",
   "metadata": {},
   "outputs": [],
   "source": [
    "#split into title and season X episode\n",
    "#identify those that have more than one there - only take the first episode number like if 15,16 take 15\n",
    "#separate episode and season\n",
    "#delete link"
   ]
  },
  {
   "cell_type": "code",
   "execution_count": 25,
   "id": "0137a030",
   "metadata": {},
   "outputs": [],
   "source": [
    "#separating title from the season and episode and for 2 episode scripts taking the first episode as marker\n",
    "def split_and_extract(row):\n",
    "    parts = row.split(' - ')\n",
    "    if len(parts) == 3:\n",
    "        episode = parts[0]\n",
    "        title = parts[2]\n",
    "    elif len(parts) == 2:\n",
    "        episode = parts[0]\n",
    "        title = parts[1]\n",
    "    else:\n",
    "        episode = title = None\n",
    "    return episode, title\n",
    "\n",
    "df[['episode_number', 'episode_title']] = df['season and title'].apply(split_and_extract).apply(pd.Series)"
   ]
  },
  {
   "cell_type": "code",
   "execution_count": 28,
   "id": "576b8eae",
   "metadata": {},
   "outputs": [],
   "source": [
    "#splitting episode number into episode and seasons\n",
    "df[['season', 'episode']] = df['episode_number'].str.split('x', expand=True)"
   ]
  },
  {
   "cell_type": "code",
   "execution_count": 34,
   "id": "22baa6e6",
   "metadata": {},
   "outputs": [],
   "source": [
    "#Dropping \"Season and title\", \"url\",\"episode number\" from the df\n",
    "columns_to_drop = ['season and title', 'url', 'episode_number']\n",
    "df = df.drop(columns=columns_to_drop, errors='ignore')"
   ]
  },
  {
   "cell_type": "code",
   "execution_count": 35,
   "id": "35e887ee",
   "metadata": {},
   "outputs": [
    {
     "data": {
      "text/html": [
       "<div>\n",
       "<style scoped>\n",
       "    .dataframe tbody tr th:only-of-type {\n",
       "        vertical-align: middle;\n",
       "    }\n",
       "\n",
       "    .dataframe tbody tr th {\n",
       "        vertical-align: top;\n",
       "    }\n",
       "\n",
       "    .dataframe thead th {\n",
       "        text-align: right;\n",
       "    }\n",
       "</style>\n",
       "<table border=\"1\" class=\"dataframe\">\n",
       "  <thead>\n",
       "    <tr style=\"text-align: right;\">\n",
       "      <th></th>\n",
       "      <th>text script</th>\n",
       "      <th>episode_title</th>\n",
       "      <th>season</th>\n",
       "      <th>episode</th>\n",
       "    </tr>\n",
       "  </thead>\n",
       "  <tbody>\n",
       "    <tr>\n",
       "      <th>0</th>\n",
       "      <td>Written by: Marta Kauffman &amp; David Crane\\nDire...</td>\n",
       "      <td>The Last One (Finale)</td>\n",
       "      <td>10</td>\n",
       "      <td>17</td>\n",
       "    </tr>\n",
       "    <tr>\n",
       "      <th>1</th>\n",
       "      <td>Written by: Andrew Reich &amp; Ted Cohen\\nProduced...</td>\n",
       "      <td>The One With Rachel's Going Away Party</td>\n",
       "      <td>10</td>\n",
       "      <td>16</td>\n",
       "    </tr>\n",
       "    <tr>\n",
       "      <th>2</th>\n",
       "      <td>Teleplay by: Tracy Reilly\\nWritten by: Andrew ...</td>\n",
       "      <td>The One Where Estelle Dies</td>\n",
       "      <td>10</td>\n",
       "      <td>15</td>\n",
       "    </tr>\n",
       "    <tr>\n",
       "      <th>3</th>\n",
       "      <td>Teleplay by: Tracy Reilly\\nStory by: Robert Ca...</td>\n",
       "      <td>The One With Princess Consuela</td>\n",
       "      <td>10</td>\n",
       "      <td>14</td>\n",
       "    </tr>\n",
       "    <tr>\n",
       "      <th>4</th>\n",
       "      <td>Written by: Sherry Bilding-Graham &amp; Ellen Plum...</td>\n",
       "      <td>The One Where Joey Speaks French</td>\n",
       "      <td>10</td>\n",
       "      <td>13</td>\n",
       "    </tr>\n",
       "  </tbody>\n",
       "</table>\n",
       "</div>"
      ],
      "text/plain": [
       "                                         text script  \\\n",
       "0  Written by: Marta Kauffman & David Crane\\nDire...   \n",
       "1  Written by: Andrew Reich & Ted Cohen\\nProduced...   \n",
       "2  Teleplay by: Tracy Reilly\\nWritten by: Andrew ...   \n",
       "3  Teleplay by: Tracy Reilly\\nStory by: Robert Ca...   \n",
       "4  Written by: Sherry Bilding-Graham & Ellen Plum...   \n",
       "\n",
       "                            episode_title season episode  \n",
       "0                   The Last One (Finale)     10      17  \n",
       "1  The One With Rachel's Going Away Party     10      16  \n",
       "2              The One Where Estelle Dies     10      15  \n",
       "3          The One With Princess Consuela     10      14  \n",
       "4        The One Where Joey Speaks French     10      13  "
      ]
     },
     "execution_count": 35,
     "metadata": {},
     "output_type": "execute_result"
    }
   ],
   "source": [
    "df.head()"
   ]
  },
  {
   "cell_type": "code",
   "execution_count": null,
   "id": "985d6f79",
   "metadata": {},
   "outputs": [],
   "source": [
    "#Text Mining\n",
    "#remove the monologue - form a separate attribute\n",
    "#remove the metadata\n",
    "#the attribute with only the text\n",
    "#from the monologue - calculate the copy metrics\n",
    "#the attribute with only the text - calculate the copy metrics"
   ]
  }
 ],
 "metadata": {
  "kernelspec": {
   "display_name": "Python 3",
   "language": "python",
   "name": "python3"
  },
  "language_info": {
   "codemirror_mode": {
    "name": "ipython",
    "version": 3
   },
   "file_extension": ".py",
   "mimetype": "text/x-python",
   "name": "python",
   "nbconvert_exporter": "python",
   "pygments_lexer": "ipython3",
   "version": "3.9.17"
  }
 },
 "nbformat": 4,
 "nbformat_minor": 5
}
