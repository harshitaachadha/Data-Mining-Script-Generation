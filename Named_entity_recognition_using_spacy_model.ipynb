{
  "nbformat": 4,
  "nbformat_minor": 0,
  "metadata": {
    "colab": {
      "provenance": [],
      "gpuType": "T4",
      "include_colab_link": true
    },
    "kernelspec": {
      "name": "python3",
      "display_name": "Python 3"
    },
    "accelerator": "GPU"
  },
  "cells": [
    {
      "cell_type": "markdown",
      "metadata": {
        "id": "view-in-github",
        "colab_type": "text"
      },
      "source": [
        "<a href=\"https://colab.research.google.com/github/harshitaachadha/Data-Mining-Script-Rating-Prediction/blob/main/Named_entity_recognition_using_spacy_model.ipynb\" target=\"_parent\"><img src=\"https://colab.research.google.com/assets/colab-badge.svg\" alt=\"Open In Colab\"/></a>"
      ]
    },
    {
      "cell_type": "markdown",
      "source": [
        "To do list -\n",
        "- [ ] Number of different locations\n",
        "- [ ] Emotional Archetypes\n",
        "- [X] lines per character\n",
        "- [ ] frequent character sets\n",
        "- [X] Total spoken words\n",
        "- [X] list of characters\n"
      ],
      "metadata": {
        "id": "joDt5KKo3oxy"
      }
    },
    {
      "cell_type": "code",
      "metadata": {
        "id": "fcodkn0Dot0D"
      },
      "source": [
        "import spacy\n",
        "import en_core_web_sm\n",
        "import re\n",
        "nlp = en_core_web_sm.load()"
      ],
      "execution_count": null,
      "outputs": []
    },
    {
      "cell_type": "code",
      "source": [
        "import pandas as pd\n",
        "df = pd.read_csv('ready_for_mining_script.csv')\n",
        "df.head()"
      ],
      "metadata": {
        "id": "gmYrzRAlg73P",
        "colab": {
          "base_uri": "https://localhost:8080/",
          "height": 206
        },
        "outputId": "300c99f7-6cf7-4e42-8e7a-8f3f1d08628a"
      },
      "execution_count": null,
      "outputs": [
        {
          "output_type": "execute_result",
          "data": {
            "text/plain": [
              "   Unnamed: 0                                        text script  \\\n",
              "0           0  [Scene: The Subway, Phoebe is singing for\\ncha...   \n",
              "1           1  [Scene Central Perk, everyone's there.]\\nMonic...   \n",
              "2           2  [Scene: Chandler and Joey's, Chandler is helpi...   \n",
              "3           3  [Scene: Central Perk, Ross and Monica are watc...   \n",
              "4           4  [Scene: Central Perk, all six are there.]\\nMon...   \n",
              "\n",
              "                                             Title  Episode  Season  \n",
              "0                      The Pilot-The Uncut Version      1.0     1.0  \n",
              "1             The One With The Sonogram At the End      2.0     1.0  \n",
              "2                           The One With The Thumb      3.0     1.0  \n",
              "3               The One With George Stephanopoulos      4.0     1.0  \n",
              "4   The One With The East German Laundry Detergant      5.0     1.0  "
            ],
            "text/html": [
              "\n",
              "  <div id=\"df-2af82e58-9a77-4f85-a74a-9f9cbe6d4f21\" class=\"colab-df-container\">\n",
              "    <div>\n",
              "<style scoped>\n",
              "    .dataframe tbody tr th:only-of-type {\n",
              "        vertical-align: middle;\n",
              "    }\n",
              "\n",
              "    .dataframe tbody tr th {\n",
              "        vertical-align: top;\n",
              "    }\n",
              "\n",
              "    .dataframe thead th {\n",
              "        text-align: right;\n",
              "    }\n",
              "</style>\n",
              "<table border=\"1\" class=\"dataframe\">\n",
              "  <thead>\n",
              "    <tr style=\"text-align: right;\">\n",
              "      <th></th>\n",
              "      <th>Unnamed: 0</th>\n",
              "      <th>text script</th>\n",
              "      <th>Title</th>\n",
              "      <th>Episode</th>\n",
              "      <th>Season</th>\n",
              "    </tr>\n",
              "  </thead>\n",
              "  <tbody>\n",
              "    <tr>\n",
              "      <th>0</th>\n",
              "      <td>0</td>\n",
              "      <td>[Scene: The Subway, Phoebe is singing for\\ncha...</td>\n",
              "      <td>The Pilot-The Uncut Version</td>\n",
              "      <td>1.0</td>\n",
              "      <td>1.0</td>\n",
              "    </tr>\n",
              "    <tr>\n",
              "      <th>1</th>\n",
              "      <td>1</td>\n",
              "      <td>[Scene Central Perk, everyone's there.]\\nMonic...</td>\n",
              "      <td>The One With The Sonogram At the End</td>\n",
              "      <td>2.0</td>\n",
              "      <td>1.0</td>\n",
              "    </tr>\n",
              "    <tr>\n",
              "      <th>2</th>\n",
              "      <td>2</td>\n",
              "      <td>[Scene: Chandler and Joey's, Chandler is helpi...</td>\n",
              "      <td>The One With The Thumb</td>\n",
              "      <td>3.0</td>\n",
              "      <td>1.0</td>\n",
              "    </tr>\n",
              "    <tr>\n",
              "      <th>3</th>\n",
              "      <td>3</td>\n",
              "      <td>[Scene: Central Perk, Ross and Monica are watc...</td>\n",
              "      <td>The One With George Stephanopoulos</td>\n",
              "      <td>4.0</td>\n",
              "      <td>1.0</td>\n",
              "    </tr>\n",
              "    <tr>\n",
              "      <th>4</th>\n",
              "      <td>4</td>\n",
              "      <td>[Scene: Central Perk, all six are there.]\\nMon...</td>\n",
              "      <td>The One With The East German Laundry Detergant</td>\n",
              "      <td>5.0</td>\n",
              "      <td>1.0</td>\n",
              "    </tr>\n",
              "  </tbody>\n",
              "</table>\n",
              "</div>\n",
              "    <div class=\"colab-df-buttons\">\n",
              "\n",
              "  <div class=\"colab-df-container\">\n",
              "    <button class=\"colab-df-convert\" onclick=\"convertToInteractive('df-2af82e58-9a77-4f85-a74a-9f9cbe6d4f21')\"\n",
              "            title=\"Convert this dataframe to an interactive table.\"\n",
              "            style=\"display:none;\">\n",
              "\n",
              "  <svg xmlns=\"http://www.w3.org/2000/svg\" height=\"24px\" viewBox=\"0 -960 960 960\">\n",
              "    <path d=\"M120-120v-720h720v720H120Zm60-500h600v-160H180v160Zm220 220h160v-160H400v160Zm0 220h160v-160H400v160ZM180-400h160v-160H180v160Zm440 0h160v-160H620v160ZM180-180h160v-160H180v160Zm440 0h160v-160H620v160Z\"/>\n",
              "  </svg>\n",
              "    </button>\n",
              "\n",
              "  <style>\n",
              "    .colab-df-container {\n",
              "      display:flex;\n",
              "      gap: 12px;\n",
              "    }\n",
              "\n",
              "    .colab-df-convert {\n",
              "      background-color: #E8F0FE;\n",
              "      border: none;\n",
              "      border-radius: 50%;\n",
              "      cursor: pointer;\n",
              "      display: none;\n",
              "      fill: #1967D2;\n",
              "      height: 32px;\n",
              "      padding: 0 0 0 0;\n",
              "      width: 32px;\n",
              "    }\n",
              "\n",
              "    .colab-df-convert:hover {\n",
              "      background-color: #E2EBFA;\n",
              "      box-shadow: 0px 1px 2px rgba(60, 64, 67, 0.3), 0px 1px 3px 1px rgba(60, 64, 67, 0.15);\n",
              "      fill: #174EA6;\n",
              "    }\n",
              "\n",
              "    .colab-df-buttons div {\n",
              "      margin-bottom: 4px;\n",
              "    }\n",
              "\n",
              "    [theme=dark] .colab-df-convert {\n",
              "      background-color: #3B4455;\n",
              "      fill: #D2E3FC;\n",
              "    }\n",
              "\n",
              "    [theme=dark] .colab-df-convert:hover {\n",
              "      background-color: #434B5C;\n",
              "      box-shadow: 0px 1px 3px 1px rgba(0, 0, 0, 0.15);\n",
              "      filter: drop-shadow(0px 1px 2px rgba(0, 0, 0, 0.3));\n",
              "      fill: #FFFFFF;\n",
              "    }\n",
              "  </style>\n",
              "\n",
              "    <script>\n",
              "      const buttonEl =\n",
              "        document.querySelector('#df-2af82e58-9a77-4f85-a74a-9f9cbe6d4f21 button.colab-df-convert');\n",
              "      buttonEl.style.display =\n",
              "        google.colab.kernel.accessAllowed ? 'block' : 'none';\n",
              "\n",
              "      async function convertToInteractive(key) {\n",
              "        const element = document.querySelector('#df-2af82e58-9a77-4f85-a74a-9f9cbe6d4f21');\n",
              "        const dataTable =\n",
              "          await google.colab.kernel.invokeFunction('convertToInteractive',\n",
              "                                                    [key], {});\n",
              "        if (!dataTable) return;\n",
              "\n",
              "        const docLinkHtml = 'Like what you see? Visit the ' +\n",
              "          '<a target=\"_blank\" href=https://colab.research.google.com/notebooks/data_table.ipynb>data table notebook</a>'\n",
              "          + ' to learn more about interactive tables.';\n",
              "        element.innerHTML = '';\n",
              "        dataTable['output_type'] = 'display_data';\n",
              "        await google.colab.output.renderOutput(dataTable, element);\n",
              "        const docLink = document.createElement('div');\n",
              "        docLink.innerHTML = docLinkHtml;\n",
              "        element.appendChild(docLink);\n",
              "      }\n",
              "    </script>\n",
              "  </div>\n",
              "\n",
              "\n",
              "<div id=\"df-f2e90639-9b0a-4f30-a441-7130afd6a6aa\">\n",
              "  <button class=\"colab-df-quickchart\" onclick=\"quickchart('df-f2e90639-9b0a-4f30-a441-7130afd6a6aa')\"\n",
              "            title=\"Suggest charts.\"\n",
              "            style=\"display:none;\">\n",
              "\n",
              "<svg xmlns=\"http://www.w3.org/2000/svg\" height=\"24px\"viewBox=\"0 0 24 24\"\n",
              "     width=\"24px\">\n",
              "    <g>\n",
              "        <path d=\"M19 3H5c-1.1 0-2 .9-2 2v14c0 1.1.9 2 2 2h14c1.1 0 2-.9 2-2V5c0-1.1-.9-2-2-2zM9 17H7v-7h2v7zm4 0h-2V7h2v10zm4 0h-2v-4h2v4z\"/>\n",
              "    </g>\n",
              "</svg>\n",
              "  </button>\n",
              "\n",
              "<style>\n",
              "  .colab-df-quickchart {\n",
              "      --bg-color: #E8F0FE;\n",
              "      --fill-color: #1967D2;\n",
              "      --hover-bg-color: #E2EBFA;\n",
              "      --hover-fill-color: #174EA6;\n",
              "      --disabled-fill-color: #AAA;\n",
              "      --disabled-bg-color: #DDD;\n",
              "  }\n",
              "\n",
              "  [theme=dark] .colab-df-quickchart {\n",
              "      --bg-color: #3B4455;\n",
              "      --fill-color: #D2E3FC;\n",
              "      --hover-bg-color: #434B5C;\n",
              "      --hover-fill-color: #FFFFFF;\n",
              "      --disabled-bg-color: #3B4455;\n",
              "      --disabled-fill-color: #666;\n",
              "  }\n",
              "\n",
              "  .colab-df-quickchart {\n",
              "    background-color: var(--bg-color);\n",
              "    border: none;\n",
              "    border-radius: 50%;\n",
              "    cursor: pointer;\n",
              "    display: none;\n",
              "    fill: var(--fill-color);\n",
              "    height: 32px;\n",
              "    padding: 0;\n",
              "    width: 32px;\n",
              "  }\n",
              "\n",
              "  .colab-df-quickchart:hover {\n",
              "    background-color: var(--hover-bg-color);\n",
              "    box-shadow: 0 1px 2px rgba(60, 64, 67, 0.3), 0 1px 3px 1px rgba(60, 64, 67, 0.15);\n",
              "    fill: var(--button-hover-fill-color);\n",
              "  }\n",
              "\n",
              "  .colab-df-quickchart-complete:disabled,\n",
              "  .colab-df-quickchart-complete:disabled:hover {\n",
              "    background-color: var(--disabled-bg-color);\n",
              "    fill: var(--disabled-fill-color);\n",
              "    box-shadow: none;\n",
              "  }\n",
              "\n",
              "  .colab-df-spinner {\n",
              "    border: 2px solid var(--fill-color);\n",
              "    border-color: transparent;\n",
              "    border-bottom-color: var(--fill-color);\n",
              "    animation:\n",
              "      spin 1s steps(1) infinite;\n",
              "  }\n",
              "\n",
              "  @keyframes spin {\n",
              "    0% {\n",
              "      border-color: transparent;\n",
              "      border-bottom-color: var(--fill-color);\n",
              "      border-left-color: var(--fill-color);\n",
              "    }\n",
              "    20% {\n",
              "      border-color: transparent;\n",
              "      border-left-color: var(--fill-color);\n",
              "      border-top-color: var(--fill-color);\n",
              "    }\n",
              "    30% {\n",
              "      border-color: transparent;\n",
              "      border-left-color: var(--fill-color);\n",
              "      border-top-color: var(--fill-color);\n",
              "      border-right-color: var(--fill-color);\n",
              "    }\n",
              "    40% {\n",
              "      border-color: transparent;\n",
              "      border-right-color: var(--fill-color);\n",
              "      border-top-color: var(--fill-color);\n",
              "    }\n",
              "    60% {\n",
              "      border-color: transparent;\n",
              "      border-right-color: var(--fill-color);\n",
              "    }\n",
              "    80% {\n",
              "      border-color: transparent;\n",
              "      border-right-color: var(--fill-color);\n",
              "      border-bottom-color: var(--fill-color);\n",
              "    }\n",
              "    90% {\n",
              "      border-color: transparent;\n",
              "      border-bottom-color: var(--fill-color);\n",
              "    }\n",
              "  }\n",
              "</style>\n",
              "\n",
              "  <script>\n",
              "    async function quickchart(key) {\n",
              "      const quickchartButtonEl =\n",
              "        document.querySelector('#' + key + ' button');\n",
              "      quickchartButtonEl.disabled = true;  // To prevent multiple clicks.\n",
              "      quickchartButtonEl.classList.add('colab-df-spinner');\n",
              "      try {\n",
              "        const charts = await google.colab.kernel.invokeFunction(\n",
              "            'suggestCharts', [key], {});\n",
              "      } catch (error) {\n",
              "        console.error('Error during call to suggestCharts:', error);\n",
              "      }\n",
              "      quickchartButtonEl.classList.remove('colab-df-spinner');\n",
              "      quickchartButtonEl.classList.add('colab-df-quickchart-complete');\n",
              "    }\n",
              "    (() => {\n",
              "      let quickchartButtonEl =\n",
              "        document.querySelector('#df-f2e90639-9b0a-4f30-a441-7130afd6a6aa button');\n",
              "      quickchartButtonEl.style.display =\n",
              "        google.colab.kernel.accessAllowed ? 'block' : 'none';\n",
              "    })();\n",
              "  </script>\n",
              "</div>\n",
              "    </div>\n",
              "  </div>\n"
            ]
          },
          "metadata": {},
          "execution_count": 23
        }
      ]
    },
    {
      "cell_type": "code",
      "source": [
        "def extract_character_names(text):\n",
        "    doc = nlp(text)\n",
        "    pattern = r'(\\w+\\s*):'\n",
        "    matches = re.findall(pattern, text)\n",
        "    filtered_matches = [match for match in matches if any(ent.text == match for ent in doc.ents)]\n",
        "    unique_character_names = list(set(filtered_matches))\n",
        "    return unique_character_names"
      ],
      "metadata": {
        "id": "6xE7ghOPkTH_"
      },
      "execution_count": null,
      "outputs": []
    },
    {
      "cell_type": "code",
      "source": [
        "!pip install pyspark"
      ],
      "metadata": {
        "id": "sVkMxKATkhth"
      },
      "execution_count": null,
      "outputs": []
    },
    {
      "cell_type": "code",
      "source": [
        "from pyspark.sql import SparkSession\n",
        "from pyspark.sql.functions import udf\n",
        "from pyspark.sql.types import ArrayType, StringType\n",
        "spark = SparkSession.builder.appName(\"CharacterExtraction\").getOrCreate()\n",
        "extract_character_names_udf = udf(extract_character_names, ArrayType(StringType()))"
      ],
      "metadata": {
        "id": "1Ep02aK5jcq1"
      },
      "execution_count": null,
      "outputs": []
    },
    {
      "cell_type": "code",
      "source": [
        "# Apply the UDF to create the 'Character List' column\n",
        "df = spark.createDataFrame(df)\n",
        "df = df.withColumn(\"Character List\", extract_character_names_udf(df[\"text script\"]))\n",
        "# Show the DataFrame\n",
        "#df.show(truncate=False)"
      ],
      "metadata": {
        "id": "kXhKcUnzkf-u"
      },
      "execution_count": null,
      "outputs": []
    },
    {
      "cell_type": "code",
      "source": [
        "#DO NOT RUN THIS AGAIN IT WAS A CHECK THAT PASSED !!!!!!!!!!!!!!!!!!!!!!!!!!!!!!!!\n",
        "from pyspark.sql.functions import size\n",
        "df.filter(size(\"Character List\") == 0).count()"
      ],
      "metadata": {
        "colab": {
          "base_uri": "https://localhost:8080/"
        },
        "id": "7e3snvBIm-9d",
        "outputId": "edd1741b-fcd2-4f08-84ae-374a420ac4a3"
      },
      "execution_count": null,
      "outputs": [
        {
          "output_type": "execute_result",
          "data": {
            "text/plain": [
              "0"
            ]
          },
          "metadata": {},
          "execution_count": 28
        }
      ]
    },
    {
      "cell_type": "code",
      "source": [
        "#so now we have a character list for each episode that is non-empty. I will still not do any text cleaning becuase episodes have different ways in which character\n",
        "#lines are represented instead i'll first get the words per character per episode.\n",
        "from pyspark.sql.types import MapType, StringType\n",
        "import re\n",
        "def count_words(text):\n",
        "    words_spoken = {}\n",
        "    last_character = None\n",
        "    lines = text.split('\\n')\n",
        "    for line in lines:\n",
        "        # Remove text within square brackets and parentheses\n",
        "        line = re.sub(r'\\[.*?\\]|\\(.*?\\)', '', line)\n",
        "        if ':' in line:\n",
        "            character, spoken_text = line.split(':', 1)\n",
        "            character = character.strip()\n",
        "            spoken_text = spoken_text.strip()\n",
        "            if character not in words_spoken:\n",
        "                words_spoken[character] = 0\n",
        "            words = spoken_text.split()\n",
        "            words_spoken[character] += len(words)\n",
        "            last_character = character\n",
        "        elif last_character is not None:\n",
        "            # Append text to the last character's count\n",
        "            spoken_text = line.strip()\n",
        "            words = spoken_text.split()\n",
        "            words_spoken[last_character] += len(words)\n",
        "    return words_spoken\n",
        "\n",
        "\n",
        "count_words_udf = udf(count_words, MapType(StringType(), StringType()))\n",
        "df = df.withColumn(\"WordsSpoken\", count_words_udf(df[\"text script\"]))\n",
        "df.show()\n"
      ],
      "metadata": {
        "colab": {
          "base_uri": "https://localhost:8080/"
        },
        "id": "DiJsOveZ5U_P",
        "outputId": "40e58743-5cc0-45a2-ba4e-da912fa9d63d"
      },
      "execution_count": null,
      "outputs": [
        {
          "output_type": "stream",
          "name": "stdout",
          "text": [
            "+----------+--------------------+--------------------+-------+------+--------------------+--------------------+\n",
            "|Unnamed: 0|         text script|               Title|Episode|Season|      Character List|         WordsSpoken|\n",
            "+----------+--------------------+--------------------+-------+------+--------------------+--------------------+\n",
            "|         0|[Scene: The Subwa...| The Pilot-The Un...|    1.0|   1.0|[Monica, Frannie,...|{All -> 27, Phoeb...|\n",
            "|         1|[Scene Central Pe...| The One With The...|    2.0|   1.0|[Monica, Susan, R...|{All -> 5, Phoebe...|\n",
            "|         2|[Scene: Chandler ...| The One With The...|    3.0|   1.0|[Monica, Rachel, ...|{Phoebe -> 427, A...|\n",
            "|         3|[Scene: Central P...| The One With Geo...|    4.0|   1.0|[Monica, Rachel, ...|{Receptionist -> ...|\n",
            "|         4|[Scene: Central P...| The One With The...|    5.0|   1.0|[Monica, Angela, ...|{Phoebe -> 235, B...|\n",
            "|         5|[Scene: The Theat...| The One With The...|    6.0|   1.0|[Monica, Rachel, ...|{All -> 56, Phoeb...|\n",
            "|         6|[Scene: Central P...| The One With The...|    7.0|   1.0|[Monica, Rachel, ...|{All -> 5, Phoebe...|\n",
            "|         7|[Scene: Monica an...| The One Where Na...|    8.0|   1.0|[Monica, Rachel, ...|{All -> 8, Phoebe...|\n",
            "|         8|[Scene: Central P...| The One Where Un...|    9.0|   1.0|[Monica, Susan, R...|{All -> 3, Phoebe...|\n",
            "|         9|[Scene: Monica an...| The One With The...|   10.0|   1.0|[Monica, Max, Rac...|{Phoebe -> 594, A...|\n",
            "|        10|[Scene: A Street:...| The One With Mrs...|   11.0|   1.0|[Monica, Rachel, ...|{All -> 4, Phoebe...|\n",
            "|        11|[Scene: Central P...| The One With The...|   12.0|   1.0|[Monica, Susan, R...|{And all of a sud...|\n",
            "|        12|[Scene: Monica an...| The One With The...|   13.0|   1.0|[Monica, Rachel, ...|{All -> 17, Roger...|\n",
            "|        13|[Scene: Central P...| The One With The...|   14.0|   1.0|[Monica, Susan, R...|{Phoebe -> 155, J...|\n",
            "|        14|[Scene: Central P...| The One With The...|   15.0|   1.0|[Monica, Tedlock,...|{All -> 7, Phoebe...|\n",
            "|        15|[Scene: Rift’s Re...| The One With Two...|   16.0|   1.0|[Monica, Ursula, ...|{Phoebe -> 409, A...|\n",
            "|        16|[Scene: An Emerge...| The One With Two...|   17.0|   1.0|[Monica, Ursula, ...|{All -> 3, Rachel...|\n",
            "|        17|[Scene: Central P...| The One With All...|   18.0|   1.0|[Monica, Rachel, ...|{All -> 4, Phoebe...|\n",
            "|        18|[Scene: Central P...| The One Where Th...|   19.0|   1.0|[Monica, Rachel, ...|{All -> 1, Phoebe...|\n",
            "|        19|[Scene: Monica an...| The One With The...|   20.0|   1.0|[Monica, Rachel, ...|{Danielle -> 56, ...|\n",
            "+----------+--------------------+--------------------+-------+------+--------------------+--------------------+\n",
            "only showing top 20 rows\n",
            "\n"
          ]
        }
      ]
    },
    {
      "cell_type": "code",
      "source": [
        "from pyspark.sql.functions import col, udf\n",
        "from pyspark.sql.types import IntegerType\n",
        "\n",
        "# Define a UDF to calculate the sum of word counts in the \"WordsSpoken\" structure\n",
        "def calculate_total_words(words_spoken):\n",
        "    total = 0\n",
        "    for character, word_count in words_spoken.items():\n",
        "        total += word_count\n",
        "    return total\n",
        "\n",
        "# Register the UDF\n",
        "calculate_total_words_udf = udf(calculate_total_words, IntegerType())\n",
        "\n",
        "# Apply the UDF to the DataFrame to create a new column \"TotalWords\"\n",
        "df = df.withColumn(\"TotalWords\", calculate_total_words_udf(df[\"WordsSpoken\"]))\n",
        "\n",
        "# Show the resulting DataFrame\n",
        "df.show()\n"
      ],
      "metadata": {
        "colab": {
          "base_uri": "https://localhost:8080/"
        },
        "id": "6baKspc65VMe",
        "outputId": "813ecb76-1d08-46f2-e6de-f1520dee0dad"
      },
      "execution_count": null,
      "outputs": [
        {
          "output_type": "stream",
          "name": "stdout",
          "text": [
            "+----------+--------------------+--------------------+-------+------+--------------------+--------------------+----------+\n",
            "|Unnamed: 0|         text script|               Title|Episode|Season|      Character List|         WordsSpoken|TotalWords|\n",
            "+----------+--------------------+--------------------+-------+------+--------------------+--------------------+----------+\n",
            "|         0|[Scene: The Subwa...| The Pilot-The Un...|    1.0|   1.0|[Monica, Frannie,...|{All -> 27, Phoeb...|      2290|\n",
            "|         1|[Scene Central Pe...| The One With The...|    2.0|   1.0|[Monica, Susan, R...|{All -> 5, Phoebe...|      2520|\n",
            "|         2|[Scene: Chandler ...| The One With The...|    3.0|   1.0|[Monica, Rachel, ...|{Phoebe -> 427, A...|      2336|\n",
            "|         3|[Scene: Central P...| The One With Geo...|    4.0|   1.0|[Monica, Rachel, ...|{Receptionist -> ...|      2721|\n",
            "|         4|[Scene: Central P...| The One With The...|    5.0|   1.0|[Monica, Angela, ...|{Phoebe -> 235, B...|      2765|\n",
            "|         5|[Scene: The Theat...| The One With The...|    6.0|   1.0|[Monica, Rachel, ...|{All -> 56, Phoeb...|      2434|\n",
            "|         6|[Scene: Central P...| The One With The...|    7.0|   1.0|[Monica, Rachel, ...|{All -> 5, Phoebe...|      2493|\n",
            "|         7|[Scene: Monica an...| The One Where Na...|    8.0|   1.0|[Monica, Rachel, ...|{All -> 8, Phoebe...|      2096|\n",
            "|         8|[Scene: Central P...| The One Where Un...|    9.0|   1.0|[Monica, Susan, R...|{All -> 3, Phoebe...|      2494|\n",
            "|         9|[Scene: Monica an...| The One With The...|   10.0|   1.0|[Monica, Max, Rac...|{Phoebe -> 594, A...|      2727|\n",
            "|        10|[Scene: A Street:...| The One With Mrs...|   11.0|   1.0|[Monica, Rachel, ...|{All -> 4, Phoebe...|      2863|\n",
            "|        11|[Scene: Central P...| The One With The...|   12.0|   1.0|[Monica, Susan, R...|{And all of a sud...|      2538|\n",
            "|        12|[Scene: Monica an...| The One With The...|   13.0|   1.0|[Monica, Rachel, ...|{All -> 17, Roger...|      2670|\n",
            "|        13|[Scene: Central P...| The One With The...|   14.0|   1.0|[Monica, Susan, R...|{Phoebe -> 155, J...|      2386|\n",
            "|        14|[Scene: Central P...| The One With The...|   15.0|   1.0|[Monica, Tedlock,...|{All -> 7, Phoebe...|      2793|\n",
            "|        15|[Scene: Rift’s Re...| The One With Two...|   16.0|   1.0|[Monica, Ursula, ...|{Phoebe -> 409, A...|      2534|\n",
            "|        16|[Scene: An Emerge...| The One With Two...|   17.0|   1.0|[Monica, Ursula, ...|{All -> 3, Rachel...|      3797|\n",
            "|        17|[Scene: Central P...| The One With All...|   18.0|   1.0|[Monica, Rachel, ...|{All -> 4, Phoebe...|      2417|\n",
            "|        18|[Scene: Central P...| The One Where Th...|   19.0|   1.0|[Monica, Rachel, ...|{All -> 1, Phoebe...|      2944|\n",
            "|        19|[Scene: Monica an...| The One With The...|   20.0|   1.0|[Monica, Rachel, ...|{Danielle -> 56, ...|      2732|\n",
            "+----------+--------------------+--------------------+-------+------+--------------------+--------------------+----------+\n",
            "only showing top 20 rows\n",
            "\n"
          ]
        }
      ]
    },
    {
      "cell_type": "code",
      "source": [
        "#DO NOT RUN THIS AGAIN IT WAS A CHECK THAT PASSED !!!!!!!!!!!!!!!!!!!!!!!!!!!!!!!!\n",
        "from pyspark.sql.functions import size\n",
        "df.filter(col(\"TotalWords\") == 0).count()"
      ],
      "metadata": {
        "colab": {
          "base_uri": "https://localhost:8080/"
        },
        "id": "riHW8Vol5VQS",
        "outputId": "65a89a23-536f-4dec-854a-f7fccb1150d1"
      },
      "execution_count": null,
      "outputs": [
        {
          "output_type": "execute_result",
          "data": {
            "text/plain": [
              "0"
            ]
          },
          "metadata": {},
          "execution_count": 36
        }
      ]
    },
    {
      "cell_type": "code",
      "source": [
        "import nltk\n",
        "nltk.download('punkt')\n",
        "from nltk.tag.stanford import StanfordNERTagger"
      ],
      "metadata": {
        "colab": {
          "base_uri": "https://localhost:8080/"
        },
        "id": "y9p3wHpAEaR_",
        "outputId": "1741a6c8-8ac2-43e2-d5f6-413b1204aa7c"
      },
      "execution_count": null,
      "outputs": [
        {
          "output_type": "stream",
          "name": "stderr",
          "text": [
            "[nltk_data] Downloading package punkt to /root/nltk_data...\n",
            "[nltk_data]   Unzipping tokenizers/punkt.zip.\n"
          ]
        }
      ]
    },
    {
      "cell_type": "code",
      "source": [
        "def extract_locations_organizations(text):\n",
        "    PATH_TO_JAR = 'stanford-ner.jar'\n",
        "    PATH_TO_MODEL = 'english.all.3class.distsim.crf.ser.gz'\n",
        "    tagger = StanfordNERTagger(model_filename=PATH_TO_MODEL, path_to_jar=PATH_TO_JAR, encoding='utf-8')\n",
        "    bracket_contents = re.findall(r'\\[(.*?)\\]', text)\n",
        "    locations = []\n",
        "    organizations = []\n",
        "\n",
        "    for bracket_text in bracket_contents:\n",
        "        words = word_tokenize(bracket_text)\n",
        "        ner_tags = tagger.tag(words)\n",
        "\n",
        "        current_location = []\n",
        "        current_organization = []\n",
        "\n",
        "        for word, tag in ner_tags:\n",
        "            if tag == 'LOCATION':\n",
        "                current_location.append(word)\n",
        "            elif tag == 'ORGANIZATION':\n",
        "                current_organization.append(word)\n",
        "\n",
        "        if current_location:\n",
        "            locations.append(\" \".join(current_location))\n",
        "        if current_organization:\n",
        "            organizations.append(\" \".join(current_organization))\n",
        "\n",
        "    return locations + organizations"
      ],
      "metadata": {
        "id": "ltX55WHcG3yE"
      },
      "execution_count": null,
      "outputs": []
    },
    {
      "cell_type": "code",
      "source": [
        "extract_entities_udf = udf(extract_locations_organizations, ArrayType(StringType()))\n",
        "df = df.withColumn('n', extract_entities_udf(df['text script']))\n",
        "df.show()"
      ],
      "metadata": {
        "colab": {
          "base_uri": "https://localhost:8080/"
        },
        "id": "jHqFqUv6IS5R",
        "outputId": "e74f1cca-f074-4f44-d78b-e45230b93ad5"
      },
      "execution_count": null,
      "outputs": [
        {
          "output_type": "stream",
          "name": "stdout",
          "text": [
            "+----------+--------------------+--------------------+-------+------+--------------------+--------------------+----------+--------------------+\n",
            "|Unnamed: 0|         text script|               Title|Episode|Season|      Character List|         WordsSpoken|TotalWords|                   n|\n",
            "+----------+--------------------+--------------------+-------+------+--------------------+--------------------+----------+--------------------+\n",
            "|         0|[Scene: The Subwa...| The Pilot-The Un...|    1.0|   1.0|[Monica, Frannie,...|{All -> 27, Phoeb...|      2290|           [Iridium]|\n",
            "|         1|[Scene Central Pe...| The One With The...|    2.0|   1.0|[Monica, Susan, R...|{All -> 5, Phoebe...|      2520|      [Central Park]|\n",
            "|         2|[Scene: Chandler ...| The One With The...|    3.0|   1.0|[Monica, Rachel, ...|{Phoebe -> 427, A...|      2336|[Central Perk, Ir...|\n",
            "|         3|[Scene: Central P...| The One With Geo...|    4.0|   1.0|[Monica, Rachel, ...|{Receptionist -> ...|      2721|                  []|\n",
            "|         4|[Scene: Central P...| The One With The...|    5.0|   1.0|[Monica, Angela, ...|{Phoebe -> 235, B...|      2765|                  []|\n",
            "|         5|[Scene: The Theat...| The One With The...|    6.0|   1.0|[Monica, Rachel, ...|{All -> 56, Phoeb...|      2434|   [Aurora Chandler]|\n",
            "|         6|[Scene: Central P...| The One With The...|    7.0|   1.0|[Monica, Rachel, ...|{All -> 5, Phoebe...|      2493|           [Balcony]|\n",
            "|         7|[Scene: Monica an...| The One Where Na...|    8.0|   1.0|[Monica, Rachel, ...|{All -> 8, Phoebe...|      2096|[Chandler, Chandl...|\n",
            "|         8|[Scene: Central P...| The One Where Un...|    9.0|   1.0|[Monica, Susan, R...|{All -> 3, Phoebe...|      2494|           [Hallway]|\n",
            "|         9|[Scene: Monica an...| The One With The...|   10.0|   1.0|[Monica, Max, Rac...|{Phoebe -> 594, A...|      2727|                  []|\n",
            "|        10|[Scene: A Street:...| The One With Mrs...|   11.0|   1.0|[Monica, Rachel, ...|{All -> 4, Phoebe...|      2863|                  []|\n",
            "|        11|[Scene: Central P...| The One With The...|   12.0|   1.0|[Monica, Susan, R...|{And all of a sud...|      2538|[Hallway, Central...|\n",
            "|        12|[Scene: Monica an...| The One With The...|   13.0|   1.0|[Monica, Rachel, ...|{All -> 17, Roger...|      2670|           [Hallway]|\n",
            "|        13|[Scene: Central P...| The One With The...|   14.0|   1.0|[Monica, Susan, R...|{Phoebe -> 155, J...|      2386|           [Hallway]|\n",
            "|        14|[Scene: Central P...| The One With The...|   15.0|   1.0|[Monica, Tedlock,...|{All -> 7, Phoebe...|      2793|                  []|\n",
            "|        15|[Scene: Rift’s Re...| The One With Two...|   16.0|   1.0|[Monica, Ursula, ...|{Phoebe -> 409, A...|      2534|[New York City, C...|\n",
            "|        16|[Scene: An Emerge...| The One With Two...|   17.0|   1.0|[Monica, Ursula, ...|{All -> 3, Rachel...|      3797|                  []|\n",
            "|        17|[Scene: Central P...| The One With All...|   18.0|   1.0|[Monica, Rachel, ...|{All -> 4, Phoebe...|      2417|                  []|\n",
            "|        18|[Scene: Central P...| The One Where Th...|   19.0|   1.0|[Monica, Rachel, ...|{All -> 1, Phoebe...|      2944|                  []|\n",
            "|        19|[Scene: Monica an...| The One With The...|   20.0|   1.0|[Monica, Rachel, ...|{Danielle -> 56, ...|      2732|[Barry 's Office,...|\n",
            "+----------+--------------------+--------------------+-------+------+--------------------+--------------------+----------+--------------------+\n",
            "only showing top 20 rows\n",
            "\n"
          ]
        }
      ]
    },
    {
      "cell_type": "code",
      "source": [
        "#DO NOT RUN THIS AGAIN IT WAS A CHECK THAT PASSED !!!!!!!!!!!!!!!!!!!!!!!!!!!!!!!!\n",
        "from pyspark.sql.functions import size\n",
        "df.filter(size(\"n\") == 0).count()"
      ],
      "metadata": {
        "id": "aVw4xi57JZxf"
      },
      "execution_count": null,
      "outputs": []
    },
    {
      "cell_type": "code",
      "source": [],
      "metadata": {
        "id": "qq0NPiVyPqHJ"
      },
      "execution_count": null,
      "outputs": []
    }
  ]
}